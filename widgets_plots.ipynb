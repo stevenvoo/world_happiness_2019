{
 "cells": [
  {
   "cell_type": "markdown",
   "metadata": {},
   "source": [
    "# Plots using IPywidgets (WHR2019)\n",
    "\n",
    "The dataset used is from World Happiness Report 2019."
   ]
  },
  {
   "cell_type": "code",
   "execution_count": 1,
   "metadata": {},
   "outputs": [],
   "source": [
    "import numpy as np\n",
    "import pandas as pd\n",
    "import matplotlib.pyplot as plt\n",
    "import seaborn as sns\n",
    "%matplotlib inline"
   ]
  },
  {
   "cell_type": "code",
   "execution_count": 2,
   "metadata": {},
   "outputs": [
    {
     "data": {
      "text/html": [
       "        <script type=\"text/javascript\">\n",
       "        window.PlotlyConfig = {MathJaxConfig: 'local'};\n",
       "        if (window.MathJax) {MathJax.Hub.Config({SVG: {font: \"STIX-Web\"}});}\n",
       "        if (typeof require !== 'undefined') {\n",
       "        require.undef(\"plotly\");\n",
       "        requirejs.config({\n",
       "            paths: {\n",
       "                'plotly': ['https://cdn.plot.ly/plotly-latest.min']\n",
       "            }\n",
       "        });\n",
       "        require(['plotly'], function(Plotly) {\n",
       "            window._Plotly = Plotly;\n",
       "        });\n",
       "        }\n",
       "        </script>\n",
       "        "
      ]
     },
     "metadata": {},
     "output_type": "display_data"
    },
    {
     "data": {
      "text/html": [
       "        <script type=\"text/javascript\">\n",
       "        window.PlotlyConfig = {MathJaxConfig: 'local'};\n",
       "        if (window.MathJax) {MathJax.Hub.Config({SVG: {font: \"STIX-Web\"}});}\n",
       "        if (typeof require !== 'undefined') {\n",
       "        require.undef(\"plotly\");\n",
       "        requirejs.config({\n",
       "            paths: {\n",
       "                'plotly': ['https://cdn.plot.ly/plotly-latest.min']\n",
       "            }\n",
       "        });\n",
       "        require(['plotly'], function(Plotly) {\n",
       "            window._Plotly = Plotly;\n",
       "        });\n",
       "        }\n",
       "        </script>\n",
       "        "
      ]
     },
     "metadata": {},
     "output_type": "display_data"
    }
   ],
   "source": [
    "import cufflinks\n",
    "import plotly.graph_objs as go\n",
    "from plotly.offline import init_notebook_mode, iplot\n",
    "\n",
    "cufflinks.go_offline(connected=True)\n",
    "init_notebook_mode(connected=True)"
   ]
  },
  {
   "cell_type": "code",
   "execution_count": 3,
   "metadata": {},
   "outputs": [],
   "source": [
    "import ipywidgets as widgets\n",
    "from ipywidgets import interact"
   ]
  },
  {
   "cell_type": "markdown",
   "metadata": {},
   "source": [
    "Read in 2019 data."
   ]
  },
  {
   "cell_type": "code",
   "execution_count": 4,
   "metadata": {},
   "outputs": [
    {
     "data": {
      "text/html": [
       "<div>\n",
       "<style scoped>\n",
       "    .dataframe tbody tr th:only-of-type {\n",
       "        vertical-align: middle;\n",
       "    }\n",
       "\n",
       "    .dataframe tbody tr th {\n",
       "        vertical-align: top;\n",
       "    }\n",
       "\n",
       "    .dataframe thead th {\n",
       "        text-align: right;\n",
       "    }\n",
       "</style>\n",
       "<table border=\"1\" class=\"dataframe\">\n",
       "  <thead>\n",
       "    <tr style=\"text-align: right;\">\n",
       "      <th></th>\n",
       "      <th>Country</th>\n",
       "      <th>Happiness Score</th>\n",
       "      <th>Region</th>\n",
       "      <th>Life Ladder</th>\n",
       "      <th>Log GDP per capita</th>\n",
       "      <th>Social support</th>\n",
       "      <th>Healthy life expectancy at birth</th>\n",
       "      <th>Freedom to make life choices</th>\n",
       "      <th>Generosity</th>\n",
       "      <th>Perceptions of corruption</th>\n",
       "      <th>Positive affect</th>\n",
       "      <th>Negative affect</th>\n",
       "      <th>Confidence in national government</th>\n",
       "      <th>Democratic Quality</th>\n",
       "      <th>Delivery Quality</th>\n",
       "      <th>GINI of household income reported in Gallup, by wp5-year</th>\n",
       "    </tr>\n",
       "  </thead>\n",
       "  <tbody>\n",
       "    <tr>\n",
       "      <th>0</th>\n",
       "      <td>Finland</td>\n",
       "      <td>7.769</td>\n",
       "      <td>Western Europe</td>\n",
       "      <td>7.768734</td>\n",
       "      <td>10.611770</td>\n",
       "      <td>0.959974</td>\n",
       "      <td>71.800001</td>\n",
       "      <td>0.949460</td>\n",
       "      <td>-0.056020</td>\n",
       "      <td>0.213559</td>\n",
       "      <td>0.788670</td>\n",
       "      <td>0.179948</td>\n",
       "      <td>0.546123</td>\n",
       "      <td>1.288190</td>\n",
       "      <td>1.987619</td>\n",
       "      <td>0.394243</td>\n",
       "    </tr>\n",
       "    <tr>\n",
       "      <th>1</th>\n",
       "      <td>Denmark</td>\n",
       "      <td>7.600</td>\n",
       "      <td>Western Europe</td>\n",
       "      <td>7.600090</td>\n",
       "      <td>10.747642</td>\n",
       "      <td>0.954923</td>\n",
       "      <td>72.100001</td>\n",
       "      <td>0.946362</td>\n",
       "      <td>0.100718</td>\n",
       "      <td>0.180549</td>\n",
       "      <td>0.827069</td>\n",
       "      <td>0.206471</td>\n",
       "      <td>0.557497</td>\n",
       "      <td>1.197522</td>\n",
       "      <td>1.883774</td>\n",
       "      <td>0.538284</td>\n",
       "    </tr>\n",
       "    <tr>\n",
       "      <th>2</th>\n",
       "      <td>Norway</td>\n",
       "      <td>7.554</td>\n",
       "      <td>Western Europe</td>\n",
       "      <td>7.539780</td>\n",
       "      <td>11.077938</td>\n",
       "      <td>0.958611</td>\n",
       "      <td>73.099998</td>\n",
       "      <td>0.955933</td>\n",
       "      <td>0.136029</td>\n",
       "      <td>0.309193</td>\n",
       "      <td>0.842047</td>\n",
       "      <td>0.208013</td>\n",
       "      <td>0.684770</td>\n",
       "      <td>1.427383</td>\n",
       "      <td>1.981766</td>\n",
       "      <td>0.338141</td>\n",
       "    </tr>\n",
       "    <tr>\n",
       "      <th>3</th>\n",
       "      <td>Iceland</td>\n",
       "      <td>7.494</td>\n",
       "      <td>Western Europe</td>\n",
       "      <td>7.494773</td>\n",
       "      <td>10.715085</td>\n",
       "      <td>0.977325</td>\n",
       "      <td>73.000000</td>\n",
       "      <td>0.943626</td>\n",
       "      <td>0.273498</td>\n",
       "      <td>0.694936</td>\n",
       "      <td>0.872721</td>\n",
       "      <td>0.161945</td>\n",
       "      <td>0.385263</td>\n",
       "      <td>1.358529</td>\n",
       "      <td>1.569315</td>\n",
       "      <td>0.354891</td>\n",
       "    </tr>\n",
       "    <tr>\n",
       "      <th>4</th>\n",
       "      <td>Netherlands</td>\n",
       "      <td>7.488</td>\n",
       "      <td>Western Europe</td>\n",
       "      <td>7.487647</td>\n",
       "      <td>10.787193</td>\n",
       "      <td>0.933963</td>\n",
       "      <td>72.199999</td>\n",
       "      <td>0.915872</td>\n",
       "      <td>0.211067</td>\n",
       "      <td>0.388999</td>\n",
       "      <td>0.850865</td>\n",
       "      <td>0.201388</td>\n",
       "      <td>0.632789</td>\n",
       "      <td>1.234585</td>\n",
       "      <td>1.901757</td>\n",
       "      <td>0.442329</td>\n",
       "    </tr>\n",
       "  </tbody>\n",
       "</table>\n",
       "</div>"
      ],
      "text/plain": [
       "       Country  Happiness Score          Region  Life Ladder  \\\n",
       "0      Finland            7.769  Western Europe     7.768734   \n",
       "1      Denmark            7.600  Western Europe     7.600090   \n",
       "2       Norway            7.554  Western Europe     7.539780   \n",
       "3      Iceland            7.494  Western Europe     7.494773   \n",
       "4  Netherlands            7.488  Western Europe     7.487647   \n",
       "\n",
       "   Log GDP per capita  Social support  Healthy life expectancy at birth  \\\n",
       "0           10.611770        0.959974                         71.800001   \n",
       "1           10.747642        0.954923                         72.100001   \n",
       "2           11.077938        0.958611                         73.099998   \n",
       "3           10.715085        0.977325                         73.000000   \n",
       "4           10.787193        0.933963                         72.199999   \n",
       "\n",
       "   Freedom to make life choices  Generosity  Perceptions of corruption  \\\n",
       "0                      0.949460   -0.056020                   0.213559   \n",
       "1                      0.946362    0.100718                   0.180549   \n",
       "2                      0.955933    0.136029                   0.309193   \n",
       "3                      0.943626    0.273498                   0.694936   \n",
       "4                      0.915872    0.211067                   0.388999   \n",
       "\n",
       "   Positive affect  Negative affect  Confidence in national government  \\\n",
       "0         0.788670         0.179948                           0.546123   \n",
       "1         0.827069         0.206471                           0.557497   \n",
       "2         0.842047         0.208013                           0.684770   \n",
       "3         0.872721         0.161945                           0.385263   \n",
       "4         0.850865         0.201388                           0.632789   \n",
       "\n",
       "   Democratic Quality  Delivery Quality  \\\n",
       "0            1.288190          1.987619   \n",
       "1            1.197522          1.883774   \n",
       "2            1.427383          1.981766   \n",
       "3            1.358529          1.569315   \n",
       "4            1.234585          1.901757   \n",
       "\n",
       "   GINI of household income reported in Gallup, by wp5-year  \n",
       "0                                           0.394243         \n",
       "1                                           0.538284         \n",
       "2                                           0.338141         \n",
       "3                                           0.354891         \n",
       "4                                           0.442329         "
      ]
     },
     "execution_count": 4,
     "metadata": {},
     "output_type": "execute_result"
    }
   ],
   "source": [
    "df_2019 = pd.read_csv(\"2019.csv\")\n",
    "df_2019 = df_2019.drop(\"Year\", axis=1)\n",
    "df_2019.head()"
   ]
  },
  {
   "cell_type": "markdown",
   "metadata": {},
   "source": [
    "## Interactive scatter plot\n",
    "\n",
    "Below are 3 ways to make aesthetics scatter/ bubble charts."
   ]
  },
  {
   "cell_type": "markdown",
   "metadata": {},
   "source": [
    "**Cufflinks - Plotly Scatter**"
   ]
  },
  {
   "cell_type": "code",
   "execution_count": 5,
   "metadata": {},
   "outputs": [
    {
     "data": {
      "application/vnd.jupyter.widget-view+json": {
       "model_id": "4cf13bc273624c2d91a049b2b095f167",
       "version_major": 2,
       "version_minor": 0
      },
      "text/plain": [
       "interactive(children=(Dropdown(description='y', options=('Happiness Score', 'Life Ladder', 'Log GDP per capita…"
      ]
     },
     "metadata": {},
     "output_type": "display_data"
    }
   ],
   "source": [
    "@interact\n",
    "def scatter_plot(y = list(df_2019.select_dtypes('number').columns), \n",
    "                 x = list(df_2019.select_dtypes('number').columns)[1:],\n",
    "                 theme = list(cufflinks.themes.THEMES.keys()), \n",
    "                 colorscale = list(cufflinks.colors._scales_names.keys())):\n",
    "    \n",
    "    df_2019.iplot(kind = 'scatter', x = x, y = y, mode='markers', categories = \"Region\",\n",
    "                  xTitle = x.title(), yTitle = y.title(), \n",
    "                  title = f'{y.title()} vs {x.title()}',\n",
    "                  theme = theme, colorscale = colorscale)"
   ]
  },
  {
   "cell_type": "markdown",
   "metadata": {},
   "source": [
    "**Cufflinks - Plotly Bubble**"
   ]
  },
  {
   "cell_type": "code",
   "execution_count": 6,
   "metadata": {},
   "outputs": [
    {
     "data": {
      "application/vnd.jupyter.widget-view+json": {
       "model_id": "feece228e7c5440ebc706d9637adb64f",
       "version_major": 2,
       "version_minor": 0
      },
      "text/plain": [
       "interactive(children=(Dropdown(description='y', options=('Happiness Score', 'Life Ladder', 'Log GDP per capita…"
      ]
     },
     "metadata": {},
     "output_type": "display_data"
    }
   ],
   "source": [
    "@interact\n",
    "def bubble_plot(y = list(df_2019.select_dtypes('number').columns), \n",
    "                x = list(df_2019.select_dtypes('number').columns)[1:],\n",
    "                theme = list(cufflinks.themes.THEMES.keys()), \n",
    "                colorscale = list(cufflinks.colors._scales_names.keys())):\n",
    "    \n",
    "    df_2019.iplot(kind = 'bubble', x = x, y = y, categories = \"Region\", size = \"Happiness Score\",\n",
    "                  xTitle = x.title(), yTitle = y.title(), \n",
    "                  title = f'{y.title()} vs {x.title()}',\n",
    "                  theme = theme, colorscale = colorscale)"
   ]
  },
  {
   "cell_type": "markdown",
   "metadata": {},
   "source": [
    "**Bubbly - Plotly**\n",
    "\n",
    "`bubbly` is a package for easy bubble charts making based on `plotly`. Refer https://github.com/AashitaK/bubbly"
   ]
  },
  {
   "cell_type": "code",
   "execution_count": 7,
   "metadata": {},
   "outputs": [],
   "source": [
    "from bubbly.bubbly import bubbleplot"
   ]
  },
  {
   "cell_type": "code",
   "execution_count": 8,
   "metadata": {},
   "outputs": [
    {
     "data": {
      "application/vnd.jupyter.widget-view+json": {
       "model_id": "6a6444403a7b4fe28d8f4d25aad8fff2",
       "version_major": 2,
       "version_minor": 0
      },
      "text/plain": [
       "interactive(children=(Dropdown(description='y', options=('Happiness Score', 'Life Ladder', 'Log GDP per capita…"
      ]
     },
     "metadata": {},
     "output_type": "display_data"
    }
   ],
   "source": [
    "@interact\n",
    "def bubbly_plot(y = list(df_2019.select_dtypes('number').columns), \n",
    "                x = list(df_2019.select_dtypes('number').columns)[1:]):\n",
    "    \n",
    "    fig = bubbleplot(dataset = df_2019, x_column = x, y_column = y, \n",
    "                     bubble_column = \"Country\", color_column = \"Region\", \n",
    "                     x_title = x.title(), y_title = y.title(), \n",
    "                     title = f'{y.title()} vs {x.title()}')\n",
    "\n",
    "    iplot(fig)"
   ]
  },
  {
   "cell_type": "code",
   "execution_count": null,
   "metadata": {},
   "outputs": [],
   "source": []
  }
 ],
 "metadata": {
  "kernelspec": {
   "display_name": "Python 3",
   "language": "python",
   "name": "python3"
  },
  "language_info": {
   "codemirror_mode": {
    "name": "ipython",
    "version": 3
   },
   "file_extension": ".py",
   "mimetype": "text/x-python",
   "name": "python",
   "nbconvert_exporter": "python",
   "pygments_lexer": "ipython3",
   "version": "3.7.1"
  },
  "widgets": {
   "application/vnd.jupyter.widget-state+json": {
    "state": {
     "015aa5b8727840c08662df49ec6c21f2": {
      "model_module": "@jupyter-widgets/controls",
      "model_module_version": "1.4.0",
      "model_name": "VBoxModel",
      "state": {
       "_dom_classes": [
        "widget-interact"
       ],
       "children": [
        "IPY_MODEL_550d7fe2fd54452fafd4778e09df1625",
        "IPY_MODEL_bec5c849ad8f4cb28cdc062299ce80f4",
        "IPY_MODEL_c8185a25f48949b99059023204915651",
        "IPY_MODEL_02d02d9d32824454a3df806698302668",
        "IPY_MODEL_579b59a1ac04456cb8aac767e55d20f4"
       ],
       "layout": "IPY_MODEL_c68a0e30a37345a2b1b8a44062ce604c"
      }
     },
     "018fc37d1f174cc99e6ae6f15e1ccc41": {
      "model_module": "@jupyter-widgets/base",
      "model_module_version": "1.1.0",
      "model_name": "LayoutModel",
      "state": {}
     },
     "01d6e235ca804777b30aaf910ac91b80": {
      "model_module": "@jupyter-widgets/base",
      "model_module_version": "1.1.0",
      "model_name": "LayoutModel",
      "state": {}
     },
     "02044f097f3445059e51bd19401ed56d": {
      "model_module": "@jupyter-widgets/controls",
      "model_module_version": "1.4.0",
      "model_name": "DescriptionStyleModel",
      "state": {
       "description_width": ""
      }
     },
     "023a4df3d8cd4ff3b4a6ae0513b2f8d2": {
      "model_module": "@jupyter-widgets/controls",
      "model_module_version": "1.4.0",
      "model_name": "DropdownModel",
      "state": {
       "_options_labels": [
        "ggplot",
        "pearl",
        "solar",
        "space",
        "white",
        "polar",
        "henanigans"
       ],
       "description": "theme",
       "index": 0,
       "layout": "IPY_MODEL_ab0894c2a2fb4daea172821e19421eb2",
       "style": "IPY_MODEL_4d3cc28535ef469b80aefcbf5236c2ea"
      }
     },
     "025ff004fc13415fae9686a5c0ec5ea8": {
      "model_module": "@jupyter-widgets/controls",
      "model_module_version": "1.4.0",
      "model_name": "DropdownModel",
      "state": {
       "_options_labels": [
        "ggplot",
        "pearl",
        "solar",
        "space",
        "white",
        "polar",
        "henanigans"
       ],
       "description": "theme",
       "index": 4,
       "layout": "IPY_MODEL_a62b31e372674757ad0483049c23db4e",
       "style": "IPY_MODEL_96fc8188fe7c46c1a9a681c0a0cf2a6b"
      }
     },
     "02b427ba44984fbb95451f69ae2f4588": {
      "model_module": "@jupyter-widgets/controls",
      "model_module_version": "1.4.0",
      "model_name": "DropdownModel",
      "state": {
       "_options_labels": [
        "Happiness Score",
        "Life Ladder",
        "Log GDP per capita",
        "Social support",
        "Healthy life expectancy at birth",
        "Freedom to make life choices",
        "Generosity",
        "Perceptions of corruption",
        "Positive affect",
        "Negative affect",
        "Confidence in national government",
        "Democratic Quality",
        "Delivery Quality",
        "GINI of household income reported in Gallup, by wp5-year"
       ],
       "description": "y",
       "index": 0,
       "layout": "IPY_MODEL_753470fa5dfc4bd9bb11be096ba06f83",
       "style": "IPY_MODEL_cf5a96929bde409ab72c4d5607799a60"
      }
     },
     "02d02d9d32824454a3df806698302668": {
      "model_module": "@jupyter-widgets/controls",
      "model_module_version": "1.4.0",
      "model_name": "DropdownModel",
      "state": {
       "_options_labels": [
        "brbg",
        "prgn",
        "piyg",
        "puor",
        "rdbu",
        "rdgy",
        "rdylbu",
        "rdylgn",
        "spectral",
        "paired",
        "set3",
        "dflt",
        "original",
        "plotly",
        "accent",
        "dark2",
        "pastel1",
        "pastel2",
        "set1",
        "set2",
        "blues",
        "bugn",
        "bupu",
        "gnbu",
        "greens",
        "greys",
        "orrd",
        "oranges",
        "pubu",
        "pubugn",
        "purd",
        "purples",
        "rdpu",
        "reds",
        "ylgn",
        "ylgnbu",
        "ylorbr",
        "ylorrd",
        "ggplot",
        "polar"
       ],
       "description": "colorscale",
       "index": 0,
       "layout": "IPY_MODEL_39c2e8751cb94b8e9a6319999186e3e3",
       "style": "IPY_MODEL_f4cdbcc7800d44ce8c3f86fbcd2db211"
      }
     },
     "03fc7d36d6094cb498653b22ba5dfa56": {
      "model_module": "@jupyter-widgets/controls",
      "model_module_version": "1.4.0",
      "model_name": "DescriptionStyleModel",
      "state": {
       "description_width": ""
      }
     },
     "046a3844e64348ecae55e1474609b6f2": {
      "model_module": "@jupyter-widgets/output",
      "model_module_version": "1.0.0",
      "model_name": "OutputModel",
      "state": {
       "layout": "IPY_MODEL_36c1b25adab84a13ad073757cd7041ce",
       "outputs": [
        {
         "data": {
          "application/vnd.plotly.v1+json": {
           "config": {
            "linkText": "Export to plot.ly",
            "plotlyServerURL": "https://plot.ly",
            "responsive": true,
            "showLink": true
           },
           "data": [
            {
             "marker": {
              "color": "rgba(84, 48, 5, 1.0)",
              "line": {
               "width": 1.3
              },
              "opacity": 0.8,
              "size": [
               112,
               108,
               107,
               106,
               106,
               106,
               103,
               101,
               98,
               97,
               96,
               96,
               94,
               90,
               88,
               83,
               80,
               76,
               70,
               69,
               61
              ],
              "symbol": "circle"
             },
             "mode": "markers",
             "name": "Western Europe",
             "textfont": {
              "color": "#666666"
             },
             "type": "scatter",
             "uid": "b12c137d-44c5-47b9-b731-0186cd752d3a",
             "x": [
              71.80000051,
              72.10000102,
              73.09999847,
              73,
              72.19999949,
              73.80000051,
              72.5,
              72.69999949,
              72.59999847,
              72.10000102,
              72.19999949,
              71.89999898,
              71.80000051,
              72.19999695,
              73.60000102,
              74.10000102,
              73.39999898,
              73.5,
              72.09121704,
              72.19999949,
              72.19999949
             ],
             "y": [
              7.769,
              7.6,
              7.5539999999999985,
              7.494,
              7.487999999999999,
              7.48,
              7.343,
              7.246,
              7.09,
              7.0539999999999985,
              7.021,
              6.985,
              6.922999999999999,
              6.726,
              6.5920000000000005,
              6.354,
              6.223,
              6.046,
              5.718,
              5.693,
              5.287000000000001
             ]
            },
            {
             "marker": {
              "color": "rgba(140, 81, 10, 1.0)",
              "line": {
               "width": 1.3
              },
              "opacity": 0.8,
              "size": [
               102,
               102,
               100,
               94
              ],
              "symbol": "circle"
             },
             "mode": "markers",
             "name": "North America and ANZ",
             "textfont": {
              "color": "#666666"
             },
             "type": "scatter",
             "uid": "867bf10b-8eeb-4bb3-be91-4581fcdd7d13",
             "x": [
              73,
              73.39999898,
              73.30000051,
              68.40000153
             ],
             "y": [
              7.307,
              7.278,
              7.228,
              6.892
             ]
            },
            {
             "marker": {
              "color": "rgba(191, 129, 45, 1.0)",
              "line": {
               "width": 1.3
              },
              "opacity": 0.8,
              "size": [
               99,
               88,
               85,
               84,
               82,
               82,
               81,
               81,
               79,
               78,
               78,
               77,
               76,
               73,
               73,
               71,
               70,
               69,
               64,
               49,
               27
              ],
              "symbol": "circle"
             },
             "mode": "markers",
             "name": "Latin America and Caribbean",
             "textfont": {
              "color": "#666666"
             },
             "type": "scatter",
             "uid": "dddcc8e8-5196-46e4-bd51-37d06773e24d",
             "x": [
              71.10000102,
              68,
              69.80000051,
              64.5,
              69.5,
              66.19999949,
              68.90000153,
              65.80000051,
              62.4939821,
              67.39999898,
              67.19999949,
              68.60000102,
              68.19999949,
              66.9066658,
              67,
              63.29999924,
              65.36666785,
              67.80000051,
              65.5,
              66.30000051,
              55.5
             ],
             "y": [
              7.167000000000002,
              6.595,
              6.444,
              6.436,
              6.3210000000000015,
              6.3,
              6.292999999999998,
              6.252999999999999,
              6.192,
              6.125,
              6.105,
              6.086,
              6.028,
              5.89,
              5.86,
              5.779,
              5.7429999999999986,
              5.697,
              5.425,
              4.707,
              3.597
             ]
            },
            {
             "marker": {
              "color": "rgba(223, 194, 125, 1.0)",
              "line": {
               "width": 1.3
              },
              "opacity": 0.8,
              "size": [
               99,
               92,
               83,
               83,
               80,
               76,
               66,
               63,
               59,
               59,
               59,
               53,
               49,
               46,
               44,
               44,
               38,
               24,
               22
              ],
              "symbol": "circle"
             },
             "mode": "markers",
             "name": "Middle East and North Africa",
             "textfont": {
              "color": "#666666"
             },
             "type": "scatter",
             "uid": "2cce2cf3-6eba-4962-ad58-faa02d0f360f",
             "x": [
              73.10000102,
              66.89999898,
              66,
              67.20285358,
              68.29999924,
              66.36666785,
              62.29999924,
              66.40000153,
              65.69999949,
              65.60000102,
              66.59999847,
              66.60000102,
              62.57299042,
              65.69999949,
              66.60000102,
              59.29999924,
              61.40000025,
              55.99111133,
              55.90000025
             ],
             "y": [
              7.1389999999999985,
              6.825,
              6.375,
              6.374,
              6.199,
              6.021,
              5.525,
              5.372999999999998,
              5.211,
              5.207999999999998,
              5.197,
              4.9060000000000015,
              4.6960000000000015,
              4.548,
              4.461,
              4.437,
              4.166,
              3.462,
              3.38
             ]
            },
            {
             "marker": {
              "color": "rgba(246, 232, 195, 1.0)",
              "line": {
               "width": 1.3
              },
              "opacity": 0.8,
              "size": [
               93,
               80,
               79,
               79,
               78,
               78,
               77,
               74,
               73,
               71,
               67,
               66,
               64,
               63,
               61,
               55,
               49
              ],
              "symbol": "circle"
             },
             "mode": "markers",
             "name": "Central and Eastern Europe",
             "textfont": {
              "color": "#666666"
             },
             "type": "scatter",
             "uid": "45e18b8c-0939-4021-864d-849921c72d18",
             "x": [
              69.80000305,
              68.60000102,
              68.63333384,
              66.69999949,
              70.80000051,
              64.87929281,
              66.89999898,
              66.5,
              68.39999898,
              66.9333335,
              67.80000051,
              68.30000051,
              69.59999847,
              67.5,
              67.30000051,
              66.60000102,
              68.39999898
             ],
             "y": [
              6.852,
              6.198,
              6.182,
              6.149,
              6.1179999999999986,
              6.1,
              6.07,
              5.94,
              5.893,
              5.757999999999999,
              5.603,
              5.523,
              5.432,
              5.386,
              5.274,
              5.011,
              4.7189999999999985
             ]
            },
            {
             "marker": {
              "color": "rgba(199, 234, 229, 1.0)",
              "line": {
               "width": 1.3
              },
              "opacity": 0.8,
              "size": [
               85,
               73,
               73,
               64,
               61,
               59
              ],
              "symbol": "circle"
             },
             "mode": "markers",
             "name": "East Asia",
             "textfont": {
              "color": "#666666"
             },
             "type": "scatter",
             "uid": "bf49c555-03d5-48ba-b9be-a9fd6dec9c06",
             "x": [
              71.4327,
              73.30000051,
              74.90000153,
              75.9304123,
              62.09999975,
              69
             ],
             "y": [
              6.4460000000000015,
              5.895,
              5.886,
              5.43,
              5.285,
              5.191
             ]
            },
            {
             "marker": {
              "color": "rgba(128, 205, 193, 1.0)",
              "line": {
               "width": 1.3
              },
              "opacity": 0.8,
              "size": [
               81,
               76,
               68,
               62,
               59,
               59,
               51,
               49,
               42
              ],
              "symbol": "circle"
             },
             "mode": "markers",
             "name": "Southeast Asia",
             "textfont": {
              "color": "#666666"
             },
             "type": "scatter",
             "uid": "c9c94dac-101b-44d4-b560-c45bda305bc5",
             "x": [
              76.5,
              67,
              61.80000051,
              67,
              61.90000025,
              67.69999949,
              57.86666616,
              61.19999949,
              58.70000076
             ],
             "y": [
              6.2620000000000005,
              6.007999999999999,
              5.631,
              5.339,
              5.192,
              5.175,
              4.796,
              4.7,
              4.36
             ]
            },
            {
             "marker": {
              "color": "rgba(53, 151, 143, 1.0)",
              "line": {
               "width": 1.3
              },
              "opacity": 0.8,
              "size": [
               79,
               72,
               68,
               66,
               65,
               62,
               60,
               60,
               59,
               46,
               45,
               42
              ],
              "symbol": "circle"
             },
             "mode": "markers",
             "name": "Commonwealth of Independent States",
             "textfont": {
              "color": "#666666"
             },
             "type": "scatter",
             "uid": "ce72de2d-5eb0-4e30-ab07-956f7eb4c086",
             "x": [
              64.80000051,
              64,
              63.90000153,
              64.30000051,
              63.64999962,
              65.80000051,
              63.79999924,
              61.80000051,
              65.19999949,
              66.60000102,
              64.69999949,
              64.30000051
             ],
             "y": [
              6.174,
              5.809,
              5.648,
              5.529,
              5.4670000000000005,
              5.323,
              5.261,
              5.247000000000001,
              5.207999999999998,
              4.559,
              4.519,
              4.332
             ]
            },
            {
             "marker": {
              "color": "rgba(1, 102, 94, 1.0)",
              "line": {
               "width": 1.3
              },
              "opacity": 0.8,
              "size": [
               73,
               61,
               56,
               55,
               54,
               53,
               51,
               51,
               50,
               49,
               48,
               48,
               48,
               47,
               46,
               45,
               45,
               45,
               44,
               43,
               43,
               42,
               42,
               41,
               39,
               39,
               37,
               37,
               34,
               34,
               33,
               31,
               30,
               28,
               24,
               23,
               21,
               19,
               16,
               12
              ],
              "symbol": "circle"
             },
             "mode": "markers",
             "name": "Sub-Saharan Africa",
             "textfont": {
              "color": "#666666"
             },
             "type": "scatter",
             "uid": "25247196-d864-4c32-bdaf-271c27a96445",
             "x": [
              66.10000102,
              49.30000051,
              51.90000025,
              56.60000039,
              48.90000026,
              53.90000026,
              57.30000051,
              59.20000076,
              56.09999974,
              59.19999949,
              50,
              55.95333354,
              53,
              53.40000153,
              53.30000051,
              54.85000038,
              59.5,
              56.70000076,
              52.86666743,
              52.70000077,
              51.20000076,
              49.19999949,
              47.70000076,
              58,
              57.7,
              55.30000051,
              54.79999924,
              54.30000051,
              55.29999924,
              55.85333379,
              58.69999949,
              46.94999886,
              53.40000153,
              55,
              58.20000076,
              56.90000025,
              60.5,
              57,
              45.05000115,
              50.79999924
             ],
             "y": [
              5.888,
              5.265,
              5.044,
              4.996,
              4.944,
              4.883,
              4.812,
              4.799,
              4.722,
              4.681,
              4.668,
              4.6389999999999985,
              4.628,
              4.587,
              4.534,
              4.516,
              4.509,
              4.49,
              4.466,
              4.418,
              4.39,
              4.374,
              4.35,
              4.2860000000000005,
              4.212,
              4.189,
              4.107,
              4.085,
              3.975,
              3.973,
              3.933,
              3.802,
              3.775,
              3.663,
              3.488,
              3.41,
              3.334,
              3.2310000000000003,
              3.083,
              2.853
             ]
            },
            {
             "marker": {
              "color": "rgba(0, 60, 48, 1.0)",
              "line": {
               "width": 1.3
              },
              "opacity": 0.8,
              "size": [
               68,
               57,
               53,
               44,
               42,
               35,
               19
              ],
              "symbol": "circle"
             },
             "mode": "markers",
             "name": "South Asia",
             "textfont": {
              "color": "#666666"
             },
             "type": "scatter",
             "uid": "dcc07daa-0f20-4162-8df7-944a02252e16",
             "x": [
              58.09999974,
              60.05000072,
              62.40000026,
              63.80000051,
              67.09999848,
              59.69999949,
              52.79999924
             ],
             "y": [
              5.653,
              5.082,
              4.913,
              4.456,
              4.3660000000000005,
              4.015,
              3.2030000000000003
             ]
            }
           ],
           "layout": {
            "legend": {
             "bgcolor": "#FFFFFF",
             "font": {
              "color": "#666666"
             }
            },
            "paper_bgcolor": "#FFFFFF",
            "plot_bgcolor": "#E5E5E5",
            "title": {
             "font": {
              "color": "#151516"
             },
             "text": "Happiness Score vs Healthy Life Expectancy At Birth"
            },
            "xaxis": {
             "gridcolor": "#F6F6F6",
             "showgrid": true,
             "tickfont": {
              "color": "#666666"
             },
             "title": {
              "font": {
               "color": "#666666"
              },
              "text": "Healthy Life Expectancy At Birth"
             },
             "zerolinecolor": "#F6F6F6"
            },
            "yaxis": {
             "gridcolor": "#F6F6F6",
             "showgrid": true,
             "tickfont": {
              "color": "#666666"
             },
             "title": {
              "font": {
               "color": "#666666"
              },
              "text": "Happiness Score"
             },
             "zerolinecolor": "#F6F6F6"
            }
           }
          },
          "text/html": "<div>\n        \n        \n            <div id=\"69c6ebc9-10aa-480c-ac4a-38aa22524e0f\" class=\"plotly-graph-div\"></div>\n            <script type=\"text/javascript\">\n                require([\"plotly\"], function(Plotly) {\n                    window.PLOTLYENV=window.PLOTLYENV || {};\n                    window.PLOTLYENV.BASE_URL='https://plot.ly';\n                    \n                if (document.getElementById(\"69c6ebc9-10aa-480c-ac4a-38aa22524e0f\")) {\n                    Plotly.newPlot(\n                        '69c6ebc9-10aa-480c-ac4a-38aa22524e0f',\n                        [{\"marker\": {\"color\": \"rgba(84, 48, 5, 1.0)\", \"line\": {\"width\": 1.3}, \"opacity\": 0.8, \"size\": [112, 108, 107, 106, 106, 106, 103, 101, 98, 97, 96, 96, 94, 90, 88, 83, 80, 76, 70, 69, 61], \"symbol\": \"circle\"}, \"mode\": \"markers\", \"name\": \"Western Europe\", \"textfont\": {\"color\": \"#666666\"}, \"type\": \"scatter\", \"uid\": \"cccb1398-079a-44a7-8601-ab58b7bb891b\", \"x\": [71.80000051, 72.10000102, 73.09999847, 73.0, 72.19999949, 73.80000051, 72.5, 72.69999949, 72.59999847, 72.10000102, 72.19999949, 71.89999898, 71.80000051, 72.19999695, 73.60000102, 74.10000102, 73.39999898, 73.5, 72.09121704, 72.19999949, 72.19999949], \"y\": [7.769, 7.6, 7.5539999999999985, 7.494, 7.487999999999999, 7.48, 7.343, 7.246, 7.09, 7.0539999999999985, 7.021, 6.985, 6.922999999999999, 6.726, 6.5920000000000005, 6.354, 6.223, 6.046, 5.718, 5.693, 5.287000000000001]}, {\"marker\": {\"color\": \"rgba(140, 81, 10, 1.0)\", \"line\": {\"width\": 1.3}, \"opacity\": 0.8, \"size\": [102, 102, 100, 94], \"symbol\": \"circle\"}, \"mode\": \"markers\", \"name\": \"North America and ANZ\", \"textfont\": {\"color\": \"#666666\"}, \"type\": \"scatter\", \"uid\": \"7ee85b45-9597-430d-a7e3-20610d7c5145\", \"x\": [73.0, 73.39999898, 73.30000051, 68.40000153], \"y\": [7.307, 7.278, 7.228, 6.892]}, {\"marker\": {\"color\": \"rgba(191, 129, 45, 1.0)\", \"line\": {\"width\": 1.3}, \"opacity\": 0.8, \"size\": [99, 88, 85, 84, 82, 82, 81, 81, 79, 78, 78, 77, 76, 73, 73, 71, 70, 69, 64, 49, 27], \"symbol\": \"circle\"}, \"mode\": \"markers\", \"name\": \"Latin America and Caribbean\", \"textfont\": {\"color\": \"#666666\"}, \"type\": \"scatter\", \"uid\": \"697e8f1b-a7eb-4366-a31a-0f05466e1914\", \"x\": [71.10000102, 68.0, 69.80000051, 64.5, 69.5, 66.19999949, 68.90000153, 65.80000051, 62.4939821, 67.39999898, 67.19999949, 68.60000102, 68.19999949, 66.9066658, 67.0, 63.29999924, 65.36666785, 67.80000051, 65.5, 66.30000051, 55.5], \"y\": [7.167000000000002, 6.595, 6.444, 6.436, 6.3210000000000015, 6.3, 6.292999999999998, 6.252999999999999, 6.192, 6.125, 6.105, 6.086, 6.028, 5.89, 5.86, 5.779, 5.7429999999999986, 5.697, 5.425, 4.707, 3.597]}, {\"marker\": {\"color\": \"rgba(223, 194, 125, 1.0)\", \"line\": {\"width\": 1.3}, \"opacity\": 0.8, \"size\": [99, 92, 83, 83, 80, 76, 66, 63, 59, 59, 59, 53, 49, 46, 44, 44, 38, 24, 22], \"symbol\": \"circle\"}, \"mode\": \"markers\", \"name\": \"Middle East and North Africa\", \"textfont\": {\"color\": \"#666666\"}, \"type\": \"scatter\", \"uid\": \"537de24e-cec3-49bb-9935-4209b1091744\", \"x\": [73.10000102, 66.89999898, 66.0, 67.20285358, 68.29999924, 66.36666785, 62.29999924, 66.40000153, 65.69999949, 65.60000102, 66.59999847, 66.60000102, 62.57299042, 65.69999949, 66.60000102, 59.29999924, 61.40000025, 55.99111133, 55.90000025], \"y\": [7.1389999999999985, 6.825, 6.375, 6.374, 6.199, 6.021, 5.525, 5.372999999999998, 5.211, 5.207999999999998, 5.197, 4.9060000000000015, 4.6960000000000015, 4.548, 4.461, 4.437, 4.166, 3.462, 3.38]}, {\"marker\": {\"color\": \"rgba(246, 232, 195, 1.0)\", \"line\": {\"width\": 1.3}, \"opacity\": 0.8, \"size\": [93, 80, 79, 79, 78, 78, 77, 74, 73, 71, 67, 66, 64, 63, 61, 55, 49], \"symbol\": \"circle\"}, \"mode\": \"markers\", \"name\": \"Central and Eastern Europe\", \"textfont\": {\"color\": \"#666666\"}, \"type\": \"scatter\", \"uid\": \"429fe9f6-ac9a-439b-995b-d065af462c23\", \"x\": [69.80000305, 68.60000102, 68.63333384, 66.69999949, 70.80000051, 64.87929281, 66.89999898, 66.5, 68.39999898, 66.9333335, 67.80000051, 68.30000051, 69.59999847, 67.5, 67.30000051, 66.60000102, 68.39999898], \"y\": [6.852, 6.198, 6.182, 6.149, 6.1179999999999986, 6.1, 6.07, 5.94, 5.893, 5.757999999999999, 5.603, 5.523, 5.432, 5.386, 5.274, 5.011, 4.7189999999999985]}, {\"marker\": {\"color\": \"rgba(199, 234, 229, 1.0)\", \"line\": {\"width\": 1.3}, \"opacity\": 0.8, \"size\": [85, 73, 73, 64, 61, 59], \"symbol\": \"circle\"}, \"mode\": \"markers\", \"name\": \"East Asia\", \"textfont\": {\"color\": \"#666666\"}, \"type\": \"scatter\", \"uid\": \"ea0748e2-6fcc-402d-ad36-f691791a954c\", \"x\": [71.4327, 73.30000051, 74.90000153, 75.9304123, 62.09999975, 69.0], \"y\": [6.4460000000000015, 5.895, 5.886, 5.43, 5.285, 5.191]}, {\"marker\": {\"color\": \"rgba(128, 205, 193, 1.0)\", \"line\": {\"width\": 1.3}, \"opacity\": 0.8, \"size\": [81, 76, 68, 62, 59, 59, 51, 49, 42], \"symbol\": \"circle\"}, \"mode\": \"markers\", \"name\": \"Southeast Asia\", \"textfont\": {\"color\": \"#666666\"}, \"type\": \"scatter\", \"uid\": \"30b82ef9-1e2f-4832-a79a-4ebaf5424fe2\", \"x\": [76.5, 67.0, 61.80000051, 67.0, 61.90000025, 67.69999949, 57.86666616, 61.19999949, 58.70000076], \"y\": [6.2620000000000005, 6.007999999999999, 5.631, 5.339, 5.192, 5.175, 4.796, 4.7, 4.36]}, {\"marker\": {\"color\": \"rgba(53, 151, 143, 1.0)\", \"line\": {\"width\": 1.3}, \"opacity\": 0.8, \"size\": [79, 72, 68, 66, 65, 62, 60, 60, 59, 46, 45, 42], \"symbol\": \"circle\"}, \"mode\": \"markers\", \"name\": \"Commonwealth of Independent States\", \"textfont\": {\"color\": \"#666666\"}, \"type\": \"scatter\", \"uid\": \"38adb46b-77e5-4144-9bac-4b3e7707074d\", \"x\": [64.80000051, 64.0, 63.90000153, 64.30000051, 63.64999962, 65.80000051, 63.79999924, 61.80000051, 65.19999949, 66.60000102, 64.69999949, 64.30000051], \"y\": [6.174, 5.809, 5.648, 5.529, 5.4670000000000005, 5.323, 5.261, 5.247000000000001, 5.207999999999998, 4.559, 4.519, 4.332]}, {\"marker\": {\"color\": \"rgba(1, 102, 94, 1.0)\", \"line\": {\"width\": 1.3}, \"opacity\": 0.8, \"size\": [73, 61, 56, 55, 54, 53, 51, 51, 50, 49, 48, 48, 48, 47, 46, 45, 45, 45, 44, 43, 43, 42, 42, 41, 39, 39, 37, 37, 34, 34, 33, 31, 30, 28, 24, 23, 21, 19, 16, 12], \"symbol\": \"circle\"}, \"mode\": \"markers\", \"name\": \"Sub-Saharan Africa\", \"textfont\": {\"color\": \"#666666\"}, \"type\": \"scatter\", \"uid\": \"ccbaf882-b47c-4688-9c43-ac128ae88177\", \"x\": [66.10000102, 49.30000051, 51.90000025, 56.60000039, 48.90000026, 53.90000026, 57.30000051, 59.20000076, 56.09999974, 59.19999949, 50.0, 55.95333354, 53.0, 53.40000153, 53.30000051, 54.85000038, 59.5, 56.70000076, 52.86666743, 52.70000077, 51.20000076, 49.19999949, 47.70000076, 58.0, 57.7, 55.30000051, 54.79999924, 54.30000051, 55.29999924, 55.85333379, 58.69999949, 46.94999886, 53.40000153, 55.0, 58.20000076, 56.90000025, 60.5, 57.0, 45.05000115, 50.79999924], \"y\": [5.888, 5.265, 5.044, 4.996, 4.944, 4.883, 4.812, 4.799, 4.722, 4.681, 4.668, 4.6389999999999985, 4.628, 4.587, 4.534, 4.516, 4.509, 4.49, 4.466, 4.418, 4.39, 4.374, 4.35, 4.2860000000000005, 4.212, 4.189, 4.107, 4.085, 3.975, 3.973, 3.933, 3.802, 3.775, 3.663, 3.488, 3.41, 3.334, 3.2310000000000003, 3.083, 2.853]}, {\"marker\": {\"color\": \"rgba(0, 60, 48, 1.0)\", \"line\": {\"width\": 1.3}, \"opacity\": 0.8, \"size\": [68, 57, 53, 44, 42, 35, 19], \"symbol\": \"circle\"}, \"mode\": \"markers\", \"name\": \"South Asia\", \"textfont\": {\"color\": \"#666666\"}, \"type\": \"scatter\", \"uid\": \"2f9ea4ac-f73b-44b1-a9a9-39c081ab3451\", \"x\": [58.09999974, 60.05000072, 62.40000026, 63.80000051, 67.09999848, 59.69999949, 52.79999924], \"y\": [5.653, 5.082, 4.913, 4.456, 4.3660000000000005, 4.015, 3.2030000000000003]}],\n                        {\"legend\": {\"bgcolor\": \"#FFFFFF\", \"font\": {\"color\": \"#666666\"}}, \"paper_bgcolor\": \"#FFFFFF\", \"plot_bgcolor\": \"#E5E5E5\", \"title\": {\"font\": {\"color\": \"#151516\"}, \"text\": \"Happiness Score vs Healthy Life Expectancy At Birth\"}, \"xaxis\": {\"gridcolor\": \"#F6F6F6\", \"showgrid\": true, \"tickfont\": {\"color\": \"#666666\"}, \"title\": {\"font\": {\"color\": \"#666666\"}, \"text\": \"Healthy Life Expectancy At Birth\"}, \"zerolinecolor\": \"#F6F6F6\"}, \"yaxis\": {\"gridcolor\": \"#F6F6F6\", \"showgrid\": true, \"tickfont\": {\"color\": \"#666666\"}, \"title\": {\"font\": {\"color\": \"#666666\"}, \"text\": \"Happiness Score\"}, \"zerolinecolor\": \"#F6F6F6\"}},\n                        {\"showLink\": true, \"linkText\": \"Export to plot.ly\", \"plotlyServerURL\": \"https://plot.ly\", \"responsive\": true}\n                    )\n                };\n                });\n            </script>\n        </div>"
         },
         "metadata": {},
         "output_type": "display_data"
        }
       ]
      }
     },
     "04a57413c22746dabf81c5c548b34e4e": {
      "model_module": "@jupyter-widgets/base",
      "model_module_version": "1.1.0",
      "model_name": "LayoutModel",
      "state": {}
     },
     "04bf694460bb42bdb3fdf9cb5fe846bb": {
      "model_module": "@jupyter-widgets/controls",
      "model_module_version": "1.4.0",
      "model_name": "DropdownModel",
      "state": {
       "_options_labels": [
        "Life Ladder",
        "Log GDP per capita",
        "Social support",
        "Healthy life expectancy at birth",
        "Freedom to make life choices",
        "Generosity",
        "Perceptions of corruption",
        "Positive affect",
        "Negative affect",
        "Confidence in national government",
        "Democratic Quality",
        "Delivery Quality",
        "GINI of household income reported in Gallup, by wp5-year"
       ],
       "description": "y",
       "index": 0,
       "layout": "IPY_MODEL_1d44d03d14ce46cbac3308fa52b04032",
       "style": "IPY_MODEL_b501ca41880246b990f87325ff40ebfe"
      }
     },
     "04d1543dea114fa5a92d3849e190dd63": {
      "model_module": "@jupyter-widgets/controls",
      "model_module_version": "1.4.0",
      "model_name": "DropdownModel",
      "state": {
       "_options_labels": [
        "brbg",
        "prgn",
        "piyg",
        "puor",
        "rdbu",
        "rdgy",
        "rdylbu",
        "rdylgn",
        "spectral",
        "paired",
        "set3",
        "dflt",
        "original",
        "plotly",
        "accent",
        "dark2",
        "pastel1",
        "pastel2",
        "set1",
        "set2",
        "blues",
        "bugn",
        "bupu",
        "gnbu",
        "greens",
        "greys",
        "orrd",
        "oranges",
        "pubu",
        "pubugn",
        "purd",
        "purples",
        "rdpu",
        "reds",
        "ylgn",
        "ylgnbu",
        "ylorbr",
        "ylorrd",
        "ggplot",
        "polar"
       ],
       "description": "colorscale",
       "index": 0,
       "layout": "IPY_MODEL_9c1003b2a0124abea1dd1363ca495444",
       "style": "IPY_MODEL_ae7c13301e594ab38677f0d6bd27b8d5"
      }
     },
     "04ef0c72f5234c04804d1dd0d33d02b0": {
      "model_module": "@jupyter-widgets/base",
      "model_module_version": "1.1.0",
      "model_name": "LayoutModel",
      "state": {}
     },
     "052f0e61bda64bc990b578f223d018c1": {
      "model_module": "@jupyter-widgets/output",
      "model_module_version": "1.0.0",
      "model_name": "OutputModel",
      "state": {
       "layout": "IPY_MODEL_cde24a3b18f542d5bc3775e156740f7b",
       "outputs": [
        {
         "ename": "KeyError",
         "evalue": "'title'",
         "output_type": "error",
         "traceback": [
          "\u001b[1;31m---------------------------------------------------------------------------\u001b[0m",
          "\u001b[1;31mKeyError\u001b[0m                                  Traceback (most recent call last)",
          "\u001b[1;32m~\\AppData\\Local\\Continuum\\anaconda3\\lib\\site-packages\\pandas\\core\\indexes\\base.py\u001b[0m in \u001b[0;36mget_loc\u001b[1;34m(self, key, method, tolerance)\u001b[0m\n\u001b[0;32m   3077\u001b[0m             \u001b[1;32mtry\u001b[0m\u001b[1;33m:\u001b[0m\u001b[1;33m\u001b[0m\u001b[1;33m\u001b[0m\u001b[0m\n\u001b[1;32m-> 3078\u001b[1;33m                 \u001b[1;32mreturn\u001b[0m \u001b[0mself\u001b[0m\u001b[1;33m.\u001b[0m\u001b[0m_engine\u001b[0m\u001b[1;33m.\u001b[0m\u001b[0mget_loc\u001b[0m\u001b[1;33m(\u001b[0m\u001b[0mkey\u001b[0m\u001b[1;33m)\u001b[0m\u001b[1;33m\u001b[0m\u001b[1;33m\u001b[0m\u001b[0m\n\u001b[0m\u001b[0;32m   3079\u001b[0m             \u001b[1;32mexcept\u001b[0m \u001b[0mKeyError\u001b[0m\u001b[1;33m:\u001b[0m\u001b[1;33m\u001b[0m\u001b[1;33m\u001b[0m\u001b[0m\n",
          "\u001b[1;32mpandas\\_libs\\index.pyx\u001b[0m in \u001b[0;36mpandas._libs.index.IndexEngine.get_loc\u001b[1;34m()\u001b[0m\n",
          "\u001b[1;32mpandas\\_libs\\index.pyx\u001b[0m in \u001b[0;36mpandas._libs.index.IndexEngine.get_loc\u001b[1;34m()\u001b[0m\n",
          "\u001b[1;32mpandas\\_libs\\hashtable_class_helper.pxi\u001b[0m in \u001b[0;36mpandas._libs.hashtable.PyObjectHashTable.get_item\u001b[1;34m()\u001b[0m\n",
          "\u001b[1;32mpandas\\_libs\\hashtable_class_helper.pxi\u001b[0m in \u001b[0;36mpandas._libs.hashtable.PyObjectHashTable.get_item\u001b[1;34m()\u001b[0m\n",
          "\u001b[1;31mKeyError\u001b[0m: 'title'",
          "\nDuring handling of the above exception, another exception occurred:\n",
          "\u001b[1;31mKeyError\u001b[0m                                  Traceback (most recent call last)",
          "\u001b[1;32m~\\AppData\\Local\\Continuum\\anaconda3\\lib\\site-packages\\ipywidgets\\widgets\\interaction.py\u001b[0m in \u001b[0;36mupdate\u001b[1;34m(self, *args)\u001b[0m\n\u001b[0;32m    249\u001b[0m                     \u001b[0mvalue\u001b[0m \u001b[1;33m=\u001b[0m \u001b[0mwidget\u001b[0m\u001b[1;33m.\u001b[0m\u001b[0mget_interact_value\u001b[0m\u001b[1;33m(\u001b[0m\u001b[1;33m)\u001b[0m\u001b[1;33m\u001b[0m\u001b[1;33m\u001b[0m\u001b[0m\n\u001b[0;32m    250\u001b[0m                     \u001b[0mself\u001b[0m\u001b[1;33m.\u001b[0m\u001b[0mkwargs\u001b[0m\u001b[1;33m[\u001b[0m\u001b[0mwidget\u001b[0m\u001b[1;33m.\u001b[0m\u001b[0m_kwarg\u001b[0m\u001b[1;33m]\u001b[0m \u001b[1;33m=\u001b[0m \u001b[0mvalue\u001b[0m\u001b[1;33m\u001b[0m\u001b[1;33m\u001b[0m\u001b[0m\n\u001b[1;32m--> 251\u001b[1;33m                 \u001b[0mself\u001b[0m\u001b[1;33m.\u001b[0m\u001b[0mresult\u001b[0m \u001b[1;33m=\u001b[0m \u001b[0mself\u001b[0m\u001b[1;33m.\u001b[0m\u001b[0mf\u001b[0m\u001b[1;33m(\u001b[0m\u001b[1;33m**\u001b[0m\u001b[0mself\u001b[0m\u001b[1;33m.\u001b[0m\u001b[0mkwargs\u001b[0m\u001b[1;33m)\u001b[0m\u001b[1;33m\u001b[0m\u001b[1;33m\u001b[0m\u001b[0m\n\u001b[0m\u001b[0;32m    252\u001b[0m                 \u001b[0mshow_inline_matplotlib_plots\u001b[0m\u001b[1;33m(\u001b[0m\u001b[1;33m)\u001b[0m\u001b[1;33m\u001b[0m\u001b[1;33m\u001b[0m\u001b[0m\n\u001b[0;32m    253\u001b[0m                 \u001b[1;32mif\u001b[0m \u001b[0mself\u001b[0m\u001b[1;33m.\u001b[0m\u001b[0mauto_display\u001b[0m \u001b[1;32mand\u001b[0m \u001b[0mself\u001b[0m\u001b[1;33m.\u001b[0m\u001b[0mresult\u001b[0m \u001b[1;32mis\u001b[0m \u001b[1;32mnot\u001b[0m \u001b[1;32mNone\u001b[0m\u001b[1;33m:\u001b[0m\u001b[1;33m\u001b[0m\u001b[1;33m\u001b[0m\u001b[0m\n",
          "\u001b[1;32m<ipython-input-13-8b807de838e1>\u001b[0m in \u001b[0;36mscatter_plot\u001b[1;34m(x, y, theme, colorscale)\u001b[0m\n\u001b[0;32m      9\u001b[0m                   \u001b[0mtext\u001b[0m\u001b[1;33m=\u001b[0m\u001b[1;34m'title'\u001b[0m\u001b[1;33m,\u001b[0m \u001b[0mcolor\u001b[0m \u001b[1;33m=\u001b[0m \u001b[1;34m'Region'\u001b[0m\u001b[1;33m,\u001b[0m\u001b[1;33m\u001b[0m\u001b[1;33m\u001b[0m\u001b[0m\n\u001b[0;32m     10\u001b[0m                   \u001b[0mtitle\u001b[0m\u001b[1;33m=\u001b[0m\u001b[1;34mf'{y.title()} vs {x.title()}'\u001b[0m\u001b[1;33m,\u001b[0m\u001b[1;33m\u001b[0m\u001b[1;33m\u001b[0m\u001b[0m\n\u001b[1;32m---> 11\u001b[1;33m                   theme=theme, colorscale=colorscale)\n\u001b[0m",
          "\u001b[1;32m~\\AppData\\Local\\Continuum\\anaconda3\\lib\\site-packages\\cufflinks\\plotlytools.py\u001b[0m in \u001b[0;36m_iplot\u001b[1;34m(self, kind, data, layout, filename, sharing, title, xTitle, yTitle, zTitle, theme, colors, colorscale, fill, width, dash, mode, interpolation, symbol, size, barmode, sortbars, bargap, bargroupgap, bins, histnorm, histfunc, orientation, boxpoints, annotations, keys, bestfit, bestfit_colors, mean, mean_colors, categories, x, y, z, text, gridcolor, zerolinecolor, margin, labels, values, secondary_y, secondary_y_title, subplots, shape, error_x, error_y, error_type, locations, lon, lat, asFrame, asDates, asFigure, asImage, dimensions, asPlot, asUrl, online, **kwargs)\u001b[0m\n\u001b[0;32m    835\u001b[0m                                 \u001b[1;32mif\u001b[0m \u001b[0mtext\u001b[0m\u001b[1;33m:\u001b[0m\u001b[1;33m\u001b[0m\u001b[1;33m\u001b[0m\u001b[0m\n\u001b[0;32m    836\u001b[0m                                         \u001b[1;32mif\u001b[0m \u001b[1;32mnot\u001b[0m \u001b[0misinstance\u001b[0m\u001b[1;33m(\u001b[0m\u001b[0mtext\u001b[0m\u001b[1;33m,\u001b[0m\u001b[0mlist\u001b[0m\u001b[1;33m)\u001b[0m\u001b[1;33m:\u001b[0m\u001b[1;33m\u001b[0m\u001b[1;33m\u001b[0m\u001b[0m\n\u001b[1;32m--> 837\u001b[1;33m                                                 \u001b[0mtext\u001b[0m\u001b[1;33m=\u001b[0m\u001b[0mself\u001b[0m\u001b[1;33m[\u001b[0m\u001b[0mtext\u001b[0m\u001b[1;33m]\u001b[0m\u001b[1;33m.\u001b[0m\u001b[0mvalues\u001b[0m\u001b[1;33m\u001b[0m\u001b[1;33m\u001b[0m\u001b[0m\n\u001b[0m\u001b[0;32m    838\u001b[0m \t\t\t\tdata=df.to_iplot(colors=colors,colorscale=colorscale,kind=kind,interpolation=interpolation,fill=fill,width=width,dash=dash,sortbars=sortbars,keys=keys,\n\u001b[0;32m    839\u001b[0m                                                 \u001b[0mbestfit\u001b[0m\u001b[1;33m=\u001b[0m\u001b[0mbestfit\u001b[0m\u001b[1;33m,\u001b[0m\u001b[0mbestfit_colors\u001b[0m\u001b[1;33m=\u001b[0m\u001b[0mbestfit_colors\u001b[0m\u001b[1;33m,\u001b[0m\u001b[0mmean\u001b[0m\u001b[1;33m=\u001b[0m\u001b[0mmean\u001b[0m\u001b[1;33m,\u001b[0m\u001b[0mmean_colors\u001b[0m\u001b[1;33m=\u001b[0m\u001b[0mmean_colors\u001b[0m\u001b[1;33m,\u001b[0m\u001b[0masDates\u001b[0m\u001b[1;33m=\u001b[0m\u001b[0masDates\u001b[0m\u001b[1;33m,\u001b[0m\u001b[0mmode\u001b[0m\u001b[1;33m=\u001b[0m\u001b[0mmode\u001b[0m\u001b[1;33m,\u001b[0m\u001b[0msymbol\u001b[0m\u001b[1;33m=\u001b[0m\u001b[0msymbol\u001b[0m\u001b[1;33m,\u001b[0m\u001b[0msize\u001b[0m\u001b[1;33m=\u001b[0m\u001b[0msize\u001b[0m\u001b[1;33m,\u001b[0m\u001b[1;33m\u001b[0m\u001b[1;33m\u001b[0m\u001b[0m\n",
          "\u001b[1;32m~\\AppData\\Local\\Continuum\\anaconda3\\lib\\site-packages\\pandas\\core\\frame.py\u001b[0m in \u001b[0;36m__getitem__\u001b[1;34m(self, key)\u001b[0m\n\u001b[0;32m   2686\u001b[0m             \u001b[1;32mreturn\u001b[0m \u001b[0mself\u001b[0m\u001b[1;33m.\u001b[0m\u001b[0m_getitem_multilevel\u001b[0m\u001b[1;33m(\u001b[0m\u001b[0mkey\u001b[0m\u001b[1;33m)\u001b[0m\u001b[1;33m\u001b[0m\u001b[1;33m\u001b[0m\u001b[0m\n\u001b[0;32m   2687\u001b[0m         \u001b[1;32melse\u001b[0m\u001b[1;33m:\u001b[0m\u001b[1;33m\u001b[0m\u001b[1;33m\u001b[0m\u001b[0m\n\u001b[1;32m-> 2688\u001b[1;33m             \u001b[1;32mreturn\u001b[0m \u001b[0mself\u001b[0m\u001b[1;33m.\u001b[0m\u001b[0m_getitem_column\u001b[0m\u001b[1;33m(\u001b[0m\u001b[0mkey\u001b[0m\u001b[1;33m)\u001b[0m\u001b[1;33m\u001b[0m\u001b[1;33m\u001b[0m\u001b[0m\n\u001b[0m\u001b[0;32m   2689\u001b[0m \u001b[1;33m\u001b[0m\u001b[0m\n\u001b[0;32m   2690\u001b[0m     \u001b[1;32mdef\u001b[0m \u001b[0m_getitem_column\u001b[0m\u001b[1;33m(\u001b[0m\u001b[0mself\u001b[0m\u001b[1;33m,\u001b[0m \u001b[0mkey\u001b[0m\u001b[1;33m)\u001b[0m\u001b[1;33m:\u001b[0m\u001b[1;33m\u001b[0m\u001b[1;33m\u001b[0m\u001b[0m\n",
          "\u001b[1;32m~\\AppData\\Local\\Continuum\\anaconda3\\lib\\site-packages\\pandas\\core\\frame.py\u001b[0m in \u001b[0;36m_getitem_column\u001b[1;34m(self, key)\u001b[0m\n\u001b[0;32m   2693\u001b[0m         \u001b[1;31m# get column\u001b[0m\u001b[1;33m\u001b[0m\u001b[1;33m\u001b[0m\u001b[1;33m\u001b[0m\u001b[0m\n\u001b[0;32m   2694\u001b[0m         \u001b[1;32mif\u001b[0m \u001b[0mself\u001b[0m\u001b[1;33m.\u001b[0m\u001b[0mcolumns\u001b[0m\u001b[1;33m.\u001b[0m\u001b[0mis_unique\u001b[0m\u001b[1;33m:\u001b[0m\u001b[1;33m\u001b[0m\u001b[1;33m\u001b[0m\u001b[0m\n\u001b[1;32m-> 2695\u001b[1;33m             \u001b[1;32mreturn\u001b[0m \u001b[0mself\u001b[0m\u001b[1;33m.\u001b[0m\u001b[0m_get_item_cache\u001b[0m\u001b[1;33m(\u001b[0m\u001b[0mkey\u001b[0m\u001b[1;33m)\u001b[0m\u001b[1;33m\u001b[0m\u001b[1;33m\u001b[0m\u001b[0m\n\u001b[0m\u001b[0;32m   2696\u001b[0m \u001b[1;33m\u001b[0m\u001b[0m\n\u001b[0;32m   2697\u001b[0m         \u001b[1;31m# duplicate columns & possible reduce dimensionality\u001b[0m\u001b[1;33m\u001b[0m\u001b[1;33m\u001b[0m\u001b[1;33m\u001b[0m\u001b[0m\n",
          "\u001b[1;32m~\\AppData\\Local\\Continuum\\anaconda3\\lib\\site-packages\\pandas\\core\\generic.py\u001b[0m in \u001b[0;36m_get_item_cache\u001b[1;34m(self, item)\u001b[0m\n\u001b[0;32m   2487\u001b[0m         \u001b[0mres\u001b[0m \u001b[1;33m=\u001b[0m \u001b[0mcache\u001b[0m\u001b[1;33m.\u001b[0m\u001b[0mget\u001b[0m\u001b[1;33m(\u001b[0m\u001b[0mitem\u001b[0m\u001b[1;33m)\u001b[0m\u001b[1;33m\u001b[0m\u001b[1;33m\u001b[0m\u001b[0m\n\u001b[0;32m   2488\u001b[0m         \u001b[1;32mif\u001b[0m \u001b[0mres\u001b[0m \u001b[1;32mis\u001b[0m \u001b[1;32mNone\u001b[0m\u001b[1;33m:\u001b[0m\u001b[1;33m\u001b[0m\u001b[1;33m\u001b[0m\u001b[0m\n\u001b[1;32m-> 2489\u001b[1;33m             \u001b[0mvalues\u001b[0m \u001b[1;33m=\u001b[0m \u001b[0mself\u001b[0m\u001b[1;33m.\u001b[0m\u001b[0m_data\u001b[0m\u001b[1;33m.\u001b[0m\u001b[0mget\u001b[0m\u001b[1;33m(\u001b[0m\u001b[0mitem\u001b[0m\u001b[1;33m)\u001b[0m\u001b[1;33m\u001b[0m\u001b[1;33m\u001b[0m\u001b[0m\n\u001b[0m\u001b[0;32m   2490\u001b[0m             \u001b[0mres\u001b[0m \u001b[1;33m=\u001b[0m \u001b[0mself\u001b[0m\u001b[1;33m.\u001b[0m\u001b[0m_box_item_values\u001b[0m\u001b[1;33m(\u001b[0m\u001b[0mitem\u001b[0m\u001b[1;33m,\u001b[0m \u001b[0mvalues\u001b[0m\u001b[1;33m)\u001b[0m\u001b[1;33m\u001b[0m\u001b[1;33m\u001b[0m\u001b[0m\n\u001b[0;32m   2491\u001b[0m             \u001b[0mcache\u001b[0m\u001b[1;33m[\u001b[0m\u001b[0mitem\u001b[0m\u001b[1;33m]\u001b[0m \u001b[1;33m=\u001b[0m \u001b[0mres\u001b[0m\u001b[1;33m\u001b[0m\u001b[1;33m\u001b[0m\u001b[0m\n",
          "\u001b[1;32m~\\AppData\\Local\\Continuum\\anaconda3\\lib\\site-packages\\pandas\\core\\internals.py\u001b[0m in \u001b[0;36mget\u001b[1;34m(self, item, fastpath)\u001b[0m\n\u001b[0;32m   4113\u001b[0m \u001b[1;33m\u001b[0m\u001b[0m\n\u001b[0;32m   4114\u001b[0m             \u001b[1;32mif\u001b[0m \u001b[1;32mnot\u001b[0m \u001b[0misna\u001b[0m\u001b[1;33m(\u001b[0m\u001b[0mitem\u001b[0m\u001b[1;33m)\u001b[0m\u001b[1;33m:\u001b[0m\u001b[1;33m\u001b[0m\u001b[1;33m\u001b[0m\u001b[0m\n\u001b[1;32m-> 4115\u001b[1;33m                 \u001b[0mloc\u001b[0m \u001b[1;33m=\u001b[0m \u001b[0mself\u001b[0m\u001b[1;33m.\u001b[0m\u001b[0mitems\u001b[0m\u001b[1;33m.\u001b[0m\u001b[0mget_loc\u001b[0m\u001b[1;33m(\u001b[0m\u001b[0mitem\u001b[0m\u001b[1;33m)\u001b[0m\u001b[1;33m\u001b[0m\u001b[1;33m\u001b[0m\u001b[0m\n\u001b[0m\u001b[0;32m   4116\u001b[0m             \u001b[1;32melse\u001b[0m\u001b[1;33m:\u001b[0m\u001b[1;33m\u001b[0m\u001b[1;33m\u001b[0m\u001b[0m\n\u001b[0;32m   4117\u001b[0m                 \u001b[0mindexer\u001b[0m \u001b[1;33m=\u001b[0m \u001b[0mnp\u001b[0m\u001b[1;33m.\u001b[0m\u001b[0marange\u001b[0m\u001b[1;33m(\u001b[0m\u001b[0mlen\u001b[0m\u001b[1;33m(\u001b[0m\u001b[0mself\u001b[0m\u001b[1;33m.\u001b[0m\u001b[0mitems\u001b[0m\u001b[1;33m)\u001b[0m\u001b[1;33m)\u001b[0m\u001b[1;33m[\u001b[0m\u001b[0misna\u001b[0m\u001b[1;33m(\u001b[0m\u001b[0mself\u001b[0m\u001b[1;33m.\u001b[0m\u001b[0mitems\u001b[0m\u001b[1;33m)\u001b[0m\u001b[1;33m]\u001b[0m\u001b[1;33m\u001b[0m\u001b[1;33m\u001b[0m\u001b[0m\n",
          "\u001b[1;32m~\\AppData\\Local\\Continuum\\anaconda3\\lib\\site-packages\\pandas\\core\\indexes\\base.py\u001b[0m in \u001b[0;36mget_loc\u001b[1;34m(self, key, method, tolerance)\u001b[0m\n\u001b[0;32m   3078\u001b[0m                 \u001b[1;32mreturn\u001b[0m \u001b[0mself\u001b[0m\u001b[1;33m.\u001b[0m\u001b[0m_engine\u001b[0m\u001b[1;33m.\u001b[0m\u001b[0mget_loc\u001b[0m\u001b[1;33m(\u001b[0m\u001b[0mkey\u001b[0m\u001b[1;33m)\u001b[0m\u001b[1;33m\u001b[0m\u001b[1;33m\u001b[0m\u001b[0m\n\u001b[0;32m   3079\u001b[0m             \u001b[1;32mexcept\u001b[0m \u001b[0mKeyError\u001b[0m\u001b[1;33m:\u001b[0m\u001b[1;33m\u001b[0m\u001b[1;33m\u001b[0m\u001b[0m\n\u001b[1;32m-> 3080\u001b[1;33m                 \u001b[1;32mreturn\u001b[0m \u001b[0mself\u001b[0m\u001b[1;33m.\u001b[0m\u001b[0m_engine\u001b[0m\u001b[1;33m.\u001b[0m\u001b[0mget_loc\u001b[0m\u001b[1;33m(\u001b[0m\u001b[0mself\u001b[0m\u001b[1;33m.\u001b[0m\u001b[0m_maybe_cast_indexer\u001b[0m\u001b[1;33m(\u001b[0m\u001b[0mkey\u001b[0m\u001b[1;33m)\u001b[0m\u001b[1;33m)\u001b[0m\u001b[1;33m\u001b[0m\u001b[1;33m\u001b[0m\u001b[0m\n\u001b[0m\u001b[0;32m   3081\u001b[0m \u001b[1;33m\u001b[0m\u001b[0m\n\u001b[0;32m   3082\u001b[0m         \u001b[0mindexer\u001b[0m \u001b[1;33m=\u001b[0m \u001b[0mself\u001b[0m\u001b[1;33m.\u001b[0m\u001b[0mget_indexer\u001b[0m\u001b[1;33m(\u001b[0m\u001b[1;33m[\u001b[0m\u001b[0mkey\u001b[0m\u001b[1;33m]\u001b[0m\u001b[1;33m,\u001b[0m \u001b[0mmethod\u001b[0m\u001b[1;33m=\u001b[0m\u001b[0mmethod\u001b[0m\u001b[1;33m,\u001b[0m \u001b[0mtolerance\u001b[0m\u001b[1;33m=\u001b[0m\u001b[0mtolerance\u001b[0m\u001b[1;33m)\u001b[0m\u001b[1;33m\u001b[0m\u001b[1;33m\u001b[0m\u001b[0m\n",
          "\u001b[1;32mpandas\\_libs\\index.pyx\u001b[0m in \u001b[0;36mpandas._libs.index.IndexEngine.get_loc\u001b[1;34m()\u001b[0m\n",
          "\u001b[1;32mpandas\\_libs\\index.pyx\u001b[0m in \u001b[0;36mpandas._libs.index.IndexEngine.get_loc\u001b[1;34m()\u001b[0m\n",
          "\u001b[1;32mpandas\\_libs\\hashtable_class_helper.pxi\u001b[0m in \u001b[0;36mpandas._libs.hashtable.PyObjectHashTable.get_item\u001b[1;34m()\u001b[0m\n",
          "\u001b[1;32mpandas\\_libs\\hashtable_class_helper.pxi\u001b[0m in \u001b[0;36mpandas._libs.hashtable.PyObjectHashTable.get_item\u001b[1;34m()\u001b[0m\n",
          "\u001b[1;31mKeyError\u001b[0m: 'title'"
         ]
        }
       ]
      }
     },
     "0592f18c062c4f8485331a46d7ec94b0": {
      "model_module": "@jupyter-widgets/base",
      "model_module_version": "1.1.0",
      "model_name": "LayoutModel",
      "state": {}
     },
     "06210f9e288b43bda753df4b3cbe4537": {
      "model_module": "@jupyter-widgets/controls",
      "model_module_version": "1.4.0",
      "model_name": "DropdownModel",
      "state": {
       "_options_labels": [
        "Happiness Score",
        "Life Ladder",
        "Log GDP per capita",
        "Social support",
        "Healthy life expectancy at birth",
        "Freedom to make life choices",
        "Generosity",
        "Perceptions of corruption",
        "Positive affect",
        "Negative affect",
        "Confidence in national government",
        "Democratic Quality",
        "Delivery Quality",
        "GINI of household income reported in Gallup, by wp5-year"
       ],
       "description": "x",
       "index": 0,
       "layout": "IPY_MODEL_10ff0c70d7554baf9ec3237f433005eb",
       "style": "IPY_MODEL_1efd53e6f93f473589b0c1072a5f6855"
      }
     },
     "06853d43ff6c40cb84597c784bc7cce1": {
      "model_module": "@jupyter-widgets/controls",
      "model_module_version": "1.4.0",
      "model_name": "DescriptionStyleModel",
      "state": {
       "description_width": ""
      }
     },
     "076592a8b22540658e00ca505123e347": {
      "model_module": "@jupyter-widgets/controls",
      "model_module_version": "1.4.0",
      "model_name": "VBoxModel",
      "state": {
       "_dom_classes": [
        "widget-interact"
       ],
       "children": [
        "IPY_MODEL_a17a92b10fbe4a24a2c0a72e6ad3fa3e",
        "IPY_MODEL_30eb271c411e4128aed3076cd1cef9e3",
        "IPY_MODEL_023a4df3d8cd4ff3b4a6ae0513b2f8d2",
        "IPY_MODEL_cf4249cc987d42cbb7008056f481ca28",
        "IPY_MODEL_2ee87f602c314a44a7a0f06152d06a6a"
       ],
       "layout": "IPY_MODEL_64d722b0164e4ab4bd529443a2c53f7b"
      }
     },
     "076d4d38ac164510ad5dff25af1df008": {
      "model_module": "@jupyter-widgets/controls",
      "model_module_version": "1.4.0",
      "model_name": "DropdownModel",
      "state": {
       "_options_labels": [
        "ggplot",
        "pearl",
        "solar",
        "space",
        "white",
        "polar",
        "henanigans"
       ],
       "description": "theme",
       "index": 0,
       "layout": "IPY_MODEL_10191a74db6b4ba2baa98c14d4121036",
       "style": "IPY_MODEL_1671fc72710a4d5389258d4127c21968"
      }
     },
     "07ab2f61f2e44c2fbe5cba4d4d23d85f": {
      "model_module": "@jupyter-widgets/controls",
      "model_module_version": "1.4.0",
      "model_name": "DropdownModel",
      "state": {
       "_options_labels": [
        "ggplot",
        "pearl",
        "solar",
        "space",
        "white",
        "polar",
        "henanigans"
       ],
       "description": "theme",
       "index": 0,
       "layout": "IPY_MODEL_e8885312cc9a4fdfaf351c747f05d6a7",
       "style": "IPY_MODEL_2eee442c32874927aeb840b0ae9cc2d2"
      }
     },
     "07c41561685c4be3b6ce63b8a7ad1fe5": {
      "model_module": "@jupyter-widgets/controls",
      "model_module_version": "1.4.0",
      "model_name": "DescriptionStyleModel",
      "state": {
       "description_width": ""
      }
     },
     "07e49fc2cae54654884b15a89fe06be0": {
      "model_module": "@jupyter-widgets/base",
      "model_module_version": "1.1.0",
      "model_name": "LayoutModel",
      "state": {}
     },
     "088975a41b6f44eda61ae475efc6cba4": {
      "model_module": "@jupyter-widgets/controls",
      "model_module_version": "1.4.0",
      "model_name": "DropdownModel",
      "state": {
       "_options_labels": [
        "ggplot",
        "pearl",
        "solar",
        "space",
        "white",
        "polar",
        "henanigans"
       ],
       "description": "theme",
       "index": 0,
       "layout": "IPY_MODEL_46318b48f71d41128f88772840c4909d",
       "style": "IPY_MODEL_c61635eb81444e7aab991eec8febe48d"
      }
     },
     "08a033dd432b4ec29de4f851102fe583": {
      "model_module": "@jupyter-widgets/controls",
      "model_module_version": "1.4.0",
      "model_name": "DropdownModel",
      "state": {
       "_options_labels": [
        "Happiness Score",
        "Life Ladder",
        "Log GDP per capita",
        "Social support",
        "Healthy life expectancy at birth",
        "Freedom to make life choices",
        "Generosity",
        "Perceptions of corruption",
        "Positive affect",
        "Negative affect",
        "Confidence in national government",
        "Democratic Quality",
        "Delivery Quality",
        "GINI of household income reported in Gallup, by wp5-year"
       ],
       "description": "x",
       "index": 0,
       "layout": "IPY_MODEL_490b249322884877badd5e161cf70f09",
       "style": "IPY_MODEL_b552a6727ec24c9b8e083354bb85dd15"
      }
     },
     "0964329ea05a442ebe4cd504a547a5e3": {
      "model_module": "@jupyter-widgets/controls",
      "model_module_version": "1.4.0",
      "model_name": "DescriptionStyleModel",
      "state": {
       "description_width": ""
      }
     },
     "09b792aaee4e4948befe446fc1f9d7d9": {
      "model_module": "@jupyter-widgets/controls",
      "model_module_version": "1.4.0",
      "model_name": "DropdownModel",
      "state": {
       "_options_labels": [
        "brbg",
        "prgn",
        "piyg",
        "puor",
        "rdbu",
        "rdgy",
        "rdylbu",
        "rdylgn",
        "spectral",
        "paired",
        "set3",
        "dflt",
        "original",
        "plotly",
        "accent",
        "dark2",
        "pastel1",
        "pastel2",
        "set1",
        "set2",
        "blues",
        "bugn",
        "bupu",
        "gnbu",
        "greens",
        "greys",
        "orrd",
        "oranges",
        "pubu",
        "pubugn",
        "purd",
        "purples",
        "rdpu",
        "reds",
        "ylgn",
        "ylgnbu",
        "ylorbr",
        "ylorrd",
        "ggplot",
        "polar"
       ],
       "description": "colorscale",
       "index": 0,
       "layout": "IPY_MODEL_afcdac8d40684e3aae3250b809e0aeba",
       "style": "IPY_MODEL_14a347cad6ac4d9da24c7006d6dbb8ca"
      }
     },
     "0aaa8cf5ef614630821036699336988e": {
      "model_module": "@jupyter-widgets/controls",
      "model_module_version": "1.4.0",
      "model_name": "DropdownModel",
      "state": {
       "_options_labels": [
        "Happiness Score",
        "Life Ladder",
        "Log GDP per capita",
        "Social support",
        "Healthy life expectancy at birth",
        "Freedom to make life choices",
        "Generosity",
        "Perceptions of corruption",
        "Positive affect",
        "Negative affect",
        "Confidence in national government",
        "Democratic Quality",
        "Delivery Quality",
        "GINI of household income reported in Gallup, by wp5-year"
       ],
       "description": "x",
       "index": 0,
       "layout": "IPY_MODEL_ed23581fed1b4d7d9b3529291e3452ab",
       "style": "IPY_MODEL_720054ad0448438dae2d94e0b8cdba27"
      }
     },
     "0b848f9e2ef24dc484f397dd45201b74": {
      "model_module": "@jupyter-widgets/controls",
      "model_module_version": "1.4.0",
      "model_name": "DescriptionStyleModel",
      "state": {
       "description_width": ""
      }
     },
     "0b99e447e9954562bc1714f0b740e649": {
      "model_module": "@jupyter-widgets/base",
      "model_module_version": "1.1.0",
      "model_name": "LayoutModel",
      "state": {}
     },
     "0d951d450a984f67ba2ad55e0d82db93": {
      "model_module": "@jupyter-widgets/output",
      "model_module_version": "1.0.0",
      "model_name": "OutputModel",
      "state": {
       "layout": "IPY_MODEL_da42417343664e3b8e500460b66ee3b3",
       "outputs": [
        {
         "data": {
          "application/vnd.plotly.v1+json": {
           "config": {
            "linkText": "Export to plot.ly",
            "plotlyServerURL": "https://plot.ly",
            "responsive": true,
            "showLink": true
           },
           "data": [
            {
             "line": {
              "color": "rgba(239, 138, 98, 1.0)",
              "dash": "solid",
              "shape": "linear",
              "width": 1.3
             },
             "marker": {
              "size": 12,
              "symbol": "circle"
             },
             "mode": "markers",
             "name": "Log GDP per capita",
             "text": "",
             "type": "scatter",
             "uid": "1cf2b858-4a04-4191-9ecd-487ae7d20772",
             "x": [
              7.769,
              7.6,
              7.5539999999999985,
              7.494,
              7.487999999999999,
              7.48,
              7.343,
              7.307,
              7.278,
              7.246,
              7.228,
              7.167000000000002,
              7.1389999999999985,
              7.09,
              7.0539999999999985,
              7.021,
              6.985,
              6.922999999999999,
              6.892,
              6.852,
              6.825,
              6.726,
              6.595,
              6.5920000000000005,
              6.4460000000000015,
              6.444,
              6.436,
              6.375,
              6.374,
              6.354,
              6.3210000000000015,
              6.3,
              6.292999999999998,
              6.2620000000000005,
              6.252999999999999,
              6.223,
              6.199,
              6.198,
              6.192,
              6.182,
              6.174,
              6.149,
              6.125,
              6.1179999999999986,
              6.105,
              6.1,
              6.086,
              6.07,
              6.046,
              6.028,
              6.021,
              6.007999999999999,
              5.94,
              5.895,
              5.893,
              5.89,
              5.888,
              5.886,
              5.86,
              5.809,
              5.779,
              5.757999999999999,
              5.7429999999999986,
              5.718,
              5.697,
              5.693,
              5.653,
              5.648,
              5.631,
              5.603,
              5.529,
              5.525,
              5.523,
              5.4670000000000005,
              5.432,
              5.43,
              5.425,
              5.386,
              5.372999999999998,
              5.339,
              5.323,
              5.287000000000001,
              5.285,
              5.274,
              5.265,
              5.261,
              5.247000000000001,
              5.211,
              5.207999999999998,
              5.207999999999998,
              5.197,
              5.192,
              5.191,
              5.175,
              5.082,
              5.044,
              5.011,
              4.996,
              4.944,
              4.913,
              4.9060000000000015,
              4.883,
              4.812,
              4.799,
              4.796,
              4.722,
              4.7189999999999985,
              4.707,
              4.7,
              4.6960000000000015,
              4.681,
              4.668,
              4.6389999999999985,
              4.628,
              4.587,
              4.559,
              4.548,
              4.534,
              4.519,
              4.516,
              4.509,
              4.49,
              4.466,
              4.461,
              4.456,
              4.437,
              4.418,
              4.39,
              4.374,
              4.3660000000000005,
              4.36,
              4.35,
              4.332,
              4.2860000000000005,
              4.212,
              4.189,
              4.166,
              4.107,
              4.085,
              4.015,
              3.975,
              3.973,
              3.933,
              3.802,
              3.775,
              3.663,
              3.597,
              3.488,
              3.462,
              3.41,
              3.38,
              3.334,
              3.2310000000000003,
              3.2030000000000003,
              3.083,
              2.853
             ],
             "y": [
              10.61176968,
              10.74764188,
              11.0779384,
              10.71508535,
              10.7871933,
              10.96403217,
              10.75747617,
              10.4933939,
              10.68935808,
              10.72280375,
              10.71023337,
              9.649451574,
              10.40920448,
              11.45624351,
              10.58887037,
              11.11175283,
              10.71738529,
              10.66028118,
              10.90297508,
              10.38811239,
              11.12247531,
              10.4851017,
              9.761179288,
              10.56049824,
              10.69936085,
              10.04177666,
              8.913619995,
              10.80889225,
              11.7486131,
              10.44053777,
              10.01170985,
              9.554804484,
              9.932834943,
              11.33935547,
              8.894466082000001,
              10.46769778,
              10.67974568,
              10.31623141,
              10.29446464,
              10.18375365,
              8.74006017,
              10.29121622,
              9.495632172,
              10.35280355,
              8.578995705,
              9.171842097999999,
              9.829589526,
              10.05086168,
              10.36937809,
              9.264416694,
              11.11719513,
              9.698054949,
              10.12945112,
              10.48827489,
              10.28649712,
              9.004729271,
              9.918697039,
              10.56858031,
              8.41705958,
              10.08726215,
              8.836267153,
              10.16896502,
              9.085411496,
              10.26973111,
              9.415342967,
              10.23596509,
              8.5246617,
              10.11754481,
              8.93597889,
              9.553925514,
              8.552235286,
              9.679714203,
              9.700776418,
              7.9476614,
              10.02806727,
              10.91922188,
              9.590398788,
              9.36904494,
              10.11877314,
              10.23550415,
              9.752358755,
              10.11203702,
              9.37765185,
              9.488742192,
              8.586963336,
              8.128525097999999,
              9.703984261,
              9.546585719,
              8.917251269,
              9.676400821,
              9.500548999,
              9.323224386,
              9.635199229,
              8.727751732,
              8.930631213,
              8.123465856000001,
              9.829602559,
              8.31956482,
              8.187982877,
              7.79718415,
              9.029233932,
              7.634040832,
              8.510872205,
              9.719920157999999,
              8.684129079,
              9.414978027,
              9.375358899,
              9.414545059,
              8.201662381,
              8.46180439,
              7.81250906,
              6.214248,
              9.163660367,
              6.832217534,
              7.438197613,
              9.070405642,
              9.855999311,
              7.593587399,
              9.182962099,
              7.36506319,
              8.006097317,
              8.188513438,
              7.031410853,
              9.293353717,
              8.165205955,
              9.677239895,
              6.692824602000001,
              7.6072656310000015,
              7.240506012999999,
              9.38254261,
              8.630222002,
              7.496143341000002,
              8.976917903,
              7.454426606,
              8.922841072,
              7.442166328,
              9.266698837,
              8.213402748,
              7.262893836,
              8.771278381,
              6.62625281,
              7.258244672999999,
              7.259213925,
              7.934930325,
              6.541032791,
              7.54723835,
              7.4125328060000015,
              9.670534452,
              8.307246207999999,
              6.997570037999999,
              7.299221039,
              7.52761968,
              7.893550078,
              7.496460279,
              6.480032444,
              7.35875988
             ]
            }
           ],
           "layout": {
            "legend": {
             "bgcolor": "#242424",
             "font": {
              "color": "#F4F4F4"
             }
            },
            "paper_bgcolor": "#242424",
            "plot_bgcolor": "#242424",
            "title": {
             "font": {
              "color": "#F4F4F4"
             },
             "text": "Log Gdp Per Capita vs Happiness Score"
            },
            "xaxis": {
             "gridcolor": "#343434",
             "showgrid": true,
             "tickfont": {
              "color": "#A4A4A4"
             },
             "title": {
              "font": {
               "color": "#A4A4A4"
              },
              "text": "Happiness Score"
             },
             "zerolinecolor": "#444444"
            },
            "yaxis": {
             "gridcolor": "#343434",
             "showgrid": true,
             "tickfont": {
              "color": "#A4A4A4"
             },
             "title": {
              "font": {
               "color": "#A4A4A4"
              },
              "text": "Log Gdp Per Capita"
             },
             "zerolinecolor": "#444444"
            }
           }
          },
          "text/html": "<div>\n        \n        \n            <div id=\"b38abd48-3f4b-4d55-921b-41ac325ec321\" class=\"plotly-graph-div\"></div>\n            <script type=\"text/javascript\">\n                require([\"plotly\"], function(Plotly) {\n                    window.PLOTLYENV=window.PLOTLYENV || {};\n                    window.PLOTLYENV.BASE_URL='https://plot.ly';\n                    \n                if (document.getElementById(\"b38abd48-3f4b-4d55-921b-41ac325ec321\")) {\n                    Plotly.newPlot(\n                        'b38abd48-3f4b-4d55-921b-41ac325ec321',\n                        [{\"line\": {\"color\": \"rgba(239, 138, 98, 1.0)\", \"dash\": \"solid\", \"shape\": \"linear\", \"width\": 1.3}, \"marker\": {\"size\": 12, \"symbol\": \"circle\"}, \"mode\": \"markers\", \"name\": \"Log GDP per capita\", \"text\": \"\", \"type\": \"scatter\", \"uid\": \"34bf65d1-558b-4a06-9197-e14f674d3e3e\", \"x\": [7.769, 7.6, 7.5539999999999985, 7.494, 7.487999999999999, 7.48, 7.343, 7.307, 7.278, 7.246, 7.228, 7.167000000000002, 7.1389999999999985, 7.09, 7.0539999999999985, 7.021, 6.985, 6.922999999999999, 6.892, 6.852, 6.825, 6.726, 6.595, 6.5920000000000005, 6.4460000000000015, 6.444, 6.436, 6.375, 6.374, 6.354, 6.3210000000000015, 6.3, 6.292999999999998, 6.2620000000000005, 6.252999999999999, 6.223, 6.199, 6.198, 6.192, 6.182, 6.174, 6.149, 6.125, 6.1179999999999986, 6.105, 6.1, 6.086, 6.07, 6.046, 6.028, 6.021, 6.007999999999999, 5.94, 5.895, 5.893, 5.89, 5.888, 5.886, 5.86, 5.809, 5.779, 5.757999999999999, 5.7429999999999986, 5.718, 5.697, 5.693, 5.653, 5.648, 5.631, 5.603, 5.529, 5.525, 5.523, 5.4670000000000005, 5.432, 5.43, 5.425, 5.386, 5.372999999999998, 5.339, 5.323, 5.287000000000001, 5.285, 5.274, 5.265, 5.261, 5.247000000000001, 5.211, 5.207999999999998, 5.207999999999998, 5.197, 5.192, 5.191, 5.175, 5.082, 5.044, 5.011, 4.996, 4.944, 4.913, 4.9060000000000015, 4.883, 4.812, 4.799, 4.796, 4.722, 4.7189999999999985, 4.707, 4.7, 4.6960000000000015, 4.681, 4.668, 4.6389999999999985, 4.628, 4.587, 4.559, 4.548, 4.534, 4.519, 4.516, 4.509, 4.49, 4.466, 4.461, 4.456, 4.437, 4.418, 4.39, 4.374, 4.3660000000000005, 4.36, 4.35, 4.332, 4.2860000000000005, 4.212, 4.189, 4.166, 4.107, 4.085, 4.015, 3.975, 3.973, 3.933, 3.802, 3.775, 3.663, 3.597, 3.488, 3.462, 3.41, 3.38, 3.334, 3.2310000000000003, 3.2030000000000003, 3.083, 2.853], \"y\": [10.61176968, 10.74764188, 11.0779384, 10.71508535, 10.7871933, 10.96403217, 10.75747617, 10.4933939, 10.68935808, 10.72280375, 10.71023337, 9.649451574, 10.40920448, 11.45624351, 10.58887037, 11.11175283, 10.71738529, 10.66028118, 10.90297508, 10.38811239, 11.12247531, 10.4851017, 9.761179288, 10.56049824, 10.69936085, 10.04177666, 8.913619995, 10.80889225, 11.7486131, 10.44053777, 10.01170985, 9.554804484, 9.932834943, 11.33935547, 8.894466082000001, 10.46769778, 10.67974568, 10.31623141, 10.29446464, 10.18375365, 8.74006017, 10.29121622, 9.495632172, 10.35280355, 8.578995705, 9.171842097999999, 9.829589526, 10.05086168, 10.36937809, 9.264416694, 11.11719513, 9.698054949, 10.12945112, 10.48827489, 10.28649712, 9.004729271, 9.918697039, 10.56858031, 8.41705958, 10.08726215, 8.836267153, 10.16896502, 9.085411496, 10.26973111, 9.415342967, 10.23596509, 8.5246617, 10.11754481, 8.93597889, 9.553925514, 8.552235286, 9.679714203, 9.700776418, 7.9476614, 10.02806727, 10.91922188, 9.590398788, 9.36904494, 10.11877314, 10.23550415, 9.752358755, 10.11203702, 9.37765185, 9.488742192, 8.586963336, 8.128525097999999, 9.703984261, 9.546585719, 8.917251269, 9.676400821, 9.500548999, 9.323224386, 9.635199229, 8.727751732, 8.930631213, 8.123465856000001, 9.829602559, 8.31956482, 8.187982877, 7.79718415, 9.029233932, 7.634040832, 8.510872205, 9.719920157999999, 8.684129079, 9.414978027, 9.375358899, 9.414545059, 8.201662381, 8.46180439, 7.81250906, 6.214248, 9.163660367, 6.832217534, 7.438197613, 9.070405642, 9.855999311, 7.593587399, 9.182962099, 7.36506319, 8.006097317, 8.188513438, 7.031410853, 9.293353717, 8.165205955, 9.677239895, 6.692824602000001, 7.6072656310000015, 7.240506012999999, 9.38254261, 8.630222002, 7.496143341000002, 8.976917903, 7.454426606, 8.922841072, 7.442166328, 9.266698837, 8.213402748, 7.262893836, 8.771278381, 6.62625281, 7.258244672999999, 7.259213925, 7.934930325, 6.541032791, 7.54723835, 7.4125328060000015, 9.670534452, 8.307246207999999, 6.997570037999999, 7.299221039, 7.52761968, 7.893550078, 7.496460279, 6.480032444, 7.35875988]}],\n                        {\"legend\": {\"bgcolor\": \"#242424\", \"font\": {\"color\": \"#F4F4F4\"}}, \"paper_bgcolor\": \"#242424\", \"plot_bgcolor\": \"#242424\", \"title\": {\"font\": {\"color\": \"#F4F4F4\"}, \"text\": \"Log Gdp Per Capita vs Happiness Score\"}, \"xaxis\": {\"gridcolor\": \"#343434\", \"showgrid\": true, \"tickfont\": {\"color\": \"#A4A4A4\"}, \"title\": {\"font\": {\"color\": \"#A4A4A4\"}, \"text\": \"Happiness Score\"}, \"zerolinecolor\": \"#444444\"}, \"yaxis\": {\"gridcolor\": \"#343434\", \"showgrid\": true, \"tickfont\": {\"color\": \"#A4A4A4\"}, \"title\": {\"font\": {\"color\": \"#A4A4A4\"}, \"text\": \"Log Gdp Per Capita\"}, \"zerolinecolor\": \"#444444\"}},\n                        {\"showLink\": true, \"linkText\": \"Export to plot.ly\", \"plotlyServerURL\": \"https://plot.ly\", \"responsive\": true}\n                    )\n                };\n                });\n            </script>\n        </div>"
         },
         "metadata": {},
         "output_type": "display_data"
        }
       ]
      }
     },
     "0defe488bb254c22a0cccfa597bbb762": {
      "model_module": "@jupyter-widgets/base",
      "model_module_version": "1.1.0",
      "model_name": "LayoutModel",
      "state": {}
     },
     "0e63b45194a0480bac033be5386619b8": {
      "model_module": "@jupyter-widgets/controls",
      "model_module_version": "1.4.0",
      "model_name": "DescriptionStyleModel",
      "state": {
       "description_width": ""
      }
     },
     "101390f776a44b20b09440631da40567": {
      "model_module": "@jupyter-widgets/controls",
      "model_module_version": "1.4.0",
      "model_name": "DescriptionStyleModel",
      "state": {
       "description_width": ""
      }
     },
     "10191a74db6b4ba2baa98c14d4121036": {
      "model_module": "@jupyter-widgets/base",
      "model_module_version": "1.1.0",
      "model_name": "LayoutModel",
      "state": {}
     },
     "10538ffd58a54d01b5269d7834822c3f": {
      "model_module": "@jupyter-widgets/controls",
      "model_module_version": "1.4.0",
      "model_name": "DropdownModel",
      "state": {
       "_options_labels": [
        "Happiness Score",
        "Life Ladder",
        "Log GDP per capita",
        "Social support",
        "Healthy life expectancy at birth",
        "Freedom to make life choices",
        "Generosity",
        "Perceptions of corruption",
        "Positive affect",
        "Negative affect",
        "Confidence in national government",
        "Democratic Quality",
        "Delivery Quality",
        "GINI of household income reported in Gallup, by wp5-year"
       ],
       "description": "x",
       "index": 0,
       "layout": "IPY_MODEL_60f33ec163a949eda4863d7d26abc7fa",
       "style": "IPY_MODEL_431a7ca07ede4ac2a4b66f23197f50f6"
      }
     },
     "10ff0c70d7554baf9ec3237f433005eb": {
      "model_module": "@jupyter-widgets/base",
      "model_module_version": "1.1.0",
      "model_name": "LayoutModel",
      "state": {}
     },
     "118e95c6f7674378ae7abf42c3d3a595": {
      "model_module": "@jupyter-widgets/base",
      "model_module_version": "1.1.0",
      "model_name": "LayoutModel",
      "state": {}
     },
     "11faa2a662af4de787db635d34c2fef6": {
      "model_module": "@jupyter-widgets/controls",
      "model_module_version": "1.4.0",
      "model_name": "DropdownModel",
      "state": {
       "_options_labels": [
        "Happiness Score",
        "Life Ladder",
        "Log GDP per capita",
        "Social support",
        "Healthy life expectancy at birth",
        "Freedom to make life choices",
        "Generosity",
        "Perceptions of corruption",
        "Positive affect",
        "Negative affect",
        "Confidence in national government",
        "Democratic Quality",
        "Delivery Quality",
        "GINI of household income reported in Gallup, by wp5-year"
       ],
       "description": "y",
       "index": 0,
       "layout": "IPY_MODEL_b4a9e714867f4c028209c009cc521ebc",
       "style": "IPY_MODEL_101390f776a44b20b09440631da40567"
      }
     },
     "124e7105456345bca8b072c7d5bdcb26": {
      "model_module": "@jupyter-widgets/base",
      "model_module_version": "1.1.0",
      "model_name": "LayoutModel",
      "state": {}
     },
     "125bd6bac6404744bd4f023fcbdca0c7": {
      "model_module": "@jupyter-widgets/output",
      "model_module_version": "1.0.0",
      "model_name": "OutputModel",
      "state": {
       "layout": "IPY_MODEL_bd6f20a63049444080d795a42da53338",
       "outputs": [
        {
         "data": {
          "application/vnd.plotly.v1+json": {
           "config": {
            "linkText": "Export to plot.ly",
            "plotlyServerURL": "https://plot.ly",
            "responsive": true,
            "showLink": true
           },
           "data": [
            {
             "marker": {
              "color": "rgba(31, 119, 180, 1.0)",
              "line": {
               "width": 1.3
              },
              "opacity": 0.8,
              "size": 12,
              "symbol": "circle"
             },
             "mode": "markers",
             "name": "Western Europe",
             "textfont": {
              "color": "#A4A4A4"
             },
             "type": "scatter",
             "uid": "a6355ad9-ac64-4ca8-ab61-b3597a76d3ef",
             "x": [
              7.769,
              7.6,
              7.5539999999999985,
              7.494,
              7.487999999999999,
              7.48,
              7.343,
              7.246,
              7.09,
              7.0539999999999985,
              7.021,
              6.985,
              6.922999999999999,
              6.726,
              6.5920000000000005,
              6.354,
              6.223,
              6.046,
              5.718,
              5.693,
              5.287000000000001
             ],
             "y": [
              10.61176968,
              10.74764188,
              11.0779384,
              10.71508535,
              10.7871933,
              10.96403217,
              10.75747617,
              10.72280375,
              11.45624351,
              10.58887037,
              11.11175283,
              10.71738529,
              10.66028118,
              10.4851017,
              10.56049824,
              10.44053777,
              10.46769778,
              10.36937809,
              10.26973111,
              10.23596509,
              10.11203702
             ]
            },
            {
             "marker": {
              "color": "rgba(255, 127, 14, 1.0)",
              "line": {
               "width": 1.3
              },
              "opacity": 0.8,
              "size": 12,
              "symbol": "circle"
             },
             "mode": "markers",
             "name": "North America and ANZ",
             "textfont": {
              "color": "#A4A4A4"
             },
             "type": "scatter",
             "uid": "9cdff944-783e-4f71-a51e-7c9c8b4d9f1a",
             "x": [
              7.307,
              7.278,
              7.228,
              6.892
             ],
             "y": [
              10.4933939,
              10.68935808,
              10.71023337,
              10.90297508
             ]
            },
            {
             "marker": {
              "color": "rgba(44, 160, 44, 1.0)",
              "line": {
               "width": 1.3
              },
              "opacity": 0.8,
              "size": 12,
              "symbol": "circle"
             },
             "mode": "markers",
             "name": "Latin America and Caribbean",
             "textfont": {
              "color": "#A4A4A4"
             },
             "type": "scatter",
             "uid": "147d10fb-7a87-4d57-ae71-763799ac9fb8",
             "x": [
              7.167000000000002,
              6.595,
              6.444,
              6.436,
              6.3210000000000015,
              6.3,
              6.292999999999998,
              6.252999999999999,
              6.192,
              6.125,
              6.105,
              6.086,
              6.028,
              5.89,
              5.86,
              5.779,
              5.7429999999999986,
              5.697,
              5.425,
              4.707,
              3.597
             ],
             "y": [
              9.649451574,
              9.761179288,
              10.04177666,
              8.913619995,
              10.01170985,
              9.554804484,
              9.932834943,
              8.894466082000001,
              10.29446464,
              9.495632172,
              8.578995705,
              9.829589526,
              9.264416694,
              9.004729271,
              8.41705958,
              8.836267153,
              9.085411496,
              9.415342967,
              9.590398788,
              9.414545059,
              7.4125328060000015
             ]
            },
            {
             "marker": {
              "color": "rgba(214, 39, 40, 1.0)",
              "line": {
               "width": 1.3
              },
              "opacity": 0.8,
              "size": 12,
              "symbol": "circle"
             },
             "mode": "markers",
             "name": "Middle East and North Africa",
             "textfont": {
              "color": "#A4A4A4"
             },
             "type": "scatter",
             "uid": "dcae433c-7433-4581-8b1f-b7d0344addba",
             "x": [
              7.1389999999999985,
              6.825,
              6.375,
              6.374,
              6.199,
              6.021,
              5.525,
              5.372999999999998,
              5.211,
              5.207999999999998,
              5.197,
              4.9060000000000015,
              4.6960000000000015,
              4.548,
              4.461,
              4.437,
              4.166,
              3.462,
              3.38
             ],
             "y": [
              10.40920448,
              11.12247531,
              10.80889225,
              11.7486131,
              10.67974568,
              11.11719513,
              9.679714203,
              10.11877314,
              9.546585719,
              8.917251269,
              9.500548999,
              9.029233932,
              8.46180439,
              9.855999311,
              9.293353717,
              9.677239895,
              9.266698837,
              8.307246207999999,
              7.299221039
             ]
            },
            {
             "marker": {
              "color": "rgba(148, 103, 189, 1.0)",
              "line": {
               "width": 1.3
              },
              "opacity": 0.8,
              "size": 12,
              "symbol": "circle"
             },
             "mode": "markers",
             "name": "Central and Eastern Europe",
             "textfont": {
              "color": "#A4A4A4"
             },
             "type": "scatter",
             "uid": "beea46eb-31cf-4b8d-80b1-723c6429ade9",
             "x": [
              6.852,
              6.198,
              6.182,
              6.149,
              6.1179999999999986,
              6.1,
              6.07,
              5.94,
              5.893,
              5.757999999999999,
              5.603,
              5.523,
              5.432,
              5.386,
              5.274,
              5.011,
              4.7189999999999985
             ],
             "y": [
              10.38811239,
              10.31623141,
              10.18375365,
              10.29121622,
              10.35280355,
              9.171842097999999,
              10.05086168,
              10.12945112,
              10.28649712,
              10.16896502,
              9.553925514,
              9.700776418,
              10.02806727,
              9.36904494,
              9.488742192,
              9.829602559,
              9.375358899
             ]
            },
            {
             "marker": {
              "color": "rgba(140, 86, 75, 1.0)",
              "line": {
               "width": 1.3
              },
              "opacity": 0.8,
              "size": 12,
              "symbol": "circle"
             },
             "mode": "markers",
             "name": "East Asia",
             "textfont": {
              "color": "#A4A4A4"
             },
             "type": "scatter",
             "uid": "09ef6fda-4dec-45a9-b19e-f142155634d2",
             "x": [
              6.4460000000000015,
              5.895,
              5.886,
              5.43,
              5.285,
              5.191
             ],
             "y": [
              10.69936085,
              10.48827489,
              10.56858031,
              10.91922188,
              9.37765185,
              9.635199229
             ]
            },
            {
             "marker": {
              "color": "rgba(227, 119, 194, 1.0)",
              "line": {
               "width": 1.3
              },
              "opacity": 0.8,
              "size": 12,
              "symbol": "circle"
             },
             "mode": "markers",
             "name": "Southeast Asia",
             "textfont": {
              "color": "#A4A4A4"
             },
             "type": "scatter",
             "uid": "3bb57133-d32a-4c7f-b082-5d660afcbb2e",
             "x": [
              6.2620000000000005,
              6.007999999999999,
              5.631,
              5.339,
              5.192,
              5.175,
              4.796,
              4.7,
              4.36
             ],
             "y": [
              11.33935547,
              9.698054949,
              8.93597889,
              10.23550415,
              9.323224386,
              8.727751732,
              8.684129079,
              8.201662381,
              8.630222002
             ]
            },
            {
             "marker": {
              "color": "rgba(127, 127, 127, 1.0)",
              "line": {
               "width": 1.3
              },
              "opacity": 0.8,
              "size": 12,
              "symbol": "circle"
             },
             "mode": "markers",
             "name": "Commonwealth of Independent States",
             "textfont": {
              "color": "#A4A4A4"
             },
             "type": "scatter",
             "uid": "3033f60d-b64f-4d24-a557-58f2d7f3a971",
             "x": [
              6.174,
              5.809,
              5.648,
              5.529,
              5.4670000000000005,
              5.323,
              5.261,
              5.247000000000001,
              5.207999999999998,
              4.559,
              4.519,
              4.332
             ],
             "y": [
              8.74006017,
              10.08726215,
              10.11754481,
              8.552235286,
              7.9476614,
              9.752358755,
              8.128525097999999,
              9.703984261,
              9.676400821,
              9.070405642,
              9.182962099,
              8.976917903
             ]
            },
            {
             "marker": {
              "color": "rgba(188, 189, 34, 1.0)",
              "line": {
               "width": 1.3
              },
              "opacity": 0.8,
              "size": 12,
              "symbol": "circle"
             },
             "mode": "markers",
             "name": "Sub-Saharan Africa",
             "textfont": {
              "color": "#A4A4A4"
             },
             "type": "scatter",
             "uid": "ecd4415c-576c-4b2d-9b8e-0c69deada534",
             "x": [
              5.888,
              5.265,
              5.044,
              4.996,
              4.944,
              4.883,
              4.812,
              4.799,
              4.722,
              4.681,
              4.668,
              4.6389999999999985,
              4.628,
              4.587,
              4.534,
              4.516,
              4.509,
              4.49,
              4.466,
              4.418,
              4.39,
              4.374,
              4.35,
              4.2860000000000005,
              4.212,
              4.189,
              4.107,
              4.085,
              3.975,
              3.973,
              3.933,
              3.802,
              3.775,
              3.663,
              3.488,
              3.41,
              3.334,
              3.2310000000000003,
              3.083,
              2.853
             ],
             "y": [
              9.918697039,
              8.586963336,
              8.123465856000001,
              8.31956482,
              8.187982877,
              7.634040832,
              8.510872205,
              9.719920157999999,
              9.414978027,
              7.81250906,
              6.214248,
              9.163660367,
              6.832217534,
              7.438197613,
              7.593587399,
              7.36506319,
              8.006097317,
              8.188513438,
              7.031410853,
              6.692824602000001,
              7.6072656310000015,
              7.240506012999999,
              7.496143341000002,
              7.454426606,
              8.922841072,
              7.442166328,
              8.213402748,
              7.262893836,
              6.62625281,
              7.258244672999999,
              7.259213925,
              7.934930325,
              6.541032791,
              7.54723835,
              9.670534452,
              6.997570037999999,
              7.52761968,
              7.893550078,
              6.480032444,
              7.35875988
             ]
            },
            {
             "marker": {
              "color": "rgba(23, 190, 207, 1.0)",
              "line": {
               "width": 1.3
              },
              "opacity": 0.8,
              "size": 12,
              "symbol": "circle"
             },
             "mode": "markers",
             "name": "South Asia",
             "textfont": {
              "color": "#A4A4A4"
             },
             "type": "scatter",
             "uid": "920eeaba-18ad-4484-9d64-9a2fb18f7c2b",
             "x": [
              5.653,
              5.082,
              4.913,
              4.456,
              4.3660000000000005,
              4.015,
              3.2030000000000003
             ],
             "y": [
              8.5246617,
              8.930631213,
              7.79718415,
              8.165205955,
              9.38254261,
              8.771278381,
              7.496460279
             ]
            }
           ],
           "layout": {
            "legend": {
             "bgcolor": "#242424",
             "font": {
              "color": "#F4F4F4"
             }
            },
            "paper_bgcolor": "#242424",
            "plot_bgcolor": "#242424",
            "title": {
             "font": {
              "color": "#F4F4F4"
             },
             "text": "Log Gdp Per Capita vs Happiness Score"
            },
            "xaxis": {
             "gridcolor": "#343434",
             "showgrid": true,
             "tickfont": {
              "color": "#A4A4A4"
             },
             "title": {
              "font": {
               "color": "#A4A4A4"
              },
              "text": "Happiness Score"
             },
             "zerolinecolor": "#444444"
            },
            "yaxis": {
             "gridcolor": "#343434",
             "showgrid": true,
             "tickfont": {
              "color": "#A4A4A4"
             },
             "title": {
              "font": {
               "color": "#A4A4A4"
              },
              "text": "Log Gdp Per Capita"
             },
             "zerolinecolor": "#444444"
            }
           }
          },
          "text/html": "<div>\n        \n        \n            <div id=\"76ba0257-a096-40a2-a1d6-0085debdd6b4\" class=\"plotly-graph-div\"></div>\n            <script type=\"text/javascript\">\n                require([\"plotly\"], function(Plotly) {\n                    window.PLOTLYENV=window.PLOTLYENV || {};\n                    window.PLOTLYENV.BASE_URL='https://plot.ly';\n                    \n                if (document.getElementById(\"76ba0257-a096-40a2-a1d6-0085debdd6b4\")) {\n                    Plotly.newPlot(\n                        '76ba0257-a096-40a2-a1d6-0085debdd6b4',\n                        [{\"marker\": {\"color\": \"rgba(31, 119, 180, 1.0)\", \"line\": {\"width\": 1.3}, \"opacity\": 0.8, \"size\": 12, \"symbol\": \"circle\"}, \"mode\": \"markers\", \"name\": \"Western Europe\", \"textfont\": {\"color\": \"#A4A4A4\"}, \"type\": \"scatter\", \"uid\": \"1996bbba-f2dd-498f-ae0a-4acbb6adfc0b\", \"x\": [7.769, 7.6, 7.5539999999999985, 7.494, 7.487999999999999, 7.48, 7.343, 7.246, 7.09, 7.0539999999999985, 7.021, 6.985, 6.922999999999999, 6.726, 6.5920000000000005, 6.354, 6.223, 6.046, 5.718, 5.693, 5.287000000000001], \"y\": [10.61176968, 10.74764188, 11.0779384, 10.71508535, 10.7871933, 10.96403217, 10.75747617, 10.72280375, 11.45624351, 10.58887037, 11.11175283, 10.71738529, 10.66028118, 10.4851017, 10.56049824, 10.44053777, 10.46769778, 10.36937809, 10.26973111, 10.23596509, 10.11203702]}, {\"marker\": {\"color\": \"rgba(255, 127, 14, 1.0)\", \"line\": {\"width\": 1.3}, \"opacity\": 0.8, \"size\": 12, \"symbol\": \"circle\"}, \"mode\": \"markers\", \"name\": \"North America and ANZ\", \"textfont\": {\"color\": \"#A4A4A4\"}, \"type\": \"scatter\", \"uid\": \"9cc42e4d-4f6d-4e05-a0f7-02c3cee4d52e\", \"x\": [7.307, 7.278, 7.228, 6.892], \"y\": [10.4933939, 10.68935808, 10.71023337, 10.90297508]}, {\"marker\": {\"color\": \"rgba(44, 160, 44, 1.0)\", \"line\": {\"width\": 1.3}, \"opacity\": 0.8, \"size\": 12, \"symbol\": \"circle\"}, \"mode\": \"markers\", \"name\": \"Latin America and Caribbean\", \"textfont\": {\"color\": \"#A4A4A4\"}, \"type\": \"scatter\", \"uid\": \"ed32a9cf-7ce8-4222-bd98-35263a208c3e\", \"x\": [7.167000000000002, 6.595, 6.444, 6.436, 6.3210000000000015, 6.3, 6.292999999999998, 6.252999999999999, 6.192, 6.125, 6.105, 6.086, 6.028, 5.89, 5.86, 5.779, 5.7429999999999986, 5.697, 5.425, 4.707, 3.597], \"y\": [9.649451574, 9.761179288, 10.04177666, 8.913619995, 10.01170985, 9.554804484, 9.932834943, 8.894466082000001, 10.29446464, 9.495632172, 8.578995705, 9.829589526, 9.264416694, 9.004729271, 8.41705958, 8.836267153, 9.085411496, 9.415342967, 9.590398788, 9.414545059, 7.4125328060000015]}, {\"marker\": {\"color\": \"rgba(214, 39, 40, 1.0)\", \"line\": {\"width\": 1.3}, \"opacity\": 0.8, \"size\": 12, \"symbol\": \"circle\"}, \"mode\": \"markers\", \"name\": \"Middle East and North Africa\", \"textfont\": {\"color\": \"#A4A4A4\"}, \"type\": \"scatter\", \"uid\": \"73bb8758-9567-4692-bb61-d9b22238771e\", \"x\": [7.1389999999999985, 6.825, 6.375, 6.374, 6.199, 6.021, 5.525, 5.372999999999998, 5.211, 5.207999999999998, 5.197, 4.9060000000000015, 4.6960000000000015, 4.548, 4.461, 4.437, 4.166, 3.462, 3.38], \"y\": [10.40920448, 11.12247531, 10.80889225, 11.7486131, 10.67974568, 11.11719513, 9.679714203, 10.11877314, 9.546585719, 8.917251269, 9.500548999, 9.029233932, 8.46180439, 9.855999311, 9.293353717, 9.677239895, 9.266698837, 8.307246207999999, 7.299221039]}, {\"marker\": {\"color\": \"rgba(148, 103, 189, 1.0)\", \"line\": {\"width\": 1.3}, \"opacity\": 0.8, \"size\": 12, \"symbol\": \"circle\"}, \"mode\": \"markers\", \"name\": \"Central and Eastern Europe\", \"textfont\": {\"color\": \"#A4A4A4\"}, \"type\": \"scatter\", \"uid\": \"51fd69a4-942c-4012-aab0-66390705a9de\", \"x\": [6.852, 6.198, 6.182, 6.149, 6.1179999999999986, 6.1, 6.07, 5.94, 5.893, 5.757999999999999, 5.603, 5.523, 5.432, 5.386, 5.274, 5.011, 4.7189999999999985], \"y\": [10.38811239, 10.31623141, 10.18375365, 10.29121622, 10.35280355, 9.171842097999999, 10.05086168, 10.12945112, 10.28649712, 10.16896502, 9.553925514, 9.700776418, 10.02806727, 9.36904494, 9.488742192, 9.829602559, 9.375358899]}, {\"marker\": {\"color\": \"rgba(140, 86, 75, 1.0)\", \"line\": {\"width\": 1.3}, \"opacity\": 0.8, \"size\": 12, \"symbol\": \"circle\"}, \"mode\": \"markers\", \"name\": \"East Asia\", \"textfont\": {\"color\": \"#A4A4A4\"}, \"type\": \"scatter\", \"uid\": \"39d2fc91-cfb9-42e4-b7de-742668ea8a3a\", \"x\": [6.4460000000000015, 5.895, 5.886, 5.43, 5.285, 5.191], \"y\": [10.69936085, 10.48827489, 10.56858031, 10.91922188, 9.37765185, 9.635199229]}, {\"marker\": {\"color\": \"rgba(227, 119, 194, 1.0)\", \"line\": {\"width\": 1.3}, \"opacity\": 0.8, \"size\": 12, \"symbol\": \"circle\"}, \"mode\": \"markers\", \"name\": \"Southeast Asia\", \"textfont\": {\"color\": \"#A4A4A4\"}, \"type\": \"scatter\", \"uid\": \"d21966f2-2aac-49f7-85a0-b3254f027f4a\", \"x\": [6.2620000000000005, 6.007999999999999, 5.631, 5.339, 5.192, 5.175, 4.796, 4.7, 4.36], \"y\": [11.33935547, 9.698054949, 8.93597889, 10.23550415, 9.323224386, 8.727751732, 8.684129079, 8.201662381, 8.630222002]}, {\"marker\": {\"color\": \"rgba(127, 127, 127, 1.0)\", \"line\": {\"width\": 1.3}, \"opacity\": 0.8, \"size\": 12, \"symbol\": \"circle\"}, \"mode\": \"markers\", \"name\": \"Commonwealth of Independent States\", \"textfont\": {\"color\": \"#A4A4A4\"}, \"type\": \"scatter\", \"uid\": \"c302938a-b3a2-4bcc-afcc-fca3547ca963\", \"x\": [6.174, 5.809, 5.648, 5.529, 5.4670000000000005, 5.323, 5.261, 5.247000000000001, 5.207999999999998, 4.559, 4.519, 4.332], \"y\": [8.74006017, 10.08726215, 10.11754481, 8.552235286, 7.9476614, 9.752358755, 8.128525097999999, 9.703984261, 9.676400821, 9.070405642, 9.182962099, 8.976917903]}, {\"marker\": {\"color\": \"rgba(188, 189, 34, 1.0)\", \"line\": {\"width\": 1.3}, \"opacity\": 0.8, \"size\": 12, \"symbol\": \"circle\"}, \"mode\": \"markers\", \"name\": \"Sub-Saharan Africa\", \"textfont\": {\"color\": \"#A4A4A4\"}, \"type\": \"scatter\", \"uid\": \"c99d8966-3670-4634-9a93-7c7b6354e3ed\", \"x\": [5.888, 5.265, 5.044, 4.996, 4.944, 4.883, 4.812, 4.799, 4.722, 4.681, 4.668, 4.6389999999999985, 4.628, 4.587, 4.534, 4.516, 4.509, 4.49, 4.466, 4.418, 4.39, 4.374, 4.35, 4.2860000000000005, 4.212, 4.189, 4.107, 4.085, 3.975, 3.973, 3.933, 3.802, 3.775, 3.663, 3.488, 3.41, 3.334, 3.2310000000000003, 3.083, 2.853], \"y\": [9.918697039, 8.586963336, 8.123465856000001, 8.31956482, 8.187982877, 7.634040832, 8.510872205, 9.719920157999999, 9.414978027, 7.81250906, 6.214248, 9.163660367, 6.832217534, 7.438197613, 7.593587399, 7.36506319, 8.006097317, 8.188513438, 7.031410853, 6.692824602000001, 7.6072656310000015, 7.240506012999999, 7.496143341000002, 7.454426606, 8.922841072, 7.442166328, 8.213402748, 7.262893836, 6.62625281, 7.258244672999999, 7.259213925, 7.934930325, 6.541032791, 7.54723835, 9.670534452, 6.997570037999999, 7.52761968, 7.893550078, 6.480032444, 7.35875988]}, {\"marker\": {\"color\": \"rgba(23, 190, 207, 1.0)\", \"line\": {\"width\": 1.3}, \"opacity\": 0.8, \"size\": 12, \"symbol\": \"circle\"}, \"mode\": \"markers\", \"name\": \"South Asia\", \"textfont\": {\"color\": \"#A4A4A4\"}, \"type\": \"scatter\", \"uid\": \"70eb6626-0998-42ad-abab-fe679aaa4b4d\", \"x\": [5.653, 5.082, 4.913, 4.456, 4.3660000000000005, 4.015, 3.2030000000000003], \"y\": [8.5246617, 8.930631213, 7.79718415, 8.165205955, 9.38254261, 8.771278381, 7.496460279]}],\n                        {\"legend\": {\"bgcolor\": \"#242424\", \"font\": {\"color\": \"#F4F4F4\"}}, \"paper_bgcolor\": \"#242424\", \"plot_bgcolor\": \"#242424\", \"title\": {\"font\": {\"color\": \"#F4F4F4\"}, \"text\": \"Log Gdp Per Capita vs Happiness Score\"}, \"xaxis\": {\"gridcolor\": \"#343434\", \"showgrid\": true, \"tickfont\": {\"color\": \"#A4A4A4\"}, \"title\": {\"font\": {\"color\": \"#A4A4A4\"}, \"text\": \"Happiness Score\"}, \"zerolinecolor\": \"#444444\"}, \"yaxis\": {\"gridcolor\": \"#343434\", \"showgrid\": true, \"tickfont\": {\"color\": \"#A4A4A4\"}, \"title\": {\"font\": {\"color\": \"#A4A4A4\"}, \"text\": \"Log Gdp Per Capita\"}, \"zerolinecolor\": \"#444444\"}},\n                        {\"showLink\": true, \"linkText\": \"Export to plot.ly\", \"plotlyServerURL\": \"https://plot.ly\", \"responsive\": true}\n                    )\n                };\n                });\n            </script>\n        </div>"
         },
         "metadata": {},
         "output_type": "display_data"
        }
       ]
      }
     },
     "13b9f030a44246de8139742c437ca0eb": {
      "model_module": "@jupyter-widgets/controls",
      "model_module_version": "1.4.0",
      "model_name": "DropdownModel",
      "state": {
       "_options_labels": [
        "brbg",
        "prgn",
        "piyg",
        "puor",
        "rdbu",
        "rdgy",
        "rdylbu",
        "rdylgn",
        "spectral",
        "paired",
        "set3",
        "dflt",
        "original",
        "plotly",
        "accent",
        "dark2",
        "pastel1",
        "pastel2",
        "set1",
        "set2",
        "blues",
        "bugn",
        "bupu",
        "gnbu",
        "greens",
        "greys",
        "orrd",
        "oranges",
        "pubu",
        "pubugn",
        "purd",
        "purples",
        "rdpu",
        "reds",
        "ylgn",
        "ylgnbu",
        "ylorbr",
        "ylorrd",
        "ggplot",
        "polar"
       ],
       "description": "colorscale",
       "index": 0,
       "layout": "IPY_MODEL_e687e0936a6f4379bb66462f9c82a59b",
       "style": "IPY_MODEL_a79116cde430480cbdd8bb6fff721f00"
      }
     },
     "145bd7f53bd1407888f7d729ebc99631": {
      "model_module": "@jupyter-widgets/base",
      "model_module_version": "1.1.0",
      "model_name": "LayoutModel",
      "state": {}
     },
     "14a347cad6ac4d9da24c7006d6dbb8ca": {
      "model_module": "@jupyter-widgets/controls",
      "model_module_version": "1.4.0",
      "model_name": "DescriptionStyleModel",
      "state": {
       "description_width": ""
      }
     },
     "14df6bc798fa45a6bcee5c915af020c5": {
      "model_module": "@jupyter-widgets/controls",
      "model_module_version": "1.4.0",
      "model_name": "VBoxModel",
      "state": {
       "_dom_classes": [
        "widget-interact"
       ],
       "children": [
        "IPY_MODEL_10538ffd58a54d01b5269d7834822c3f",
        "IPY_MODEL_a490ca6dcf974da998b3ee9a34e9aed2",
        "IPY_MODEL_1bcc6f6497664ebdb174beb878d7bdd1",
        "IPY_MODEL_b3f3110a4af4414cb8af3a55d58280b5",
        "IPY_MODEL_9bb02b5618474007a31ca15d692a1a96"
       ],
       "layout": "IPY_MODEL_018fc37d1f174cc99e6ae6f15e1ccc41"
      }
     },
     "1669d91210354d229071949f196b503b": {
      "model_module": "@jupyter-widgets/base",
      "model_module_version": "1.1.0",
      "model_name": "LayoutModel",
      "state": {}
     },
     "1671fc72710a4d5389258d4127c21968": {
      "model_module": "@jupyter-widgets/controls",
      "model_module_version": "1.4.0",
      "model_name": "DescriptionStyleModel",
      "state": {
       "description_width": ""
      }
     },
     "16b996b293ed4b9aae7884b6061575a5": {
      "model_module": "@jupyter-widgets/controls",
      "model_module_version": "1.4.0",
      "model_name": "DropdownModel",
      "state": {
       "_options_labels": [
        "Life Ladder",
        "Log GDP per capita",
        "Social support",
        "Healthy life expectancy at birth",
        "Freedom to make life choices",
        "Generosity",
        "Perceptions of corruption",
        "Positive affect",
        "Negative affect",
        "Confidence in national government",
        "Democratic Quality",
        "Delivery Quality",
        "GINI of household income reported in Gallup, by wp5-year"
       ],
       "description": "x",
       "index": 3,
       "layout": "IPY_MODEL_626c869c537143168da769d2341ea8dc",
       "style": "IPY_MODEL_f21fe9edbda84cc090c263636dd5955e"
      }
     },
     "172d66e1f3424972a85813fcdcae2b53": {
      "model_module": "@jupyter-widgets/controls",
      "model_module_version": "1.4.0",
      "model_name": "DropdownModel",
      "state": {
       "_options_labels": [
        "Life Ladder",
        "Log GDP per capita",
        "Social support",
        "Healthy life expectancy at birth",
        "Freedom to make life choices",
        "Generosity",
        "Perceptions of corruption",
        "Positive affect",
        "Negative affect",
        "Confidence in national government",
        "Democratic Quality",
        "Delivery Quality",
        "GINI of household income reported in Gallup, by wp5-year"
       ],
       "description": "x",
       "index": 3,
       "layout": "IPY_MODEL_c4e91280fc864b06a9cad8e310c3b04d",
       "style": "IPY_MODEL_3a8544dd2a1f473e87e99b903bd1c63d"
      }
     },
     "177db0c65c6d4cdb92a3bab0f01a113a": {
      "model_module": "@jupyter-widgets/controls",
      "model_module_version": "1.4.0",
      "model_name": "DescriptionStyleModel",
      "state": {
       "description_width": ""
      }
     },
     "17f76511cfa74ceeba51b4e14c1bc942": {
      "model_module": "@jupyter-widgets/controls",
      "model_module_version": "1.4.0",
      "model_name": "DropdownModel",
      "state": {
       "_options_labels": [
        "Life Ladder",
        "Log GDP per capita",
        "Social support",
        "Healthy life expectancy at birth",
        "Freedom to make life choices",
        "Generosity",
        "Perceptions of corruption",
        "Positive affect",
        "Negative affect",
        "Confidence in national government",
        "Democratic Quality",
        "Delivery Quality",
        "GINI of household income reported in Gallup, by wp5-year"
       ],
       "description": "y",
       "index": 0,
       "layout": "IPY_MODEL_47eedf8656034d409d35e4057772d0ca",
       "style": "IPY_MODEL_4a0838ab51fc4a2cae60a6a59ba8306e"
      }
     },
     "189746f164a746f8b0d51b2f1f4ba0c6": {
      "model_module": "@jupyter-widgets/controls",
      "model_module_version": "1.4.0",
      "model_name": "DescriptionStyleModel",
      "state": {
       "description_width": ""
      }
     },
     "18c8e0bbd53341eb9e276c94757ca94b": {
      "model_module": "@jupyter-widgets/base",
      "model_module_version": "1.1.0",
      "model_name": "LayoutModel",
      "state": {}
     },
     "19ae3d146099494fb96dddd3625f08f6": {
      "model_module": "@jupyter-widgets/output",
      "model_module_version": "1.0.0",
      "model_name": "OutputModel",
      "state": {
       "layout": "IPY_MODEL_1adfc72adf22406a8dd6c19ef59149af",
       "outputs": [
        {
         "ename": "TypeError",
         "evalue": "iplot() got an unexpected keyword argument 'theme'",
         "output_type": "error",
         "traceback": [
          "\u001b[1;31m---------------------------------------------------------------------------\u001b[0m",
          "\u001b[1;31mTypeError\u001b[0m                                 Traceback (most recent call last)",
          "\u001b[1;32m~\\AppData\\Local\\Continuum\\anaconda3\\lib\\site-packages\\ipywidgets\\widgets\\interaction.py\u001b[0m in \u001b[0;36mupdate\u001b[1;34m(self, *args)\u001b[0m\n\u001b[0;32m    249\u001b[0m                     \u001b[0mvalue\u001b[0m \u001b[1;33m=\u001b[0m \u001b[0mwidget\u001b[0m\u001b[1;33m.\u001b[0m\u001b[0mget_interact_value\u001b[0m\u001b[1;33m(\u001b[0m\u001b[1;33m)\u001b[0m\u001b[1;33m\u001b[0m\u001b[1;33m\u001b[0m\u001b[0m\n\u001b[0;32m    250\u001b[0m                     \u001b[0mself\u001b[0m\u001b[1;33m.\u001b[0m\u001b[0mkwargs\u001b[0m\u001b[1;33m[\u001b[0m\u001b[0mwidget\u001b[0m\u001b[1;33m.\u001b[0m\u001b[0m_kwarg\u001b[0m\u001b[1;33m]\u001b[0m \u001b[1;33m=\u001b[0m \u001b[0mvalue\u001b[0m\u001b[1;33m\u001b[0m\u001b[1;33m\u001b[0m\u001b[0m\n\u001b[1;32m--> 251\u001b[1;33m                 \u001b[0mself\u001b[0m\u001b[1;33m.\u001b[0m\u001b[0mresult\u001b[0m \u001b[1;33m=\u001b[0m \u001b[0mself\u001b[0m\u001b[1;33m.\u001b[0m\u001b[0mf\u001b[0m\u001b[1;33m(\u001b[0m\u001b[1;33m**\u001b[0m\u001b[0mself\u001b[0m\u001b[1;33m.\u001b[0m\u001b[0mkwargs\u001b[0m\u001b[1;33m)\u001b[0m\u001b[1;33m\u001b[0m\u001b[1;33m\u001b[0m\u001b[0m\n\u001b[0m\u001b[0;32m    252\u001b[0m                 \u001b[0mshow_inline_matplotlib_plots\u001b[0m\u001b[1;33m(\u001b[0m\u001b[1;33m)\u001b[0m\u001b[1;33m\u001b[0m\u001b[1;33m\u001b[0m\u001b[0m\n\u001b[0;32m    253\u001b[0m                 \u001b[1;32mif\u001b[0m \u001b[0mself\u001b[0m\u001b[1;33m.\u001b[0m\u001b[0mauto_display\u001b[0m \u001b[1;32mand\u001b[0m \u001b[0mself\u001b[0m\u001b[1;33m.\u001b[0m\u001b[0mresult\u001b[0m \u001b[1;32mis\u001b[0m \u001b[1;32mnot\u001b[0m \u001b[1;32mNone\u001b[0m\u001b[1;33m:\u001b[0m\u001b[1;33m\u001b[0m\u001b[1;33m\u001b[0m\u001b[0m\n",
          "\u001b[1;32m<ipython-input-27-27212dc4b390>\u001b[0m in \u001b[0;36mscatter_plot\u001b[1;34m(x, y, theme, colorscale)\u001b[0m\n\u001b[0;32m      8\u001b[0m                      color_column = \"Region\", x_title = x.title(), y_title = y.title(), title = f'{y.title()} vs {x.title()}')\n\u001b[0;32m      9\u001b[0m \u001b[1;33m\u001b[0m\u001b[0m\n\u001b[1;32m---> 10\u001b[1;33m     \u001b[0miplot\u001b[0m\u001b[1;33m(\u001b[0m\u001b[0mfig\u001b[0m\u001b[1;33m,\u001b[0m \u001b[0mtheme\u001b[0m\u001b[1;33m=\u001b[0m\u001b[0mtheme\u001b[0m\u001b[1;33m)\u001b[0m\u001b[1;33m\u001b[0m\u001b[1;33m\u001b[0m\u001b[0m\n\u001b[0m",
          "\u001b[1;31mTypeError\u001b[0m: iplot() got an unexpected keyword argument 'theme'"
         ]
        }
       ]
      }
     },
     "1adfc72adf22406a8dd6c19ef59149af": {
      "model_module": "@jupyter-widgets/base",
      "model_module_version": "1.1.0",
      "model_name": "LayoutModel",
      "state": {}
     },
     "1b824e93abc246e9a5a2af1781790e47": {
      "model_module": "@jupyter-widgets/base",
      "model_module_version": "1.1.0",
      "model_name": "LayoutModel",
      "state": {}
     },
     "1bcc6f6497664ebdb174beb878d7bdd1": {
      "model_module": "@jupyter-widgets/controls",
      "model_module_version": "1.4.0",
      "model_name": "DropdownModel",
      "state": {
       "_options_labels": [
        "ggplot",
        "pearl",
        "solar",
        "space",
        "white",
        "polar",
        "henanigans"
       ],
       "description": "theme",
       "index": 0,
       "layout": "IPY_MODEL_e229e0273fb242c6883101648d7eac31",
       "style": "IPY_MODEL_8bb3204ee8954a899796200a28280bcd"
      }
     },
     "1ca7f11f1a4a45938f649aa92d491983": {
      "model_module": "@jupyter-widgets/base",
      "model_module_version": "1.1.0",
      "model_name": "LayoutModel",
      "state": {}
     },
     "1cf1805f3f3d4624aa1124bf61d22f3e": {
      "model_module": "@jupyter-widgets/base",
      "model_module_version": "1.1.0",
      "model_name": "LayoutModel",
      "state": {}
     },
     "1d44d03d14ce46cbac3308fa52b04032": {
      "model_module": "@jupyter-widgets/base",
      "model_module_version": "1.1.0",
      "model_name": "LayoutModel",
      "state": {}
     },
     "1d796af5de3145aa9313779f88e948ec": {
      "model_module": "@jupyter-widgets/controls",
      "model_module_version": "1.4.0",
      "model_name": "DescriptionStyleModel",
      "state": {
       "description_width": ""
      }
     },
     "1e20bfce70d74ad6a5f2446fab0fa79c": {
      "model_module": "@jupyter-widgets/controls",
      "model_module_version": "1.4.0",
      "model_name": "DropdownModel",
      "state": {
       "_options_labels": [
        "ggplot",
        "pearl",
        "solar",
        "space",
        "white",
        "polar",
        "henanigans"
       ],
       "description": "theme",
       "index": 0,
       "layout": "IPY_MODEL_df0989b210c2493d888df85707f64ca5",
       "style": "IPY_MODEL_b0556d66646142fa9a65c747696b6d68"
      }
     },
     "1e494b743d5447f3a415e30a4c25bb82": {
      "model_module": "@jupyter-widgets/controls",
      "model_module_version": "1.4.0",
      "model_name": "DropdownModel",
      "state": {
       "_options_labels": [
        "Life Ladder",
        "Log GDP per capita",
        "Social support",
        "Healthy life expectancy at birth",
        "Freedom to make life choices",
        "Generosity",
        "Perceptions of corruption",
        "Positive affect",
        "Negative affect",
        "Confidence in national government",
        "Democratic Quality",
        "Delivery Quality",
        "GINI of household income reported in Gallup, by wp5-year"
       ],
       "description": "x",
       "index": 4,
       "layout": "IPY_MODEL_9006a1bdb6f946be983d87e027be438f",
       "style": "IPY_MODEL_9860878d58fe4471b3f175e0996355cb"
      }
     },
     "1efd53e6f93f473589b0c1072a5f6855": {
      "model_module": "@jupyter-widgets/controls",
      "model_module_version": "1.4.0",
      "model_name": "DescriptionStyleModel",
      "state": {
       "description_width": ""
      }
     },
     "1f30d8dc44644d91a4b624895b97e774": {
      "model_module": "@jupyter-widgets/controls",
      "model_module_version": "1.4.0",
      "model_name": "DropdownModel",
      "state": {
       "_options_labels": [
        "Life Ladder",
        "Log GDP per capita",
        "Social support",
        "Healthy life expectancy at birth",
        "Freedom to make life choices",
        "Generosity",
        "Perceptions of corruption",
        "Positive affect",
        "Negative affect",
        "Confidence in national government",
        "Democratic Quality",
        "Delivery Quality",
        "GINI of household income reported in Gallup, by wp5-year"
       ],
       "description": "x",
       "index": 3,
       "layout": "IPY_MODEL_af0fa673463140c596ed65fdfddfc0fd",
       "style": "IPY_MODEL_77bdd3d106614e42be4eb2a63731197b"
      }
     },
     "202586da85a7472a8025c200bd678128": {
      "model_module": "@jupyter-widgets/controls",
      "model_module_version": "1.4.0",
      "model_name": "VBoxModel",
      "state": {
       "_dom_classes": [
        "widget-interact"
       ],
       "children": [
        "IPY_MODEL_9a3c67947a1f4a189f68f9f15d15f620",
        "IPY_MODEL_9143d45f4967434e8741ca000166d896",
        "IPY_MODEL_30ef2d44e2694ac4a218078adc46be6c",
        "IPY_MODEL_5caedb34bb364acebfa3f4923f0f41bb",
        "IPY_MODEL_debd8591ccca49efaa62be48a01d2e5c"
       ],
       "layout": "IPY_MODEL_d38907cdb6744db3957bb11c5c247110"
      }
     },
     "20ba1e4825d5450aad845a75f66b5fe1": {
      "model_module": "@jupyter-widgets/base",
      "model_module_version": "1.1.0",
      "model_name": "LayoutModel",
      "state": {}
     },
     "20d72585b7924fea9b276066ec515e4d": {
      "model_module": "@jupyter-widgets/output",
      "model_module_version": "1.0.0",
      "model_name": "OutputModel",
      "state": {
       "layout": "IPY_MODEL_76a4486fec3d4e4bbc2b14e7f1add445",
       "outputs": [
        {
         "ename": "CufflinksError",
         "evalue": "Not a valid color: region",
         "output_type": "error",
         "traceback": [
          "\u001b[1;31m---------------------------------------------------------------------------\u001b[0m",
          "\u001b[1;31mKeyError\u001b[0m                                  Traceback (most recent call last)",
          "\u001b[1;32m~\\AppData\\Local\\Continuum\\anaconda3\\lib\\site-packages\\cufflinks\\colors.py\u001b[0m in \u001b[0;36mnormalize\u001b[1;34m(color)\u001b[0m\n\u001b[0;32m     99\u001b[0m         \u001b[1;32mtry\u001b[0m\u001b[1;33m:\u001b[0m\u001b[1;33m\u001b[0m\u001b[1;33m\u001b[0m\u001b[0m\n\u001b[1;32m--> 100\u001b[1;33m             \u001b[1;32mreturn\u001b[0m \u001b[0mnormalize\u001b[0m\u001b[1;33m(\u001b[0m\u001b[0mcnames\u001b[0m\u001b[1;33m[\u001b[0m\u001b[0mcolor\u001b[0m\u001b[1;33m.\u001b[0m\u001b[0mlower\u001b[0m\u001b[1;33m(\u001b[0m\u001b[1;33m)\u001b[0m\u001b[1;33m]\u001b[0m\u001b[1;33m)\u001b[0m\u001b[1;33m\u001b[0m\u001b[1;33m\u001b[0m\u001b[0m\n\u001b[0m\u001b[0;32m    101\u001b[0m         \u001b[1;32mexcept\u001b[0m\u001b[1;33m:\u001b[0m\u001b[1;33m\u001b[0m\u001b[1;33m\u001b[0m\u001b[0m\n",
          "\u001b[1;31mKeyError\u001b[0m: 'region'",
          "\nDuring handling of the above exception, another exception occurred:\n",
          "\u001b[1;31mCufflinksError\u001b[0m                            Traceback (most recent call last)",
          "\u001b[1;32m~\\AppData\\Local\\Continuum\\anaconda3\\lib\\site-packages\\ipywidgets\\widgets\\interaction.py\u001b[0m in \u001b[0;36mupdate\u001b[1;34m(self, *args)\u001b[0m\n\u001b[0;32m    249\u001b[0m                     \u001b[0mvalue\u001b[0m \u001b[1;33m=\u001b[0m \u001b[0mwidget\u001b[0m\u001b[1;33m.\u001b[0m\u001b[0mget_interact_value\u001b[0m\u001b[1;33m(\u001b[0m\u001b[1;33m)\u001b[0m\u001b[1;33m\u001b[0m\u001b[1;33m\u001b[0m\u001b[0m\n\u001b[0;32m    250\u001b[0m                     \u001b[0mself\u001b[0m\u001b[1;33m.\u001b[0m\u001b[0mkwargs\u001b[0m\u001b[1;33m[\u001b[0m\u001b[0mwidget\u001b[0m\u001b[1;33m.\u001b[0m\u001b[0m_kwarg\u001b[0m\u001b[1;33m]\u001b[0m \u001b[1;33m=\u001b[0m \u001b[0mvalue\u001b[0m\u001b[1;33m\u001b[0m\u001b[1;33m\u001b[0m\u001b[0m\n\u001b[1;32m--> 251\u001b[1;33m                 \u001b[0mself\u001b[0m\u001b[1;33m.\u001b[0m\u001b[0mresult\u001b[0m \u001b[1;33m=\u001b[0m \u001b[0mself\u001b[0m\u001b[1;33m.\u001b[0m\u001b[0mf\u001b[0m\u001b[1;33m(\u001b[0m\u001b[1;33m**\u001b[0m\u001b[0mself\u001b[0m\u001b[1;33m.\u001b[0m\u001b[0mkwargs\u001b[0m\u001b[1;33m)\u001b[0m\u001b[1;33m\u001b[0m\u001b[1;33m\u001b[0m\u001b[0m\n\u001b[0m\u001b[0;32m    252\u001b[0m                 \u001b[0mshow_inline_matplotlib_plots\u001b[0m\u001b[1;33m(\u001b[0m\u001b[1;33m)\u001b[0m\u001b[1;33m\u001b[0m\u001b[1;33m\u001b[0m\u001b[0m\n\u001b[0;32m    253\u001b[0m                 \u001b[1;32mif\u001b[0m \u001b[0mself\u001b[0m\u001b[1;33m.\u001b[0m\u001b[0mauto_display\u001b[0m \u001b[1;32mand\u001b[0m \u001b[0mself\u001b[0m\u001b[1;33m.\u001b[0m\u001b[0mresult\u001b[0m \u001b[1;32mis\u001b[0m \u001b[1;32mnot\u001b[0m \u001b[1;32mNone\u001b[0m\u001b[1;33m:\u001b[0m\u001b[1;33m\u001b[0m\u001b[1;33m\u001b[0m\u001b[0m\n",
          "\u001b[1;32m<ipython-input-14-0e267f6323aa>\u001b[0m in \u001b[0;36mscatter_plot\u001b[1;34m(x, y, theme, colorscale)\u001b[0m\n\u001b[0;32m      9\u001b[0m                   \u001b[0mcolor\u001b[0m \u001b[1;33m=\u001b[0m \u001b[1;34m'Region'\u001b[0m\u001b[1;33m,\u001b[0m\u001b[1;33m\u001b[0m\u001b[1;33m\u001b[0m\u001b[0m\n\u001b[0;32m     10\u001b[0m                   \u001b[0mtitle\u001b[0m \u001b[1;33m=\u001b[0m \u001b[1;34mf'{y.title()} vs {x.title()}'\u001b[0m\u001b[1;33m,\u001b[0m\u001b[1;33m\u001b[0m\u001b[1;33m\u001b[0m\u001b[0m\n\u001b[1;32m---> 11\u001b[1;33m                   theme=theme, colorscale=colorscale)\n\u001b[0m",
          "\u001b[1;32m~\\AppData\\Local\\Continuum\\anaconda3\\lib\\site-packages\\cufflinks\\plotlytools.py\u001b[0m in \u001b[0;36m_iplot\u001b[1;34m(self, kind, data, layout, filename, sharing, title, xTitle, yTitle, zTitle, theme, colors, colorscale, fill, width, dash, mode, interpolation, symbol, size, barmode, sortbars, bargap, bargroupgap, bins, histnorm, histfunc, orientation, boxpoints, annotations, keys, bestfit, bestfit_colors, mean, mean_colors, categories, x, y, z, text, gridcolor, zerolinecolor, margin, labels, values, secondary_y, secondary_y_title, subplots, shape, error_x, error_y, error_type, locations, lon, lat, asFrame, asDates, asFigure, asImage, dimensions, asPlot, asUrl, online, **kwargs)\u001b[0m\n\u001b[0;32m    838\u001b[0m \t\t\t\tdata=df.to_iplot(colors=colors,colorscale=colorscale,kind=kind,interpolation=interpolation,fill=fill,width=width,dash=dash,sortbars=sortbars,keys=keys,\n\u001b[0;32m    839\u001b[0m                                                 \u001b[0mbestfit\u001b[0m\u001b[1;33m=\u001b[0m\u001b[0mbestfit\u001b[0m\u001b[1;33m,\u001b[0m\u001b[0mbestfit_colors\u001b[0m\u001b[1;33m=\u001b[0m\u001b[0mbestfit_colors\u001b[0m\u001b[1;33m,\u001b[0m\u001b[0mmean\u001b[0m\u001b[1;33m=\u001b[0m\u001b[0mmean\u001b[0m\u001b[1;33m,\u001b[0m\u001b[0mmean_colors\u001b[0m\u001b[1;33m=\u001b[0m\u001b[0mmean_colors\u001b[0m\u001b[1;33m,\u001b[0m\u001b[0masDates\u001b[0m\u001b[1;33m=\u001b[0m\u001b[0masDates\u001b[0m\u001b[1;33m,\u001b[0m\u001b[0mmode\u001b[0m\u001b[1;33m=\u001b[0m\u001b[0mmode\u001b[0m\u001b[1;33m,\u001b[0m\u001b[0msymbol\u001b[0m\u001b[1;33m=\u001b[0m\u001b[0msymbol\u001b[0m\u001b[1;33m,\u001b[0m\u001b[0msize\u001b[0m\u001b[1;33m=\u001b[0m\u001b[0msize\u001b[0m\u001b[1;33m,\u001b[0m\u001b[1;33m\u001b[0m\u001b[1;33m\u001b[0m\u001b[0m\n\u001b[1;32m--> 840\u001b[1;33m \t\t\t\t\t\ttext=text,**kwargs)\t\t\n\u001b[0m\u001b[0;32m    841\u001b[0m                                 \u001b[0mtrace_kw\u001b[0m\u001b[1;33m=\u001b[0m\u001b[0mcheck_kwargs\u001b[0m\u001b[1;33m(\u001b[0m\u001b[0mkwargs\u001b[0m\u001b[1;33m,\u001b[0m\u001b[0mTRACE_KWARGS\u001b[0m\u001b[1;33m)\u001b[0m\u001b[1;33m\u001b[0m\u001b[1;33m\u001b[0m\u001b[0m\n\u001b[0;32m    842\u001b[0m                                 \u001b[1;32mfor\u001b[0m \u001b[0mtrace\u001b[0m \u001b[1;32min\u001b[0m \u001b[0mdata\u001b[0m\u001b[1;33m:\u001b[0m\u001b[1;33m\u001b[0m\u001b[1;33m\u001b[0m\u001b[0m\n",
          "\u001b[1;32m~\\AppData\\Local\\Continuum\\anaconda3\\lib\\site-packages\\cufflinks\\plotlytools.py\u001b[0m in \u001b[0;36m_to_iplot\u001b[1;34m(self, colors, colorscale, kind, mode, interpolation, symbol, size, fill, width, dash, sortbars, keys, bestfit, bestfit_colors, opacity, mean, mean_colors, asDates, asTimestamp, text, **kwargs)\u001b[0m\n\u001b[0;32m    134\u001b[0m                         \u001b[0mkeys\u001b[0m\u001b[1;33m=\u001b[0m\u001b[0mlist\u001b[0m\u001b[1;33m(\u001b[0m\u001b[0mdf\u001b[0m\u001b[1;33m.\u001b[0m\u001b[0mkeys\u001b[0m\u001b[1;33m(\u001b[0m\u001b[1;33m)\u001b[0m\u001b[1;33m)\u001b[0m\u001b[1;33m\u001b[0m\u001b[1;33m\u001b[0m\u001b[0m\n\u001b[0;32m    135\u001b[0m \u001b[1;33m\u001b[0m\u001b[0m\n\u001b[1;32m--> 136\u001b[1;33m         \u001b[0mcolors\u001b[0m\u001b[1;33m=\u001b[0m\u001b[0mget_colors\u001b[0m\u001b[1;33m(\u001b[0m\u001b[0mcolors\u001b[0m\u001b[1;33m,\u001b[0m\u001b[0mcolorscale\u001b[0m\u001b[1;33m,\u001b[0m\u001b[0mkeys\u001b[0m\u001b[1;33m)\u001b[0m\u001b[1;33m\u001b[0m\u001b[1;33m\u001b[0m\u001b[0m\n\u001b[0m\u001b[0;32m    137\u001b[0m         \u001b[0mdash\u001b[0m\u001b[1;33m=\u001b[0m\u001b[0mget_items_as_list\u001b[0m\u001b[1;33m(\u001b[0m\u001b[0mdash\u001b[0m\u001b[1;33m,\u001b[0m\u001b[0mkeys\u001b[0m\u001b[1;33m,\u001b[0m\u001b[1;34m'dash'\u001b[0m\u001b[1;33m)\u001b[0m\u001b[1;33m\u001b[0m\u001b[1;33m\u001b[0m\u001b[0m\n\u001b[0;32m    138\u001b[0m         \u001b[0msymbol\u001b[0m\u001b[1;33m=\u001b[0m\u001b[0mget_items_as_list\u001b[0m\u001b[1;33m(\u001b[0m\u001b[0msymbol\u001b[0m\u001b[1;33m,\u001b[0m\u001b[0mkeys\u001b[0m\u001b[1;33m,\u001b[0m\u001b[1;34m'symbol'\u001b[0m\u001b[1;33m)\u001b[0m\u001b[1;33m\u001b[0m\u001b[1;33m\u001b[0m\u001b[0m\n",
          "\u001b[1;32m~\\AppData\\Local\\Continuum\\anaconda3\\lib\\site-packages\\cufflinks\\plotlytools.py\u001b[0m in \u001b[0;36mget_colors\u001b[1;34m(colors, colorscale, keys, asList)\u001b[0m\n\u001b[0;32m   1229\u001b[0m                                 \u001b[0mcolors\u001b[0m\u001b[1;33m=\u001b[0m\u001b[1;33m{\u001b[0m\u001b[1;33m}\u001b[0m\u001b[1;33m\u001b[0m\u001b[1;33m\u001b[0m\u001b[0m\n\u001b[0;32m   1230\u001b[0m                                 \u001b[1;32mfor\u001b[0m \u001b[0mkey\u001b[0m \u001b[1;32min\u001b[0m \u001b[0mkeys\u001b[0m\u001b[1;33m:\u001b[0m\u001b[1;33m\u001b[0m\u001b[1;33m\u001b[0m\u001b[0m\n\u001b[1;32m-> 1231\u001b[1;33m                                         \u001b[0mcolors\u001b[0m\u001b[1;33m[\u001b[0m\u001b[0mkey\u001b[0m\u001b[1;33m]\u001b[0m\u001b[1;33m=\u001b[0m\u001b[0mnext\u001b[0m\u001b[1;33m(\u001b[0m\u001b[0mclrgen\u001b[0m\u001b[1;33m)\u001b[0m\u001b[1;33m\u001b[0m\u001b[1;33m\u001b[0m\u001b[0m\n\u001b[0m\u001b[0;32m   1232\u001b[0m         \u001b[1;32mreturn\u001b[0m \u001b[0mcolors\u001b[0m\u001b[1;33m\u001b[0m\u001b[1;33m\u001b[0m\u001b[0m\n\u001b[0;32m   1233\u001b[0m \u001b[1;33m\u001b[0m\u001b[0m\n",
          "\u001b[1;32m~\\AppData\\Local\\Continuum\\anaconda3\\lib\\site-packages\\cufflinks\\colors.py\u001b[0m in \u001b[0;36mcolorgen\u001b[1;34m(colors, n, scale, theme)\u001b[0m\n\u001b[0;32m    313\u001b[0m     \u001b[1;32mfor\u001b[0m \u001b[0mi\u001b[0m \u001b[1;32min\u001b[0m \u001b[0mnp\u001b[0m\u001b[1;33m.\u001b[0m\u001b[0marange\u001b[0m\u001b[1;33m(\u001b[0m\u001b[1;36m.2\u001b[0m\u001b[1;33m,\u001b[0m \u001b[1;36m1\u001b[0m\u001b[1;33m,\u001b[0m \u001b[0mstep\u001b[0m\u001b[1;33m)\u001b[0m\u001b[1;33m:\u001b[0m\u001b[1;33m\u001b[0m\u001b[1;33m\u001b[0m\u001b[0m\n\u001b[0;32m    314\u001b[0m         \u001b[1;32mfor\u001b[0m \u001b[0my\u001b[0m \u001b[1;32min\u001b[0m \u001b[0mdq\u001b[0m\u001b[1;33m:\u001b[0m\u001b[1;33m\u001b[0m\u001b[1;33m\u001b[0m\u001b[0m\n\u001b[1;32m--> 315\u001b[1;33m             \u001b[1;32myield\u001b[0m \u001b[0mto_rgba\u001b[0m\u001b[1;33m(\u001b[0m\u001b[0my\u001b[0m\u001b[1;33m,\u001b[0m \u001b[1;36m1\u001b[0m \u001b[1;33m-\u001b[0m \u001b[0mi\u001b[0m \u001b[1;33m+\u001b[0m \u001b[1;36m.2\u001b[0m\u001b[1;33m)\u001b[0m\u001b[1;33m\u001b[0m\u001b[1;33m\u001b[0m\u001b[0m\n\u001b[0m\u001b[0;32m    316\u001b[0m         \u001b[0mdq\u001b[0m\u001b[1;33m.\u001b[0m\u001b[0mrotate\u001b[0m\u001b[1;33m(\u001b[0m\u001b[1;36m1\u001b[0m\u001b[1;33m)\u001b[0m\u001b[1;33m\u001b[0m\u001b[1;33m\u001b[0m\u001b[0m\n\u001b[0;32m    317\u001b[0m \u001b[1;33m\u001b[0m\u001b[0m\n",
          "\u001b[1;32m~\\AppData\\Local\\Continuum\\anaconda3\\lib\\site-packages\\cufflinks\\colors.py\u001b[0m in \u001b[0;36mto_rgba\u001b[1;34m(color, alpha)\u001b[0m\n\u001b[0;32m     50\u001b[0m         \u001b[1;32mreturn\u001b[0m \u001b[1;34m'rgba'\u001b[0m \u001b[1;33m+\u001b[0m \u001b[0mstr\u001b[0m\u001b[1;33m(\u001b[0m\u001b[1;33m(\u001b[0m\u001b[0mr\u001b[0m\u001b[1;33m,\u001b[0m \u001b[0mg\u001b[0m\u001b[1;33m,\u001b[0m \u001b[0mb\u001b[0m\u001b[1;33m,\u001b[0m \u001b[0malpha\u001b[0m\u001b[1;33m)\u001b[0m\u001b[1;33m)\u001b[0m\u001b[1;33m\u001b[0m\u001b[1;33m\u001b[0m\u001b[0m\n\u001b[0;32m     51\u001b[0m     \u001b[1;32melse\u001b[0m\u001b[1;33m:\u001b[0m\u001b[1;33m\u001b[0m\u001b[1;33m\u001b[0m\u001b[0m\n\u001b[1;32m---> 52\u001b[1;33m         \u001b[1;32mreturn\u001b[0m \u001b[0mto_rgba\u001b[0m\u001b[1;33m(\u001b[0m\u001b[0mhex_to_rgb\u001b[0m\u001b[1;33m(\u001b[0m\u001b[0mcolor\u001b[0m\u001b[1;33m)\u001b[0m\u001b[1;33m,\u001b[0m \u001b[0malpha\u001b[0m\u001b[1;33m)\u001b[0m\u001b[1;33m\u001b[0m\u001b[1;33m\u001b[0m\u001b[0m\n\u001b[0m\u001b[0;32m     53\u001b[0m \u001b[1;33m\u001b[0m\u001b[0m\n\u001b[0;32m     54\u001b[0m \u001b[1;33m\u001b[0m\u001b[0m\n",
          "\u001b[1;32m~\\AppData\\Local\\Continuum\\anaconda3\\lib\\site-packages\\cufflinks\\colors.py\u001b[0m in \u001b[0;36mhex_to_rgb\u001b[1;34m(color)\u001b[0m\n\u001b[0;32m     66\u001b[0m             \u001b[0mhex_to_rgb\u001b[0m\u001b[1;33m(\u001b[0m\u001b[1;34m'#f03'\u001b[0m\u001b[1;33m)\u001b[0m\u001b[1;33m\u001b[0m\u001b[1;33m\u001b[0m\u001b[0m\n\u001b[0;32m     67\u001b[0m     \"\"\"\n\u001b[1;32m---> 68\u001b[1;33m     \u001b[0mcolor\u001b[0m \u001b[1;33m=\u001b[0m \u001b[0mnormalize\u001b[0m\u001b[1;33m(\u001b[0m\u001b[0mcolor\u001b[0m\u001b[1;33m)\u001b[0m\u001b[1;33m\u001b[0m\u001b[1;33m\u001b[0m\u001b[0m\n\u001b[0m\u001b[0;32m     69\u001b[0m     \u001b[0mcolor\u001b[0m \u001b[1;33m=\u001b[0m \u001b[0mcolor\u001b[0m\u001b[1;33m[\u001b[0m\u001b[1;36m1\u001b[0m\u001b[1;33m:\u001b[0m\u001b[1;33m]\u001b[0m\u001b[1;33m\u001b[0m\u001b[1;33m\u001b[0m\u001b[0m\n\u001b[0;32m     70\u001b[0m     \u001b[1;31m# return 'rgb'+str(tuple(ord(c) for c in color.decode('hex')))\u001b[0m\u001b[1;33m\u001b[0m\u001b[1;33m\u001b[0m\u001b[1;33m\u001b[0m\u001b[0m\n",
          "\u001b[1;32m~\\AppData\\Local\\Continuum\\anaconda3\\lib\\site-packages\\cufflinks\\colors.py\u001b[0m in \u001b[0;36mnormalize\u001b[1;34m(color)\u001b[0m\n\u001b[0;32m    100\u001b[0m             \u001b[1;32mreturn\u001b[0m \u001b[0mnormalize\u001b[0m\u001b[1;33m(\u001b[0m\u001b[0mcnames\u001b[0m\u001b[1;33m[\u001b[0m\u001b[0mcolor\u001b[0m\u001b[1;33m.\u001b[0m\u001b[0mlower\u001b[0m\u001b[1;33m(\u001b[0m\u001b[1;33m)\u001b[0m\u001b[1;33m]\u001b[0m\u001b[1;33m)\u001b[0m\u001b[1;33m\u001b[0m\u001b[1;33m\u001b[0m\u001b[0m\n\u001b[0;32m    101\u001b[0m         \u001b[1;32mexcept\u001b[0m\u001b[1;33m:\u001b[0m\u001b[1;33m\u001b[0m\u001b[1;33m\u001b[0m\u001b[0m\n\u001b[1;32m--> 102\u001b[1;33m             \u001b[1;32mraise\u001b[0m \u001b[0mCufflinksError\u001b[0m\u001b[1;33m(\u001b[0m\u001b[1;34m'Not a valid color: '\u001b[0m \u001b[1;33m+\u001b[0m \u001b[0mcolor\u001b[0m\u001b[1;33m)\u001b[0m\u001b[1;33m\u001b[0m\u001b[1;33m\u001b[0m\u001b[0m\n\u001b[0m\u001b[0;32m    103\u001b[0m \u001b[1;33m\u001b[0m\u001b[0m\n\u001b[0;32m    104\u001b[0m \u001b[1;33m\u001b[0m\u001b[0m\n",
          "\u001b[1;31mCufflinksError\u001b[0m: Not a valid color: region"
         ]
        }
       ]
      }
     },
     "245918a5acca4c98893509379c3bef58": {
      "model_module": "@jupyter-widgets/output",
      "model_module_version": "1.0.0",
      "model_name": "OutputModel",
      "state": {
       "layout": "IPY_MODEL_1669d91210354d229071949f196b503b",
       "outputs": [
        {
         "data": {
          "application/vnd.plotly.v1+json": {
           "config": {
            "linkText": "Export to plot.ly",
            "plotlyServerURL": "https://plot.ly",
            "responsive": true,
            "showLink": true
           },
           "data": [
            {
             "marker": {
              "color": "rgba(84, 48, 5, 1.0)",
              "line": {
               "width": 1.3
              },
              "opacity": 0.8,
              "size": [
               112,
               108,
               107,
               106,
               106,
               106,
               103,
               101,
               98,
               97,
               96,
               96,
               94,
               90,
               88,
               83,
               80,
               76,
               70,
               69,
               61
              ],
              "symbol": "circle"
             },
             "mode": "markers",
             "name": "Western Europe",
             "textfont": {
              "color": "#666666"
             },
             "type": "scatter",
             "uid": "6817e023-108e-49f4-924c-aa2bfea3197f",
             "x": [
              71.80000051,
              72.10000102,
              73.09999847,
              73,
              72.19999949,
              73.80000051,
              72.5,
              72.69999949,
              72.59999847,
              72.10000102,
              72.19999949,
              71.89999898,
              71.80000051,
              72.19999695,
              73.60000102,
              74.10000102,
              73.39999898,
              73.5,
              72.09121704,
              72.19999949,
              72.19999949
             ],
             "y": [
              7.769,
              7.6,
              7.5539999999999985,
              7.494,
              7.487999999999999,
              7.48,
              7.343,
              7.246,
              7.09,
              7.0539999999999985,
              7.021,
              6.985,
              6.922999999999999,
              6.726,
              6.5920000000000005,
              6.354,
              6.223,
              6.046,
              5.718,
              5.693,
              5.287000000000001
             ]
            },
            {
             "marker": {
              "color": "rgba(140, 81, 10, 1.0)",
              "line": {
               "width": 1.3
              },
              "opacity": 0.8,
              "size": [
               102,
               102,
               100,
               94
              ],
              "symbol": "circle"
             },
             "mode": "markers",
             "name": "North America and ANZ",
             "textfont": {
              "color": "#666666"
             },
             "type": "scatter",
             "uid": "a2ed8a0a-42c7-4f2e-a98c-9f6f2b96b928",
             "x": [
              73,
              73.39999898,
              73.30000051,
              68.40000153
             ],
             "y": [
              7.307,
              7.278,
              7.228,
              6.892
             ]
            },
            {
             "marker": {
              "color": "rgba(191, 129, 45, 1.0)",
              "line": {
               "width": 1.3
              },
              "opacity": 0.8,
              "size": [
               99,
               88,
               85,
               84,
               82,
               82,
               81,
               81,
               79,
               78,
               78,
               77,
               76,
               73,
               73,
               71,
               70,
               69,
               64,
               49,
               27
              ],
              "symbol": "circle"
             },
             "mode": "markers",
             "name": "Latin America and Caribbean",
             "textfont": {
              "color": "#666666"
             },
             "type": "scatter",
             "uid": "d100c5d0-11a5-4f02-a362-636db14cc2db",
             "x": [
              71.10000102,
              68,
              69.80000051,
              64.5,
              69.5,
              66.19999949,
              68.90000153,
              65.80000051,
              62.4939821,
              67.39999898,
              67.19999949,
              68.60000102,
              68.19999949,
              66.9066658,
              67,
              63.29999924,
              65.36666785,
              67.80000051,
              65.5,
              66.30000051,
              55.5
             ],
             "y": [
              7.167000000000002,
              6.595,
              6.444,
              6.436,
              6.3210000000000015,
              6.3,
              6.292999999999998,
              6.252999999999999,
              6.192,
              6.125,
              6.105,
              6.086,
              6.028,
              5.89,
              5.86,
              5.779,
              5.7429999999999986,
              5.697,
              5.425,
              4.707,
              3.597
             ]
            },
            {
             "marker": {
              "color": "rgba(223, 194, 125, 1.0)",
              "line": {
               "width": 1.3
              },
              "opacity": 0.8,
              "size": [
               99,
               92,
               83,
               83,
               80,
               76,
               66,
               63,
               59,
               59,
               59,
               53,
               49,
               46,
               44,
               44,
               38,
               24,
               22
              ],
              "symbol": "circle"
             },
             "mode": "markers",
             "name": "Middle East and North Africa",
             "textfont": {
              "color": "#666666"
             },
             "type": "scatter",
             "uid": "d769d357-d6fa-45fb-a3d0-44a69322aac9",
             "x": [
              73.10000102,
              66.89999898,
              66,
              67.20285358,
              68.29999924,
              66.36666785,
              62.29999924,
              66.40000153,
              65.69999949,
              65.60000102,
              66.59999847,
              66.60000102,
              62.57299042,
              65.69999949,
              66.60000102,
              59.29999924,
              61.40000025,
              55.99111133,
              55.90000025
             ],
             "y": [
              7.1389999999999985,
              6.825,
              6.375,
              6.374,
              6.199,
              6.021,
              5.525,
              5.372999999999998,
              5.211,
              5.207999999999998,
              5.197,
              4.9060000000000015,
              4.6960000000000015,
              4.548,
              4.461,
              4.437,
              4.166,
              3.462,
              3.38
             ]
            },
            {
             "marker": {
              "color": "rgba(246, 232, 195, 1.0)",
              "line": {
               "width": 1.3
              },
              "opacity": 0.8,
              "size": [
               93,
               80,
               79,
               79,
               78,
               78,
               77,
               74,
               73,
               71,
               67,
               66,
               64,
               63,
               61,
               55,
               49
              ],
              "symbol": "circle"
             },
             "mode": "markers",
             "name": "Central and Eastern Europe",
             "textfont": {
              "color": "#666666"
             },
             "type": "scatter",
             "uid": "02dd41b5-52d3-463b-ba1b-e5aaaba45845",
             "x": [
              69.80000305,
              68.60000102,
              68.63333384,
              66.69999949,
              70.80000051,
              64.87929281,
              66.89999898,
              66.5,
              68.39999898,
              66.9333335,
              67.80000051,
              68.30000051,
              69.59999847,
              67.5,
              67.30000051,
              66.60000102,
              68.39999898
             ],
             "y": [
              6.852,
              6.198,
              6.182,
              6.149,
              6.1179999999999986,
              6.1,
              6.07,
              5.94,
              5.893,
              5.757999999999999,
              5.603,
              5.523,
              5.432,
              5.386,
              5.274,
              5.011,
              4.7189999999999985
             ]
            },
            {
             "marker": {
              "color": "rgba(199, 234, 229, 1.0)",
              "line": {
               "width": 1.3
              },
              "opacity": 0.8,
              "size": [
               85,
               73,
               73,
               64,
               61,
               59
              ],
              "symbol": "circle"
             },
             "mode": "markers",
             "name": "East Asia",
             "textfont": {
              "color": "#666666"
             },
             "type": "scatter",
             "uid": "3a087963-4f69-4566-a330-f90c08f817ff",
             "x": [
              71.4327,
              73.30000051,
              74.90000153,
              75.9304123,
              62.09999975,
              69
             ],
             "y": [
              6.4460000000000015,
              5.895,
              5.886,
              5.43,
              5.285,
              5.191
             ]
            },
            {
             "marker": {
              "color": "rgba(128, 205, 193, 1.0)",
              "line": {
               "width": 1.3
              },
              "opacity": 0.8,
              "size": [
               81,
               76,
               68,
               62,
               59,
               59,
               51,
               49,
               42
              ],
              "symbol": "circle"
             },
             "mode": "markers",
             "name": "Southeast Asia",
             "textfont": {
              "color": "#666666"
             },
             "type": "scatter",
             "uid": "53b31269-0ca4-45dc-abe4-ad45db5aed3f",
             "x": [
              76.5,
              67,
              61.80000051,
              67,
              61.90000025,
              67.69999949,
              57.86666616,
              61.19999949,
              58.70000076
             ],
             "y": [
              6.2620000000000005,
              6.007999999999999,
              5.631,
              5.339,
              5.192,
              5.175,
              4.796,
              4.7,
              4.36
             ]
            },
            {
             "marker": {
              "color": "rgba(53, 151, 143, 1.0)",
              "line": {
               "width": 1.3
              },
              "opacity": 0.8,
              "size": [
               79,
               72,
               68,
               66,
               65,
               62,
               60,
               60,
               59,
               46,
               45,
               42
              ],
              "symbol": "circle"
             },
             "mode": "markers",
             "name": "Commonwealth of Independent States",
             "textfont": {
              "color": "#666666"
             },
             "type": "scatter",
             "uid": "492c47d8-85cd-40ad-ae86-0c4af637ebe7",
             "x": [
              64.80000051,
              64,
              63.90000153,
              64.30000051,
              63.64999962,
              65.80000051,
              63.79999924,
              61.80000051,
              65.19999949,
              66.60000102,
              64.69999949,
              64.30000051
             ],
             "y": [
              6.174,
              5.809,
              5.648,
              5.529,
              5.4670000000000005,
              5.323,
              5.261,
              5.247000000000001,
              5.207999999999998,
              4.559,
              4.519,
              4.332
             ]
            },
            {
             "marker": {
              "color": "rgba(1, 102, 94, 1.0)",
              "line": {
               "width": 1.3
              },
              "opacity": 0.8,
              "size": [
               73,
               61,
               56,
               55,
               54,
               53,
               51,
               51,
               50,
               49,
               48,
               48,
               48,
               47,
               46,
               45,
               45,
               45,
               44,
               43,
               43,
               42,
               42,
               41,
               39,
               39,
               37,
               37,
               34,
               34,
               33,
               31,
               30,
               28,
               24,
               23,
               21,
               19,
               16,
               12
              ],
              "symbol": "circle"
             },
             "mode": "markers",
             "name": "Sub-Saharan Africa",
             "textfont": {
              "color": "#666666"
             },
             "type": "scatter",
             "uid": "6eac2338-9a0a-4095-9a89-622b38e79edf",
             "x": [
              66.10000102,
              49.30000051,
              51.90000025,
              56.60000039,
              48.90000026,
              53.90000026,
              57.30000051,
              59.20000076,
              56.09999974,
              59.19999949,
              50,
              55.95333354,
              53,
              53.40000153,
              53.30000051,
              54.85000038,
              59.5,
              56.70000076,
              52.86666743,
              52.70000077,
              51.20000076,
              49.19999949,
              47.70000076,
              58,
              57.7,
              55.30000051,
              54.79999924,
              54.30000051,
              55.29999924,
              55.85333379,
              58.69999949,
              46.94999886,
              53.40000153,
              55,
              58.20000076,
              56.90000025,
              60.5,
              57,
              45.05000115,
              50.79999924
             ],
             "y": [
              5.888,
              5.265,
              5.044,
              4.996,
              4.944,
              4.883,
              4.812,
              4.799,
              4.722,
              4.681,
              4.668,
              4.6389999999999985,
              4.628,
              4.587,
              4.534,
              4.516,
              4.509,
              4.49,
              4.466,
              4.418,
              4.39,
              4.374,
              4.35,
              4.2860000000000005,
              4.212,
              4.189,
              4.107,
              4.085,
              3.975,
              3.973,
              3.933,
              3.802,
              3.775,
              3.663,
              3.488,
              3.41,
              3.334,
              3.2310000000000003,
              3.083,
              2.853
             ]
            },
            {
             "marker": {
              "color": "rgba(0, 60, 48, 1.0)",
              "line": {
               "width": 1.3
              },
              "opacity": 0.8,
              "size": [
               68,
               57,
               53,
               44,
               42,
               35,
               19
              ],
              "symbol": "circle"
             },
             "mode": "markers",
             "name": "South Asia",
             "textfont": {
              "color": "#666666"
             },
             "type": "scatter",
             "uid": "064353cc-d9bc-43d5-9c55-68d5c2713231",
             "x": [
              58.09999974,
              60.05000072,
              62.40000026,
              63.80000051,
              67.09999848,
              59.69999949,
              52.79999924
             ],
             "y": [
              5.653,
              5.082,
              4.913,
              4.456,
              4.3660000000000005,
              4.015,
              3.2030000000000003
             ]
            }
           ],
           "layout": {
            "legend": {
             "bgcolor": "#FFFFFF",
             "font": {
              "color": "#666666"
             }
            },
            "paper_bgcolor": "#FFFFFF",
            "plot_bgcolor": "#E5E5E5",
            "title": {
             "font": {
              "color": "#151516"
             },
             "text": "Happiness Score vs Healthy Life Expectancy At Birth"
            },
            "xaxis": {
             "gridcolor": "#F6F6F6",
             "showgrid": true,
             "tickfont": {
              "color": "#666666"
             },
             "title": {
              "font": {
               "color": "#666666"
              },
              "text": "Healthy Life Expectancy At Birth"
             },
             "zerolinecolor": "#F6F6F6"
            },
            "yaxis": {
             "gridcolor": "#F6F6F6",
             "showgrid": true,
             "tickfont": {
              "color": "#666666"
             },
             "title": {
              "font": {
               "color": "#666666"
              },
              "text": "Happiness Score"
             },
             "zerolinecolor": "#F6F6F6"
            }
           }
          },
          "text/html": "<div>\n        \n        \n            <div id=\"3b171ca2-28d0-4b29-a159-723856e92e6f\" class=\"plotly-graph-div\"></div>\n            <script type=\"text/javascript\">\n                require([\"plotly\"], function(Plotly) {\n                    window.PLOTLYENV=window.PLOTLYENV || {};\n                    window.PLOTLYENV.BASE_URL='https://plot.ly';\n                    \n                if (document.getElementById(\"3b171ca2-28d0-4b29-a159-723856e92e6f\")) {\n                    Plotly.newPlot(\n                        '3b171ca2-28d0-4b29-a159-723856e92e6f',\n                        [{\"marker\": {\"color\": \"rgba(84, 48, 5, 1.0)\", \"line\": {\"width\": 1.3}, \"opacity\": 0.8, \"size\": [112, 108, 107, 106, 106, 106, 103, 101, 98, 97, 96, 96, 94, 90, 88, 83, 80, 76, 70, 69, 61], \"symbol\": \"circle\"}, \"mode\": \"markers\", \"name\": \"Western Europe\", \"textfont\": {\"color\": \"#666666\"}, \"type\": \"scatter\", \"uid\": \"23cd5a2c-5350-47bb-b896-42a264a58be0\", \"x\": [71.80000051, 72.10000102, 73.09999847, 73.0, 72.19999949, 73.80000051, 72.5, 72.69999949, 72.59999847, 72.10000102, 72.19999949, 71.89999898, 71.80000051, 72.19999695, 73.60000102, 74.10000102, 73.39999898, 73.5, 72.09121704, 72.19999949, 72.19999949], \"y\": [7.769, 7.6, 7.5539999999999985, 7.494, 7.487999999999999, 7.48, 7.343, 7.246, 7.09, 7.0539999999999985, 7.021, 6.985, 6.922999999999999, 6.726, 6.5920000000000005, 6.354, 6.223, 6.046, 5.718, 5.693, 5.287000000000001]}, {\"marker\": {\"color\": \"rgba(140, 81, 10, 1.0)\", \"line\": {\"width\": 1.3}, \"opacity\": 0.8, \"size\": [102, 102, 100, 94], \"symbol\": \"circle\"}, \"mode\": \"markers\", \"name\": \"North America and ANZ\", \"textfont\": {\"color\": \"#666666\"}, \"type\": \"scatter\", \"uid\": \"ba9ff0cb-cf7e-4e9f-89a9-6eaf2164461d\", \"x\": [73.0, 73.39999898, 73.30000051, 68.40000153], \"y\": [7.307, 7.278, 7.228, 6.892]}, {\"marker\": {\"color\": \"rgba(191, 129, 45, 1.0)\", \"line\": {\"width\": 1.3}, \"opacity\": 0.8, \"size\": [99, 88, 85, 84, 82, 82, 81, 81, 79, 78, 78, 77, 76, 73, 73, 71, 70, 69, 64, 49, 27], \"symbol\": \"circle\"}, \"mode\": \"markers\", \"name\": \"Latin America and Caribbean\", \"textfont\": {\"color\": \"#666666\"}, \"type\": \"scatter\", \"uid\": \"1ff0cc99-7c59-4ded-aae5-129aaa53434c\", \"x\": [71.10000102, 68.0, 69.80000051, 64.5, 69.5, 66.19999949, 68.90000153, 65.80000051, 62.4939821, 67.39999898, 67.19999949, 68.60000102, 68.19999949, 66.9066658, 67.0, 63.29999924, 65.36666785, 67.80000051, 65.5, 66.30000051, 55.5], \"y\": [7.167000000000002, 6.595, 6.444, 6.436, 6.3210000000000015, 6.3, 6.292999999999998, 6.252999999999999, 6.192, 6.125, 6.105, 6.086, 6.028, 5.89, 5.86, 5.779, 5.7429999999999986, 5.697, 5.425, 4.707, 3.597]}, {\"marker\": {\"color\": \"rgba(223, 194, 125, 1.0)\", \"line\": {\"width\": 1.3}, \"opacity\": 0.8, \"size\": [99, 92, 83, 83, 80, 76, 66, 63, 59, 59, 59, 53, 49, 46, 44, 44, 38, 24, 22], \"symbol\": \"circle\"}, \"mode\": \"markers\", \"name\": \"Middle East and North Africa\", \"textfont\": {\"color\": \"#666666\"}, \"type\": \"scatter\", \"uid\": \"7da7a82e-0f66-479e-94ea-aa64da7d022e\", \"x\": [73.10000102, 66.89999898, 66.0, 67.20285358, 68.29999924, 66.36666785, 62.29999924, 66.40000153, 65.69999949, 65.60000102, 66.59999847, 66.60000102, 62.57299042, 65.69999949, 66.60000102, 59.29999924, 61.40000025, 55.99111133, 55.90000025], \"y\": [7.1389999999999985, 6.825, 6.375, 6.374, 6.199, 6.021, 5.525, 5.372999999999998, 5.211, 5.207999999999998, 5.197, 4.9060000000000015, 4.6960000000000015, 4.548, 4.461, 4.437, 4.166, 3.462, 3.38]}, {\"marker\": {\"color\": \"rgba(246, 232, 195, 1.0)\", \"line\": {\"width\": 1.3}, \"opacity\": 0.8, \"size\": [93, 80, 79, 79, 78, 78, 77, 74, 73, 71, 67, 66, 64, 63, 61, 55, 49], \"symbol\": \"circle\"}, \"mode\": \"markers\", \"name\": \"Central and Eastern Europe\", \"textfont\": {\"color\": \"#666666\"}, \"type\": \"scatter\", \"uid\": \"c2f86610-1106-4da7-b258-8c4ca1d6a045\", \"x\": [69.80000305, 68.60000102, 68.63333384, 66.69999949, 70.80000051, 64.87929281, 66.89999898, 66.5, 68.39999898, 66.9333335, 67.80000051, 68.30000051, 69.59999847, 67.5, 67.30000051, 66.60000102, 68.39999898], \"y\": [6.852, 6.198, 6.182, 6.149, 6.1179999999999986, 6.1, 6.07, 5.94, 5.893, 5.757999999999999, 5.603, 5.523, 5.432, 5.386, 5.274, 5.011, 4.7189999999999985]}, {\"marker\": {\"color\": \"rgba(199, 234, 229, 1.0)\", \"line\": {\"width\": 1.3}, \"opacity\": 0.8, \"size\": [85, 73, 73, 64, 61, 59], \"symbol\": \"circle\"}, \"mode\": \"markers\", \"name\": \"East Asia\", \"textfont\": {\"color\": \"#666666\"}, \"type\": \"scatter\", \"uid\": \"7425efa1-c772-470a-a325-30cbdc9158f4\", \"x\": [71.4327, 73.30000051, 74.90000153, 75.9304123, 62.09999975, 69.0], \"y\": [6.4460000000000015, 5.895, 5.886, 5.43, 5.285, 5.191]}, {\"marker\": {\"color\": \"rgba(128, 205, 193, 1.0)\", \"line\": {\"width\": 1.3}, \"opacity\": 0.8, \"size\": [81, 76, 68, 62, 59, 59, 51, 49, 42], \"symbol\": \"circle\"}, \"mode\": \"markers\", \"name\": \"Southeast Asia\", \"textfont\": {\"color\": \"#666666\"}, \"type\": \"scatter\", \"uid\": \"f73e23fc-42a1-450b-ab54-b079b9f689a2\", \"x\": [76.5, 67.0, 61.80000051, 67.0, 61.90000025, 67.69999949, 57.86666616, 61.19999949, 58.70000076], \"y\": [6.2620000000000005, 6.007999999999999, 5.631, 5.339, 5.192, 5.175, 4.796, 4.7, 4.36]}, {\"marker\": {\"color\": \"rgba(53, 151, 143, 1.0)\", \"line\": {\"width\": 1.3}, \"opacity\": 0.8, \"size\": [79, 72, 68, 66, 65, 62, 60, 60, 59, 46, 45, 42], \"symbol\": \"circle\"}, \"mode\": \"markers\", \"name\": \"Commonwealth of Independent States\", \"textfont\": {\"color\": \"#666666\"}, \"type\": \"scatter\", \"uid\": \"9ec3c5a5-36c4-4d1b-a43a-e5c960362f7c\", \"x\": [64.80000051, 64.0, 63.90000153, 64.30000051, 63.64999962, 65.80000051, 63.79999924, 61.80000051, 65.19999949, 66.60000102, 64.69999949, 64.30000051], \"y\": [6.174, 5.809, 5.648, 5.529, 5.4670000000000005, 5.323, 5.261, 5.247000000000001, 5.207999999999998, 4.559, 4.519, 4.332]}, {\"marker\": {\"color\": \"rgba(1, 102, 94, 1.0)\", \"line\": {\"width\": 1.3}, \"opacity\": 0.8, \"size\": [73, 61, 56, 55, 54, 53, 51, 51, 50, 49, 48, 48, 48, 47, 46, 45, 45, 45, 44, 43, 43, 42, 42, 41, 39, 39, 37, 37, 34, 34, 33, 31, 30, 28, 24, 23, 21, 19, 16, 12], \"symbol\": \"circle\"}, \"mode\": \"markers\", \"name\": \"Sub-Saharan Africa\", \"textfont\": {\"color\": \"#666666\"}, \"type\": \"scatter\", \"uid\": \"e5ce9dcb-b06d-4e5b-8631-cc180700e98c\", \"x\": [66.10000102, 49.30000051, 51.90000025, 56.60000039, 48.90000026, 53.90000026, 57.30000051, 59.20000076, 56.09999974, 59.19999949, 50.0, 55.95333354, 53.0, 53.40000153, 53.30000051, 54.85000038, 59.5, 56.70000076, 52.86666743, 52.70000077, 51.20000076, 49.19999949, 47.70000076, 58.0, 57.7, 55.30000051, 54.79999924, 54.30000051, 55.29999924, 55.85333379, 58.69999949, 46.94999886, 53.40000153, 55.0, 58.20000076, 56.90000025, 60.5, 57.0, 45.05000115, 50.79999924], \"y\": [5.888, 5.265, 5.044, 4.996, 4.944, 4.883, 4.812, 4.799, 4.722, 4.681, 4.668, 4.6389999999999985, 4.628, 4.587, 4.534, 4.516, 4.509, 4.49, 4.466, 4.418, 4.39, 4.374, 4.35, 4.2860000000000005, 4.212, 4.189, 4.107, 4.085, 3.975, 3.973, 3.933, 3.802, 3.775, 3.663, 3.488, 3.41, 3.334, 3.2310000000000003, 3.083, 2.853]}, {\"marker\": {\"color\": \"rgba(0, 60, 48, 1.0)\", \"line\": {\"width\": 1.3}, \"opacity\": 0.8, \"size\": [68, 57, 53, 44, 42, 35, 19], \"symbol\": \"circle\"}, \"mode\": \"markers\", \"name\": \"South Asia\", \"textfont\": {\"color\": \"#666666\"}, \"type\": \"scatter\", \"uid\": \"f2e9bb84-dffc-47a5-9cab-c411a538ff5e\", \"x\": [58.09999974, 60.05000072, 62.40000026, 63.80000051, 67.09999848, 59.69999949, 52.79999924], \"y\": [5.653, 5.082, 4.913, 4.456, 4.3660000000000005, 4.015, 3.2030000000000003]}],\n                        {\"legend\": {\"bgcolor\": \"#FFFFFF\", \"font\": {\"color\": \"#666666\"}}, \"paper_bgcolor\": \"#FFFFFF\", \"plot_bgcolor\": \"#E5E5E5\", \"title\": {\"font\": {\"color\": \"#151516\"}, \"text\": \"Happiness Score vs Healthy Life Expectancy At Birth\"}, \"xaxis\": {\"gridcolor\": \"#F6F6F6\", \"showgrid\": true, \"tickfont\": {\"color\": \"#666666\"}, \"title\": {\"font\": {\"color\": \"#666666\"}, \"text\": \"Healthy Life Expectancy At Birth\"}, \"zerolinecolor\": \"#F6F6F6\"}, \"yaxis\": {\"gridcolor\": \"#F6F6F6\", \"showgrid\": true, \"tickfont\": {\"color\": \"#666666\"}, \"title\": {\"font\": {\"color\": \"#666666\"}, \"text\": \"Happiness Score\"}, \"zerolinecolor\": \"#F6F6F6\"}},\n                        {\"showLink\": true, \"linkText\": \"Export to plot.ly\", \"plotlyServerURL\": \"https://plot.ly\", \"responsive\": true}\n                    )\n                };\n                });\n            </script>\n        </div>"
         },
         "metadata": {},
         "output_type": "display_data"
        }
       ]
      }
     },
     "246c5752b934418fa8402efc46f8e17f": {
      "model_module": "@jupyter-widgets/controls",
      "model_module_version": "1.4.0",
      "model_name": "DropdownModel",
      "state": {
       "_options_labels": [
        "Life Ladder",
        "Log GDP per capita",
        "Social support",
        "Healthy life expectancy at birth",
        "Freedom to make life choices",
        "Generosity",
        "Perceptions of corruption",
        "Positive affect",
        "Negative affect",
        "Confidence in national government",
        "Democratic Quality",
        "Delivery Quality",
        "GINI of household income reported in Gallup, by wp5-year"
       ],
       "description": "y",
       "index": 0,
       "layout": "IPY_MODEL_2d6039f297fa4f0faa54a808edbc38a8",
       "style": "IPY_MODEL_3fad5789f69a42c4a88f4dd8f10d8d36"
      }
     },
     "2485990c23294fe2bea26bd7d42a98ae": {
      "model_module": "@jupyter-widgets/base",
      "model_module_version": "1.1.0",
      "model_name": "LayoutModel",
      "state": {}
     },
     "258fd373f7bb4e608b2ec3f20ac47858": {
      "model_module": "@jupyter-widgets/base",
      "model_module_version": "1.1.0",
      "model_name": "LayoutModel",
      "state": {}
     },
     "25ecc9fe24034c4d88d510dd72bca3b4": {
      "model_module": "@jupyter-widgets/controls",
      "model_module_version": "1.4.0",
      "model_name": "VBoxModel",
      "state": {
       "_dom_classes": [
        "widget-interact"
       ],
       "children": [
        "IPY_MODEL_828492c143a043eba797c955ca6cd30f",
        "IPY_MODEL_56374d5cc3f64065b8bdc7602c523190",
        "IPY_MODEL_a13477dca5e54e0182732726765b78b4",
        "IPY_MODEL_ac385ea30add436ab54cc882400672cc",
        "IPY_MODEL_69ef5ec5829a4c8e8f448a09175ebee5"
       ],
       "layout": "IPY_MODEL_b1c179f55217456fa3fc0eec65243917"
      }
     },
     "2690d5c6c2324f5fae44aa539cfa8635": {
      "model_module": "@jupyter-widgets/controls",
      "model_module_version": "1.4.0",
      "model_name": "DescriptionStyleModel",
      "state": {
       "description_width": ""
      }
     },
     "26cc89e51fe746aa86fc18cdfe04fa5f": {
      "model_module": "@jupyter-widgets/output",
      "model_module_version": "1.0.0",
      "model_name": "OutputModel",
      "state": {
       "layout": "IPY_MODEL_c1f156412a994410ad2b6cc372ad39b9",
       "outputs": [
        {
         "data": {
          "application/vnd.plotly.v1+json": {
           "config": {
            "linkText": "Export to plot.ly",
            "plotlyServerURL": "https://plot.ly",
            "responsive": true,
            "showLink": true
           },
           "data": [
            {
             "marker": {
              "color": "rgba(31, 119, 180, 1.0)",
              "line": {
               "width": 1.3
              },
              "opacity": 0.8,
              "size": 12,
              "symbol": "circle"
             },
             "mode": "markers",
             "name": "Western Europe",
             "textfont": {
              "color": "#A4A4A4"
             },
             "type": "scatter",
             "uid": "5649cbb6-f774-4d2a-97b8-decc3d77eb38",
             "x": [
              71.80000051,
              72.10000102,
              73.09999847,
              73,
              72.19999949,
              73.80000051,
              72.5,
              72.69999949,
              72.59999847,
              72.10000102,
              72.19999949,
              71.89999898,
              71.80000051,
              72.19999695,
              73.60000102,
              74.10000102,
              73.39999898,
              73.5,
              72.09121704,
              72.19999949,
              72.19999949
             ],
             "y": [
              7.769,
              7.6,
              7.5539999999999985,
              7.494,
              7.487999999999999,
              7.48,
              7.343,
              7.246,
              7.09,
              7.0539999999999985,
              7.021,
              6.985,
              6.922999999999999,
              6.726,
              6.5920000000000005,
              6.354,
              6.223,
              6.046,
              5.718,
              5.693,
              5.287000000000001
             ]
            },
            {
             "marker": {
              "color": "rgba(255, 127, 14, 1.0)",
              "line": {
               "width": 1.3
              },
              "opacity": 0.8,
              "size": 12,
              "symbol": "circle"
             },
             "mode": "markers",
             "name": "North America and ANZ",
             "textfont": {
              "color": "#A4A4A4"
             },
             "type": "scatter",
             "uid": "3ad61472-34a2-454f-896f-acd3959198af",
             "x": [
              73,
              73.39999898,
              73.30000051,
              68.40000153
             ],
             "y": [
              7.307,
              7.278,
              7.228,
              6.892
             ]
            },
            {
             "marker": {
              "color": "rgba(44, 160, 44, 1.0)",
              "line": {
               "width": 1.3
              },
              "opacity": 0.8,
              "size": 12,
              "symbol": "circle"
             },
             "mode": "markers",
             "name": "Latin America and Caribbean",
             "textfont": {
              "color": "#A4A4A4"
             },
             "type": "scatter",
             "uid": "aa217e07-1d6b-4a4f-96ac-0309ccfb3157",
             "x": [
              71.10000102,
              68,
              69.80000051,
              64.5,
              69.5,
              66.19999949,
              68.90000153,
              65.80000051,
              62.4939821,
              67.39999898,
              67.19999949,
              68.60000102,
              68.19999949,
              66.9066658,
              67,
              63.29999924,
              65.36666785,
              67.80000051,
              65.5,
              66.30000051,
              55.5
             ],
             "y": [
              7.167000000000002,
              6.595,
              6.444,
              6.436,
              6.3210000000000015,
              6.3,
              6.292999999999998,
              6.252999999999999,
              6.192,
              6.125,
              6.105,
              6.086,
              6.028,
              5.89,
              5.86,
              5.779,
              5.7429999999999986,
              5.697,
              5.425,
              4.707,
              3.597
             ]
            },
            {
             "marker": {
              "color": "rgba(214, 39, 40, 1.0)",
              "line": {
               "width": 1.3
              },
              "opacity": 0.8,
              "size": 12,
              "symbol": "circle"
             },
             "mode": "markers",
             "name": "Middle East and North Africa",
             "textfont": {
              "color": "#A4A4A4"
             },
             "type": "scatter",
             "uid": "cd78259f-f163-46d1-be3f-8c0f0bf3f985",
             "x": [
              73.10000102,
              66.89999898,
              66,
              67.20285358,
              68.29999924,
              66.36666785,
              62.29999924,
              66.40000153,
              65.69999949,
              65.60000102,
              66.59999847,
              66.60000102,
              62.57299042,
              65.69999949,
              66.60000102,
              59.29999924,
              61.40000025,
              55.99111133,
              55.90000025
             ],
             "y": [
              7.1389999999999985,
              6.825,
              6.375,
              6.374,
              6.199,
              6.021,
              5.525,
              5.372999999999998,
              5.211,
              5.207999999999998,
              5.197,
              4.9060000000000015,
              4.6960000000000015,
              4.548,
              4.461,
              4.437,
              4.166,
              3.462,
              3.38
             ]
            },
            {
             "marker": {
              "color": "rgba(148, 103, 189, 1.0)",
              "line": {
               "width": 1.3
              },
              "opacity": 0.8,
              "size": 12,
              "symbol": "circle"
             },
             "mode": "markers",
             "name": "Central and Eastern Europe",
             "textfont": {
              "color": "#A4A4A4"
             },
             "type": "scatter",
             "uid": "49c1c843-ee54-44d1-b904-f562b5023be0",
             "x": [
              69.80000305,
              68.60000102,
              68.63333384,
              66.69999949,
              70.80000051,
              64.87929281,
              66.89999898,
              66.5,
              68.39999898,
              66.9333335,
              67.80000051,
              68.30000051,
              69.59999847,
              67.5,
              67.30000051,
              66.60000102,
              68.39999898
             ],
             "y": [
              6.852,
              6.198,
              6.182,
              6.149,
              6.1179999999999986,
              6.1,
              6.07,
              5.94,
              5.893,
              5.757999999999999,
              5.603,
              5.523,
              5.432,
              5.386,
              5.274,
              5.011,
              4.7189999999999985
             ]
            },
            {
             "marker": {
              "color": "rgba(140, 86, 75, 1.0)",
              "line": {
               "width": 1.3
              },
              "opacity": 0.8,
              "size": 12,
              "symbol": "circle"
             },
             "mode": "markers",
             "name": "East Asia",
             "textfont": {
              "color": "#A4A4A4"
             },
             "type": "scatter",
             "uid": "c1e71274-b7d8-42e1-b069-615f1b588108",
             "x": [
              71.4327,
              73.30000051,
              74.90000153,
              75.9304123,
              62.09999975,
              69
             ],
             "y": [
              6.4460000000000015,
              5.895,
              5.886,
              5.43,
              5.285,
              5.191
             ]
            },
            {
             "marker": {
              "color": "rgba(227, 119, 194, 1.0)",
              "line": {
               "width": 1.3
              },
              "opacity": 0.8,
              "size": 12,
              "symbol": "circle"
             },
             "mode": "markers",
             "name": "Southeast Asia",
             "textfont": {
              "color": "#A4A4A4"
             },
             "type": "scatter",
             "uid": "322071f3-6581-4e04-a8cf-91ca650a8596",
             "x": [
              76.5,
              67,
              61.80000051,
              67,
              61.90000025,
              67.69999949,
              57.86666616,
              61.19999949,
              58.70000076
             ],
             "y": [
              6.2620000000000005,
              6.007999999999999,
              5.631,
              5.339,
              5.192,
              5.175,
              4.796,
              4.7,
              4.36
             ]
            },
            {
             "marker": {
              "color": "rgba(127, 127, 127, 1.0)",
              "line": {
               "width": 1.3
              },
              "opacity": 0.8,
              "size": 12,
              "symbol": "circle"
             },
             "mode": "markers",
             "name": "Commonwealth of Independent States",
             "textfont": {
              "color": "#A4A4A4"
             },
             "type": "scatter",
             "uid": "16e1e5a6-955a-46c8-9dfe-ad131173bca0",
             "x": [
              64.80000051,
              64,
              63.90000153,
              64.30000051,
              63.64999962,
              65.80000051,
              63.79999924,
              61.80000051,
              65.19999949,
              66.60000102,
              64.69999949,
              64.30000051
             ],
             "y": [
              6.174,
              5.809,
              5.648,
              5.529,
              5.4670000000000005,
              5.323,
              5.261,
              5.247000000000001,
              5.207999999999998,
              4.559,
              4.519,
              4.332
             ]
            },
            {
             "marker": {
              "color": "rgba(188, 189, 34, 1.0)",
              "line": {
               "width": 1.3
              },
              "opacity": 0.8,
              "size": 12,
              "symbol": "circle"
             },
             "mode": "markers",
             "name": "Sub-Saharan Africa",
             "textfont": {
              "color": "#A4A4A4"
             },
             "type": "scatter",
             "uid": "88489062-f33e-4781-bc2c-5f1be0d0ee0d",
             "x": [
              66.10000102,
              49.30000051,
              51.90000025,
              56.60000039,
              48.90000026,
              53.90000026,
              57.30000051,
              59.20000076,
              56.09999974,
              59.19999949,
              50,
              55.95333354,
              53,
              53.40000153,
              53.30000051,
              54.85000038,
              59.5,
              56.70000076,
              52.86666743,
              52.70000077,
              51.20000076,
              49.19999949,
              47.70000076,
              58,
              57.7,
              55.30000051,
              54.79999924,
              54.30000051,
              55.29999924,
              55.85333379,
              58.69999949,
              46.94999886,
              53.40000153,
              55,
              58.20000076,
              56.90000025,
              60.5,
              57,
              45.05000115,
              50.79999924
             ],
             "y": [
              5.888,
              5.265,
              5.044,
              4.996,
              4.944,
              4.883,
              4.812,
              4.799,
              4.722,
              4.681,
              4.668,
              4.6389999999999985,
              4.628,
              4.587,
              4.534,
              4.516,
              4.509,
              4.49,
              4.466,
              4.418,
              4.39,
              4.374,
              4.35,
              4.2860000000000005,
              4.212,
              4.189,
              4.107,
              4.085,
              3.975,
              3.973,
              3.933,
              3.802,
              3.775,
              3.663,
              3.488,
              3.41,
              3.334,
              3.2310000000000003,
              3.083,
              2.853
             ]
            },
            {
             "marker": {
              "color": "rgba(23, 190, 207, 1.0)",
              "line": {
               "width": 1.3
              },
              "opacity": 0.8,
              "size": 12,
              "symbol": "circle"
             },
             "mode": "markers",
             "name": "South Asia",
             "textfont": {
              "color": "#A4A4A4"
             },
             "type": "scatter",
             "uid": "4c831116-f7bd-4470-8086-a6399690eae6",
             "x": [
              58.09999974,
              60.05000072,
              62.40000026,
              63.80000051,
              67.09999848,
              59.69999949,
              52.79999924
             ],
             "y": [
              5.653,
              5.082,
              4.913,
              4.456,
              4.3660000000000005,
              4.015,
              3.2030000000000003
             ]
            }
           ],
           "layout": {
            "legend": {
             "bgcolor": "#242424",
             "font": {
              "color": "#F4F4F4"
             }
            },
            "paper_bgcolor": "#242424",
            "plot_bgcolor": "#242424",
            "title": {
             "font": {
              "color": "#F4F4F4"
             },
             "text": "Happiness Score vs Healthy Life Expectancy At Birth"
            },
            "xaxis": {
             "gridcolor": "#343434",
             "showgrid": true,
             "tickfont": {
              "color": "#A4A4A4"
             },
             "title": {
              "font": {
               "color": "#A4A4A4"
              },
              "text": "Healthy Life Expectancy At Birth"
             },
             "zerolinecolor": "#444444"
            },
            "yaxis": {
             "gridcolor": "#343434",
             "showgrid": true,
             "tickfont": {
              "color": "#A4A4A4"
             },
             "title": {
              "font": {
               "color": "#A4A4A4"
              },
              "text": "Happiness Score"
             },
             "zerolinecolor": "#444444"
            }
           }
          },
          "text/html": "<div>\n        \n        \n            <div id=\"09b7eaf2-ec36-4917-980e-ab6318d6ec1c\" class=\"plotly-graph-div\"></div>\n            <script type=\"text/javascript\">\n                require([\"plotly\"], function(Plotly) {\n                    window.PLOTLYENV=window.PLOTLYENV || {};\n                    window.PLOTLYENV.BASE_URL='https://plot.ly';\n                    \n                if (document.getElementById(\"09b7eaf2-ec36-4917-980e-ab6318d6ec1c\")) {\n                    Plotly.newPlot(\n                        '09b7eaf2-ec36-4917-980e-ab6318d6ec1c',\n                        [{\"marker\": {\"color\": \"rgba(31, 119, 180, 1.0)\", \"line\": {\"width\": 1.3}, \"opacity\": 0.8, \"size\": 12, \"symbol\": \"circle\"}, \"mode\": \"markers\", \"name\": \"Western Europe\", \"textfont\": {\"color\": \"#A4A4A4\"}, \"type\": \"scatter\", \"uid\": \"744c466a-9bee-4115-aa08-bfe8fa81978a\", \"x\": [71.80000051, 72.10000102, 73.09999847, 73.0, 72.19999949, 73.80000051, 72.5, 72.69999949, 72.59999847, 72.10000102, 72.19999949, 71.89999898, 71.80000051, 72.19999695, 73.60000102, 74.10000102, 73.39999898, 73.5, 72.09121704, 72.19999949, 72.19999949], \"y\": [7.769, 7.6, 7.5539999999999985, 7.494, 7.487999999999999, 7.48, 7.343, 7.246, 7.09, 7.0539999999999985, 7.021, 6.985, 6.922999999999999, 6.726, 6.5920000000000005, 6.354, 6.223, 6.046, 5.718, 5.693, 5.287000000000001]}, {\"marker\": {\"color\": \"rgba(255, 127, 14, 1.0)\", \"line\": {\"width\": 1.3}, \"opacity\": 0.8, \"size\": 12, \"symbol\": \"circle\"}, \"mode\": \"markers\", \"name\": \"North America and ANZ\", \"textfont\": {\"color\": \"#A4A4A4\"}, \"type\": \"scatter\", \"uid\": \"755c3628-8980-4337-9085-0f3986fca5db\", \"x\": [73.0, 73.39999898, 73.30000051, 68.40000153], \"y\": [7.307, 7.278, 7.228, 6.892]}, {\"marker\": {\"color\": \"rgba(44, 160, 44, 1.0)\", \"line\": {\"width\": 1.3}, \"opacity\": 0.8, \"size\": 12, \"symbol\": \"circle\"}, \"mode\": \"markers\", \"name\": \"Latin America and Caribbean\", \"textfont\": {\"color\": \"#A4A4A4\"}, \"type\": \"scatter\", \"uid\": \"46d30530-8be5-4748-b16a-b16f8243696a\", \"x\": [71.10000102, 68.0, 69.80000051, 64.5, 69.5, 66.19999949, 68.90000153, 65.80000051, 62.4939821, 67.39999898, 67.19999949, 68.60000102, 68.19999949, 66.9066658, 67.0, 63.29999924, 65.36666785, 67.80000051, 65.5, 66.30000051, 55.5], \"y\": [7.167000000000002, 6.595, 6.444, 6.436, 6.3210000000000015, 6.3, 6.292999999999998, 6.252999999999999, 6.192, 6.125, 6.105, 6.086, 6.028, 5.89, 5.86, 5.779, 5.7429999999999986, 5.697, 5.425, 4.707, 3.597]}, {\"marker\": {\"color\": \"rgba(214, 39, 40, 1.0)\", \"line\": {\"width\": 1.3}, \"opacity\": 0.8, \"size\": 12, \"symbol\": \"circle\"}, \"mode\": \"markers\", \"name\": \"Middle East and North Africa\", \"textfont\": {\"color\": \"#A4A4A4\"}, \"type\": \"scatter\", \"uid\": \"f45c0c03-25f7-4197-8738-0f491200ffe5\", \"x\": [73.10000102, 66.89999898, 66.0, 67.20285358, 68.29999924, 66.36666785, 62.29999924, 66.40000153, 65.69999949, 65.60000102, 66.59999847, 66.60000102, 62.57299042, 65.69999949, 66.60000102, 59.29999924, 61.40000025, 55.99111133, 55.90000025], \"y\": [7.1389999999999985, 6.825, 6.375, 6.374, 6.199, 6.021, 5.525, 5.372999999999998, 5.211, 5.207999999999998, 5.197, 4.9060000000000015, 4.6960000000000015, 4.548, 4.461, 4.437, 4.166, 3.462, 3.38]}, {\"marker\": {\"color\": \"rgba(148, 103, 189, 1.0)\", \"line\": {\"width\": 1.3}, \"opacity\": 0.8, \"size\": 12, \"symbol\": \"circle\"}, \"mode\": \"markers\", \"name\": \"Central and Eastern Europe\", \"textfont\": {\"color\": \"#A4A4A4\"}, \"type\": \"scatter\", \"uid\": \"ea69bb37-dcc8-4901-87ec-fe264aee185e\", \"x\": [69.80000305, 68.60000102, 68.63333384, 66.69999949, 70.80000051, 64.87929281, 66.89999898, 66.5, 68.39999898, 66.9333335, 67.80000051, 68.30000051, 69.59999847, 67.5, 67.30000051, 66.60000102, 68.39999898], \"y\": [6.852, 6.198, 6.182, 6.149, 6.1179999999999986, 6.1, 6.07, 5.94, 5.893, 5.757999999999999, 5.603, 5.523, 5.432, 5.386, 5.274, 5.011, 4.7189999999999985]}, {\"marker\": {\"color\": \"rgba(140, 86, 75, 1.0)\", \"line\": {\"width\": 1.3}, \"opacity\": 0.8, \"size\": 12, \"symbol\": \"circle\"}, \"mode\": \"markers\", \"name\": \"East Asia\", \"textfont\": {\"color\": \"#A4A4A4\"}, \"type\": \"scatter\", \"uid\": \"36c0e855-a5b6-4de3-8ea4-56a247c36976\", \"x\": [71.4327, 73.30000051, 74.90000153, 75.9304123, 62.09999975, 69.0], \"y\": [6.4460000000000015, 5.895, 5.886, 5.43, 5.285, 5.191]}, {\"marker\": {\"color\": \"rgba(227, 119, 194, 1.0)\", \"line\": {\"width\": 1.3}, \"opacity\": 0.8, \"size\": 12, \"symbol\": \"circle\"}, \"mode\": \"markers\", \"name\": \"Southeast Asia\", \"textfont\": {\"color\": \"#A4A4A4\"}, \"type\": \"scatter\", \"uid\": \"e5b55e8d-98c0-4e00-ada9-b87a674df85d\", \"x\": [76.5, 67.0, 61.80000051, 67.0, 61.90000025, 67.69999949, 57.86666616, 61.19999949, 58.70000076], \"y\": [6.2620000000000005, 6.007999999999999, 5.631, 5.339, 5.192, 5.175, 4.796, 4.7, 4.36]}, {\"marker\": {\"color\": \"rgba(127, 127, 127, 1.0)\", \"line\": {\"width\": 1.3}, \"opacity\": 0.8, \"size\": 12, \"symbol\": \"circle\"}, \"mode\": \"markers\", \"name\": \"Commonwealth of Independent States\", \"textfont\": {\"color\": \"#A4A4A4\"}, \"type\": \"scatter\", \"uid\": \"1024500f-1170-4975-9c30-1d2d8c9b8fe1\", \"x\": [64.80000051, 64.0, 63.90000153, 64.30000051, 63.64999962, 65.80000051, 63.79999924, 61.80000051, 65.19999949, 66.60000102, 64.69999949, 64.30000051], \"y\": [6.174, 5.809, 5.648, 5.529, 5.4670000000000005, 5.323, 5.261, 5.247000000000001, 5.207999999999998, 4.559, 4.519, 4.332]}, {\"marker\": {\"color\": \"rgba(188, 189, 34, 1.0)\", \"line\": {\"width\": 1.3}, \"opacity\": 0.8, \"size\": 12, \"symbol\": \"circle\"}, \"mode\": \"markers\", \"name\": \"Sub-Saharan Africa\", \"textfont\": {\"color\": \"#A4A4A4\"}, \"type\": \"scatter\", \"uid\": \"32ff0b93-055e-4cec-a523-331bab80febe\", \"x\": [66.10000102, 49.30000051, 51.90000025, 56.60000039, 48.90000026, 53.90000026, 57.30000051, 59.20000076, 56.09999974, 59.19999949, 50.0, 55.95333354, 53.0, 53.40000153, 53.30000051, 54.85000038, 59.5, 56.70000076, 52.86666743, 52.70000077, 51.20000076, 49.19999949, 47.70000076, 58.0, 57.7, 55.30000051, 54.79999924, 54.30000051, 55.29999924, 55.85333379, 58.69999949, 46.94999886, 53.40000153, 55.0, 58.20000076, 56.90000025, 60.5, 57.0, 45.05000115, 50.79999924], \"y\": [5.888, 5.265, 5.044, 4.996, 4.944, 4.883, 4.812, 4.799, 4.722, 4.681, 4.668, 4.6389999999999985, 4.628, 4.587, 4.534, 4.516, 4.509, 4.49, 4.466, 4.418, 4.39, 4.374, 4.35, 4.2860000000000005, 4.212, 4.189, 4.107, 4.085, 3.975, 3.973, 3.933, 3.802, 3.775, 3.663, 3.488, 3.41, 3.334, 3.2310000000000003, 3.083, 2.853]}, {\"marker\": {\"color\": \"rgba(23, 190, 207, 1.0)\", \"line\": {\"width\": 1.3}, \"opacity\": 0.8, \"size\": 12, \"symbol\": \"circle\"}, \"mode\": \"markers\", \"name\": \"South Asia\", \"textfont\": {\"color\": \"#A4A4A4\"}, \"type\": \"scatter\", \"uid\": \"d06f81ff-71c6-4122-a581-aa7a7c2f755c\", \"x\": [58.09999974, 60.05000072, 62.40000026, 63.80000051, 67.09999848, 59.69999949, 52.79999924], \"y\": [5.653, 5.082, 4.913, 4.456, 4.3660000000000005, 4.015, 3.2030000000000003]}],\n                        {\"legend\": {\"bgcolor\": \"#242424\", \"font\": {\"color\": \"#F4F4F4\"}}, \"paper_bgcolor\": \"#242424\", \"plot_bgcolor\": \"#242424\", \"title\": {\"font\": {\"color\": \"#F4F4F4\"}, \"text\": \"Happiness Score vs Healthy Life Expectancy At Birth\"}, \"xaxis\": {\"gridcolor\": \"#343434\", \"showgrid\": true, \"tickfont\": {\"color\": \"#A4A4A4\"}, \"title\": {\"font\": {\"color\": \"#A4A4A4\"}, \"text\": \"Healthy Life Expectancy At Birth\"}, \"zerolinecolor\": \"#444444\"}, \"yaxis\": {\"gridcolor\": \"#343434\", \"showgrid\": true, \"tickfont\": {\"color\": \"#A4A4A4\"}, \"title\": {\"font\": {\"color\": \"#A4A4A4\"}, \"text\": \"Happiness Score\"}, \"zerolinecolor\": \"#444444\"}},\n                        {\"showLink\": true, \"linkText\": \"Export to plot.ly\", \"plotlyServerURL\": \"https://plot.ly\", \"responsive\": true}\n                    )\n                };\n                });\n            </script>\n        </div>"
         },
         "metadata": {},
         "output_type": "display_data"
        }
       ]
      }
     },
     "276b4a88fc304f1c8d8d2563f6601cf4": {
      "model_module": "@jupyter-widgets/base",
      "model_module_version": "1.1.0",
      "model_name": "LayoutModel",
      "state": {}
     },
     "2788d5a700644e3db90ca4327da3b07a": {
      "model_module": "@jupyter-widgets/controls",
      "model_module_version": "1.4.0",
      "model_name": "DescriptionStyleModel",
      "state": {
       "description_width": ""
      }
     },
     "28d18e2307f147438e87214acffd9e79": {
      "model_module": "@jupyter-widgets/base",
      "model_module_version": "1.1.0",
      "model_name": "LayoutModel",
      "state": {}
     },
     "291f58c7177347c7ad7600d9bfccb1c0": {
      "model_module": "@jupyter-widgets/controls",
      "model_module_version": "1.4.0",
      "model_name": "VBoxModel",
      "state": {
       "_dom_classes": [
        "widget-interact"
       ],
       "children": [
        "IPY_MODEL_e59f6851012c46c082703fe322d88975",
        "IPY_MODEL_7a0806a758cd403abb432c1209d5bdcf",
        "IPY_MODEL_9d7af75bd3cb4219a4cdcf441dd7580e"
       ],
       "layout": "IPY_MODEL_391f8f37e0de483cb3a2418bd08ad913"
      }
     },
     "2938ccde795f4487b1363bf1e8dd924f": {
      "model_module": "@jupyter-widgets/controls",
      "model_module_version": "1.4.0",
      "model_name": "DropdownModel",
      "state": {
       "_options_labels": [
        "Happiness Score",
        "Life Ladder",
        "Log GDP per capita",
        "Social support",
        "Healthy life expectancy at birth",
        "Freedom to make life choices",
        "Generosity",
        "Perceptions of corruption",
        "Positive affect",
        "Negative affect",
        "Confidence in national government",
        "Democratic Quality",
        "Delivery Quality",
        "GINI of household income reported in Gallup, by wp5-year"
       ],
       "description": "y",
       "index": 0,
       "layout": "IPY_MODEL_20ba1e4825d5450aad845a75f66b5fe1",
       "style": "IPY_MODEL_76e4654a53254a219dea24254ff39fec"
      }
     },
     "2a22d8ae67f54ab29a55029da80ca2f0": {
      "model_module": "@jupyter-widgets/base",
      "model_module_version": "1.1.0",
      "model_name": "LayoutModel",
      "state": {}
     },
     "2b660bde3abb4bfdb6cb14fe71a5f32a": {
      "model_module": "@jupyter-widgets/controls",
      "model_module_version": "1.4.0",
      "model_name": "DescriptionStyleModel",
      "state": {
       "description_width": ""
      }
     },
     "2c1f998ed1584ac7b6770194d1e778da": {
      "model_module": "@jupyter-widgets/output",
      "model_module_version": "1.0.0",
      "model_name": "OutputModel",
      "state": {
       "layout": "IPY_MODEL_36a5c6dfb8fd4a509330bb41a89f69ec",
       "outputs": [
        {
         "ename": "KeyError",
         "evalue": "12",
         "output_type": "error",
         "traceback": [
          "\u001b[1;31m---------------------------------------------------------------------------\u001b[0m",
          "\u001b[1;31mKeyError\u001b[0m                                  Traceback (most recent call last)",
          "\u001b[1;32m~\\AppData\\Local\\Continuum\\anaconda3\\lib\\site-packages\\pandas\\core\\indexes\\base.py\u001b[0m in \u001b[0;36mget_loc\u001b[1;34m(self, key, method, tolerance)\u001b[0m\n\u001b[0;32m   3077\u001b[0m             \u001b[1;32mtry\u001b[0m\u001b[1;33m:\u001b[0m\u001b[1;33m\u001b[0m\u001b[1;33m\u001b[0m\u001b[0m\n\u001b[1;32m-> 3078\u001b[1;33m                 \u001b[1;32mreturn\u001b[0m \u001b[0mself\u001b[0m\u001b[1;33m.\u001b[0m\u001b[0m_engine\u001b[0m\u001b[1;33m.\u001b[0m\u001b[0mget_loc\u001b[0m\u001b[1;33m(\u001b[0m\u001b[0mkey\u001b[0m\u001b[1;33m)\u001b[0m\u001b[1;33m\u001b[0m\u001b[1;33m\u001b[0m\u001b[0m\n\u001b[0m\u001b[0;32m   3079\u001b[0m             \u001b[1;32mexcept\u001b[0m \u001b[0mKeyError\u001b[0m\u001b[1;33m:\u001b[0m\u001b[1;33m\u001b[0m\u001b[1;33m\u001b[0m\u001b[0m\n",
          "\u001b[1;32mpandas\\_libs\\index.pyx\u001b[0m in \u001b[0;36mpandas._libs.index.IndexEngine.get_loc\u001b[1;34m()\u001b[0m\n",
          "\u001b[1;32mpandas\\_libs\\index.pyx\u001b[0m in \u001b[0;36mpandas._libs.index.IndexEngine.get_loc\u001b[1;34m()\u001b[0m\n",
          "\u001b[1;32mpandas\\_libs\\hashtable_class_helper.pxi\u001b[0m in \u001b[0;36mpandas._libs.hashtable.PyObjectHashTable.get_item\u001b[1;34m()\u001b[0m\n",
          "\u001b[1;32mpandas\\_libs\\hashtable_class_helper.pxi\u001b[0m in \u001b[0;36mpandas._libs.hashtable.PyObjectHashTable.get_item\u001b[1;34m()\u001b[0m\n",
          "\u001b[1;31mKeyError\u001b[0m: 12",
          "\nDuring handling of the above exception, another exception occurred:\n",
          "\u001b[1;31mKeyError\u001b[0m                                  Traceback (most recent call last)",
          "\u001b[1;32m~\\AppData\\Local\\Continuum\\anaconda3\\lib\\site-packages\\ipywidgets\\widgets\\interaction.py\u001b[0m in \u001b[0;36mupdate\u001b[1;34m(self, *args)\u001b[0m\n\u001b[0;32m    249\u001b[0m                     \u001b[0mvalue\u001b[0m \u001b[1;33m=\u001b[0m \u001b[0mwidget\u001b[0m\u001b[1;33m.\u001b[0m\u001b[0mget_interact_value\u001b[0m\u001b[1;33m(\u001b[0m\u001b[1;33m)\u001b[0m\u001b[1;33m\u001b[0m\u001b[1;33m\u001b[0m\u001b[0m\n\u001b[0;32m    250\u001b[0m                     \u001b[0mself\u001b[0m\u001b[1;33m.\u001b[0m\u001b[0mkwargs\u001b[0m\u001b[1;33m[\u001b[0m\u001b[0mwidget\u001b[0m\u001b[1;33m.\u001b[0m\u001b[0m_kwarg\u001b[0m\u001b[1;33m]\u001b[0m \u001b[1;33m=\u001b[0m \u001b[0mvalue\u001b[0m\u001b[1;33m\u001b[0m\u001b[1;33m\u001b[0m\u001b[0m\n\u001b[1;32m--> 251\u001b[1;33m                 \u001b[0mself\u001b[0m\u001b[1;33m.\u001b[0m\u001b[0mresult\u001b[0m \u001b[1;33m=\u001b[0m \u001b[0mself\u001b[0m\u001b[1;33m.\u001b[0m\u001b[0mf\u001b[0m\u001b[1;33m(\u001b[0m\u001b[1;33m**\u001b[0m\u001b[0mself\u001b[0m\u001b[1;33m.\u001b[0m\u001b[0mkwargs\u001b[0m\u001b[1;33m)\u001b[0m\u001b[1;33m\u001b[0m\u001b[1;33m\u001b[0m\u001b[0m\n\u001b[0m\u001b[0;32m    252\u001b[0m                 \u001b[0mshow_inline_matplotlib_plots\u001b[0m\u001b[1;33m(\u001b[0m\u001b[1;33m)\u001b[0m\u001b[1;33m\u001b[0m\u001b[1;33m\u001b[0m\u001b[0m\n\u001b[0;32m    253\u001b[0m                 \u001b[1;32mif\u001b[0m \u001b[0mself\u001b[0m\u001b[1;33m.\u001b[0m\u001b[0mauto_display\u001b[0m \u001b[1;32mand\u001b[0m \u001b[0mself\u001b[0m\u001b[1;33m.\u001b[0m\u001b[0mresult\u001b[0m \u001b[1;32mis\u001b[0m \u001b[1;32mnot\u001b[0m \u001b[1;32mNone\u001b[0m\u001b[1;33m:\u001b[0m\u001b[1;33m\u001b[0m\u001b[1;33m\u001b[0m\u001b[0m\n",
          "\u001b[1;32m<ipython-input-33-7f419e40ede4>\u001b[0m in \u001b[0;36mbubble_plot\u001b[1;34m(y, x, theme, colorscale)\u001b[0m\n\u001b[0;32m      8\u001b[0m                   \u001b[0mxTitle\u001b[0m\u001b[1;33m=\u001b[0m\u001b[0mx\u001b[0m\u001b[1;33m.\u001b[0m\u001b[0mtitle\u001b[0m\u001b[1;33m(\u001b[0m\u001b[1;33m)\u001b[0m\u001b[1;33m,\u001b[0m \u001b[0myTitle\u001b[0m\u001b[1;33m=\u001b[0m\u001b[0my\u001b[0m\u001b[1;33m.\u001b[0m\u001b[0mtitle\u001b[0m\u001b[1;33m(\u001b[0m\u001b[1;33m)\u001b[0m\u001b[1;33m,\u001b[0m\u001b[1;33m\u001b[0m\u001b[1;33m\u001b[0m\u001b[0m\n\u001b[0;32m      9\u001b[0m                   \u001b[0mtitle\u001b[0m \u001b[1;33m=\u001b[0m \u001b[1;34mf'{y.title()} vs {x.title()}'\u001b[0m\u001b[1;33m,\u001b[0m\u001b[1;33m\u001b[0m\u001b[1;33m\u001b[0m\u001b[0m\n\u001b[1;32m---> 10\u001b[1;33m                   theme=theme, colorscale=colorscale)\n\u001b[0m",
          "\u001b[1;32m~\\AppData\\Local\\Continuum\\anaconda3\\lib\\site-packages\\cufflinks\\plotlytools.py\u001b[0m in \u001b[0;36m_iplot\u001b[1;34m(self, kind, data, layout, filename, sharing, title, xTitle, yTitle, zTitle, theme, colors, colorscale, fill, width, dash, mode, interpolation, symbol, size, barmode, sortbars, bargap, bargroupgap, bins, histnorm, histfunc, orientation, boxpoints, annotations, keys, bestfit, bestfit_colors, mean, mean_colors, categories, x, y, z, text, gridcolor, zerolinecolor, margin, labels, values, secondary_y, secondary_y_title, subplots, shape, error_x, error_y, error_type, locations, lon, lat, asFrame, asDates, asFigure, asImage, dimensions, asPlot, asUrl, online, **kwargs)\u001b[0m\n\u001b[0;32m    783\u001b[0m                                                 \u001b[0m_z\u001b[0m\u001b[1;33m=\u001b[0m\u001b[0m__\u001b[0m\u001b[1;33m[\u001b[0m\u001b[0mz\u001b[0m\u001b[1;33m]\u001b[0m \u001b[1;32mif\u001b[0m \u001b[0masFrame\u001b[0m \u001b[1;32melse\u001b[0m \u001b[0m__\u001b[0m\u001b[1;33m[\u001b[0m\u001b[0mz\u001b[0m\u001b[1;33m]\u001b[0m\u001b[1;33m.\u001b[0m\u001b[0mvalues\u001b[0m\u001b[1;33m\u001b[0m\u001b[1;33m\u001b[0m\u001b[0m\n\u001b[0;32m    784\u001b[0m                                         \u001b[1;32mif\u001b[0m \u001b[1;34m'bubble'\u001b[0m \u001b[1;32min\u001b[0m \u001b[0mkind\u001b[0m\u001b[1;33m:\u001b[0m\u001b[1;33m\u001b[0m\u001b[1;33m\u001b[0m\u001b[0m\n\u001b[1;32m--> 785\u001b[1;33m                                                 \u001b[0mrg\u001b[0m\u001b[1;33m=\u001b[0m\u001b[0m__\u001b[0m\u001b[1;33m[\u001b[0m\u001b[0msize\u001b[0m\u001b[1;33m]\u001b[0m\u001b[1;33m.\u001b[0m\u001b[0mvalues\u001b[0m\u001b[1;33m\u001b[0m\u001b[1;33m\u001b[0m\u001b[0m\n\u001b[0m\u001b[0;32m    786\u001b[0m                                                 \u001b[0mrgo\u001b[0m\u001b[1;33m=\u001b[0m\u001b[0mself\u001b[0m\u001b[1;33m[\u001b[0m\u001b[0msize\u001b[0m\u001b[1;33m]\u001b[0m\u001b[1;33m.\u001b[0m\u001b[0mvalues\u001b[0m\u001b[1;33m\u001b[0m\u001b[1;33m\u001b[0m\u001b[0m\n\u001b[0;32m    787\u001b[0m                                                 \u001b[1;32mif\u001b[0m \u001b[1;32mnot\u001b[0m \u001b[0mkwargs\u001b[0m\u001b[1;33m.\u001b[0m\u001b[0mget\u001b[0m\u001b[1;33m(\u001b[0m\u001b[1;34m'abs_size'\u001b[0m\u001b[1;33m,\u001b[0m\u001b[1;32mFalse\u001b[0m\u001b[1;33m)\u001b[0m\u001b[1;33m:\u001b[0m\u001b[1;33m\u001b[0m\u001b[1;33m\u001b[0m\u001b[0m\n",
          "\u001b[1;32m~\\AppData\\Local\\Continuum\\anaconda3\\lib\\site-packages\\pandas\\core\\frame.py\u001b[0m in \u001b[0;36m__getitem__\u001b[1;34m(self, key)\u001b[0m\n\u001b[0;32m   2686\u001b[0m             \u001b[1;32mreturn\u001b[0m \u001b[0mself\u001b[0m\u001b[1;33m.\u001b[0m\u001b[0m_getitem_multilevel\u001b[0m\u001b[1;33m(\u001b[0m\u001b[0mkey\u001b[0m\u001b[1;33m)\u001b[0m\u001b[1;33m\u001b[0m\u001b[1;33m\u001b[0m\u001b[0m\n\u001b[0;32m   2687\u001b[0m         \u001b[1;32melse\u001b[0m\u001b[1;33m:\u001b[0m\u001b[1;33m\u001b[0m\u001b[1;33m\u001b[0m\u001b[0m\n\u001b[1;32m-> 2688\u001b[1;33m             \u001b[1;32mreturn\u001b[0m \u001b[0mself\u001b[0m\u001b[1;33m.\u001b[0m\u001b[0m_getitem_column\u001b[0m\u001b[1;33m(\u001b[0m\u001b[0mkey\u001b[0m\u001b[1;33m)\u001b[0m\u001b[1;33m\u001b[0m\u001b[1;33m\u001b[0m\u001b[0m\n\u001b[0m\u001b[0;32m   2689\u001b[0m \u001b[1;33m\u001b[0m\u001b[0m\n\u001b[0;32m   2690\u001b[0m     \u001b[1;32mdef\u001b[0m \u001b[0m_getitem_column\u001b[0m\u001b[1;33m(\u001b[0m\u001b[0mself\u001b[0m\u001b[1;33m,\u001b[0m \u001b[0mkey\u001b[0m\u001b[1;33m)\u001b[0m\u001b[1;33m:\u001b[0m\u001b[1;33m\u001b[0m\u001b[1;33m\u001b[0m\u001b[0m\n",
          "\u001b[1;32m~\\AppData\\Local\\Continuum\\anaconda3\\lib\\site-packages\\pandas\\core\\frame.py\u001b[0m in \u001b[0;36m_getitem_column\u001b[1;34m(self, key)\u001b[0m\n\u001b[0;32m   2693\u001b[0m         \u001b[1;31m# get column\u001b[0m\u001b[1;33m\u001b[0m\u001b[1;33m\u001b[0m\u001b[1;33m\u001b[0m\u001b[0m\n\u001b[0;32m   2694\u001b[0m         \u001b[1;32mif\u001b[0m \u001b[0mself\u001b[0m\u001b[1;33m.\u001b[0m\u001b[0mcolumns\u001b[0m\u001b[1;33m.\u001b[0m\u001b[0mis_unique\u001b[0m\u001b[1;33m:\u001b[0m\u001b[1;33m\u001b[0m\u001b[1;33m\u001b[0m\u001b[0m\n\u001b[1;32m-> 2695\u001b[1;33m             \u001b[1;32mreturn\u001b[0m \u001b[0mself\u001b[0m\u001b[1;33m.\u001b[0m\u001b[0m_get_item_cache\u001b[0m\u001b[1;33m(\u001b[0m\u001b[0mkey\u001b[0m\u001b[1;33m)\u001b[0m\u001b[1;33m\u001b[0m\u001b[1;33m\u001b[0m\u001b[0m\n\u001b[0m\u001b[0;32m   2696\u001b[0m \u001b[1;33m\u001b[0m\u001b[0m\n\u001b[0;32m   2697\u001b[0m         \u001b[1;31m# duplicate columns & possible reduce dimensionality\u001b[0m\u001b[1;33m\u001b[0m\u001b[1;33m\u001b[0m\u001b[1;33m\u001b[0m\u001b[0m\n",
          "\u001b[1;32m~\\AppData\\Local\\Continuum\\anaconda3\\lib\\site-packages\\pandas\\core\\generic.py\u001b[0m in \u001b[0;36m_get_item_cache\u001b[1;34m(self, item)\u001b[0m\n\u001b[0;32m   2487\u001b[0m         \u001b[0mres\u001b[0m \u001b[1;33m=\u001b[0m \u001b[0mcache\u001b[0m\u001b[1;33m.\u001b[0m\u001b[0mget\u001b[0m\u001b[1;33m(\u001b[0m\u001b[0mitem\u001b[0m\u001b[1;33m)\u001b[0m\u001b[1;33m\u001b[0m\u001b[1;33m\u001b[0m\u001b[0m\n\u001b[0;32m   2488\u001b[0m         \u001b[1;32mif\u001b[0m \u001b[0mres\u001b[0m \u001b[1;32mis\u001b[0m \u001b[1;32mNone\u001b[0m\u001b[1;33m:\u001b[0m\u001b[1;33m\u001b[0m\u001b[1;33m\u001b[0m\u001b[0m\n\u001b[1;32m-> 2489\u001b[1;33m             \u001b[0mvalues\u001b[0m \u001b[1;33m=\u001b[0m \u001b[0mself\u001b[0m\u001b[1;33m.\u001b[0m\u001b[0m_data\u001b[0m\u001b[1;33m.\u001b[0m\u001b[0mget\u001b[0m\u001b[1;33m(\u001b[0m\u001b[0mitem\u001b[0m\u001b[1;33m)\u001b[0m\u001b[1;33m\u001b[0m\u001b[1;33m\u001b[0m\u001b[0m\n\u001b[0m\u001b[0;32m   2490\u001b[0m             \u001b[0mres\u001b[0m \u001b[1;33m=\u001b[0m \u001b[0mself\u001b[0m\u001b[1;33m.\u001b[0m\u001b[0m_box_item_values\u001b[0m\u001b[1;33m(\u001b[0m\u001b[0mitem\u001b[0m\u001b[1;33m,\u001b[0m \u001b[0mvalues\u001b[0m\u001b[1;33m)\u001b[0m\u001b[1;33m\u001b[0m\u001b[1;33m\u001b[0m\u001b[0m\n\u001b[0;32m   2491\u001b[0m             \u001b[0mcache\u001b[0m\u001b[1;33m[\u001b[0m\u001b[0mitem\u001b[0m\u001b[1;33m]\u001b[0m \u001b[1;33m=\u001b[0m \u001b[0mres\u001b[0m\u001b[1;33m\u001b[0m\u001b[1;33m\u001b[0m\u001b[0m\n",
          "\u001b[1;32m~\\AppData\\Local\\Continuum\\anaconda3\\lib\\site-packages\\pandas\\core\\internals.py\u001b[0m in \u001b[0;36mget\u001b[1;34m(self, item, fastpath)\u001b[0m\n\u001b[0;32m   4113\u001b[0m \u001b[1;33m\u001b[0m\u001b[0m\n\u001b[0;32m   4114\u001b[0m             \u001b[1;32mif\u001b[0m \u001b[1;32mnot\u001b[0m \u001b[0misna\u001b[0m\u001b[1;33m(\u001b[0m\u001b[0mitem\u001b[0m\u001b[1;33m)\u001b[0m\u001b[1;33m:\u001b[0m\u001b[1;33m\u001b[0m\u001b[1;33m\u001b[0m\u001b[0m\n\u001b[1;32m-> 4115\u001b[1;33m                 \u001b[0mloc\u001b[0m \u001b[1;33m=\u001b[0m \u001b[0mself\u001b[0m\u001b[1;33m.\u001b[0m\u001b[0mitems\u001b[0m\u001b[1;33m.\u001b[0m\u001b[0mget_loc\u001b[0m\u001b[1;33m(\u001b[0m\u001b[0mitem\u001b[0m\u001b[1;33m)\u001b[0m\u001b[1;33m\u001b[0m\u001b[1;33m\u001b[0m\u001b[0m\n\u001b[0m\u001b[0;32m   4116\u001b[0m             \u001b[1;32melse\u001b[0m\u001b[1;33m:\u001b[0m\u001b[1;33m\u001b[0m\u001b[1;33m\u001b[0m\u001b[0m\n\u001b[0;32m   4117\u001b[0m                 \u001b[0mindexer\u001b[0m \u001b[1;33m=\u001b[0m \u001b[0mnp\u001b[0m\u001b[1;33m.\u001b[0m\u001b[0marange\u001b[0m\u001b[1;33m(\u001b[0m\u001b[0mlen\u001b[0m\u001b[1;33m(\u001b[0m\u001b[0mself\u001b[0m\u001b[1;33m.\u001b[0m\u001b[0mitems\u001b[0m\u001b[1;33m)\u001b[0m\u001b[1;33m)\u001b[0m\u001b[1;33m[\u001b[0m\u001b[0misna\u001b[0m\u001b[1;33m(\u001b[0m\u001b[0mself\u001b[0m\u001b[1;33m.\u001b[0m\u001b[0mitems\u001b[0m\u001b[1;33m)\u001b[0m\u001b[1;33m]\u001b[0m\u001b[1;33m\u001b[0m\u001b[1;33m\u001b[0m\u001b[0m\n",
          "\u001b[1;32m~\\AppData\\Local\\Continuum\\anaconda3\\lib\\site-packages\\pandas\\core\\indexes\\base.py\u001b[0m in \u001b[0;36mget_loc\u001b[1;34m(self, key, method, tolerance)\u001b[0m\n\u001b[0;32m   3078\u001b[0m                 \u001b[1;32mreturn\u001b[0m \u001b[0mself\u001b[0m\u001b[1;33m.\u001b[0m\u001b[0m_engine\u001b[0m\u001b[1;33m.\u001b[0m\u001b[0mget_loc\u001b[0m\u001b[1;33m(\u001b[0m\u001b[0mkey\u001b[0m\u001b[1;33m)\u001b[0m\u001b[1;33m\u001b[0m\u001b[1;33m\u001b[0m\u001b[0m\n\u001b[0;32m   3079\u001b[0m             \u001b[1;32mexcept\u001b[0m \u001b[0mKeyError\u001b[0m\u001b[1;33m:\u001b[0m\u001b[1;33m\u001b[0m\u001b[1;33m\u001b[0m\u001b[0m\n\u001b[1;32m-> 3080\u001b[1;33m                 \u001b[1;32mreturn\u001b[0m \u001b[0mself\u001b[0m\u001b[1;33m.\u001b[0m\u001b[0m_engine\u001b[0m\u001b[1;33m.\u001b[0m\u001b[0mget_loc\u001b[0m\u001b[1;33m(\u001b[0m\u001b[0mself\u001b[0m\u001b[1;33m.\u001b[0m\u001b[0m_maybe_cast_indexer\u001b[0m\u001b[1;33m(\u001b[0m\u001b[0mkey\u001b[0m\u001b[1;33m)\u001b[0m\u001b[1;33m)\u001b[0m\u001b[1;33m\u001b[0m\u001b[1;33m\u001b[0m\u001b[0m\n\u001b[0m\u001b[0;32m   3081\u001b[0m \u001b[1;33m\u001b[0m\u001b[0m\n\u001b[0;32m   3082\u001b[0m         \u001b[0mindexer\u001b[0m \u001b[1;33m=\u001b[0m \u001b[0mself\u001b[0m\u001b[1;33m.\u001b[0m\u001b[0mget_indexer\u001b[0m\u001b[1;33m(\u001b[0m\u001b[1;33m[\u001b[0m\u001b[0mkey\u001b[0m\u001b[1;33m]\u001b[0m\u001b[1;33m,\u001b[0m \u001b[0mmethod\u001b[0m\u001b[1;33m=\u001b[0m\u001b[0mmethod\u001b[0m\u001b[1;33m,\u001b[0m \u001b[0mtolerance\u001b[0m\u001b[1;33m=\u001b[0m\u001b[0mtolerance\u001b[0m\u001b[1;33m)\u001b[0m\u001b[1;33m\u001b[0m\u001b[1;33m\u001b[0m\u001b[0m\n",
          "\u001b[1;32mpandas\\_libs\\index.pyx\u001b[0m in \u001b[0;36mpandas._libs.index.IndexEngine.get_loc\u001b[1;34m()\u001b[0m\n",
          "\u001b[1;32mpandas\\_libs\\index.pyx\u001b[0m in \u001b[0;36mpandas._libs.index.IndexEngine.get_loc\u001b[1;34m()\u001b[0m\n",
          "\u001b[1;32mpandas\\_libs\\hashtable_class_helper.pxi\u001b[0m in \u001b[0;36mpandas._libs.hashtable.PyObjectHashTable.get_item\u001b[1;34m()\u001b[0m\n",
          "\u001b[1;32mpandas\\_libs\\hashtable_class_helper.pxi\u001b[0m in \u001b[0;36mpandas._libs.hashtable.PyObjectHashTable.get_item\u001b[1;34m()\u001b[0m\n",
          "\u001b[1;31mKeyError\u001b[0m: 12"
         ]
        }
       ]
      }
     },
     "2d2c5f71e52a470c924736288e69ebb6": {
      "model_module": "@jupyter-widgets/controls",
      "model_module_version": "1.4.0",
      "model_name": "DropdownModel",
      "state": {
       "_options_labels": [
        "ggplot",
        "pearl",
        "solar",
        "space",
        "white",
        "polar",
        "henanigans"
       ],
       "description": "theme",
       "index": 0,
       "layout": "IPY_MODEL_5d5788eadbab467a87d810156ca52b35",
       "style": "IPY_MODEL_efc90ef4477c49b0ac0058c3d8c4f36c"
      }
     },
     "2d5c38cdfaa94dc495b17c117570efbe": {
      "model_module": "@jupyter-widgets/base",
      "model_module_version": "1.1.0",
      "model_name": "LayoutModel",
      "state": {}
     },
     "2d6039f297fa4f0faa54a808edbc38a8": {
      "model_module": "@jupyter-widgets/base",
      "model_module_version": "1.1.0",
      "model_name": "LayoutModel",
      "state": {}
     },
     "2e50dc2bd98941d8b41892a5fcfe67fd": {
      "model_module": "@jupyter-widgets/controls",
      "model_module_version": "1.4.0",
      "model_name": "DescriptionStyleModel",
      "state": {
       "description_width": ""
      }
     },
     "2e5e0ef2ce75458eb088ec77211f39ca": {
      "model_module": "@jupyter-widgets/controls",
      "model_module_version": "1.4.0",
      "model_name": "DescriptionStyleModel",
      "state": {
       "description_width": ""
      }
     },
     "2ee87f602c314a44a7a0f06152d06a6a": {
      "model_module": "@jupyter-widgets/output",
      "model_module_version": "1.0.0",
      "model_name": "OutputModel",
      "state": {
       "layout": "IPY_MODEL_b0ce0024461e4e6dbf922ca9ee8a7145",
       "outputs": [
        {
         "ename": "NameError",
         "evalue": "name 'configure_plotly_browser_state' is not defined",
         "output_type": "error",
         "traceback": [
          "\u001b[1;31m---------------------------------------------------------------------------\u001b[0m",
          "\u001b[1;31mNameError\u001b[0m                                 Traceback (most recent call last)",
          "\u001b[1;32m~\\AppData\\Local\\Continuum\\anaconda3\\lib\\site-packages\\ipywidgets\\widgets\\interaction.py\u001b[0m in \u001b[0;36mupdate\u001b[1;34m(self, *args)\u001b[0m\n\u001b[0;32m    249\u001b[0m                     \u001b[0mvalue\u001b[0m \u001b[1;33m=\u001b[0m \u001b[0mwidget\u001b[0m\u001b[1;33m.\u001b[0m\u001b[0mget_interact_value\u001b[0m\u001b[1;33m(\u001b[0m\u001b[1;33m)\u001b[0m\u001b[1;33m\u001b[0m\u001b[1;33m\u001b[0m\u001b[0m\n\u001b[0;32m    250\u001b[0m                     \u001b[0mself\u001b[0m\u001b[1;33m.\u001b[0m\u001b[0mkwargs\u001b[0m\u001b[1;33m[\u001b[0m\u001b[0mwidget\u001b[0m\u001b[1;33m.\u001b[0m\u001b[0m_kwarg\u001b[0m\u001b[1;33m]\u001b[0m \u001b[1;33m=\u001b[0m \u001b[0mvalue\u001b[0m\u001b[1;33m\u001b[0m\u001b[1;33m\u001b[0m\u001b[0m\n\u001b[1;32m--> 251\u001b[1;33m                 \u001b[0mself\u001b[0m\u001b[1;33m.\u001b[0m\u001b[0mresult\u001b[0m \u001b[1;33m=\u001b[0m \u001b[0mself\u001b[0m\u001b[1;33m.\u001b[0m\u001b[0mf\u001b[0m\u001b[1;33m(\u001b[0m\u001b[1;33m**\u001b[0m\u001b[0mself\u001b[0m\u001b[1;33m.\u001b[0m\u001b[0mkwargs\u001b[0m\u001b[1;33m)\u001b[0m\u001b[1;33m\u001b[0m\u001b[1;33m\u001b[0m\u001b[0m\n\u001b[0m\u001b[0;32m    252\u001b[0m                 \u001b[0mshow_inline_matplotlib_plots\u001b[0m\u001b[1;33m(\u001b[0m\u001b[1;33m)\u001b[0m\u001b[1;33m\u001b[0m\u001b[1;33m\u001b[0m\u001b[0m\n\u001b[0;32m    253\u001b[0m                 \u001b[1;32mif\u001b[0m \u001b[0mself\u001b[0m\u001b[1;33m.\u001b[0m\u001b[0mauto_display\u001b[0m \u001b[1;32mand\u001b[0m \u001b[0mself\u001b[0m\u001b[1;33m.\u001b[0m\u001b[0mresult\u001b[0m \u001b[1;32mis\u001b[0m \u001b[1;32mnot\u001b[0m \u001b[1;32mNone\u001b[0m\u001b[1;33m:\u001b[0m\u001b[1;33m\u001b[0m\u001b[1;33m\u001b[0m\u001b[0m\n",
          "\u001b[1;32m<ipython-input-12-ae2e4f8712fd>\u001b[0m in \u001b[0;36mscatter_plot\u001b[1;34m(x, y, theme, colorscale)\u001b[0m\n\u001b[0;32m      5\u001b[0m                  colorscale = list(cufflinks.colors._scales_names.keys())):\n\u001b[0;32m      6\u001b[0m \u001b[1;33m\u001b[0m\u001b[0m\n\u001b[1;32m----> 7\u001b[1;33m     \u001b[0mconfigure_plotly_browser_state\u001b[0m\u001b[1;33m(\u001b[0m\u001b[1;33m)\u001b[0m\u001b[1;33m\u001b[0m\u001b[1;33m\u001b[0m\u001b[0m\n\u001b[0m\u001b[0;32m      8\u001b[0m     df_2019.iplot(kind = 'scatter', x=x, y=y, mode='markers', \n\u001b[0;32m      9\u001b[0m                   \u001b[0mxTitle\u001b[0m\u001b[1;33m=\u001b[0m\u001b[0mx\u001b[0m\u001b[1;33m.\u001b[0m\u001b[0mtitle\u001b[0m\u001b[1;33m(\u001b[0m\u001b[1;33m)\u001b[0m\u001b[1;33m,\u001b[0m \u001b[0myTitle\u001b[0m\u001b[1;33m=\u001b[0m\u001b[0my\u001b[0m\u001b[1;33m.\u001b[0m\u001b[0mtitle\u001b[0m\u001b[1;33m(\u001b[0m\u001b[1;33m)\u001b[0m\u001b[1;33m,\u001b[0m\u001b[1;33m\u001b[0m\u001b[1;33m\u001b[0m\u001b[0m\n",
          "\u001b[1;31mNameError\u001b[0m: name 'configure_plotly_browser_state' is not defined"
         ]
        }
       ]
      }
     },
     "2eee442c32874927aeb840b0ae9cc2d2": {
      "model_module": "@jupyter-widgets/controls",
      "model_module_version": "1.4.0",
      "model_name": "DescriptionStyleModel",
      "state": {
       "description_width": ""
      }
     },
     "2efe97ff874944b0a024b78ef58b87ff": {
      "model_module": "@jupyter-widgets/base",
      "model_module_version": "1.1.0",
      "model_name": "LayoutModel",
      "state": {}
     },
     "2f3534c90a254e97864d0e70b7c80758": {
      "model_module": "@jupyter-widgets/output",
      "model_module_version": "1.0.0",
      "model_name": "OutputModel",
      "state": {
       "layout": "IPY_MODEL_01d6e235ca804777b30aaf910ac91b80",
       "outputs": [
        {
         "ename": "KeyError",
         "evalue": "12",
         "output_type": "error",
         "traceback": [
          "\u001b[1;31m---------------------------------------------------------------------------\u001b[0m",
          "\u001b[1;31mKeyError\u001b[0m                                  Traceback (most recent call last)",
          "\u001b[1;32m~\\AppData\\Local\\Continuum\\anaconda3\\lib\\site-packages\\pandas\\core\\indexes\\base.py\u001b[0m in \u001b[0;36mget_loc\u001b[1;34m(self, key, method, tolerance)\u001b[0m\n\u001b[0;32m   3077\u001b[0m             \u001b[1;32mtry\u001b[0m\u001b[1;33m:\u001b[0m\u001b[1;33m\u001b[0m\u001b[1;33m\u001b[0m\u001b[0m\n\u001b[1;32m-> 3078\u001b[1;33m                 \u001b[1;32mreturn\u001b[0m \u001b[0mself\u001b[0m\u001b[1;33m.\u001b[0m\u001b[0m_engine\u001b[0m\u001b[1;33m.\u001b[0m\u001b[0mget_loc\u001b[0m\u001b[1;33m(\u001b[0m\u001b[0mkey\u001b[0m\u001b[1;33m)\u001b[0m\u001b[1;33m\u001b[0m\u001b[1;33m\u001b[0m\u001b[0m\n\u001b[0m\u001b[0;32m   3079\u001b[0m             \u001b[1;32mexcept\u001b[0m \u001b[0mKeyError\u001b[0m\u001b[1;33m:\u001b[0m\u001b[1;33m\u001b[0m\u001b[1;33m\u001b[0m\u001b[0m\n",
          "\u001b[1;32mpandas\\_libs\\index.pyx\u001b[0m in \u001b[0;36mpandas._libs.index.IndexEngine.get_loc\u001b[1;34m()\u001b[0m\n",
          "\u001b[1;32mpandas\\_libs\\index.pyx\u001b[0m in \u001b[0;36mpandas._libs.index.IndexEngine.get_loc\u001b[1;34m()\u001b[0m\n",
          "\u001b[1;32mpandas\\_libs\\hashtable_class_helper.pxi\u001b[0m in \u001b[0;36mpandas._libs.hashtable.PyObjectHashTable.get_item\u001b[1;34m()\u001b[0m\n",
          "\u001b[1;32mpandas\\_libs\\hashtable_class_helper.pxi\u001b[0m in \u001b[0;36mpandas._libs.hashtable.PyObjectHashTable.get_item\u001b[1;34m()\u001b[0m\n",
          "\u001b[1;31mKeyError\u001b[0m: 12",
          "\nDuring handling of the above exception, another exception occurred:\n",
          "\u001b[1;31mKeyError\u001b[0m                                  Traceback (most recent call last)",
          "\u001b[1;32m~\\AppData\\Local\\Continuum\\anaconda3\\lib\\site-packages\\ipywidgets\\widgets\\interaction.py\u001b[0m in \u001b[0;36mupdate\u001b[1;34m(self, *args)\u001b[0m\n\u001b[0;32m    249\u001b[0m                     \u001b[0mvalue\u001b[0m \u001b[1;33m=\u001b[0m \u001b[0mwidget\u001b[0m\u001b[1;33m.\u001b[0m\u001b[0mget_interact_value\u001b[0m\u001b[1;33m(\u001b[0m\u001b[1;33m)\u001b[0m\u001b[1;33m\u001b[0m\u001b[1;33m\u001b[0m\u001b[0m\n\u001b[0;32m    250\u001b[0m                     \u001b[0mself\u001b[0m\u001b[1;33m.\u001b[0m\u001b[0mkwargs\u001b[0m\u001b[1;33m[\u001b[0m\u001b[0mwidget\u001b[0m\u001b[1;33m.\u001b[0m\u001b[0m_kwarg\u001b[0m\u001b[1;33m]\u001b[0m \u001b[1;33m=\u001b[0m \u001b[0mvalue\u001b[0m\u001b[1;33m\u001b[0m\u001b[1;33m\u001b[0m\u001b[0m\n\u001b[1;32m--> 251\u001b[1;33m                 \u001b[0mself\u001b[0m\u001b[1;33m.\u001b[0m\u001b[0mresult\u001b[0m \u001b[1;33m=\u001b[0m \u001b[0mself\u001b[0m\u001b[1;33m.\u001b[0m\u001b[0mf\u001b[0m\u001b[1;33m(\u001b[0m\u001b[1;33m**\u001b[0m\u001b[0mself\u001b[0m\u001b[1;33m.\u001b[0m\u001b[0mkwargs\u001b[0m\u001b[1;33m)\u001b[0m\u001b[1;33m\u001b[0m\u001b[1;33m\u001b[0m\u001b[0m\n\u001b[0m\u001b[0;32m    252\u001b[0m                 \u001b[0mshow_inline_matplotlib_plots\u001b[0m\u001b[1;33m(\u001b[0m\u001b[1;33m)\u001b[0m\u001b[1;33m\u001b[0m\u001b[1;33m\u001b[0m\u001b[0m\n\u001b[0;32m    253\u001b[0m                 \u001b[1;32mif\u001b[0m \u001b[0mself\u001b[0m\u001b[1;33m.\u001b[0m\u001b[0mauto_display\u001b[0m \u001b[1;32mand\u001b[0m \u001b[0mself\u001b[0m\u001b[1;33m.\u001b[0m\u001b[0mresult\u001b[0m \u001b[1;32mis\u001b[0m \u001b[1;32mnot\u001b[0m \u001b[1;32mNone\u001b[0m\u001b[1;33m:\u001b[0m\u001b[1;33m\u001b[0m\u001b[1;33m\u001b[0m\u001b[0m\n",
          "\u001b[1;32m<ipython-input-32-ed8a3dc3cce6>\u001b[0m in \u001b[0;36mbubble_plot\u001b[1;34m(y, x, theme, colorscale)\u001b[0m\n\u001b[0;32m      8\u001b[0m                   \u001b[0mxTitle\u001b[0m\u001b[1;33m=\u001b[0m\u001b[0mx\u001b[0m\u001b[1;33m.\u001b[0m\u001b[0mtitle\u001b[0m\u001b[1;33m(\u001b[0m\u001b[1;33m)\u001b[0m\u001b[1;33m,\u001b[0m \u001b[0myTitle\u001b[0m\u001b[1;33m=\u001b[0m\u001b[0my\u001b[0m\u001b[1;33m.\u001b[0m\u001b[0mtitle\u001b[0m\u001b[1;33m(\u001b[0m\u001b[1;33m)\u001b[0m\u001b[1;33m,\u001b[0m\u001b[1;33m\u001b[0m\u001b[1;33m\u001b[0m\u001b[0m\n\u001b[0;32m      9\u001b[0m                   \u001b[0mtitle\u001b[0m \u001b[1;33m=\u001b[0m \u001b[1;34mf'{y.title()} vs {x.title()}'\u001b[0m\u001b[1;33m,\u001b[0m\u001b[1;33m\u001b[0m\u001b[1;33m\u001b[0m\u001b[0m\n\u001b[1;32m---> 10\u001b[1;33m                   theme=theme, colorscale=colorscale)\n\u001b[0m",
          "\u001b[1;32m~\\AppData\\Local\\Continuum\\anaconda3\\lib\\site-packages\\cufflinks\\plotlytools.py\u001b[0m in \u001b[0;36m_iplot\u001b[1;34m(self, kind, data, layout, filename, sharing, title, xTitle, yTitle, zTitle, theme, colors, colorscale, fill, width, dash, mode, interpolation, symbol, size, barmode, sortbars, bargap, bargroupgap, bins, histnorm, histfunc, orientation, boxpoints, annotations, keys, bestfit, bestfit_colors, mean, mean_colors, categories, x, y, z, text, gridcolor, zerolinecolor, margin, labels, values, secondary_y, secondary_y_title, subplots, shape, error_x, error_y, error_type, locations, lon, lat, asFrame, asDates, asFigure, asImage, dimensions, asPlot, asUrl, online, **kwargs)\u001b[0m\n\u001b[0;32m    783\u001b[0m                                                 \u001b[0m_z\u001b[0m\u001b[1;33m=\u001b[0m\u001b[0m__\u001b[0m\u001b[1;33m[\u001b[0m\u001b[0mz\u001b[0m\u001b[1;33m]\u001b[0m \u001b[1;32mif\u001b[0m \u001b[0masFrame\u001b[0m \u001b[1;32melse\u001b[0m \u001b[0m__\u001b[0m\u001b[1;33m[\u001b[0m\u001b[0mz\u001b[0m\u001b[1;33m]\u001b[0m\u001b[1;33m.\u001b[0m\u001b[0mvalues\u001b[0m\u001b[1;33m\u001b[0m\u001b[1;33m\u001b[0m\u001b[0m\n\u001b[0;32m    784\u001b[0m                                         \u001b[1;32mif\u001b[0m \u001b[1;34m'bubble'\u001b[0m \u001b[1;32min\u001b[0m \u001b[0mkind\u001b[0m\u001b[1;33m:\u001b[0m\u001b[1;33m\u001b[0m\u001b[1;33m\u001b[0m\u001b[0m\n\u001b[1;32m--> 785\u001b[1;33m                                                 \u001b[0mrg\u001b[0m\u001b[1;33m=\u001b[0m\u001b[0m__\u001b[0m\u001b[1;33m[\u001b[0m\u001b[0msize\u001b[0m\u001b[1;33m]\u001b[0m\u001b[1;33m.\u001b[0m\u001b[0mvalues\u001b[0m\u001b[1;33m\u001b[0m\u001b[1;33m\u001b[0m\u001b[0m\n\u001b[0m\u001b[0;32m    786\u001b[0m                                                 \u001b[0mrgo\u001b[0m\u001b[1;33m=\u001b[0m\u001b[0mself\u001b[0m\u001b[1;33m[\u001b[0m\u001b[0msize\u001b[0m\u001b[1;33m]\u001b[0m\u001b[1;33m.\u001b[0m\u001b[0mvalues\u001b[0m\u001b[1;33m\u001b[0m\u001b[1;33m\u001b[0m\u001b[0m\n\u001b[0;32m    787\u001b[0m                                                 \u001b[1;32mif\u001b[0m \u001b[1;32mnot\u001b[0m \u001b[0mkwargs\u001b[0m\u001b[1;33m.\u001b[0m\u001b[0mget\u001b[0m\u001b[1;33m(\u001b[0m\u001b[1;34m'abs_size'\u001b[0m\u001b[1;33m,\u001b[0m\u001b[1;32mFalse\u001b[0m\u001b[1;33m)\u001b[0m\u001b[1;33m:\u001b[0m\u001b[1;33m\u001b[0m\u001b[1;33m\u001b[0m\u001b[0m\n",
          "\u001b[1;32m~\\AppData\\Local\\Continuum\\anaconda3\\lib\\site-packages\\pandas\\core\\frame.py\u001b[0m in \u001b[0;36m__getitem__\u001b[1;34m(self, key)\u001b[0m\n\u001b[0;32m   2686\u001b[0m             \u001b[1;32mreturn\u001b[0m \u001b[0mself\u001b[0m\u001b[1;33m.\u001b[0m\u001b[0m_getitem_multilevel\u001b[0m\u001b[1;33m(\u001b[0m\u001b[0mkey\u001b[0m\u001b[1;33m)\u001b[0m\u001b[1;33m\u001b[0m\u001b[1;33m\u001b[0m\u001b[0m\n\u001b[0;32m   2687\u001b[0m         \u001b[1;32melse\u001b[0m\u001b[1;33m:\u001b[0m\u001b[1;33m\u001b[0m\u001b[1;33m\u001b[0m\u001b[0m\n\u001b[1;32m-> 2688\u001b[1;33m             \u001b[1;32mreturn\u001b[0m \u001b[0mself\u001b[0m\u001b[1;33m.\u001b[0m\u001b[0m_getitem_column\u001b[0m\u001b[1;33m(\u001b[0m\u001b[0mkey\u001b[0m\u001b[1;33m)\u001b[0m\u001b[1;33m\u001b[0m\u001b[1;33m\u001b[0m\u001b[0m\n\u001b[0m\u001b[0;32m   2689\u001b[0m \u001b[1;33m\u001b[0m\u001b[0m\n\u001b[0;32m   2690\u001b[0m     \u001b[1;32mdef\u001b[0m \u001b[0m_getitem_column\u001b[0m\u001b[1;33m(\u001b[0m\u001b[0mself\u001b[0m\u001b[1;33m,\u001b[0m \u001b[0mkey\u001b[0m\u001b[1;33m)\u001b[0m\u001b[1;33m:\u001b[0m\u001b[1;33m\u001b[0m\u001b[1;33m\u001b[0m\u001b[0m\n",
          "\u001b[1;32m~\\AppData\\Local\\Continuum\\anaconda3\\lib\\site-packages\\pandas\\core\\frame.py\u001b[0m in \u001b[0;36m_getitem_column\u001b[1;34m(self, key)\u001b[0m\n\u001b[0;32m   2693\u001b[0m         \u001b[1;31m# get column\u001b[0m\u001b[1;33m\u001b[0m\u001b[1;33m\u001b[0m\u001b[1;33m\u001b[0m\u001b[0m\n\u001b[0;32m   2694\u001b[0m         \u001b[1;32mif\u001b[0m \u001b[0mself\u001b[0m\u001b[1;33m.\u001b[0m\u001b[0mcolumns\u001b[0m\u001b[1;33m.\u001b[0m\u001b[0mis_unique\u001b[0m\u001b[1;33m:\u001b[0m\u001b[1;33m\u001b[0m\u001b[1;33m\u001b[0m\u001b[0m\n\u001b[1;32m-> 2695\u001b[1;33m             \u001b[1;32mreturn\u001b[0m \u001b[0mself\u001b[0m\u001b[1;33m.\u001b[0m\u001b[0m_get_item_cache\u001b[0m\u001b[1;33m(\u001b[0m\u001b[0mkey\u001b[0m\u001b[1;33m)\u001b[0m\u001b[1;33m\u001b[0m\u001b[1;33m\u001b[0m\u001b[0m\n\u001b[0m\u001b[0;32m   2696\u001b[0m \u001b[1;33m\u001b[0m\u001b[0m\n\u001b[0;32m   2697\u001b[0m         \u001b[1;31m# duplicate columns & possible reduce dimensionality\u001b[0m\u001b[1;33m\u001b[0m\u001b[1;33m\u001b[0m\u001b[1;33m\u001b[0m\u001b[0m\n",
          "\u001b[1;32m~\\AppData\\Local\\Continuum\\anaconda3\\lib\\site-packages\\pandas\\core\\generic.py\u001b[0m in \u001b[0;36m_get_item_cache\u001b[1;34m(self, item)\u001b[0m\n\u001b[0;32m   2487\u001b[0m         \u001b[0mres\u001b[0m \u001b[1;33m=\u001b[0m \u001b[0mcache\u001b[0m\u001b[1;33m.\u001b[0m\u001b[0mget\u001b[0m\u001b[1;33m(\u001b[0m\u001b[0mitem\u001b[0m\u001b[1;33m)\u001b[0m\u001b[1;33m\u001b[0m\u001b[1;33m\u001b[0m\u001b[0m\n\u001b[0;32m   2488\u001b[0m         \u001b[1;32mif\u001b[0m \u001b[0mres\u001b[0m \u001b[1;32mis\u001b[0m \u001b[1;32mNone\u001b[0m\u001b[1;33m:\u001b[0m\u001b[1;33m\u001b[0m\u001b[1;33m\u001b[0m\u001b[0m\n\u001b[1;32m-> 2489\u001b[1;33m             \u001b[0mvalues\u001b[0m \u001b[1;33m=\u001b[0m \u001b[0mself\u001b[0m\u001b[1;33m.\u001b[0m\u001b[0m_data\u001b[0m\u001b[1;33m.\u001b[0m\u001b[0mget\u001b[0m\u001b[1;33m(\u001b[0m\u001b[0mitem\u001b[0m\u001b[1;33m)\u001b[0m\u001b[1;33m\u001b[0m\u001b[1;33m\u001b[0m\u001b[0m\n\u001b[0m\u001b[0;32m   2490\u001b[0m             \u001b[0mres\u001b[0m \u001b[1;33m=\u001b[0m \u001b[0mself\u001b[0m\u001b[1;33m.\u001b[0m\u001b[0m_box_item_values\u001b[0m\u001b[1;33m(\u001b[0m\u001b[0mitem\u001b[0m\u001b[1;33m,\u001b[0m \u001b[0mvalues\u001b[0m\u001b[1;33m)\u001b[0m\u001b[1;33m\u001b[0m\u001b[1;33m\u001b[0m\u001b[0m\n\u001b[0;32m   2491\u001b[0m             \u001b[0mcache\u001b[0m\u001b[1;33m[\u001b[0m\u001b[0mitem\u001b[0m\u001b[1;33m]\u001b[0m \u001b[1;33m=\u001b[0m \u001b[0mres\u001b[0m\u001b[1;33m\u001b[0m\u001b[1;33m\u001b[0m\u001b[0m\n",
          "\u001b[1;32m~\\AppData\\Local\\Continuum\\anaconda3\\lib\\site-packages\\pandas\\core\\internals.py\u001b[0m in \u001b[0;36mget\u001b[1;34m(self, item, fastpath)\u001b[0m\n\u001b[0;32m   4113\u001b[0m \u001b[1;33m\u001b[0m\u001b[0m\n\u001b[0;32m   4114\u001b[0m             \u001b[1;32mif\u001b[0m \u001b[1;32mnot\u001b[0m \u001b[0misna\u001b[0m\u001b[1;33m(\u001b[0m\u001b[0mitem\u001b[0m\u001b[1;33m)\u001b[0m\u001b[1;33m:\u001b[0m\u001b[1;33m\u001b[0m\u001b[1;33m\u001b[0m\u001b[0m\n\u001b[1;32m-> 4115\u001b[1;33m                 \u001b[0mloc\u001b[0m \u001b[1;33m=\u001b[0m \u001b[0mself\u001b[0m\u001b[1;33m.\u001b[0m\u001b[0mitems\u001b[0m\u001b[1;33m.\u001b[0m\u001b[0mget_loc\u001b[0m\u001b[1;33m(\u001b[0m\u001b[0mitem\u001b[0m\u001b[1;33m)\u001b[0m\u001b[1;33m\u001b[0m\u001b[1;33m\u001b[0m\u001b[0m\n\u001b[0m\u001b[0;32m   4116\u001b[0m             \u001b[1;32melse\u001b[0m\u001b[1;33m:\u001b[0m\u001b[1;33m\u001b[0m\u001b[1;33m\u001b[0m\u001b[0m\n\u001b[0;32m   4117\u001b[0m                 \u001b[0mindexer\u001b[0m \u001b[1;33m=\u001b[0m \u001b[0mnp\u001b[0m\u001b[1;33m.\u001b[0m\u001b[0marange\u001b[0m\u001b[1;33m(\u001b[0m\u001b[0mlen\u001b[0m\u001b[1;33m(\u001b[0m\u001b[0mself\u001b[0m\u001b[1;33m.\u001b[0m\u001b[0mitems\u001b[0m\u001b[1;33m)\u001b[0m\u001b[1;33m)\u001b[0m\u001b[1;33m[\u001b[0m\u001b[0misna\u001b[0m\u001b[1;33m(\u001b[0m\u001b[0mself\u001b[0m\u001b[1;33m.\u001b[0m\u001b[0mitems\u001b[0m\u001b[1;33m)\u001b[0m\u001b[1;33m]\u001b[0m\u001b[1;33m\u001b[0m\u001b[1;33m\u001b[0m\u001b[0m\n",
          "\u001b[1;32m~\\AppData\\Local\\Continuum\\anaconda3\\lib\\site-packages\\pandas\\core\\indexes\\base.py\u001b[0m in \u001b[0;36mget_loc\u001b[1;34m(self, key, method, tolerance)\u001b[0m\n\u001b[0;32m   3078\u001b[0m                 \u001b[1;32mreturn\u001b[0m \u001b[0mself\u001b[0m\u001b[1;33m.\u001b[0m\u001b[0m_engine\u001b[0m\u001b[1;33m.\u001b[0m\u001b[0mget_loc\u001b[0m\u001b[1;33m(\u001b[0m\u001b[0mkey\u001b[0m\u001b[1;33m)\u001b[0m\u001b[1;33m\u001b[0m\u001b[1;33m\u001b[0m\u001b[0m\n\u001b[0;32m   3079\u001b[0m             \u001b[1;32mexcept\u001b[0m \u001b[0mKeyError\u001b[0m\u001b[1;33m:\u001b[0m\u001b[1;33m\u001b[0m\u001b[1;33m\u001b[0m\u001b[0m\n\u001b[1;32m-> 3080\u001b[1;33m                 \u001b[1;32mreturn\u001b[0m \u001b[0mself\u001b[0m\u001b[1;33m.\u001b[0m\u001b[0m_engine\u001b[0m\u001b[1;33m.\u001b[0m\u001b[0mget_loc\u001b[0m\u001b[1;33m(\u001b[0m\u001b[0mself\u001b[0m\u001b[1;33m.\u001b[0m\u001b[0m_maybe_cast_indexer\u001b[0m\u001b[1;33m(\u001b[0m\u001b[0mkey\u001b[0m\u001b[1;33m)\u001b[0m\u001b[1;33m)\u001b[0m\u001b[1;33m\u001b[0m\u001b[1;33m\u001b[0m\u001b[0m\n\u001b[0m\u001b[0;32m   3081\u001b[0m \u001b[1;33m\u001b[0m\u001b[0m\n\u001b[0;32m   3082\u001b[0m         \u001b[0mindexer\u001b[0m \u001b[1;33m=\u001b[0m \u001b[0mself\u001b[0m\u001b[1;33m.\u001b[0m\u001b[0mget_indexer\u001b[0m\u001b[1;33m(\u001b[0m\u001b[1;33m[\u001b[0m\u001b[0mkey\u001b[0m\u001b[1;33m]\u001b[0m\u001b[1;33m,\u001b[0m \u001b[0mmethod\u001b[0m\u001b[1;33m=\u001b[0m\u001b[0mmethod\u001b[0m\u001b[1;33m,\u001b[0m \u001b[0mtolerance\u001b[0m\u001b[1;33m=\u001b[0m\u001b[0mtolerance\u001b[0m\u001b[1;33m)\u001b[0m\u001b[1;33m\u001b[0m\u001b[1;33m\u001b[0m\u001b[0m\n",
          "\u001b[1;32mpandas\\_libs\\index.pyx\u001b[0m in \u001b[0;36mpandas._libs.index.IndexEngine.get_loc\u001b[1;34m()\u001b[0m\n",
          "\u001b[1;32mpandas\\_libs\\index.pyx\u001b[0m in \u001b[0;36mpandas._libs.index.IndexEngine.get_loc\u001b[1;34m()\u001b[0m\n",
          "\u001b[1;32mpandas\\_libs\\hashtable_class_helper.pxi\u001b[0m in \u001b[0;36mpandas._libs.hashtable.PyObjectHashTable.get_item\u001b[1;34m()\u001b[0m\n",
          "\u001b[1;32mpandas\\_libs\\hashtable_class_helper.pxi\u001b[0m in \u001b[0;36mpandas._libs.hashtable.PyObjectHashTable.get_item\u001b[1;34m()\u001b[0m\n",
          "\u001b[1;31mKeyError\u001b[0m: 12"
         ]
        }
       ]
      }
     },
     "2fcf1d2a087b4d88b23d2ac479215730": {
      "model_module": "@jupyter-widgets/output",
      "model_module_version": "1.0.0",
      "model_name": "OutputModel",
      "state": {
       "layout": "IPY_MODEL_aea02566bbd94c4ca52daf232d21092c",
       "outputs": [
        {
         "data": {
          "application/vnd.plotly.v1+json": {
           "config": {
            "linkText": "Export to plot.ly",
            "plotlyServerURL": "https://plot.ly",
            "responsive": true,
            "showLink": false
           },
           "data": [
            {
             "marker": {
              "size": 10
             },
             "mode": "markers",
             "name": "Western Europe",
             "text": [
              "Finland",
              "Denmark",
              "Norway",
              "Iceland",
              "Netherlands",
              "Switzerland",
              "Sweden",
              "Austria",
              "Luxembourg",
              "United Kingdom",
              "Ireland",
              "Germany",
              "Belgium",
              "Malta",
              "France",
              "Spain",
              "Italy",
              "Cyprus",
              "North Cyprus",
              "Portugal",
              "Greece"
             ],
             "type": "scatter",
             "uid": "ca0f5585-cc57-4a80-946a-a37ee601a8da",
             "x": [
              71.80000051,
              72.10000102,
              73.09999847,
              73,
              72.19999949,
              73.80000051,
              72.5,
              72.69999949,
              72.59999847,
              72.10000102,
              72.19999949,
              71.89999898,
              71.80000051,
              72.19999695,
              73.60000102,
              74.10000102,
              73.39999898,
              73.5,
              72.09121704,
              72.19999949,
              72.19999949
             ],
             "y": [
              7.769,
              7.6,
              7.5539999999999985,
              7.494,
              7.487999999999999,
              7.48,
              7.343,
              7.246,
              7.09,
              7.0539999999999985,
              7.021,
              6.985,
              6.922999999999999,
              6.726,
              6.5920000000000005,
              6.354,
              6.223,
              6.046,
              5.718,
              5.693,
              5.287000000000001
             ]
            },
            {
             "marker": {
              "size": 10
             },
             "mode": "markers",
             "name": "North America and ANZ",
             "text": [
              "New Zealand",
              "Canada",
              "Australia",
              "United States"
             ],
             "type": "scatter",
             "uid": "429f1ebd-0f54-4091-b5a0-2947a6db009b",
             "x": [
              73,
              73.39999898,
              73.30000051,
              68.40000153
             ],
             "y": [
              7.307,
              7.278,
              7.228,
              6.892
             ]
            },
            {
             "marker": {
              "size": 10
             },
             "mode": "markers",
             "name": "Latin America and Caribbean",
             "text": [
              "Costa Rica",
              "Mexico",
              "Chile",
              "Guatemala",
              "Panama",
              "Brazil",
              "Uruguay",
              "El Salvador",
              "Trinidad & Tobago",
              "Colombia",
              "Nicaragua",
              "Argentina",
              "Ecuador",
              "Jamaica",
              "Honduras",
              "Bolivia",
              "Paraguay",
              "Peru",
              "Dominican Republic",
              "Venezuela",
              "Haiti"
             ],
             "type": "scatter",
             "uid": "cdc61569-90aa-4711-bec1-ed33bc5fad37",
             "x": [
              71.10000102,
              68,
              69.80000051,
              64.5,
              69.5,
              66.19999949,
              68.90000153,
              65.80000051,
              62.4939821,
              67.39999898,
              67.19999949,
              68.60000102,
              68.19999949,
              66.9066658,
              67,
              63.29999924,
              65.36666785,
              67.80000051,
              65.5,
              66.30000051,
              55.5
             ],
             "y": [
              7.167000000000002,
              6.595,
              6.444,
              6.436,
              6.3210000000000015,
              6.3,
              6.292999999999998,
              6.252999999999999,
              6.192,
              6.125,
              6.105,
              6.086,
              6.028,
              5.89,
              5.86,
              5.779,
              5.7429999999999986,
              5.697,
              5.425,
              4.707,
              3.597
             ]
            },
            {
             "marker": {
              "size": 10
             },
             "mode": "markers",
             "name": "Middle East and North Africa",
             "text": [
              "Israel",
              "United Arab Emirates",
              "Saudi Arabia",
              "Qatar",
              "Bahrain",
              "Kuwait",
              "Libya",
              "Turkey",
              "Algeria",
              "Morocco",
              "Lebanon",
              "Jordan",
              "Palestinian Territories",
              "Iran",
              "Tunisia",
              "Iraq",
              "Egypt",
              "Syria",
              "Yemen"
             ],
             "type": "scatter",
             "uid": "050d7a7c-3f4d-42bf-833f-6208f10ce949",
             "x": [
              73.10000102,
              66.89999898,
              66,
              67.20285358,
              68.29999924,
              66.36666785,
              62.29999924,
              66.40000153,
              65.69999949,
              65.60000102,
              66.59999847,
              66.60000102,
              62.57299042,
              65.69999949,
              66.60000102,
              59.29999924,
              61.40000025,
              55.99111133,
              55.90000025
             ],
             "y": [
              7.1389999999999985,
              6.825,
              6.375,
              6.374,
              6.199,
              6.021,
              5.525,
              5.372999999999998,
              5.211,
              5.207999999999998,
              5.197,
              4.9060000000000015,
              4.6960000000000015,
              4.548,
              4.461,
              4.437,
              4.166,
              3.462,
              3.38
             ]
            },
            {
             "marker": {
              "size": 10
             },
             "mode": "markers",
             "name": "Central and Eastern Europe",
             "text": [
              "Czech Republic",
              "Slovakia",
              "Poland",
              "Lithuania",
              "Slovenia",
              "Kosovo",
              "Romania",
              "Latvia",
              "Estonia",
              "Hungary",
              "Serbia",
              "Montenegro",
              "Croatia",
              "Bosnia and Herzegovina",
              "Macedonia",
              "Bulgaria",
              "Albania"
             ],
             "type": "scatter",
             "uid": "6ada0114-5bde-48b5-add7-30ae3c299df7",
             "x": [
              69.80000305,
              68.60000102,
              68.63333384,
              66.69999949,
              70.80000051,
              64.87929281,
              66.89999898,
              66.5,
              68.39999898,
              66.9333335,
              67.80000051,
              68.30000051,
              69.59999847,
              67.5,
              67.30000051,
              66.60000102,
              68.39999898
             ],
             "y": [
              6.852,
              6.198,
              6.182,
              6.149,
              6.1179999999999986,
              6.1,
              6.07,
              5.94,
              5.893,
              5.757999999999999,
              5.603,
              5.523,
              5.432,
              5.386,
              5.274,
              5.011,
              4.7189999999999985
             ]
            },
            {
             "marker": {
              "size": 10
             },
             "mode": "markers",
             "name": "East Asia",
             "text": [
              "Taiwan",
              "South Korea",
              "Japan",
              "Hong Kong SAR, China",
              "Mongolia",
              "China"
             ],
             "type": "scatter",
             "uid": "92716a68-742c-4787-a444-c5a131155e38",
             "x": [
              71.4327,
              73.30000051,
              74.90000153,
              75.9304123,
              62.09999975,
              69
             ],
             "y": [
              6.4460000000000015,
              5.895,
              5.886,
              5.43,
              5.285,
              5.191
             ]
            },
            {
             "marker": {
              "size": 10
             },
             "mode": "markers",
             "name": "Southeast Asia",
             "text": [
              "Singapore",
              "Thailand",
              "Philippines",
              "Malaysia",
              "Indonesia",
              "Vietnam",
              "Laos",
              "Cambodia",
              "Myanmar"
             ],
             "type": "scatter",
             "uid": "6b199004-138a-49d9-aa55-9fd0bb830e35",
             "x": [
              76.5,
              67,
              61.80000051,
              67,
              61.90000025,
              67.69999949,
              57.86666616,
              61.19999949,
              58.70000076
             ],
             "y": [
              6.2620000000000005,
              6.007999999999999,
              5.631,
              5.339,
              5.192,
              5.175,
              4.796,
              4.7,
              4.36
             ]
            },
            {
             "marker": {
              "size": 10
             },
             "mode": "markers",
             "name": "Commonwealth of Independent States",
             "text": [
              "Uzbekistan",
              "Kazakhstan",
              "Russia",
              "Moldova",
              "Tajikistan",
              "Belarus",
              "Kyrgyzstan",
              "Turkmenistan",
              "Azerbaijan",
              "Armenia",
              "Georgia",
              "Ukraine"
             ],
             "type": "scatter",
             "uid": "6d853cd3-95c9-47bb-8c0f-9d2ca4a75440",
             "x": [
              64.80000051,
              64,
              63.90000153,
              64.30000051,
              63.64999962,
              65.80000051,
              63.79999924,
              61.80000051,
              65.19999949,
              66.60000102,
              64.69999949,
              64.30000051
             ],
             "y": [
              6.174,
              5.809,
              5.648,
              5.529,
              5.4670000000000005,
              5.323,
              5.261,
              5.247000000000001,
              5.207999999999998,
              4.559,
              4.519,
              4.332
             ]
            },
            {
             "marker": {
              "size": 10
             },
             "mode": "markers",
             "name": "Sub-Saharan Africa",
             "text": [
              "Mauritius",
              "Nigeria",
              "Cameroon",
              "Ghana",
              "Ivory Coast",
              "Benin",
              "Congo (Brazzaville)",
              "Gabon",
              "South Africa",
              "Senegal",
              "Somalia",
              "Namibia",
              "Niger",
              "Burkina Faso",
              "Guinea",
              "Gambia",
              "Kenya",
              "Mauritania",
              "Mozambique",
              "Congo (Kinshasa)",
              "Mali",
              "Sierra Leone",
              "Chad",
              "Ethiopia",
              "Swaziland",
              "Uganda",
              "Zambia",
              "Togo",
              "Liberia",
              "Comoros",
              "Madagascar",
              "Lesotho",
              "Burundi",
              "Zimbabwe",
              "Botswana",
              "Malawi",
              "Rwanda",
              "Tanzania",
              "Central African Republic",
              "South Sudan"
             ],
             "type": "scatter",
             "uid": "07c35d75-108c-43fa-afdc-7541e5116ffd",
             "x": [
              66.10000102,
              49.30000051,
              51.90000025,
              56.60000039,
              48.90000026,
              53.90000026,
              57.30000051,
              59.20000076,
              56.09999974,
              59.19999949,
              50,
              55.95333354,
              53,
              53.40000153,
              53.30000051,
              54.85000038,
              59.5,
              56.70000076,
              52.86666743,
              52.70000077,
              51.20000076,
              49.19999949,
              47.70000076,
              58,
              57.7,
              55.30000051,
              54.79999924,
              54.30000051,
              55.29999924,
              55.85333379,
              58.69999949,
              46.94999886,
              53.40000153,
              55,
              58.20000076,
              56.90000025,
              60.5,
              57,
              45.05000115,
              50.79999924
             ],
             "y": [
              5.888,
              5.265,
              5.044,
              4.996,
              4.944,
              4.883,
              4.812,
              4.799,
              4.722,
              4.681,
              4.668,
              4.6389999999999985,
              4.628,
              4.587,
              4.534,
              4.516,
              4.509,
              4.49,
              4.466,
              4.418,
              4.39,
              4.374,
              4.35,
              4.2860000000000005,
              4.212,
              4.189,
              4.107,
              4.085,
              3.975,
              3.973,
              3.933,
              3.802,
              3.775,
              3.663,
              3.488,
              3.41,
              3.334,
              3.2310000000000003,
              3.083,
              2.853
             ]
            },
            {
             "marker": {
              "size": 10
             },
             "mode": "markers",
             "name": "South Asia",
             "text": [
              "Pakistan",
              "Bhutan",
              "Nepal",
              "Bangladesh",
              "Sri Lanka",
              "India",
              "Afghanistan"
             ],
             "type": "scatter",
             "uid": "9d34c982-f6ee-4d07-bba7-6296fef1104d",
             "x": [
              58.09999974,
              60.05000072,
              62.40000026,
              63.80000051,
              67.09999848,
              59.69999949,
              52.79999924
             ],
             "y": [
              5.653,
              5.082,
              4.913,
              4.456,
              4.3660000000000005,
              4.015,
              3.2030000000000003
             ]
            }
           ],
           "layout": {
            "hovermode": "closest",
            "margin": {
             "b": 50,
             "pad": 5,
             "t": 50
            },
            "showlegend": true,
            "title": {
             "text": "Happiness Score vs Healthy Life Expectancy At Birth"
            },
            "xaxis": {
             "autorange": false,
             "range": [
              31.535000805,
              107.1
             ],
             "title": {
              "text": "Healthy Life Expectancy At Birth"
             }
            },
            "yaxis": {
             "autorange": false,
             "range": [
              1.9971,
              10.8766
             ],
             "title": {
              "text": "Happiness Score"
             }
            }
           }
          },
          "text/html": "<div>\n        \n        \n            <div id=\"8e00316f-c0a5-4521-aadf-fb9e411d6c3a\" class=\"plotly-graph-div\"></div>\n            <script type=\"text/javascript\">\n                require([\"plotly\"], function(Plotly) {\n                    window.PLOTLYENV=window.PLOTLYENV || {};\n                    window.PLOTLYENV.BASE_URL='https://plot.ly';\n                    \n                if (document.getElementById(\"8e00316f-c0a5-4521-aadf-fb9e411d6c3a\")) {\n                    Plotly.newPlot(\n                        '8e00316f-c0a5-4521-aadf-fb9e411d6c3a',\n                        [{\"marker\": {\"size\": 10}, \"mode\": \"markers\", \"name\": \"Western Europe\", \"text\": [\"Finland\", \"Denmark\", \"Norway\", \"Iceland\", \"Netherlands\", \"Switzerland\", \"Sweden\", \"Austria\", \"Luxembourg\", \"United Kingdom\", \"Ireland\", \"Germany\", \"Belgium\", \"Malta\", \"France\", \"Spain\", \"Italy\", \"Cyprus\", \"North Cyprus\", \"Portugal\", \"Greece\"], \"type\": \"scatter\", \"uid\": \"8a79613c-0355-47b8-9605-aac8b332f5d0\", \"x\": [71.80000051, 72.10000102, 73.09999847, 73.0, 72.19999949, 73.80000051, 72.5, 72.69999949, 72.59999847, 72.10000102, 72.19999949, 71.89999898, 71.80000051, 72.19999695, 73.60000102, 74.10000102, 73.39999898, 73.5, 72.09121704, 72.19999949, 72.19999949], \"y\": [7.769, 7.6, 7.5539999999999985, 7.494, 7.487999999999999, 7.48, 7.343, 7.246, 7.09, 7.0539999999999985, 7.021, 6.985, 6.922999999999999, 6.726, 6.5920000000000005, 6.354, 6.223, 6.046, 5.718, 5.693, 5.287000000000001]}, {\"marker\": {\"size\": 10}, \"mode\": \"markers\", \"name\": \"North America and ANZ\", \"text\": [\"New Zealand\", \"Canada\", \"Australia\", \"United States\"], \"type\": \"scatter\", \"uid\": \"0c680de9-180d-404a-a1c7-778c05637233\", \"x\": [73.0, 73.39999898, 73.30000051, 68.40000153], \"y\": [7.307, 7.278, 7.228, 6.892]}, {\"marker\": {\"size\": 10}, \"mode\": \"markers\", \"name\": \"Latin America and Caribbean\", \"text\": [\"Costa Rica\", \"Mexico\", \"Chile\", \"Guatemala\", \"Panama\", \"Brazil\", \"Uruguay\", \"El Salvador\", \"Trinidad & Tobago\", \"Colombia\", \"Nicaragua\", \"Argentina\", \"Ecuador\", \"Jamaica\", \"Honduras\", \"Bolivia\", \"Paraguay\", \"Peru\", \"Dominican Republic\", \"Venezuela\", \"Haiti\"], \"type\": \"scatter\", \"uid\": \"1d48d415-b801-4251-9a46-7d12d8a3d240\", \"x\": [71.10000102, 68.0, 69.80000051, 64.5, 69.5, 66.19999949, 68.90000153, 65.80000051, 62.4939821, 67.39999898, 67.19999949, 68.60000102, 68.19999949, 66.9066658, 67.0, 63.29999924, 65.36666785, 67.80000051, 65.5, 66.30000051, 55.5], \"y\": [7.167000000000002, 6.595, 6.444, 6.436, 6.3210000000000015, 6.3, 6.292999999999998, 6.252999999999999, 6.192, 6.125, 6.105, 6.086, 6.028, 5.89, 5.86, 5.779, 5.7429999999999986, 5.697, 5.425, 4.707, 3.597]}, {\"marker\": {\"size\": 10}, \"mode\": \"markers\", \"name\": \"Middle East and North Africa\", \"text\": [\"Israel\", \"United Arab Emirates\", \"Saudi Arabia\", \"Qatar\", \"Bahrain\", \"Kuwait\", \"Libya\", \"Turkey\", \"Algeria\", \"Morocco\", \"Lebanon\", \"Jordan\", \"Palestinian Territories\", \"Iran\", \"Tunisia\", \"Iraq\", \"Egypt\", \"Syria\", \"Yemen\"], \"type\": \"scatter\", \"uid\": \"6c6faa38-3936-4f1a-b5c9-b09b1a2bd091\", \"x\": [73.10000102, 66.89999898, 66.0, 67.20285358, 68.29999924, 66.36666785, 62.29999924, 66.40000153, 65.69999949, 65.60000102, 66.59999847, 66.60000102, 62.57299042, 65.69999949, 66.60000102, 59.29999924, 61.40000025, 55.99111133, 55.90000025], \"y\": [7.1389999999999985, 6.825, 6.375, 6.374, 6.199, 6.021, 5.525, 5.372999999999998, 5.211, 5.207999999999998, 5.197, 4.9060000000000015, 4.6960000000000015, 4.548, 4.461, 4.437, 4.166, 3.462, 3.38]}, {\"marker\": {\"size\": 10}, \"mode\": \"markers\", \"name\": \"Central and Eastern Europe\", \"text\": [\"Czech Republic\", \"Slovakia\", \"Poland\", \"Lithuania\", \"Slovenia\", \"Kosovo\", \"Romania\", \"Latvia\", \"Estonia\", \"Hungary\", \"Serbia\", \"Montenegro\", \"Croatia\", \"Bosnia and Herzegovina\", \"Macedonia\", \"Bulgaria\", \"Albania\"], \"type\": \"scatter\", \"uid\": \"e0403518-2287-43cb-a620-a10a5eea7b27\", \"x\": [69.80000305, 68.60000102, 68.63333384, 66.69999949, 70.80000051, 64.87929281, 66.89999898, 66.5, 68.39999898, 66.9333335, 67.80000051, 68.30000051, 69.59999847, 67.5, 67.30000051, 66.60000102, 68.39999898], \"y\": [6.852, 6.198, 6.182, 6.149, 6.1179999999999986, 6.1, 6.07, 5.94, 5.893, 5.757999999999999, 5.603, 5.523, 5.432, 5.386, 5.274, 5.011, 4.7189999999999985]}, {\"marker\": {\"size\": 10}, \"mode\": \"markers\", \"name\": \"East Asia\", \"text\": [\"Taiwan\", \"South Korea\", \"Japan\", \"Hong Kong SAR, China\", \"Mongolia\", \"China\"], \"type\": \"scatter\", \"uid\": \"19b19f5d-bcbc-4daf-bce1-7686f9f02799\", \"x\": [71.4327, 73.30000051, 74.90000153, 75.9304123, 62.09999975, 69.0], \"y\": [6.4460000000000015, 5.895, 5.886, 5.43, 5.285, 5.191]}, {\"marker\": {\"size\": 10}, \"mode\": \"markers\", \"name\": \"Southeast Asia\", \"text\": [\"Singapore\", \"Thailand\", \"Philippines\", \"Malaysia\", \"Indonesia\", \"Vietnam\", \"Laos\", \"Cambodia\", \"Myanmar\"], \"type\": \"scatter\", \"uid\": \"099c7ff1-bed2-4a3a-acf9-73aa0d80d7ca\", \"x\": [76.5, 67.0, 61.80000051, 67.0, 61.90000025, 67.69999949, 57.86666616, 61.19999949, 58.70000076], \"y\": [6.2620000000000005, 6.007999999999999, 5.631, 5.339, 5.192, 5.175, 4.796, 4.7, 4.36]}, {\"marker\": {\"size\": 10}, \"mode\": \"markers\", \"name\": \"Commonwealth of Independent States\", \"text\": [\"Uzbekistan\", \"Kazakhstan\", \"Russia\", \"Moldova\", \"Tajikistan\", \"Belarus\", \"Kyrgyzstan\", \"Turkmenistan\", \"Azerbaijan\", \"Armenia\", \"Georgia\", \"Ukraine\"], \"type\": \"scatter\", \"uid\": \"d1a98bfa-ea03-4b70-af90-814868682509\", \"x\": [64.80000051, 64.0, 63.90000153, 64.30000051, 63.64999962, 65.80000051, 63.79999924, 61.80000051, 65.19999949, 66.60000102, 64.69999949, 64.30000051], \"y\": [6.174, 5.809, 5.648, 5.529, 5.4670000000000005, 5.323, 5.261, 5.247000000000001, 5.207999999999998, 4.559, 4.519, 4.332]}, {\"marker\": {\"size\": 10}, \"mode\": \"markers\", \"name\": \"Sub-Saharan Africa\", \"text\": [\"Mauritius\", \"Nigeria\", \"Cameroon\", \"Ghana\", \"Ivory Coast\", \"Benin\", \"Congo (Brazzaville)\", \"Gabon\", \"South Africa\", \"Senegal\", \"Somalia\", \"Namibia\", \"Niger\", \"Burkina Faso\", \"Guinea\", \"Gambia\", \"Kenya\", \"Mauritania\", \"Mozambique\", \"Congo (Kinshasa)\", \"Mali\", \"Sierra Leone\", \"Chad\", \"Ethiopia\", \"Swaziland\", \"Uganda\", \"Zambia\", \"Togo\", \"Liberia\", \"Comoros\", \"Madagascar\", \"Lesotho\", \"Burundi\", \"Zimbabwe\", \"Botswana\", \"Malawi\", \"Rwanda\", \"Tanzania\", \"Central African Republic\", \"South Sudan\"], \"type\": \"scatter\", \"uid\": \"9f206fbc-18cc-447f-ae98-375b3657c310\", \"x\": [66.10000102, 49.30000051, 51.90000025, 56.60000039, 48.90000026, 53.90000026, 57.30000051, 59.20000076, 56.09999974, 59.19999949, 50.0, 55.95333354, 53.0, 53.40000153, 53.30000051, 54.85000038, 59.5, 56.70000076, 52.86666743, 52.70000077, 51.20000076, 49.19999949, 47.70000076, 58.0, 57.7, 55.30000051, 54.79999924, 54.30000051, 55.29999924, 55.85333379, 58.69999949, 46.94999886, 53.40000153, 55.0, 58.20000076, 56.90000025, 60.5, 57.0, 45.05000115, 50.79999924], \"y\": [5.888, 5.265, 5.044, 4.996, 4.944, 4.883, 4.812, 4.799, 4.722, 4.681, 4.668, 4.6389999999999985, 4.628, 4.587, 4.534, 4.516, 4.509, 4.49, 4.466, 4.418, 4.39, 4.374, 4.35, 4.2860000000000005, 4.212, 4.189, 4.107, 4.085, 3.975, 3.973, 3.933, 3.802, 3.775, 3.663, 3.488, 3.41, 3.334, 3.2310000000000003, 3.083, 2.853]}, {\"marker\": {\"size\": 10}, \"mode\": \"markers\", \"name\": \"South Asia\", \"text\": [\"Pakistan\", \"Bhutan\", \"Nepal\", \"Bangladesh\", \"Sri Lanka\", \"India\", \"Afghanistan\"], \"type\": \"scatter\", \"uid\": \"e79e7d64-baf9-467d-8536-235a267665c8\", \"x\": [58.09999974, 60.05000072, 62.40000026, 63.80000051, 67.09999848, 59.69999949, 52.79999924], \"y\": [5.653, 5.082, 4.913, 4.456, 4.3660000000000005, 4.015, 3.2030000000000003]}],\n                        {\"hovermode\": \"closest\", \"margin\": {\"b\": 50, \"pad\": 5, \"t\": 50}, \"showlegend\": true, \"title\": {\"text\": \"Happiness Score vs Healthy Life Expectancy At Birth\"}, \"xaxis\": {\"autorange\": false, \"range\": [31.535000805, 107.1], \"title\": {\"text\": \"Healthy Life Expectancy At Birth\"}}, \"yaxis\": {\"autorange\": false, \"range\": [1.9971, 10.8766], \"title\": {\"text\": \"Happiness Score\"}}},\n                        {\"showLink\": false, \"linkText\": \"Export to plot.ly\", \"plotlyServerURL\": \"https://plot.ly\", \"responsive\": true}\n                    )\n                };\n                });\n            </script>\n        </div>"
         },
         "metadata": {},
         "output_type": "display_data"
        }
       ]
      }
     },
     "2fd95feb82d14c34a1a1490121fbdc54": {
      "model_module": "@jupyter-widgets/controls",
      "model_module_version": "1.4.0",
      "model_name": "DescriptionStyleModel",
      "state": {
       "description_width": ""
      }
     },
     "3083e9b89ee8415293f9faa76f361bb1": {
      "model_module": "@jupyter-widgets/base",
      "model_module_version": "1.1.0",
      "model_name": "LayoutModel",
      "state": {}
     },
     "30a259e8e87f43e991e18879dcce181c": {
      "model_module": "@jupyter-widgets/controls",
      "model_module_version": "1.4.0",
      "model_name": "DescriptionStyleModel",
      "state": {
       "description_width": ""
      }
     },
     "30c93eb62f754b60a1ec8806338e796d": {
      "model_module": "@jupyter-widgets/controls",
      "model_module_version": "1.4.0",
      "model_name": "DescriptionStyleModel",
      "state": {
       "description_width": ""
      }
     },
     "30eb271c411e4128aed3076cd1cef9e3": {
      "model_module": "@jupyter-widgets/controls",
      "model_module_version": "1.4.0",
      "model_name": "DropdownModel",
      "state": {
       "_options_labels": [
        "Life Ladder",
        "Log GDP per capita",
        "Social support",
        "Healthy life expectancy at birth",
        "Freedom to make life choices",
        "Generosity",
        "Perceptions of corruption",
        "Positive affect",
        "Negative affect",
        "Confidence in national government",
        "Democratic Quality",
        "Delivery Quality",
        "GINI of household income reported in Gallup, by wp5-year"
       ],
       "description": "y",
       "index": 0,
       "layout": "IPY_MODEL_4efe9cb381534bc58311b9e4f8022767",
       "style": "IPY_MODEL_42cb2824ab7444e5bff1df9435d11835"
      }
     },
     "30ef2d44e2694ac4a218078adc46be6c": {
      "model_module": "@jupyter-widgets/controls",
      "model_module_version": "1.4.0",
      "model_name": "DropdownModel",
      "state": {
       "_options_labels": [
        "ggplot",
        "pearl",
        "solar",
        "space",
        "white",
        "polar",
        "henanigans"
       ],
       "description": "theme",
       "index": 6,
       "layout": "IPY_MODEL_69b9f8c36f5849d88e17a2220b7eb7e5",
       "style": "IPY_MODEL_febca6c037e347e69a912d7030f7c2cb"
      }
     },
     "30f9eb6a7c4f48768058580dd57b7775": {
      "model_module": "@jupyter-widgets/controls",
      "model_module_version": "1.4.0",
      "model_name": "VBoxModel",
      "state": {
       "_dom_classes": [
        "widget-interact"
       ],
       "children": [
        "IPY_MODEL_ea3ad18290d54dc98af55a59ccf68b82",
        "IPY_MODEL_4522728cef444cffa533942c40f00bec",
        "IPY_MODEL_1e20bfce70d74ad6a5f2446fab0fa79c",
        "IPY_MODEL_45d15012070f400e8049628e056392e5",
        "IPY_MODEL_c3e326d4bbb64b0599142ff150e80441"
       ],
       "layout": "IPY_MODEL_5f40f315233f485f8a1bcbb038d6dc07"
      }
     },
     "321dbb7a1750479d86b7fa2bb0e070d8": {
      "model_module": "@jupyter-widgets/controls",
      "model_module_version": "1.4.0",
      "model_name": "DropdownModel",
      "state": {
       "_options_labels": [
        "Life Ladder",
        "Log GDP per capita",
        "Social support",
        "Healthy life expectancy at birth",
        "Freedom to make life choices",
        "Generosity",
        "Perceptions of corruption",
        "Positive affect",
        "Negative affect",
        "Confidence in national government",
        "Democratic Quality",
        "Delivery Quality",
        "GINI of household income reported in Gallup, by wp5-year"
       ],
       "description": "x",
       "index": 3,
       "layout": "IPY_MODEL_0592f18c062c4f8485331a46d7ec94b0",
       "style": "IPY_MODEL_b506e5eb4c3d4aa4bc5a88309e6e0b62"
      }
     },
     "34badb8cb99449c4bb8a5dd0a2f4d249": {
      "model_module": "@jupyter-widgets/base",
      "model_module_version": "1.1.0",
      "model_name": "LayoutModel",
      "state": {}
     },
     "356555a23c0e448782b831cd4634ff7c": {
      "model_module": "@jupyter-widgets/controls",
      "model_module_version": "1.4.0",
      "model_name": "DescriptionStyleModel",
      "state": {
       "description_width": ""
      }
     },
     "35a939a4a6e746039c6d496cf3d4f82a": {
      "model_module": "@jupyter-widgets/controls",
      "model_module_version": "1.4.0",
      "model_name": "DescriptionStyleModel",
      "state": {
       "description_width": ""
      }
     },
     "35f8d63f32714b5d92af27b597a2bfd2": {
      "model_module": "@jupyter-widgets/base",
      "model_module_version": "1.1.0",
      "model_name": "LayoutModel",
      "state": {}
     },
     "362290a67a8a4d11afccb23d44787056": {
      "model_module": "@jupyter-widgets/base",
      "model_module_version": "1.1.0",
      "model_name": "LayoutModel",
      "state": {}
     },
     "3673cfbc669d4c51a78897d89e2e8cb9": {
      "model_module": "@jupyter-widgets/base",
      "model_module_version": "1.1.0",
      "model_name": "LayoutModel",
      "state": {}
     },
     "36a5c6dfb8fd4a509330bb41a89f69ec": {
      "model_module": "@jupyter-widgets/base",
      "model_module_version": "1.1.0",
      "model_name": "LayoutModel",
      "state": {}
     },
     "36c1b25adab84a13ad073757cd7041ce": {
      "model_module": "@jupyter-widgets/base",
      "model_module_version": "1.1.0",
      "model_name": "LayoutModel",
      "state": {}
     },
     "37cec46282044d779da4fb3616b1d5f4": {
      "model_module": "@jupyter-widgets/output",
      "model_module_version": "1.0.0",
      "model_name": "OutputModel",
      "state": {
       "layout": "IPY_MODEL_1ca7f11f1a4a45938f649aa92d491983",
       "outputs": [
        {
         "data": {
          "application/vnd.plotly.v1+json": {
           "config": {
            "linkText": "Export to plot.ly",
            "plotlyServerURL": "https://plot.ly",
            "responsive": true,
            "showLink": false
           },
           "data": [
            {
             "marker": {
              "size": 10
             },
             "mode": "markers",
             "name": "Western Europe",
             "text": [
              "Finland",
              "Denmark",
              "Norway",
              "Iceland",
              "Netherlands",
              "Switzerland",
              "Sweden",
              "Austria",
              "Luxembourg",
              "United Kingdom",
              "Ireland",
              "Germany",
              "Belgium",
              "Malta",
              "France",
              "Spain",
              "Italy",
              "Cyprus",
              "North Cyprus",
              "Portugal",
              "Greece"
             ],
             "type": "scatter",
             "uid": "1b505619-7b0e-404c-b1fa-4ac940ea195b",
             "x": [
              71.80000051,
              72.10000102,
              73.09999847,
              73,
              72.19999949,
              73.80000051,
              72.5,
              72.69999949,
              72.59999847,
              72.10000102,
              72.19999949,
              71.89999898,
              71.80000051,
              72.19999695,
              73.60000102,
              74.10000102,
              73.39999898,
              73.5,
              72.09121704,
              72.19999949,
              72.19999949
             ],
             "y": [
              7.769,
              7.6,
              7.5539999999999985,
              7.494,
              7.487999999999999,
              7.48,
              7.343,
              7.246,
              7.09,
              7.0539999999999985,
              7.021,
              6.985,
              6.922999999999999,
              6.726,
              6.5920000000000005,
              6.354,
              6.223,
              6.046,
              5.718,
              5.693,
              5.287000000000001
             ]
            },
            {
             "marker": {
              "size": 10
             },
             "mode": "markers",
             "name": "North America and ANZ",
             "text": [
              "New Zealand",
              "Canada",
              "Australia",
              "United States"
             ],
             "type": "scatter",
             "uid": "30634619-2680-4653-8021-cf0022f29420",
             "x": [
              73,
              73.39999898,
              73.30000051,
              68.40000153
             ],
             "y": [
              7.307,
              7.278,
              7.228,
              6.892
             ]
            },
            {
             "marker": {
              "size": 10
             },
             "mode": "markers",
             "name": "Latin America and Caribbean",
             "text": [
              "Costa Rica",
              "Mexico",
              "Chile",
              "Guatemala",
              "Panama",
              "Brazil",
              "Uruguay",
              "El Salvador",
              "Trinidad & Tobago",
              "Colombia",
              "Nicaragua",
              "Argentina",
              "Ecuador",
              "Jamaica",
              "Honduras",
              "Bolivia",
              "Paraguay",
              "Peru",
              "Dominican Republic",
              "Venezuela",
              "Haiti"
             ],
             "type": "scatter",
             "uid": "0327b350-d8c6-4be1-8a08-f87a7970fcf0",
             "x": [
              71.10000102,
              68,
              69.80000051,
              64.5,
              69.5,
              66.19999949,
              68.90000153,
              65.80000051,
              62.4939821,
              67.39999898,
              67.19999949,
              68.60000102,
              68.19999949,
              66.9066658,
              67,
              63.29999924,
              65.36666785,
              67.80000051,
              65.5,
              66.30000051,
              55.5
             ],
             "y": [
              7.167000000000002,
              6.595,
              6.444,
              6.436,
              6.3210000000000015,
              6.3,
              6.292999999999998,
              6.252999999999999,
              6.192,
              6.125,
              6.105,
              6.086,
              6.028,
              5.89,
              5.86,
              5.779,
              5.7429999999999986,
              5.697,
              5.425,
              4.707,
              3.597
             ]
            },
            {
             "marker": {
              "size": 10
             },
             "mode": "markers",
             "name": "Middle East and North Africa",
             "text": [
              "Israel",
              "United Arab Emirates",
              "Saudi Arabia",
              "Qatar",
              "Bahrain",
              "Kuwait",
              "Libya",
              "Turkey",
              "Algeria",
              "Morocco",
              "Lebanon",
              "Jordan",
              "Palestinian Territories",
              "Iran",
              "Tunisia",
              "Iraq",
              "Egypt",
              "Syria",
              "Yemen"
             ],
             "type": "scatter",
             "uid": "1278a59b-8481-4532-bd4f-aabb54988981",
             "x": [
              73.10000102,
              66.89999898,
              66,
              67.20285358,
              68.29999924,
              66.36666785,
              62.29999924,
              66.40000153,
              65.69999949,
              65.60000102,
              66.59999847,
              66.60000102,
              62.57299042,
              65.69999949,
              66.60000102,
              59.29999924,
              61.40000025,
              55.99111133,
              55.90000025
             ],
             "y": [
              7.1389999999999985,
              6.825,
              6.375,
              6.374,
              6.199,
              6.021,
              5.525,
              5.372999999999998,
              5.211,
              5.207999999999998,
              5.197,
              4.9060000000000015,
              4.6960000000000015,
              4.548,
              4.461,
              4.437,
              4.166,
              3.462,
              3.38
             ]
            },
            {
             "marker": {
              "size": 10
             },
             "mode": "markers",
             "name": "Central and Eastern Europe",
             "text": [
              "Czech Republic",
              "Slovakia",
              "Poland",
              "Lithuania",
              "Slovenia",
              "Kosovo",
              "Romania",
              "Latvia",
              "Estonia",
              "Hungary",
              "Serbia",
              "Montenegro",
              "Croatia",
              "Bosnia and Herzegovina",
              "Macedonia",
              "Bulgaria",
              "Albania"
             ],
             "type": "scatter",
             "uid": "917636a5-de30-4d84-86d6-ab361a2ae6ff",
             "x": [
              69.80000305,
              68.60000102,
              68.63333384,
              66.69999949,
              70.80000051,
              64.87929281,
              66.89999898,
              66.5,
              68.39999898,
              66.9333335,
              67.80000051,
              68.30000051,
              69.59999847,
              67.5,
              67.30000051,
              66.60000102,
              68.39999898
             ],
             "y": [
              6.852,
              6.198,
              6.182,
              6.149,
              6.1179999999999986,
              6.1,
              6.07,
              5.94,
              5.893,
              5.757999999999999,
              5.603,
              5.523,
              5.432,
              5.386,
              5.274,
              5.011,
              4.7189999999999985
             ]
            },
            {
             "marker": {
              "size": 10
             },
             "mode": "markers",
             "name": "East Asia",
             "text": [
              "Taiwan",
              "South Korea",
              "Japan",
              "Hong Kong SAR, China",
              "Mongolia",
              "China"
             ],
             "type": "scatter",
             "uid": "0c9bd9f2-a2ce-4e17-ab06-70f462220a2c",
             "x": [
              71.4327,
              73.30000051,
              74.90000153,
              75.9304123,
              62.09999975,
              69
             ],
             "y": [
              6.4460000000000015,
              5.895,
              5.886,
              5.43,
              5.285,
              5.191
             ]
            },
            {
             "marker": {
              "size": 10
             },
             "mode": "markers",
             "name": "Southeast Asia",
             "text": [
              "Singapore",
              "Thailand",
              "Philippines",
              "Malaysia",
              "Indonesia",
              "Vietnam",
              "Laos",
              "Cambodia",
              "Myanmar"
             ],
             "type": "scatter",
             "uid": "85bfbcad-b346-4b1e-9744-63be7de291ea",
             "x": [
              76.5,
              67,
              61.80000051,
              67,
              61.90000025,
              67.69999949,
              57.86666616,
              61.19999949,
              58.70000076
             ],
             "y": [
              6.2620000000000005,
              6.007999999999999,
              5.631,
              5.339,
              5.192,
              5.175,
              4.796,
              4.7,
              4.36
             ]
            },
            {
             "marker": {
              "size": 10
             },
             "mode": "markers",
             "name": "Commonwealth of Independent States",
             "text": [
              "Uzbekistan",
              "Kazakhstan",
              "Russia",
              "Moldova",
              "Tajikistan",
              "Belarus",
              "Kyrgyzstan",
              "Turkmenistan",
              "Azerbaijan",
              "Armenia",
              "Georgia",
              "Ukraine"
             ],
             "type": "scatter",
             "uid": "608139e4-ebb1-4c8a-abc4-fdca20e6e2ff",
             "x": [
              64.80000051,
              64,
              63.90000153,
              64.30000051,
              63.64999962,
              65.80000051,
              63.79999924,
              61.80000051,
              65.19999949,
              66.60000102,
              64.69999949,
              64.30000051
             ],
             "y": [
              6.174,
              5.809,
              5.648,
              5.529,
              5.4670000000000005,
              5.323,
              5.261,
              5.247000000000001,
              5.207999999999998,
              4.559,
              4.519,
              4.332
             ]
            },
            {
             "marker": {
              "size": 10
             },
             "mode": "markers",
             "name": "Sub-Saharan Africa",
             "text": [
              "Mauritius",
              "Nigeria",
              "Cameroon",
              "Ghana",
              "Ivory Coast",
              "Benin",
              "Congo (Brazzaville)",
              "Gabon",
              "South Africa",
              "Senegal",
              "Somalia",
              "Namibia",
              "Niger",
              "Burkina Faso",
              "Guinea",
              "Gambia",
              "Kenya",
              "Mauritania",
              "Mozambique",
              "Congo (Kinshasa)",
              "Mali",
              "Sierra Leone",
              "Chad",
              "Ethiopia",
              "Swaziland",
              "Uganda",
              "Zambia",
              "Togo",
              "Liberia",
              "Comoros",
              "Madagascar",
              "Lesotho",
              "Burundi",
              "Zimbabwe",
              "Botswana",
              "Malawi",
              "Rwanda",
              "Tanzania",
              "Central African Republic",
              "South Sudan"
             ],
             "type": "scatter",
             "uid": "b572f210-01d3-49cb-b78a-2cef0235fa19",
             "x": [
              66.10000102,
              49.30000051,
              51.90000025,
              56.60000039,
              48.90000026,
              53.90000026,
              57.30000051,
              59.20000076,
              56.09999974,
              59.19999949,
              50,
              55.95333354,
              53,
              53.40000153,
              53.30000051,
              54.85000038,
              59.5,
              56.70000076,
              52.86666743,
              52.70000077,
              51.20000076,
              49.19999949,
              47.70000076,
              58,
              57.7,
              55.30000051,
              54.79999924,
              54.30000051,
              55.29999924,
              55.85333379,
              58.69999949,
              46.94999886,
              53.40000153,
              55,
              58.20000076,
              56.90000025,
              60.5,
              57,
              45.05000115,
              50.79999924
             ],
             "y": [
              5.888,
              5.265,
              5.044,
              4.996,
              4.944,
              4.883,
              4.812,
              4.799,
              4.722,
              4.681,
              4.668,
              4.6389999999999985,
              4.628,
              4.587,
              4.534,
              4.516,
              4.509,
              4.49,
              4.466,
              4.418,
              4.39,
              4.374,
              4.35,
              4.2860000000000005,
              4.212,
              4.189,
              4.107,
              4.085,
              3.975,
              3.973,
              3.933,
              3.802,
              3.775,
              3.663,
              3.488,
              3.41,
              3.334,
              3.2310000000000003,
              3.083,
              2.853
             ]
            },
            {
             "marker": {
              "size": 10
             },
             "mode": "markers",
             "name": "South Asia",
             "text": [
              "Pakistan",
              "Bhutan",
              "Nepal",
              "Bangladesh",
              "Sri Lanka",
              "India",
              "Afghanistan"
             ],
             "type": "scatter",
             "uid": "308fc551-69a0-4c18-a6b0-2405392c8a69",
             "x": [
              58.09999974,
              60.05000072,
              62.40000026,
              63.80000051,
              67.09999848,
              59.69999949,
              52.79999924
             ],
             "y": [
              5.653,
              5.082,
              4.913,
              4.456,
              4.3660000000000005,
              4.015,
              3.2030000000000003
             ]
            }
           ],
           "layout": {
            "hovermode": "closest",
            "margin": {
             "b": 50,
             "pad": 5,
             "t": 50
            },
            "showlegend": true,
            "title": {
             "text": "Happiness Score vs Healthy Life Expectancy At Birth"
            },
            "xaxis": {
             "autorange": false,
             "range": [
              31.535000805,
              107.1
             ],
             "title": {
              "text": "Healthy Life Expectancy At Birth"
             }
            },
            "yaxis": {
             "autorange": false,
             "range": [
              1.9971,
              10.8766
             ],
             "title": {
              "text": "Happiness Score"
             }
            }
           }
          },
          "text/html": "<div>\n        \n        \n            <div id=\"7f21c493-cdf5-41d4-a8b4-cc64e21ae7c5\" class=\"plotly-graph-div\"></div>\n            <script type=\"text/javascript\">\n                require([\"plotly\"], function(Plotly) {\n                    window.PLOTLYENV=window.PLOTLYENV || {};\n                    window.PLOTLYENV.BASE_URL='https://plot.ly';\n                    \n                if (document.getElementById(\"7f21c493-cdf5-41d4-a8b4-cc64e21ae7c5\")) {\n                    Plotly.newPlot(\n                        '7f21c493-cdf5-41d4-a8b4-cc64e21ae7c5',\n                        [{\"marker\": {\"size\": 10}, \"mode\": \"markers\", \"name\": \"Western Europe\", \"text\": [\"Finland\", \"Denmark\", \"Norway\", \"Iceland\", \"Netherlands\", \"Switzerland\", \"Sweden\", \"Austria\", \"Luxembourg\", \"United Kingdom\", \"Ireland\", \"Germany\", \"Belgium\", \"Malta\", \"France\", \"Spain\", \"Italy\", \"Cyprus\", \"North Cyprus\", \"Portugal\", \"Greece\"], \"type\": \"scatter\", \"uid\": \"340aa60e-99c8-4aba-bc0d-f3e44a0719a7\", \"x\": [71.80000051, 72.10000102, 73.09999847, 73.0, 72.19999949, 73.80000051, 72.5, 72.69999949, 72.59999847, 72.10000102, 72.19999949, 71.89999898, 71.80000051, 72.19999695, 73.60000102, 74.10000102, 73.39999898, 73.5, 72.09121704, 72.19999949, 72.19999949], \"y\": [7.769, 7.6, 7.5539999999999985, 7.494, 7.487999999999999, 7.48, 7.343, 7.246, 7.09, 7.0539999999999985, 7.021, 6.985, 6.922999999999999, 6.726, 6.5920000000000005, 6.354, 6.223, 6.046, 5.718, 5.693, 5.287000000000001]}, {\"marker\": {\"size\": 10}, \"mode\": \"markers\", \"name\": \"North America and ANZ\", \"text\": [\"New Zealand\", \"Canada\", \"Australia\", \"United States\"], \"type\": \"scatter\", \"uid\": \"46ed116e-0624-4396-8678-7cdc3fb0a526\", \"x\": [73.0, 73.39999898, 73.30000051, 68.40000153], \"y\": [7.307, 7.278, 7.228, 6.892]}, {\"marker\": {\"size\": 10}, \"mode\": \"markers\", \"name\": \"Latin America and Caribbean\", \"text\": [\"Costa Rica\", \"Mexico\", \"Chile\", \"Guatemala\", \"Panama\", \"Brazil\", \"Uruguay\", \"El Salvador\", \"Trinidad & Tobago\", \"Colombia\", \"Nicaragua\", \"Argentina\", \"Ecuador\", \"Jamaica\", \"Honduras\", \"Bolivia\", \"Paraguay\", \"Peru\", \"Dominican Republic\", \"Venezuela\", \"Haiti\"], \"type\": \"scatter\", \"uid\": \"658f41de-e39c-48f3-b59e-30f2b3e88e61\", \"x\": [71.10000102, 68.0, 69.80000051, 64.5, 69.5, 66.19999949, 68.90000153, 65.80000051, 62.4939821, 67.39999898, 67.19999949, 68.60000102, 68.19999949, 66.9066658, 67.0, 63.29999924, 65.36666785, 67.80000051, 65.5, 66.30000051, 55.5], \"y\": [7.167000000000002, 6.595, 6.444, 6.436, 6.3210000000000015, 6.3, 6.292999999999998, 6.252999999999999, 6.192, 6.125, 6.105, 6.086, 6.028, 5.89, 5.86, 5.779, 5.7429999999999986, 5.697, 5.425, 4.707, 3.597]}, {\"marker\": {\"size\": 10}, \"mode\": \"markers\", \"name\": \"Middle East and North Africa\", \"text\": [\"Israel\", \"United Arab Emirates\", \"Saudi Arabia\", \"Qatar\", \"Bahrain\", \"Kuwait\", \"Libya\", \"Turkey\", \"Algeria\", \"Morocco\", \"Lebanon\", \"Jordan\", \"Palestinian Territories\", \"Iran\", \"Tunisia\", \"Iraq\", \"Egypt\", \"Syria\", \"Yemen\"], \"type\": \"scatter\", \"uid\": \"f9bcc332-de7d-4819-a36c-db4db6ae35c9\", \"x\": [73.10000102, 66.89999898, 66.0, 67.20285358, 68.29999924, 66.36666785, 62.29999924, 66.40000153, 65.69999949, 65.60000102, 66.59999847, 66.60000102, 62.57299042, 65.69999949, 66.60000102, 59.29999924, 61.40000025, 55.99111133, 55.90000025], \"y\": [7.1389999999999985, 6.825, 6.375, 6.374, 6.199, 6.021, 5.525, 5.372999999999998, 5.211, 5.207999999999998, 5.197, 4.9060000000000015, 4.6960000000000015, 4.548, 4.461, 4.437, 4.166, 3.462, 3.38]}, {\"marker\": {\"size\": 10}, \"mode\": \"markers\", \"name\": \"Central and Eastern Europe\", \"text\": [\"Czech Republic\", \"Slovakia\", \"Poland\", \"Lithuania\", \"Slovenia\", \"Kosovo\", \"Romania\", \"Latvia\", \"Estonia\", \"Hungary\", \"Serbia\", \"Montenegro\", \"Croatia\", \"Bosnia and Herzegovina\", \"Macedonia\", \"Bulgaria\", \"Albania\"], \"type\": \"scatter\", \"uid\": \"567429c6-70d2-44fb-bee3-364f5bed1990\", \"x\": [69.80000305, 68.60000102, 68.63333384, 66.69999949, 70.80000051, 64.87929281, 66.89999898, 66.5, 68.39999898, 66.9333335, 67.80000051, 68.30000051, 69.59999847, 67.5, 67.30000051, 66.60000102, 68.39999898], \"y\": [6.852, 6.198, 6.182, 6.149, 6.1179999999999986, 6.1, 6.07, 5.94, 5.893, 5.757999999999999, 5.603, 5.523, 5.432, 5.386, 5.274, 5.011, 4.7189999999999985]}, {\"marker\": {\"size\": 10}, \"mode\": \"markers\", \"name\": \"East Asia\", \"text\": [\"Taiwan\", \"South Korea\", \"Japan\", \"Hong Kong SAR, China\", \"Mongolia\", \"China\"], \"type\": \"scatter\", \"uid\": \"11203465-4613-4b05-87b2-d5ca56d51167\", \"x\": [71.4327, 73.30000051, 74.90000153, 75.9304123, 62.09999975, 69.0], \"y\": [6.4460000000000015, 5.895, 5.886, 5.43, 5.285, 5.191]}, {\"marker\": {\"size\": 10}, \"mode\": \"markers\", \"name\": \"Southeast Asia\", \"text\": [\"Singapore\", \"Thailand\", \"Philippines\", \"Malaysia\", \"Indonesia\", \"Vietnam\", \"Laos\", \"Cambodia\", \"Myanmar\"], \"type\": \"scatter\", \"uid\": \"b94b8b8c-4076-43f2-9da6-7672007a437f\", \"x\": [76.5, 67.0, 61.80000051, 67.0, 61.90000025, 67.69999949, 57.86666616, 61.19999949, 58.70000076], \"y\": [6.2620000000000005, 6.007999999999999, 5.631, 5.339, 5.192, 5.175, 4.796, 4.7, 4.36]}, {\"marker\": {\"size\": 10}, \"mode\": \"markers\", \"name\": \"Commonwealth of Independent States\", \"text\": [\"Uzbekistan\", \"Kazakhstan\", \"Russia\", \"Moldova\", \"Tajikistan\", \"Belarus\", \"Kyrgyzstan\", \"Turkmenistan\", \"Azerbaijan\", \"Armenia\", \"Georgia\", \"Ukraine\"], \"type\": \"scatter\", \"uid\": \"3a590053-fba6-44cd-98b5-7d82dc90ef21\", \"x\": [64.80000051, 64.0, 63.90000153, 64.30000051, 63.64999962, 65.80000051, 63.79999924, 61.80000051, 65.19999949, 66.60000102, 64.69999949, 64.30000051], \"y\": [6.174, 5.809, 5.648, 5.529, 5.4670000000000005, 5.323, 5.261, 5.247000000000001, 5.207999999999998, 4.559, 4.519, 4.332]}, {\"marker\": {\"size\": 10}, \"mode\": \"markers\", \"name\": \"Sub-Saharan Africa\", \"text\": [\"Mauritius\", \"Nigeria\", \"Cameroon\", \"Ghana\", \"Ivory Coast\", \"Benin\", \"Congo (Brazzaville)\", \"Gabon\", \"South Africa\", \"Senegal\", \"Somalia\", \"Namibia\", \"Niger\", \"Burkina Faso\", \"Guinea\", \"Gambia\", \"Kenya\", \"Mauritania\", \"Mozambique\", \"Congo (Kinshasa)\", \"Mali\", \"Sierra Leone\", \"Chad\", \"Ethiopia\", \"Swaziland\", \"Uganda\", \"Zambia\", \"Togo\", \"Liberia\", \"Comoros\", \"Madagascar\", \"Lesotho\", \"Burundi\", \"Zimbabwe\", \"Botswana\", \"Malawi\", \"Rwanda\", \"Tanzania\", \"Central African Republic\", \"South Sudan\"], \"type\": \"scatter\", \"uid\": \"3d55249d-b311-4bca-b2c3-8b4c2deb94e3\", \"x\": [66.10000102, 49.30000051, 51.90000025, 56.60000039, 48.90000026, 53.90000026, 57.30000051, 59.20000076, 56.09999974, 59.19999949, 50.0, 55.95333354, 53.0, 53.40000153, 53.30000051, 54.85000038, 59.5, 56.70000076, 52.86666743, 52.70000077, 51.20000076, 49.19999949, 47.70000076, 58.0, 57.7, 55.30000051, 54.79999924, 54.30000051, 55.29999924, 55.85333379, 58.69999949, 46.94999886, 53.40000153, 55.0, 58.20000076, 56.90000025, 60.5, 57.0, 45.05000115, 50.79999924], \"y\": [5.888, 5.265, 5.044, 4.996, 4.944, 4.883, 4.812, 4.799, 4.722, 4.681, 4.668, 4.6389999999999985, 4.628, 4.587, 4.534, 4.516, 4.509, 4.49, 4.466, 4.418, 4.39, 4.374, 4.35, 4.2860000000000005, 4.212, 4.189, 4.107, 4.085, 3.975, 3.973, 3.933, 3.802, 3.775, 3.663, 3.488, 3.41, 3.334, 3.2310000000000003, 3.083, 2.853]}, {\"marker\": {\"size\": 10}, \"mode\": \"markers\", \"name\": \"South Asia\", \"text\": [\"Pakistan\", \"Bhutan\", \"Nepal\", \"Bangladesh\", \"Sri Lanka\", \"India\", \"Afghanistan\"], \"type\": \"scatter\", \"uid\": \"096bfdeb-b87b-41d2-8672-16a76ea4a848\", \"x\": [58.09999974, 60.05000072, 62.40000026, 63.80000051, 67.09999848, 59.69999949, 52.79999924], \"y\": [5.653, 5.082, 4.913, 4.456, 4.3660000000000005, 4.015, 3.2030000000000003]}],\n                        {\"hovermode\": \"closest\", \"margin\": {\"b\": 50, \"pad\": 5, \"t\": 50}, \"showlegend\": true, \"title\": {\"text\": \"Happiness Score vs Healthy Life Expectancy At Birth\"}, \"xaxis\": {\"autorange\": false, \"range\": [31.535000805, 107.1], \"title\": {\"text\": \"Healthy Life Expectancy At Birth\"}}, \"yaxis\": {\"autorange\": false, \"range\": [1.9971, 10.8766], \"title\": {\"text\": \"Happiness Score\"}}},\n                        {\"showLink\": false, \"linkText\": \"Export to plot.ly\", \"plotlyServerURL\": \"https://plot.ly\", \"responsive\": true}\n                    )\n                };\n                });\n            </script>\n        </div>"
         },
         "metadata": {},
         "output_type": "display_data"
        }
       ]
      }
     },
     "38e10548d863494ca524f58e82534631": {
      "model_module": "@jupyter-widgets/controls",
      "model_module_version": "1.4.0",
      "model_name": "VBoxModel",
      "state": {
       "_dom_classes": [
        "widget-interact"
       ],
       "children": [
        "IPY_MODEL_7eb938ffaa954843912837d4da880bc9",
        "IPY_MODEL_71f788c8d891443eba5c4528e631d114",
        "IPY_MODEL_4424cb5fe1644b51814b27f1456acb32",
        "IPY_MODEL_f164e108f5c94b96bd31956eedec419a",
        "IPY_MODEL_2f3534c90a254e97864d0e70b7c80758"
       ],
       "layout": "IPY_MODEL_3083e9b89ee8415293f9faa76f361bb1"
      }
     },
     "391f8f37e0de483cb3a2418bd08ad913": {
      "model_module": "@jupyter-widgets/base",
      "model_module_version": "1.1.0",
      "model_name": "LayoutModel",
      "state": {}
     },
     "39c2e8751cb94b8e9a6319999186e3e3": {
      "model_module": "@jupyter-widgets/base",
      "model_module_version": "1.1.0",
      "model_name": "LayoutModel",
      "state": {}
     },
     "3a8544dd2a1f473e87e99b903bd1c63d": {
      "model_module": "@jupyter-widgets/controls",
      "model_module_version": "1.4.0",
      "model_name": "DescriptionStyleModel",
      "state": {
       "description_width": ""
      }
     },
     "3ade502182124c95910661c812ebb32a": {
      "model_module": "@jupyter-widgets/base",
      "model_module_version": "1.1.0",
      "model_name": "LayoutModel",
      "state": {}
     },
     "3bbb17f85453447c816a038bc2129a06": {
      "model_module": "@jupyter-widgets/base",
      "model_module_version": "1.1.0",
      "model_name": "LayoutModel",
      "state": {}
     },
     "3ed6e6d97cee474bb8191c4db6e168ec": {
      "model_module": "@jupyter-widgets/base",
      "model_module_version": "1.1.0",
      "model_name": "LayoutModel",
      "state": {}
     },
     "3f43f8f675a34515bc775b12ab0feaaf": {
      "model_module": "@jupyter-widgets/base",
      "model_module_version": "1.1.0",
      "model_name": "LayoutModel",
      "state": {}
     },
     "3fad5789f69a42c4a88f4dd8f10d8d36": {
      "model_module": "@jupyter-widgets/controls",
      "model_module_version": "1.4.0",
      "model_name": "DescriptionStyleModel",
      "state": {
       "description_width": ""
      }
     },
     "3fd2d473cb124b4e8c3e416c6190d9e5": {
      "model_module": "@jupyter-widgets/controls",
      "model_module_version": "1.4.0",
      "model_name": "DescriptionStyleModel",
      "state": {
       "description_width": ""
      }
     },
     "402a6a5de20d42c49a5d4bc8e81caaad": {
      "model_module": "@jupyter-widgets/controls",
      "model_module_version": "1.4.0",
      "model_name": "DropdownModel",
      "state": {
       "_options_labels": [
        "Life Ladder",
        "Log GDP per capita",
        "Social support",
        "Healthy life expectancy at birth",
        "Freedom to make life choices",
        "Generosity",
        "Perceptions of corruption",
        "Positive affect",
        "Negative affect",
        "Confidence in national government",
        "Democratic Quality",
        "Delivery Quality",
        "GINI of household income reported in Gallup, by wp5-year"
       ],
       "description": "y",
       "index": 0,
       "layout": "IPY_MODEL_89c1addc54694c998184d387b29b549d",
       "style": "IPY_MODEL_ba791b2d40d94965a70b4dd0f35be962"
      }
     },
     "412fcdbf9fbf4eebaaaa0079bd495764": {
      "model_module": "@jupyter-widgets/base",
      "model_module_version": "1.1.0",
      "model_name": "LayoutModel",
      "state": {}
     },
     "41a921199f234f38b84f9563b0976a46": {
      "model_module": "@jupyter-widgets/controls",
      "model_module_version": "1.4.0",
      "model_name": "DropdownModel",
      "state": {
       "_options_labels": [
        "Happiness Score",
        "Life Ladder",
        "Log GDP per capita",
        "Social support",
        "Healthy life expectancy at birth",
        "Freedom to make life choices",
        "Generosity",
        "Perceptions of corruption",
        "Positive affect",
        "Negative affect",
        "Confidence in national government",
        "Democratic Quality",
        "Delivery Quality",
        "GINI of household income reported in Gallup, by wp5-year"
       ],
       "description": "y",
       "index": 0,
       "layout": "IPY_MODEL_118e95c6f7674378ae7abf42c3d3a595",
       "style": "IPY_MODEL_8e905b056a484656b24794131a248795"
      }
     },
     "42cb2824ab7444e5bff1df9435d11835": {
      "model_module": "@jupyter-widgets/controls",
      "model_module_version": "1.4.0",
      "model_name": "DescriptionStyleModel",
      "state": {
       "description_width": ""
      }
     },
     "431a7ca07ede4ac2a4b66f23197f50f6": {
      "model_module": "@jupyter-widgets/controls",
      "model_module_version": "1.4.0",
      "model_name": "DescriptionStyleModel",
      "state": {
       "description_width": ""
      }
     },
     "4424cb5fe1644b51814b27f1456acb32": {
      "model_module": "@jupyter-widgets/controls",
      "model_module_version": "1.4.0",
      "model_name": "DropdownModel",
      "state": {
       "_options_labels": [
        "ggplot",
        "pearl",
        "solar",
        "space",
        "white",
        "polar",
        "henanigans"
       ],
       "description": "theme",
       "index": 0,
       "layout": "IPY_MODEL_7bf859ece23d4335b51ba9718822cc6c",
       "style": "IPY_MODEL_a1cf74b6e9394236832a83d7c580d697"
      }
     },
     "44bcc7fa2cbb46a49674ac3fc761408a": {
      "model_module": "@jupyter-widgets/controls",
      "model_module_version": "1.4.0",
      "model_name": "DropdownModel",
      "state": {
       "_options_labels": [
        "brbg",
        "prgn",
        "piyg",
        "puor",
        "rdbu",
        "rdgy",
        "rdylbu",
        "rdylgn",
        "spectral",
        "paired",
        "set3",
        "dflt",
        "original",
        "plotly",
        "accent",
        "dark2",
        "pastel1",
        "pastel2",
        "set1",
        "set2",
        "blues",
        "bugn",
        "bupu",
        "gnbu",
        "greens",
        "greys",
        "orrd",
        "oranges",
        "pubu",
        "pubugn",
        "purd",
        "purples",
        "rdpu",
        "reds",
        "ylgn",
        "ylgnbu",
        "ylorbr",
        "ylorrd",
        "ggplot",
        "polar"
       ],
       "description": "colorscale",
       "index": 0,
       "layout": "IPY_MODEL_6a8b27fe532047dc941d9d7f2b94483b",
       "style": "IPY_MODEL_a2e9f5c9bf6f4da8b40f0f267c71c77a"
      }
     },
     "45048f6209de4f7eada5ece7157edeb3": {
      "model_module": "@jupyter-widgets/controls",
      "model_module_version": "1.4.0",
      "model_name": "DescriptionStyleModel",
      "state": {
       "description_width": ""
      }
     },
     "4522728cef444cffa533942c40f00bec": {
      "model_module": "@jupyter-widgets/controls",
      "model_module_version": "1.4.0",
      "model_name": "DropdownModel",
      "state": {
       "_options_labels": [
        "Life Ladder",
        "Log GDP per capita",
        "Social support",
        "Healthy life expectancy at birth",
        "Freedom to make life choices",
        "Generosity",
        "Perceptions of corruption",
        "Positive affect",
        "Negative affect",
        "Confidence in national government",
        "Democratic Quality",
        "Delivery Quality",
        "GINI of household income reported in Gallup, by wp5-year"
       ],
       "description": "y",
       "index": 0,
       "layout": "IPY_MODEL_2d5c38cdfaa94dc495b17c117570efbe",
       "style": "IPY_MODEL_2788d5a700644e3db90ca4327da3b07a"
      }
     },
     "45d15012070f400e8049628e056392e5": {
      "model_module": "@jupyter-widgets/controls",
      "model_module_version": "1.4.0",
      "model_name": "DropdownModel",
      "state": {
       "_options_labels": [
        "brbg",
        "prgn",
        "piyg",
        "puor",
        "rdbu",
        "rdgy",
        "rdylbu",
        "rdylgn",
        "spectral",
        "paired",
        "set3",
        "dflt",
        "original",
        "plotly",
        "accent",
        "dark2",
        "pastel1",
        "pastel2",
        "set1",
        "set2",
        "blues",
        "bugn",
        "bupu",
        "gnbu",
        "greens",
        "greys",
        "orrd",
        "oranges",
        "pubu",
        "pubugn",
        "purd",
        "purples",
        "rdpu",
        "reds",
        "ylgn",
        "ylgnbu",
        "ylorbr",
        "ylorrd",
        "ggplot",
        "polar"
       ],
       "description": "colorscale",
       "index": 0,
       "layout": "IPY_MODEL_baf83704cef84d8ab84f7ad6eb1dc910",
       "style": "IPY_MODEL_920759ebc3874c58b1aa496242140ba9"
      }
     },
     "46119578e2534c01acd5c5e0c02be37e": {
      "model_module": "@jupyter-widgets/controls",
      "model_module_version": "1.4.0",
      "model_name": "DescriptionStyleModel",
      "state": {
       "description_width": ""
      }
     },
     "46318b48f71d41128f88772840c4909d": {
      "model_module": "@jupyter-widgets/base",
      "model_module_version": "1.1.0",
      "model_name": "LayoutModel",
      "state": {}
     },
     "4701dfe89d344d4d98ea8a06347dfbc1": {
      "model_module": "@jupyter-widgets/controls",
      "model_module_version": "1.4.0",
      "model_name": "DescriptionStyleModel",
      "state": {
       "description_width": ""
      }
     },
     "47eedf8656034d409d35e4057772d0ca": {
      "model_module": "@jupyter-widgets/base",
      "model_module_version": "1.1.0",
      "model_name": "LayoutModel",
      "state": {}
     },
     "48e8b5a6d69a47c198dae4dcd42767c1": {
      "model_module": "@jupyter-widgets/controls",
      "model_module_version": "1.4.0",
      "model_name": "DropdownModel",
      "state": {
       "_options_labels": [
        "brbg",
        "prgn",
        "piyg",
        "puor",
        "rdbu",
        "rdgy",
        "rdylbu",
        "rdylgn",
        "spectral",
        "paired",
        "set3",
        "dflt",
        "original",
        "plotly",
        "accent",
        "dark2",
        "pastel1",
        "pastel2",
        "set1",
        "set2",
        "blues",
        "bugn",
        "bupu",
        "gnbu",
        "greens",
        "greys",
        "orrd",
        "oranges",
        "pubu",
        "pubugn",
        "purd",
        "purples",
        "rdpu",
        "reds",
        "ylgn",
        "ylgnbu",
        "ylorbr",
        "ylorrd",
        "ggplot",
        "polar"
       ],
       "description": "colorscale",
       "index": 0,
       "layout": "IPY_MODEL_a9f37802159e4ab7850a69de9289dd32",
       "style": "IPY_MODEL_45048f6209de4f7eada5ece7157edeb3"
      }
     },
     "490b249322884877badd5e161cf70f09": {
      "model_module": "@jupyter-widgets/base",
      "model_module_version": "1.1.0",
      "model_name": "LayoutModel",
      "state": {}
     },
     "49ee5551ae5444f6a4504f4622549067": {
      "model_module": "@jupyter-widgets/base",
      "model_module_version": "1.1.0",
      "model_name": "LayoutModel",
      "state": {}
     },
     "4a0838ab51fc4a2cae60a6a59ba8306e": {
      "model_module": "@jupyter-widgets/controls",
      "model_module_version": "1.4.0",
      "model_name": "DescriptionStyleModel",
      "state": {
       "description_width": ""
      }
     },
     "4a37e02fa8704665ab8e10b81913914a": {
      "model_module": "@jupyter-widgets/base",
      "model_module_version": "1.1.0",
      "model_name": "LayoutModel",
      "state": {}
     },
     "4b04781f02a3495c9192c6cf0a01e22d": {
      "model_module": "@jupyter-widgets/controls",
      "model_module_version": "1.4.0",
      "model_name": "DescriptionStyleModel",
      "state": {
       "description_width": ""
      }
     },
     "4bc687b40df24c6a9e3cb57283333d53": {
      "model_module": "@jupyter-widgets/base",
      "model_module_version": "1.1.0",
      "model_name": "LayoutModel",
      "state": {}
     },
     "4d3cc28535ef469b80aefcbf5236c2ea": {
      "model_module": "@jupyter-widgets/controls",
      "model_module_version": "1.4.0",
      "model_name": "DescriptionStyleModel",
      "state": {
       "description_width": ""
      }
     },
     "4e36c28154eb4c78abef62c7f2978311": {
      "model_module": "@jupyter-widgets/controls",
      "model_module_version": "1.4.0",
      "model_name": "DropdownModel",
      "state": {
       "_options_labels": [
        "Life Ladder",
        "Log GDP per capita",
        "Social support",
        "Healthy life expectancy at birth",
        "Freedom to make life choices",
        "Generosity",
        "Perceptions of corruption",
        "Positive affect",
        "Negative affect",
        "Confidence in national government",
        "Democratic Quality",
        "Delivery Quality",
        "GINI of household income reported in Gallup, by wp5-year"
       ],
       "description": "y",
       "index": 1,
       "layout": "IPY_MODEL_0b99e447e9954562bc1714f0b740e649",
       "style": "IPY_MODEL_b42869fe3024432d808eb85aba0b89d0"
      }
     },
     "4efe9cb381534bc58311b9e4f8022767": {
      "model_module": "@jupyter-widgets/base",
      "model_module_version": "1.1.0",
      "model_name": "LayoutModel",
      "state": {}
     },
     "5128d1ac6e5449c2b712c91c58b8036f": {
      "model_module": "@jupyter-widgets/controls",
      "model_module_version": "1.4.0",
      "model_name": "DescriptionStyleModel",
      "state": {
       "description_width": ""
      }
     },
     "5142b67733504b63bde20451241a8adf": {
      "model_module": "@jupyter-widgets/controls",
      "model_module_version": "1.4.0",
      "model_name": "DescriptionStyleModel",
      "state": {
       "description_width": ""
      }
     },
     "523edf4ecc5b4c77b77bfeb770dcaa6a": {
      "model_module": "@jupyter-widgets/base",
      "model_module_version": "1.1.0",
      "model_name": "LayoutModel",
      "state": {}
     },
     "52996170fc6248a9a4b88753b0c75801": {
      "model_module": "@jupyter-widgets/controls",
      "model_module_version": "1.4.0",
      "model_name": "DropdownModel",
      "state": {
       "_options_labels": [
        "ggplot",
        "pearl",
        "solar",
        "space",
        "white",
        "polar",
        "henanigans"
       ],
       "description": "theme",
       "index": 0,
       "layout": "IPY_MODEL_97a16f1bc76549ffaa82e1cedf7d5782",
       "style": "IPY_MODEL_f8c50b43701c4fca9754959785c9a459"
      }
     },
     "52a0ed7fbc46492a8267b2e60948deaf": {
      "model_module": "@jupyter-widgets/base",
      "model_module_version": "1.1.0",
      "model_name": "LayoutModel",
      "state": {}
     },
     "52bd3c26d5b242519664203e78dff9e9": {
      "model_module": "@jupyter-widgets/controls",
      "model_module_version": "1.4.0",
      "model_name": "DescriptionStyleModel",
      "state": {
       "description_width": ""
      }
     },
     "53376be8fed04b128ba5a2e6259d268c": {
      "model_module": "@jupyter-widgets/controls",
      "model_module_version": "1.4.0",
      "model_name": "VBoxModel",
      "state": {
       "_dom_classes": [
        "widget-interact"
       ],
       "children": [
        "IPY_MODEL_0aaa8cf5ef614630821036699336988e",
        "IPY_MODEL_ce5b15cfa0e2468bb66a91f85bbb2cc0",
        "IPY_MODEL_025ff004fc13415fae9686a5c0ec5ea8",
        "IPY_MODEL_67c2cc62df7c45e2a6841428dfe5af69",
        "IPY_MODEL_777aa224da584e1a98c67d2415960568"
       ],
       "layout": "IPY_MODEL_a60a653b2ae74636bc00b038a08c5ffb"
      }
     },
     "54e485652a1b4e85a79284dbf0f6b3a5": {
      "model_module": "@jupyter-widgets/controls",
      "model_module_version": "1.4.0",
      "model_name": "DescriptionStyleModel",
      "state": {
       "description_width": ""
      }
     },
     "550d7fe2fd54452fafd4778e09df1625": {
      "model_module": "@jupyter-widgets/controls",
      "model_module_version": "1.4.0",
      "model_name": "DropdownModel",
      "state": {
       "_options_labels": [
        "Happiness Score",
        "Life Ladder",
        "Log GDP per capita",
        "Social support",
        "Healthy life expectancy at birth",
        "Freedom to make life choices",
        "Generosity",
        "Perceptions of corruption",
        "Positive affect",
        "Negative affect",
        "Confidence in national government",
        "Democratic Quality",
        "Delivery Quality",
        "GINI of household income reported in Gallup, by wp5-year"
       ],
       "description": "y",
       "index": 0,
       "layout": "IPY_MODEL_18c8e0bbd53341eb9e276c94757ca94b",
       "style": "IPY_MODEL_bd8211d10c194bbab235182b1f6a32b7"
      }
     },
     "5599d135a5b94a7eb8df8ce11311966a": {
      "model_module": "@jupyter-widgets/base",
      "model_module_version": "1.1.0",
      "model_name": "LayoutModel",
      "state": {}
     },
     "56374d5cc3f64065b8bdc7602c523190": {
      "model_module": "@jupyter-widgets/controls",
      "model_module_version": "1.4.0",
      "model_name": "DropdownModel",
      "state": {
       "_options_labels": [
        "Life Ladder",
        "Log GDP per capita",
        "Social support",
        "Healthy life expectancy at birth",
        "Freedom to make life choices",
        "Generosity",
        "Perceptions of corruption",
        "Positive affect",
        "Negative affect",
        "Confidence in national government",
        "Democratic Quality",
        "Delivery Quality",
        "GINI of household income reported in Gallup, by wp5-year"
       ],
       "description": "x",
       "index": 4,
       "layout": "IPY_MODEL_891aacdc2dc54e0989a8afb682551a93",
       "style": "IPY_MODEL_5142b67733504b63bde20451241a8adf"
      }
     },
     "56738d7f06434d1f908cce4ac9c6e9b7": {
      "model_module": "@jupyter-widgets/base",
      "model_module_version": "1.1.0",
      "model_name": "LayoutModel",
      "state": {}
     },
     "579b59a1ac04456cb8aac767e55d20f4": {
      "model_module": "@jupyter-widgets/output",
      "model_module_version": "1.0.0",
      "model_name": "OutputModel",
      "state": {
       "layout": "IPY_MODEL_83bf2bc4a93f4299820f87e0cceb4d10",
       "outputs": [
        {
         "ename": "ValueError",
         "evalue": "could not convert string to float: 'Western Europe'",
         "output_type": "error",
         "traceback": [
          "\u001b[1;31m---------------------------------------------------------------------------\u001b[0m",
          "\u001b[1;31mValueError\u001b[0m                                Traceback (most recent call last)",
          "\u001b[1;32m~\\AppData\\Local\\Continuum\\anaconda3\\lib\\site-packages\\ipywidgets\\widgets\\interaction.py\u001b[0m in \u001b[0;36mupdate\u001b[1;34m(self, *args)\u001b[0m\n\u001b[0;32m    249\u001b[0m                     \u001b[0mvalue\u001b[0m \u001b[1;33m=\u001b[0m \u001b[0mwidget\u001b[0m\u001b[1;33m.\u001b[0m\u001b[0mget_interact_value\u001b[0m\u001b[1;33m(\u001b[0m\u001b[1;33m)\u001b[0m\u001b[1;33m\u001b[0m\u001b[1;33m\u001b[0m\u001b[0m\n\u001b[0;32m    250\u001b[0m                     \u001b[0mself\u001b[0m\u001b[1;33m.\u001b[0m\u001b[0mkwargs\u001b[0m\u001b[1;33m[\u001b[0m\u001b[0mwidget\u001b[0m\u001b[1;33m.\u001b[0m\u001b[0m_kwarg\u001b[0m\u001b[1;33m]\u001b[0m \u001b[1;33m=\u001b[0m \u001b[0mvalue\u001b[0m\u001b[1;33m\u001b[0m\u001b[1;33m\u001b[0m\u001b[0m\n\u001b[1;32m--> 251\u001b[1;33m                 \u001b[0mself\u001b[0m\u001b[1;33m.\u001b[0m\u001b[0mresult\u001b[0m \u001b[1;33m=\u001b[0m \u001b[0mself\u001b[0m\u001b[1;33m.\u001b[0m\u001b[0mf\u001b[0m\u001b[1;33m(\u001b[0m\u001b[1;33m**\u001b[0m\u001b[0mself\u001b[0m\u001b[1;33m.\u001b[0m\u001b[0mkwargs\u001b[0m\u001b[1;33m)\u001b[0m\u001b[1;33m\u001b[0m\u001b[1;33m\u001b[0m\u001b[0m\n\u001b[0m\u001b[0;32m    252\u001b[0m                 \u001b[0mshow_inline_matplotlib_plots\u001b[0m\u001b[1;33m(\u001b[0m\u001b[1;33m)\u001b[0m\u001b[1;33m\u001b[0m\u001b[1;33m\u001b[0m\u001b[0m\n\u001b[0;32m    253\u001b[0m                 \u001b[1;32mif\u001b[0m \u001b[0mself\u001b[0m\u001b[1;33m.\u001b[0m\u001b[0mauto_display\u001b[0m \u001b[1;32mand\u001b[0m \u001b[0mself\u001b[0m\u001b[1;33m.\u001b[0m\u001b[0mresult\u001b[0m \u001b[1;32mis\u001b[0m \u001b[1;32mnot\u001b[0m \u001b[1;32mNone\u001b[0m\u001b[1;33m:\u001b[0m\u001b[1;33m\u001b[0m\u001b[1;33m\u001b[0m\u001b[0m\n",
          "\u001b[1;32m<ipython-input-37-b1a123c800fb>\u001b[0m in \u001b[0;36mbubble_plot\u001b[1;34m(y, x, theme, colorscale)\u001b[0m\n\u001b[0;32m      8\u001b[0m                   \u001b[0mxTitle\u001b[0m\u001b[1;33m=\u001b[0m\u001b[0mx\u001b[0m\u001b[1;33m.\u001b[0m\u001b[0mtitle\u001b[0m\u001b[1;33m(\u001b[0m\u001b[1;33m)\u001b[0m\u001b[1;33m,\u001b[0m \u001b[0myTitle\u001b[0m\u001b[1;33m=\u001b[0m\u001b[0my\u001b[0m\u001b[1;33m.\u001b[0m\u001b[0mtitle\u001b[0m\u001b[1;33m(\u001b[0m\u001b[1;33m)\u001b[0m\u001b[1;33m,\u001b[0m\u001b[1;33m\u001b[0m\u001b[1;33m\u001b[0m\u001b[0m\n\u001b[0;32m      9\u001b[0m                   \u001b[0mtitle\u001b[0m \u001b[1;33m=\u001b[0m \u001b[1;34mf'{y.title()} vs {x.title()}'\u001b[0m\u001b[1;33m,\u001b[0m\u001b[1;33m\u001b[0m\u001b[1;33m\u001b[0m\u001b[0m\n\u001b[1;32m---> 10\u001b[1;33m                   theme=theme, colorscale=colorscale)\n\u001b[0m",
          "\u001b[1;32m~\\AppData\\Local\\Continuum\\anaconda3\\lib\\site-packages\\cufflinks\\plotlytools.py\u001b[0m in \u001b[0;36m_iplot\u001b[1;34m(self, kind, data, layout, filename, sharing, title, xTitle, yTitle, zTitle, theme, colors, colorscale, fill, width, dash, mode, interpolation, symbol, size, barmode, sortbars, bargap, bargroupgap, bins, histnorm, histfunc, orientation, boxpoints, annotations, keys, bestfit, bestfit_colors, mean, mean_colors, categories, x, y, z, text, gridcolor, zerolinecolor, margin, labels, values, secondary_y, secondary_y_title, subplots, shape, error_x, error_y, error_type, locations, lon, lat, asFrame, asDates, asFigure, asImage, dimensions, asPlot, asUrl, online, **kwargs)\u001b[0m\n\u001b[0;32m    787\u001b[0m                                                 \u001b[1;32mif\u001b[0m \u001b[1;32mnot\u001b[0m \u001b[0mkwargs\u001b[0m\u001b[1;33m.\u001b[0m\u001b[0mget\u001b[0m\u001b[1;33m(\u001b[0m\u001b[1;34m'abs_size'\u001b[0m\u001b[1;33m,\u001b[0m\u001b[1;32mFalse\u001b[0m\u001b[1;33m)\u001b[0m\u001b[1;33m:\u001b[0m\u001b[1;33m\u001b[0m\u001b[1;33m\u001b[0m\u001b[0m\n\u001b[0;32m    788\u001b[0m                                                         \u001b[1;32mif\u001b[0m \u001b[0mlen\u001b[0m\u001b[1;33m(\u001b[0m\u001b[0mrgo\u001b[0m\u001b[1;33m)\u001b[0m\u001b[1;33m>\u001b[0m\u001b[1;36m1\u001b[0m\u001b[1;33m:\u001b[0m\u001b[1;33m\u001b[0m\u001b[1;33m\u001b[0m\u001b[0m\n\u001b[1;32m--> 789\u001b[1;33m                                                                 \u001b[0m_size\u001b[0m\u001b[1;33m=\u001b[0m\u001b[1;33m[\u001b[0m\u001b[0mint\u001b[0m\u001b[1;33m(\u001b[0m\u001b[1;36m100\u001b[0m\u001b[1;33m*\u001b[0m\u001b[1;33m(\u001b[0m\u001b[0mfloat\u001b[0m\u001b[1;33m(\u001b[0m\u001b[0mi\u001b[0m\u001b[1;33m)\u001b[0m\u001b[1;33m-\u001b[0m\u001b[0mrgo\u001b[0m\u001b[1;33m.\u001b[0m\u001b[0mmin\u001b[0m\u001b[1;33m(\u001b[0m \u001b[1;33m)\u001b[0m\u001b[1;33m)\u001b[0m\u001b[1;33m/\u001b[0m\u001b[1;33m(\u001b[0m\u001b[0mrgo\u001b[0m\u001b[1;33m.\u001b[0m\u001b[0mmax\u001b[0m\u001b[1;33m(\u001b[0m\u001b[1;33m)\u001b[0m\u001b[1;33m-\u001b[0m\u001b[0mrgo\u001b[0m\u001b[1;33m.\u001b[0m\u001b[0mmin\u001b[0m\u001b[1;33m(\u001b[0m\u001b[1;33m)\u001b[0m\u001b[1;33m)\u001b[0m\u001b[1;33m)\u001b[0m\u001b[1;33m+\u001b[0m\u001b[1;36m12\u001b[0m \u001b[1;32mfor\u001b[0m \u001b[0mi\u001b[0m \u001b[1;32min\u001b[0m \u001b[0mrg\u001b[0m\u001b[1;33m]\u001b[0m\u001b[1;33m\u001b[0m\u001b[1;33m\u001b[0m\u001b[0m\n\u001b[0m\u001b[0;32m    790\u001b[0m                                                         \u001b[1;32melse\u001b[0m\u001b[1;33m:\u001b[0m\u001b[1;33m\u001b[0m\u001b[1;33m\u001b[0m\u001b[0m\n\u001b[0;32m    791\u001b[0m                                                                 \u001b[0m_size\u001b[0m\u001b[1;33m=\u001b[0m\u001b[1;33m[\u001b[0m\u001b[1;36m12\u001b[0m\u001b[1;33m]\u001b[0m \u001b[1;32mif\u001b[0m \u001b[0mlen\u001b[0m\u001b[1;33m(\u001b[0m\u001b[0mrgo\u001b[0m\u001b[1;33m)\u001b[0m \u001b[1;32melse\u001b[0m \u001b[1;33m[\u001b[0m\u001b[1;33m]\u001b[0m\u001b[1;33m\u001b[0m\u001b[1;33m\u001b[0m\u001b[0m\n",
          "\u001b[1;32m~\\AppData\\Local\\Continuum\\anaconda3\\lib\\site-packages\\cufflinks\\plotlytools.py\u001b[0m in \u001b[0;36m<listcomp>\u001b[1;34m(.0)\u001b[0m\n\u001b[0;32m    787\u001b[0m                                                 \u001b[1;32mif\u001b[0m \u001b[1;32mnot\u001b[0m \u001b[0mkwargs\u001b[0m\u001b[1;33m.\u001b[0m\u001b[0mget\u001b[0m\u001b[1;33m(\u001b[0m\u001b[1;34m'abs_size'\u001b[0m\u001b[1;33m,\u001b[0m\u001b[1;32mFalse\u001b[0m\u001b[1;33m)\u001b[0m\u001b[1;33m:\u001b[0m\u001b[1;33m\u001b[0m\u001b[1;33m\u001b[0m\u001b[0m\n\u001b[0;32m    788\u001b[0m                                                         \u001b[1;32mif\u001b[0m \u001b[0mlen\u001b[0m\u001b[1;33m(\u001b[0m\u001b[0mrgo\u001b[0m\u001b[1;33m)\u001b[0m\u001b[1;33m>\u001b[0m\u001b[1;36m1\u001b[0m\u001b[1;33m:\u001b[0m\u001b[1;33m\u001b[0m\u001b[1;33m\u001b[0m\u001b[0m\n\u001b[1;32m--> 789\u001b[1;33m                                                                 \u001b[0m_size\u001b[0m\u001b[1;33m=\u001b[0m\u001b[1;33m[\u001b[0m\u001b[0mint\u001b[0m\u001b[1;33m(\u001b[0m\u001b[1;36m100\u001b[0m\u001b[1;33m*\u001b[0m\u001b[1;33m(\u001b[0m\u001b[0mfloat\u001b[0m\u001b[1;33m(\u001b[0m\u001b[0mi\u001b[0m\u001b[1;33m)\u001b[0m\u001b[1;33m-\u001b[0m\u001b[0mrgo\u001b[0m\u001b[1;33m.\u001b[0m\u001b[0mmin\u001b[0m\u001b[1;33m(\u001b[0m \u001b[1;33m)\u001b[0m\u001b[1;33m)\u001b[0m\u001b[1;33m/\u001b[0m\u001b[1;33m(\u001b[0m\u001b[0mrgo\u001b[0m\u001b[1;33m.\u001b[0m\u001b[0mmax\u001b[0m\u001b[1;33m(\u001b[0m\u001b[1;33m)\u001b[0m\u001b[1;33m-\u001b[0m\u001b[0mrgo\u001b[0m\u001b[1;33m.\u001b[0m\u001b[0mmin\u001b[0m\u001b[1;33m(\u001b[0m\u001b[1;33m)\u001b[0m\u001b[1;33m)\u001b[0m\u001b[1;33m)\u001b[0m\u001b[1;33m+\u001b[0m\u001b[1;36m12\u001b[0m \u001b[1;32mfor\u001b[0m \u001b[0mi\u001b[0m \u001b[1;32min\u001b[0m \u001b[0mrg\u001b[0m\u001b[1;33m]\u001b[0m\u001b[1;33m\u001b[0m\u001b[1;33m\u001b[0m\u001b[0m\n\u001b[0m\u001b[0;32m    790\u001b[0m                                                         \u001b[1;32melse\u001b[0m\u001b[1;33m:\u001b[0m\u001b[1;33m\u001b[0m\u001b[1;33m\u001b[0m\u001b[0m\n\u001b[0;32m    791\u001b[0m                                                                 \u001b[0m_size\u001b[0m\u001b[1;33m=\u001b[0m\u001b[1;33m[\u001b[0m\u001b[1;36m12\u001b[0m\u001b[1;33m]\u001b[0m \u001b[1;32mif\u001b[0m \u001b[0mlen\u001b[0m\u001b[1;33m(\u001b[0m\u001b[0mrgo\u001b[0m\u001b[1;33m)\u001b[0m \u001b[1;32melse\u001b[0m \u001b[1;33m[\u001b[0m\u001b[1;33m]\u001b[0m\u001b[1;33m\u001b[0m\u001b[1;33m\u001b[0m\u001b[0m\n",
          "\u001b[1;31mValueError\u001b[0m: could not convert string to float: 'Western Europe'"
         ]
        }
       ]
      }
     },
     "579ec3d16ad24212894ad18b92a51caa": {
      "model_module": "@jupyter-widgets/controls",
      "model_module_version": "1.4.0",
      "model_name": "DescriptionStyleModel",
      "state": {
       "description_width": ""
      }
     },
     "5bcba15c397249d1b32b324687db3c5e": {
      "model_module": "@jupyter-widgets/base",
      "model_module_version": "1.1.0",
      "model_name": "LayoutModel",
      "state": {}
     },
     "5c378cb3ad6b4e7faa043cbae456f3c3": {
      "model_module": "@jupyter-widgets/base",
      "model_module_version": "1.1.0",
      "model_name": "LayoutModel",
      "state": {}
     },
     "5caedb34bb364acebfa3f4923f0f41bb": {
      "model_module": "@jupyter-widgets/controls",
      "model_module_version": "1.4.0",
      "model_name": "DropdownModel",
      "state": {
       "_options_labels": [
        "brbg",
        "prgn",
        "piyg",
        "puor",
        "rdbu",
        "rdgy",
        "rdylbu",
        "rdylgn",
        "spectral",
        "paired",
        "set3",
        "dflt",
        "original",
        "plotly",
        "accent",
        "dark2",
        "pastel1",
        "pastel2",
        "set1",
        "set2",
        "blues",
        "bugn",
        "bupu",
        "gnbu",
        "greens",
        "greys",
        "orrd",
        "oranges",
        "pubu",
        "pubugn",
        "purd",
        "purples",
        "rdpu",
        "reds",
        "ylgn",
        "ylgnbu",
        "ylorbr",
        "ylorrd",
        "ggplot",
        "polar"
       ],
       "description": "colorscale",
       "index": 13,
       "layout": "IPY_MODEL_e6a037938abb42eab634d3041f2aaca1",
       "style": "IPY_MODEL_579ec3d16ad24212894ad18b92a51caa"
      }
     },
     "5d5788eadbab467a87d810156ca52b35": {
      "model_module": "@jupyter-widgets/base",
      "model_module_version": "1.1.0",
      "model_name": "LayoutModel",
      "state": {}
     },
     "5dc06aa3dead4265a5a97add377831bc": {
      "model_module": "@jupyter-widgets/base",
      "model_module_version": "1.1.0",
      "model_name": "LayoutModel",
      "state": {}
     },
     "5e03c14555ef47bbbb5836ec052847a3": {
      "model_module": "@jupyter-widgets/controls",
      "model_module_version": "1.4.0",
      "model_name": "DropdownModel",
      "state": {
       "_options_labels": [
        "Happiness Score",
        "Life Ladder",
        "Log GDP per capita",
        "Social support",
        "Healthy life expectancy at birth",
        "Freedom to make life choices",
        "Generosity",
        "Perceptions of corruption",
        "Positive affect",
        "Negative affect",
        "Confidence in national government",
        "Democratic Quality",
        "Delivery Quality",
        "GINI of household income reported in Gallup, by wp5-year"
       ],
       "description": "x",
       "index": 0,
       "layout": "IPY_MODEL_124e7105456345bca8b072c7d5bdcb26",
       "style": "IPY_MODEL_ff5331e96a7a4795b8c8ca02694ba32d"
      }
     },
     "5e5d9b94a6054762bd861f942ad95fd3": {
      "model_module": "@jupyter-widgets/controls",
      "model_module_version": "1.4.0",
      "model_name": "DescriptionStyleModel",
      "state": {
       "description_width": ""
      }
     },
     "5f40f315233f485f8a1bcbb038d6dc07": {
      "model_module": "@jupyter-widgets/base",
      "model_module_version": "1.1.0",
      "model_name": "LayoutModel",
      "state": {}
     },
     "5f51c9cd519b4126906ae3964f585c53": {
      "model_module": "@jupyter-widgets/controls",
      "model_module_version": "1.4.0",
      "model_name": "DescriptionStyleModel",
      "state": {
       "description_width": ""
      }
     },
     "60212c83da7f4f0e830e80b9da9a25ee": {
      "model_module": "@jupyter-widgets/controls",
      "model_module_version": "1.4.0",
      "model_name": "DropdownModel",
      "state": {
       "_options_labels": [
        "brbg",
        "prgn",
        "piyg",
        "puor",
        "rdbu",
        "rdgy",
        "rdylbu",
        "rdylgn",
        "spectral",
        "paired",
        "set3",
        "dflt",
        "original",
        "plotly",
        "accent",
        "dark2",
        "pastel1",
        "pastel2",
        "set1",
        "set2",
        "blues",
        "bugn",
        "bupu",
        "gnbu",
        "greens",
        "greys",
        "orrd",
        "oranges",
        "pubu",
        "pubugn",
        "purd",
        "purples",
        "rdpu",
        "reds",
        "ylgn",
        "ylgnbu",
        "ylorbr",
        "ylorrd",
        "ggplot",
        "polar"
       ],
       "description": "colorscale",
       "index": 13,
       "layout": "IPY_MODEL_8df0c52d65c64fb0aa001f158f256cd3",
       "style": "IPY_MODEL_4701dfe89d344d4d98ea8a06347dfbc1"
      }
     },
     "608b2a9019a44418a446b3798be74401": {
      "model_module": "@jupyter-widgets/base",
      "model_module_version": "1.1.0",
      "model_name": "LayoutModel",
      "state": {}
     },
     "60cb27ee932b4ffdb7720739d74502bc": {
      "model_module": "@jupyter-widgets/controls",
      "model_module_version": "1.4.0",
      "model_name": "DropdownModel",
      "state": {
       "_options_labels": [
        "Happiness Score",
        "Life Ladder",
        "Log GDP per capita",
        "Social support",
        "Healthy life expectancy at birth",
        "Freedom to make life choices",
        "Generosity",
        "Perceptions of corruption",
        "Positive affect",
        "Negative affect",
        "Confidence in national government",
        "Democratic Quality",
        "Delivery Quality",
        "GINI of household income reported in Gallup, by wp5-year"
       ],
       "description": "y",
       "index": 0,
       "layout": "IPY_MODEL_7c1ad23b5e8f4271bc9b6314f2763245",
       "style": "IPY_MODEL_7728e061eb204280834fa5d77c316ab7"
      }
     },
     "60f33ec163a949eda4863d7d26abc7fa": {
      "model_module": "@jupyter-widgets/base",
      "model_module_version": "1.1.0",
      "model_name": "LayoutModel",
      "state": {}
     },
     "61b388b1fb4843b5ac63123162c8bfa6": {
      "model_module": "@jupyter-widgets/controls",
      "model_module_version": "1.4.0",
      "model_name": "DropdownModel",
      "state": {
       "_options_labels": [
        "Happiness Score",
        "Life Ladder",
        "Log GDP per capita",
        "Social support",
        "Healthy life expectancy at birth",
        "Freedom to make life choices",
        "Generosity",
        "Perceptions of corruption",
        "Positive affect",
        "Negative affect",
        "Confidence in national government",
        "Democratic Quality",
        "Delivery Quality",
        "GINI of household income reported in Gallup, by wp5-year"
       ],
       "description": "x",
       "index": 0,
       "layout": "IPY_MODEL_04a57413c22746dabf81c5c548b34e4e",
       "style": "IPY_MODEL_ec8d44afc0b94359b5cc926234e271be"
      }
     },
     "626c869c537143168da769d2341ea8dc": {
      "model_module": "@jupyter-widgets/base",
      "model_module_version": "1.1.0",
      "model_name": "LayoutModel",
      "state": {}
     },
     "63855c051fa14608bac0658f982e74a8": {
      "model_module": "@jupyter-widgets/base",
      "model_module_version": "1.1.0",
      "model_name": "LayoutModel",
      "state": {}
     },
     "639c5685127843fd858263987af74eb0": {
      "model_module": "@jupyter-widgets/controls",
      "model_module_version": "1.4.0",
      "model_name": "DropdownModel",
      "state": {
       "_options_labels": [
        "brbg",
        "prgn",
        "piyg",
        "puor",
        "rdbu",
        "rdgy",
        "rdylbu",
        "rdylgn",
        "spectral",
        "paired",
        "set3",
        "dflt",
        "original",
        "plotly",
        "accent",
        "dark2",
        "pastel1",
        "pastel2",
        "set1",
        "set2",
        "blues",
        "bugn",
        "bupu",
        "gnbu",
        "greens",
        "greys",
        "orrd",
        "oranges",
        "pubu",
        "pubugn",
        "purd",
        "purples",
        "rdpu",
        "reds",
        "ylgn",
        "ylgnbu",
        "ylorbr",
        "ylorrd",
        "ggplot",
        "polar"
       ],
       "description": "colorscale",
       "index": 0,
       "layout": "IPY_MODEL_04ef0c72f5234c04804d1dd0d33d02b0",
       "style": "IPY_MODEL_b89d25b32c5b4a4486bd203e4ffb7da6"
      }
     },
     "63d47e857c254d82afc3d47b915dd660": {
      "model_module": "@jupyter-widgets/controls",
      "model_module_version": "1.4.0",
      "model_name": "DescriptionStyleModel",
      "state": {
       "description_width": ""
      }
     },
     "64d722b0164e4ab4bd529443a2c53f7b": {
      "model_module": "@jupyter-widgets/base",
      "model_module_version": "1.1.0",
      "model_name": "LayoutModel",
      "state": {}
     },
     "66d5224d177f4c0dba429350fd6106fc": {
      "model_module": "@jupyter-widgets/base",
      "model_module_version": "1.1.0",
      "model_name": "LayoutModel",
      "state": {}
     },
     "6700aa989ead4410aab8ac333da949e0": {
      "model_module": "@jupyter-widgets/controls",
      "model_module_version": "1.4.0",
      "model_name": "DropdownModel",
      "state": {
       "_options_labels": [
        "Life Ladder",
        "Log GDP per capita",
        "Social support",
        "Healthy life expectancy at birth",
        "Freedom to make life choices",
        "Generosity",
        "Perceptions of corruption",
        "Positive affect",
        "Negative affect",
        "Confidence in national government",
        "Democratic Quality",
        "Delivery Quality",
        "GINI of household income reported in Gallup, by wp5-year"
       ],
       "description": "y",
       "index": 0,
       "layout": "IPY_MODEL_f32d9a89e70f400abec11ae998c6f5a6",
       "style": "IPY_MODEL_c6f44007048b4b0d8a4e1c7f7c2ce0c2"
      }
     },
     "67c2cc62df7c45e2a6841428dfe5af69": {
      "model_module": "@jupyter-widgets/controls",
      "model_module_version": "1.4.0",
      "model_name": "DropdownModel",
      "state": {
       "_options_labels": [
        "brbg",
        "prgn",
        "piyg",
        "puor",
        "rdbu",
        "rdgy",
        "rdylbu",
        "rdylgn",
        "spectral",
        "paired",
        "set3",
        "dflt",
        "original",
        "plotly",
        "accent",
        "dark2",
        "pastel1",
        "pastel2",
        "set1",
        "set2",
        "blues",
        "bugn",
        "bupu",
        "gnbu",
        "greens",
        "greys",
        "orrd",
        "oranges",
        "pubu",
        "pubugn",
        "purd",
        "purples",
        "rdpu",
        "reds",
        "ylgn",
        "ylgnbu",
        "ylorbr",
        "ylorrd",
        "ggplot",
        "polar"
       ],
       "description": "colorscale",
       "index": 0,
       "layout": "IPY_MODEL_9fbd1e77231743c2a412a5dfb114063b",
       "style": "IPY_MODEL_30a259e8e87f43e991e18879dcce181c"
      }
     },
     "694403f38cdd41c8ace463f9e99cb036": {
      "model_module": "@jupyter-widgets/controls",
      "model_module_version": "1.4.0",
      "model_name": "VBoxModel",
      "state": {
       "_dom_classes": [
        "widget-interact"
       ],
       "children": [
        "IPY_MODEL_cc7213bbde444a61a07e21fa16c0dfb9",
        "IPY_MODEL_4e36c28154eb4c78abef62c7f2978311",
        "IPY_MODEL_85c0c77b78d14fe685132bd59955b410",
        "IPY_MODEL_cd73b65d9e1d4a70b12817af7c02bdf7",
        "IPY_MODEL_0d951d450a984f67ba2ad55e0d82db93"
       ],
       "layout": "IPY_MODEL_8192021d25aa4104846d155f3bd69871"
      }
     },
     "69b9f8c36f5849d88e17a2220b7eb7e5": {
      "model_module": "@jupyter-widgets/base",
      "model_module_version": "1.1.0",
      "model_name": "LayoutModel",
      "state": {}
     },
     "69d9f2ec0a6648ee9cb875c07fe9b49c": {
      "model_module": "@jupyter-widgets/base",
      "model_module_version": "1.1.0",
      "model_name": "LayoutModel",
      "state": {}
     },
     "69ef5ec5829a4c8e8f448a09175ebee5": {
      "model_module": "@jupyter-widgets/output",
      "model_module_version": "1.0.0",
      "model_name": "OutputModel",
      "state": {
       "layout": "IPY_MODEL_d0b8d239f6ab4d96bb8b5699b3bc1204",
       "outputs": [
        {
         "data": {
          "application/vnd.plotly.v1+json": {
           "config": {
            "linkText": "Export to plot.ly",
            "plotlyServerURL": "https://plot.ly",
            "responsive": true,
            "showLink": true
           },
           "data": [
            {
             "marker": {
              "color": "rgba(84, 48, 5, 1.0)",
              "line": {
               "width": 1.3
              },
              "opacity": 0.8,
              "size": [
               112,
               108,
               107,
               106,
               106,
               106,
               103,
               101,
               98,
               97,
               96,
               96,
               94,
               90,
               88,
               83,
               80,
               76,
               70,
               69,
               61
              ],
              "symbol": "circle"
             },
             "mode": "markers",
             "name": "Western Europe",
             "textfont": {
              "color": "#666666"
             },
             "type": "scatter",
             "uid": "ac6899e3-3e67-4d6c-a3e4-fc957633d0ff",
             "x": [
              0.949459513,
              0.946361562,
              0.955932717,
              0.943625987,
              0.91587164,
              0.928452849,
              0.931447724,
              0.894218842,
              0.889705638,
              0.823811273,
              0.880467295,
              0.862710138,
              0.8436492090000001,
              0.922335744,
              0.81234928,
              0.748661737,
              0.635531386,
              0.7873688940000001,
              0.79288425,
              0.873513063,
              0.494790852
             ],
             "y": [
              7.769,
              7.6,
              7.5539999999999985,
              7.494,
              7.487999999999999,
              7.48,
              7.343,
              7.246,
              7.09,
              7.0539999999999985,
              7.021,
              6.985,
              6.922999999999999,
              6.726,
              6.5920000000000005,
              6.354,
              6.223,
              6.046,
              5.718,
              5.693,
              5.287000000000001
             ]
            },
            {
             "marker": {
              "color": "rgba(140, 81, 10, 1.0)",
              "line": {
               "width": 1.3
              },
              "opacity": 0.8,
              "size": [
               102,
               102,
               100,
               94
              ],
              "symbol": "circle"
             },
             "mode": "markers",
             "name": "North America and ANZ",
             "textfont": {
              "color": "#666666"
             },
             "type": "scatter",
             "uid": "15aa9a13-a5e3-427b-9fc2-caf0637e016a",
             "x": [
              0.939385215,
              0.934450607,
              0.916298012,
              0.816998819
             ],
             "y": [
              7.307,
              7.278,
              7.228,
              6.892
             ]
            },
            {
             "marker": {
              "color": "rgba(191, 129, 45, 1.0)",
              "line": {
               "width": 1.3
              },
              "opacity": 0.8,
              "size": [
               99,
               88,
               85,
               84,
               82,
               82,
               81,
               81,
               79,
               78,
               78,
               77,
               76,
               73,
               73,
               71,
               70,
               69,
               64,
               49,
               27
              ],
              "symbol": "circle"
             },
             "mode": "markers",
             "name": "Latin America and Caribbean",
             "textfont": {
              "color": "#666666"
             },
             "type": "scatter",
             "uid": "4b823397-b897-418f-a368-854cf1b6d4ed",
             "x": [
              0.916826248,
              0.80973957,
              0.743645529,
              0.8955784840000001,
              0.881833792,
              0.773991048,
              0.886811495,
              0.806960543,
              0.8522066009999999,
              0.841095507,
              0.8119179609999999,
              0.8418543540000001,
              0.864942729,
              0.8408122459999999,
              0.8735286,
              0.876300176,
              0.8649941879999999,
              0.828679343,
              0.864904344,
              0.567987273,
              0.459812651
             ],
             "y": [
              7.167000000000002,
              6.595,
              6.444,
              6.436,
              6.3210000000000015,
              6.3,
              6.292999999999998,
              6.252999999999999,
              6.192,
              6.125,
              6.105,
              6.086,
              6.028,
              5.89,
              5.86,
              5.779,
              5.7429999999999986,
              5.697,
              5.425,
              4.707,
              3.597
             ]
            },
            {
             "marker": {
              "color": "rgba(223, 194, 125, 1.0)",
              "line": {
               "width": 1.3
              },
              "opacity": 0.8,
              "size": [
               99,
               92,
               83,
               83,
               80,
               76,
               66,
               63,
               59,
               59,
               59,
               53,
               49,
               46,
               44,
               44,
               38,
               24,
               22
              ],
              "symbol": "circle"
             },
             "mode": "markers",
             "name": "Middle East and North Africa",
             "textfont": {
              "color": "#666666"
             },
             "type": "scatter",
             "uid": "09a6d88f-a73e-4866-a514-145d15e06fc6",
             "x": [
              0.7550119759999999,
              0.951600174,
              0.8144438070000001,
              0.912910469,
              0.897274793,
              0.858028624,
              0.7938797470000001,
              0.605736673,
              0.510025531,
              0.80133152,
              0.622980773,
              0.766677797,
              0.63127174,
              0.7024195990000001,
              0.580691695,
              0.646941096,
              0.643334826,
              0.449740198,
              0.560293635
             ],
             "y": [
              7.1389999999999985,
              6.825,
              6.375,
              6.374,
              6.199,
              6.021,
              5.525,
              5.372999999999998,
              5.211,
              5.207999999999998,
              5.197,
              4.9060000000000015,
              4.6960000000000015,
              4.548,
              4.461,
              4.437,
              4.166,
              3.462,
              3.38
             ]
            },
            {
             "marker": {
              "color": "rgba(246, 232, 195, 1.0)",
              "line": {
               "width": 1.3
              },
              "opacity": 0.8,
              "size": [
               93,
               80,
               79,
               79,
               78,
               78,
               77,
               74,
               73,
               71,
               67,
               66,
               64,
               63,
               61,
               55,
               49
              ],
              "symbol": "circle"
             },
             "mode": "markers",
             "name": "Central and Eastern Europe",
             "textfont": {
              "color": "#666666"
             },
             "type": "scatter",
             "uid": "9a5aacd0-3c2d-4391-b446-cf12787c625d",
             "x": [
              0.824082057,
              0.723985752,
              0.844406962,
              0.6874972579999999,
              0.922153215,
              0.858270784,
              0.8351556259999999,
              0.664342344,
              0.863379439,
              0.60202135,
              0.679702997,
              0.606990417,
              0.6928828159999999,
              0.61869961,
              0.734362284,
              0.704549492,
              0.767880758
             ],
             "y": [
              6.852,
              6.198,
              6.182,
              6.149,
              6.1179999999999986,
              6.1,
              6.07,
              5.94,
              5.893,
              5.757999999999999,
              5.603,
              5.523,
              5.432,
              5.386,
              5.274,
              5.011,
              4.7189999999999985
             ]
            },
            {
             "marker": {
              "color": "rgba(199, 234, 229, 1.0)",
              "line": {
               "width": 1.3
              },
              "opacity": 0.8,
              "size": [
               85,
               73,
               73,
               64,
               61,
               59
              ],
              "symbol": "circle"
             },
             "mode": "markers",
             "name": "East Asia",
             "textfont": {
              "color": "#666666"
             },
             "type": "scatter",
             "uid": "05d0eacd-a1ad-4e1e-a313-49d5d71088f5",
             "x": [
              0.7398709059999999,
              0.5764104720000001,
              0.8196444509999999,
              0.8152003290000001,
              0.7099717259999999,
              0.886497647
             ],
             "y": [
              6.4460000000000015,
              5.895,
              5.886,
              5.43,
              5.285,
              5.191
             ]
            },
            {
             "marker": {
              "color": "rgba(128, 205, 193, 1.0)",
              "line": {
               "width": 1.3
              },
              "opacity": 0.8,
              "size": [
               81,
               76,
               68,
               62,
               59,
               59,
               51,
               49,
               42
              ],
              "symbol": "circle"
             },
             "mode": "markers",
             "name": "Southeast Asia",
             "textfont": {
              "color": "#666666"
             },
             "type": "scatter",
             "uid": "ecf313f4-0381-4706-ab05-d655b4945b17",
             "x": [
              0.9153139,
              0.91729025,
              0.917035679,
              0.874548256,
              0.858114103,
              0.901805461,
              0.898830861,
              0.959966997,
              0.8898712790000001
             ],
             "y": [
              6.2620000000000005,
              6.007999999999999,
              5.631,
              5.339,
              5.192,
              5.175,
              4.796,
              4.7,
              4.36
             ]
            },
            {
             "marker": {
              "color": "rgba(53, 151, 143, 1.0)",
              "line": {
               "width": 1.3
              },
              "opacity": 0.8,
              "size": [
               79,
               72,
               68,
               66,
               65,
               62,
               60,
               60,
               59,
               46,
               45,
               42
              ],
              "symbol": "circle"
             },
             "mode": "markers",
             "name": "Commonwealth of Independent States",
             "textfont": {
              "color": "#666666"
             },
             "type": "scatter",
             "uid": "0f62dc85-e255-44e0-9906-d390529a251c",
             "x": [
              0.979626258,
              0.78941083,
              0.724587579,
              0.64467301,
              0.7675146759999999,
              0.6409368120000001,
              0.872758885,
              0.775559227,
              0.738684297,
              0.677442551,
              0.734173755,
              0.588157495
             ],
             "y": [
              6.174,
              5.809,
              5.648,
              5.529,
              5.4670000000000005,
              5.323,
              5.261,
              5.247000000000001,
              5.207999999999998,
              4.559,
              4.519,
              4.332
             ]
            },
            {
             "marker": {
              "color": "rgba(1, 102, 94, 1.0)",
              "line": {
               "width": 1.3
              },
              "opacity": 0.8,
              "size": [
               73,
               61,
               56,
               55,
               54,
               53,
               51,
               51,
               50,
               49,
               48,
               48,
               48,
               47,
               46,
               45,
               45,
               45,
               44,
               43,
               43,
               42,
               42,
               41,
               39,
               39,
               37,
               37,
               34,
               34,
               33,
               31,
               30,
               28,
               24,
               23,
               21,
               19,
               16,
               12
              ],
              "symbol": "circle"
             },
             "mode": "markers",
             "name": "Sub-Saharan Africa",
             "textfont": {
              "color": "#666666"
             },
             "type": "scatter",
             "uid": "e5b8b3c4-da2f-46f7-bf56-d3daf22139f4",
             "x": [
              0.866137088,
              0.8044923740000001,
              0.765252332,
              0.767107368,
              0.7378257709999999,
              0.739955842,
              0.754130025,
              0.690145771,
              0.771431883,
              0.68663005,
              0.917322814,
              0.8045538659999999,
              0.7253835,
              0.659733236,
              0.731685082,
              0.765527308,
              0.807771882,
              0.486965606,
              0.8441737890000001,
              0.67080313,
              0.7288084229999999,
              0.702766717,
              0.5968087910000001,
              0.733917336,
              0.658565462,
              0.74675554,
              0.808456342,
              0.686315815,
              0.754211823,
              0.531299045,
              0.56382213,
              0.742997527,
              0.6463986039999999,
              0.749490817,
              0.828874668,
              0.818906685,
              0.91436096,
              0.7943741879999999,
              0.634654433,
              0.447965056
             ],
             "y": [
              5.888,
              5.265,
              5.044,
              4.996,
              4.944,
              4.883,
              4.812,
              4.799,
              4.722,
              4.681,
              4.668,
              4.6389999999999985,
              4.628,
              4.587,
              4.534,
              4.516,
              4.509,
              4.49,
              4.466,
              4.418,
              4.39,
              4.374,
              4.35,
              4.2860000000000005,
              4.212,
              4.189,
              4.107,
              4.085,
              3.975,
              3.973,
              3.933,
              3.802,
              3.775,
              3.663,
              3.488,
              3.41,
              3.334,
              3.2310000000000003,
              3.083,
              2.853
             ]
            },
            {
             "marker": {
              "color": "rgba(0, 60, 48, 1.0)",
              "line": {
               "width": 1.3
              },
              "opacity": 0.8,
              "size": [
               68,
               57,
               53,
               44,
               42,
               35,
               19
              ],
              "symbol": "circle"
             },
             "mode": "markers",
             "name": "South Asia",
             "textfont": {
              "color": "#666666"
             },
             "type": "scatter",
             "uid": "ab479ff8-59d6-43dd-b745-26d90a8108cd",
             "x": [
              0.706469675,
              0.829035137,
              0.818243245,
              0.890796165,
              0.83985278,
              0.865454197,
              0.441037536
             ],
             "y": [
              5.653,
              5.082,
              4.913,
              4.456,
              4.3660000000000005,
              4.015,
              3.2030000000000003
             ]
            }
           ],
           "layout": {
            "legend": {
             "bgcolor": "#FFFFFF",
             "font": {
              "color": "#666666"
             }
            },
            "paper_bgcolor": "#FFFFFF",
            "plot_bgcolor": "#E5E5E5",
            "title": {
             "font": {
              "color": "#151516"
             },
             "text": "Happiness Score vs Freedom To Make Life Choices"
            },
            "xaxis": {
             "gridcolor": "#F6F6F6",
             "showgrid": true,
             "tickfont": {
              "color": "#666666"
             },
             "title": {
              "font": {
               "color": "#666666"
              },
              "text": "Freedom To Make Life Choices"
             },
             "zerolinecolor": "#F6F6F6"
            },
            "yaxis": {
             "gridcolor": "#F6F6F6",
             "showgrid": true,
             "tickfont": {
              "color": "#666666"
             },
             "title": {
              "font": {
               "color": "#666666"
              },
              "text": "Happiness Score"
             },
             "zerolinecolor": "#F6F6F6"
            }
           }
          },
          "text/html": "<div>\n        \n        \n            <div id=\"1857ecfe-1dd8-4fc8-86ca-5ae89c331c59\" class=\"plotly-graph-div\"></div>\n            <script type=\"text/javascript\">\n                require([\"plotly\"], function(Plotly) {\n                    window.PLOTLYENV=window.PLOTLYENV || {};\n                    window.PLOTLYENV.BASE_URL='https://plot.ly';\n                    \n                if (document.getElementById(\"1857ecfe-1dd8-4fc8-86ca-5ae89c331c59\")) {\n                    Plotly.newPlot(\n                        '1857ecfe-1dd8-4fc8-86ca-5ae89c331c59',\n                        [{\"marker\": {\"color\": \"rgba(84, 48, 5, 1.0)\", \"line\": {\"width\": 1.3}, \"opacity\": 0.8, \"size\": [112, 108, 107, 106, 106, 106, 103, 101, 98, 97, 96, 96, 94, 90, 88, 83, 80, 76, 70, 69, 61], \"symbol\": \"circle\"}, \"mode\": \"markers\", \"name\": \"Western Europe\", \"textfont\": {\"color\": \"#666666\"}, \"type\": \"scatter\", \"uid\": \"f4321c07-0ad6-4cee-a6b1-d4d72384345b\", \"x\": [0.949459513, 0.946361562, 0.955932717, 0.943625987, 0.91587164, 0.928452849, 0.931447724, 0.894218842, 0.889705638, 0.823811273, 0.880467295, 0.862710138, 0.8436492090000001, 0.922335744, 0.81234928, 0.748661737, 0.635531386, 0.7873688940000001, 0.79288425, 0.873513063, 0.494790852], \"y\": [7.769, 7.6, 7.5539999999999985, 7.494, 7.487999999999999, 7.48, 7.343, 7.246, 7.09, 7.0539999999999985, 7.021, 6.985, 6.922999999999999, 6.726, 6.5920000000000005, 6.354, 6.223, 6.046, 5.718, 5.693, 5.287000000000001]}, {\"marker\": {\"color\": \"rgba(140, 81, 10, 1.0)\", \"line\": {\"width\": 1.3}, \"opacity\": 0.8, \"size\": [102, 102, 100, 94], \"symbol\": \"circle\"}, \"mode\": \"markers\", \"name\": \"North America and ANZ\", \"textfont\": {\"color\": \"#666666\"}, \"type\": \"scatter\", \"uid\": \"5c5af43e-9828-419c-bfcf-b1d1ee6bb83b\", \"x\": [0.939385215, 0.934450607, 0.916298012, 0.816998819], \"y\": [7.307, 7.278, 7.228, 6.892]}, {\"marker\": {\"color\": \"rgba(191, 129, 45, 1.0)\", \"line\": {\"width\": 1.3}, \"opacity\": 0.8, \"size\": [99, 88, 85, 84, 82, 82, 81, 81, 79, 78, 78, 77, 76, 73, 73, 71, 70, 69, 64, 49, 27], \"symbol\": \"circle\"}, \"mode\": \"markers\", \"name\": \"Latin America and Caribbean\", \"textfont\": {\"color\": \"#666666\"}, \"type\": \"scatter\", \"uid\": \"be2752c1-6318-42c4-9b5e-026638130d0e\", \"x\": [0.916826248, 0.80973957, 0.743645529, 0.8955784840000001, 0.881833792, 0.773991048, 0.886811495, 0.806960543, 0.8522066009999999, 0.841095507, 0.8119179609999999, 0.8418543540000001, 0.864942729, 0.8408122459999999, 0.8735286, 0.876300176, 0.8649941879999999, 0.828679343, 0.864904344, 0.567987273, 0.459812651], \"y\": [7.167000000000002, 6.595, 6.444, 6.436, 6.3210000000000015, 6.3, 6.292999999999998, 6.252999999999999, 6.192, 6.125, 6.105, 6.086, 6.028, 5.89, 5.86, 5.779, 5.7429999999999986, 5.697, 5.425, 4.707, 3.597]}, {\"marker\": {\"color\": \"rgba(223, 194, 125, 1.0)\", \"line\": {\"width\": 1.3}, \"opacity\": 0.8, \"size\": [99, 92, 83, 83, 80, 76, 66, 63, 59, 59, 59, 53, 49, 46, 44, 44, 38, 24, 22], \"symbol\": \"circle\"}, \"mode\": \"markers\", \"name\": \"Middle East and North Africa\", \"textfont\": {\"color\": \"#666666\"}, \"type\": \"scatter\", \"uid\": \"abfd84e4-57fa-4211-b09c-187c5bc0dd0d\", \"x\": [0.7550119759999999, 0.951600174, 0.8144438070000001, 0.912910469, 0.897274793, 0.858028624, 0.7938797470000001, 0.605736673, 0.510025531, 0.80133152, 0.622980773, 0.766677797, 0.63127174, 0.7024195990000001, 0.580691695, 0.646941096, 0.643334826, 0.449740198, 0.560293635], \"y\": [7.1389999999999985, 6.825, 6.375, 6.374, 6.199, 6.021, 5.525, 5.372999999999998, 5.211, 5.207999999999998, 5.197, 4.9060000000000015, 4.6960000000000015, 4.548, 4.461, 4.437, 4.166, 3.462, 3.38]}, {\"marker\": {\"color\": \"rgba(246, 232, 195, 1.0)\", \"line\": {\"width\": 1.3}, \"opacity\": 0.8, \"size\": [93, 80, 79, 79, 78, 78, 77, 74, 73, 71, 67, 66, 64, 63, 61, 55, 49], \"symbol\": \"circle\"}, \"mode\": \"markers\", \"name\": \"Central and Eastern Europe\", \"textfont\": {\"color\": \"#666666\"}, \"type\": \"scatter\", \"uid\": \"ed734535-5162-4005-aeb0-d7a77e89fac1\", \"x\": [0.824082057, 0.723985752, 0.844406962, 0.6874972579999999, 0.922153215, 0.858270784, 0.8351556259999999, 0.664342344, 0.863379439, 0.60202135, 0.679702997, 0.606990417, 0.6928828159999999, 0.61869961, 0.734362284, 0.704549492, 0.767880758], \"y\": [6.852, 6.198, 6.182, 6.149, 6.1179999999999986, 6.1, 6.07, 5.94, 5.893, 5.757999999999999, 5.603, 5.523, 5.432, 5.386, 5.274, 5.011, 4.7189999999999985]}, {\"marker\": {\"color\": \"rgba(199, 234, 229, 1.0)\", \"line\": {\"width\": 1.3}, \"opacity\": 0.8, \"size\": [85, 73, 73, 64, 61, 59], \"symbol\": \"circle\"}, \"mode\": \"markers\", \"name\": \"East Asia\", \"textfont\": {\"color\": \"#666666\"}, \"type\": \"scatter\", \"uid\": \"bcbc7ee6-7135-441f-aae6-d01757aa0ea2\", \"x\": [0.7398709059999999, 0.5764104720000001, 0.8196444509999999, 0.8152003290000001, 0.7099717259999999, 0.886497647], \"y\": [6.4460000000000015, 5.895, 5.886, 5.43, 5.285, 5.191]}, {\"marker\": {\"color\": \"rgba(128, 205, 193, 1.0)\", \"line\": {\"width\": 1.3}, \"opacity\": 0.8, \"size\": [81, 76, 68, 62, 59, 59, 51, 49, 42], \"symbol\": \"circle\"}, \"mode\": \"markers\", \"name\": \"Southeast Asia\", \"textfont\": {\"color\": \"#666666\"}, \"type\": \"scatter\", \"uid\": \"490e867c-1419-4c32-a341-d45df07e9b12\", \"x\": [0.9153139, 0.91729025, 0.917035679, 0.874548256, 0.858114103, 0.901805461, 0.898830861, 0.959966997, 0.8898712790000001], \"y\": [6.2620000000000005, 6.007999999999999, 5.631, 5.339, 5.192, 5.175, 4.796, 4.7, 4.36]}, {\"marker\": {\"color\": \"rgba(53, 151, 143, 1.0)\", \"line\": {\"width\": 1.3}, \"opacity\": 0.8, \"size\": [79, 72, 68, 66, 65, 62, 60, 60, 59, 46, 45, 42], \"symbol\": \"circle\"}, \"mode\": \"markers\", \"name\": \"Commonwealth of Independent States\", \"textfont\": {\"color\": \"#666666\"}, \"type\": \"scatter\", \"uid\": \"bcf1e33b-502f-4b7e-95ee-93a41c1bf40a\", \"x\": [0.979626258, 0.78941083, 0.724587579, 0.64467301, 0.7675146759999999, 0.6409368120000001, 0.872758885, 0.775559227, 0.738684297, 0.677442551, 0.734173755, 0.588157495], \"y\": [6.174, 5.809, 5.648, 5.529, 5.4670000000000005, 5.323, 5.261, 5.247000000000001, 5.207999999999998, 4.559, 4.519, 4.332]}, {\"marker\": {\"color\": \"rgba(1, 102, 94, 1.0)\", \"line\": {\"width\": 1.3}, \"opacity\": 0.8, \"size\": [73, 61, 56, 55, 54, 53, 51, 51, 50, 49, 48, 48, 48, 47, 46, 45, 45, 45, 44, 43, 43, 42, 42, 41, 39, 39, 37, 37, 34, 34, 33, 31, 30, 28, 24, 23, 21, 19, 16, 12], \"symbol\": \"circle\"}, \"mode\": \"markers\", \"name\": \"Sub-Saharan Africa\", \"textfont\": {\"color\": \"#666666\"}, \"type\": \"scatter\", \"uid\": \"52bbd809-a3a1-4423-8593-c6a1331618fd\", \"x\": [0.866137088, 0.8044923740000001, 0.765252332, 0.767107368, 0.7378257709999999, 0.739955842, 0.754130025, 0.690145771, 0.771431883, 0.68663005, 0.917322814, 0.8045538659999999, 0.7253835, 0.659733236, 0.731685082, 0.765527308, 0.807771882, 0.486965606, 0.8441737890000001, 0.67080313, 0.7288084229999999, 0.702766717, 0.5968087910000001, 0.733917336, 0.658565462, 0.74675554, 0.808456342, 0.686315815, 0.754211823, 0.531299045, 0.56382213, 0.742997527, 0.6463986039999999, 0.749490817, 0.828874668, 0.818906685, 0.91436096, 0.7943741879999999, 0.634654433, 0.447965056], \"y\": [5.888, 5.265, 5.044, 4.996, 4.944, 4.883, 4.812, 4.799, 4.722, 4.681, 4.668, 4.6389999999999985, 4.628, 4.587, 4.534, 4.516, 4.509, 4.49, 4.466, 4.418, 4.39, 4.374, 4.35, 4.2860000000000005, 4.212, 4.189, 4.107, 4.085, 3.975, 3.973, 3.933, 3.802, 3.775, 3.663, 3.488, 3.41, 3.334, 3.2310000000000003, 3.083, 2.853]}, {\"marker\": {\"color\": \"rgba(0, 60, 48, 1.0)\", \"line\": {\"width\": 1.3}, \"opacity\": 0.8, \"size\": [68, 57, 53, 44, 42, 35, 19], \"symbol\": \"circle\"}, \"mode\": \"markers\", \"name\": \"South Asia\", \"textfont\": {\"color\": \"#666666\"}, \"type\": \"scatter\", \"uid\": \"e9fc0762-f5e2-4fbb-a76d-8ba1ba92f688\", \"x\": [0.706469675, 0.829035137, 0.818243245, 0.890796165, 0.83985278, 0.865454197, 0.441037536], \"y\": [5.653, 5.082, 4.913, 4.456, 4.3660000000000005, 4.015, 3.2030000000000003]}],\n                        {\"legend\": {\"bgcolor\": \"#FFFFFF\", \"font\": {\"color\": \"#666666\"}}, \"paper_bgcolor\": \"#FFFFFF\", \"plot_bgcolor\": \"#E5E5E5\", \"title\": {\"font\": {\"color\": \"#151516\"}, \"text\": \"Happiness Score vs Freedom To Make Life Choices\"}, \"xaxis\": {\"gridcolor\": \"#F6F6F6\", \"showgrid\": true, \"tickfont\": {\"color\": \"#666666\"}, \"title\": {\"font\": {\"color\": \"#666666\"}, \"text\": \"Freedom To Make Life Choices\"}, \"zerolinecolor\": \"#F6F6F6\"}, \"yaxis\": {\"gridcolor\": \"#F6F6F6\", \"showgrid\": true, \"tickfont\": {\"color\": \"#666666\"}, \"title\": {\"font\": {\"color\": \"#666666\"}, \"text\": \"Happiness Score\"}, \"zerolinecolor\": \"#F6F6F6\"}},\n                        {\"showLink\": true, \"linkText\": \"Export to plot.ly\", \"plotlyServerURL\": \"https://plot.ly\", \"responsive\": true}\n                    )\n                };\n                });\n            </script>\n        </div>"
         },
         "metadata": {},
         "output_type": "display_data"
        }
       ]
      }
     },
     "69f788ca90c346c1a9ef77dd5d04ae59": {
      "model_module": "@jupyter-widgets/controls",
      "model_module_version": "1.4.0",
      "model_name": "DescriptionStyleModel",
      "state": {
       "description_width": ""
      }
     },
     "6a04a4f019bf4156998ecee614581050": {
      "model_module": "@jupyter-widgets/controls",
      "model_module_version": "1.4.0",
      "model_name": "DropdownModel",
      "state": {
       "_options_labels": [
        "Happiness Score",
        "Life Ladder",
        "Log GDP per capita",
        "Social support",
        "Healthy life expectancy at birth",
        "Freedom to make life choices",
        "Generosity",
        "Perceptions of corruption",
        "Positive affect",
        "Negative affect",
        "Confidence in national government",
        "Democratic Quality",
        "Delivery Quality",
        "GINI of household income reported in Gallup, by wp5-year"
       ],
       "description": "y",
       "index": 0,
       "layout": "IPY_MODEL_b24d015a692d4703a72c1d1459200047",
       "style": "IPY_MODEL_69f788ca90c346c1a9ef77dd5d04ae59"
      }
     },
     "6a1b773ee57b4947bd8105a90a9a5bc9": {
      "model_module": "@jupyter-widgets/base",
      "model_module_version": "1.1.0",
      "model_name": "LayoutModel",
      "state": {}
     },
     "6a8b27fe532047dc941d9d7f2b94483b": {
      "model_module": "@jupyter-widgets/base",
      "model_module_version": "1.1.0",
      "model_name": "LayoutModel",
      "state": {}
     },
     "6b68693b50a74cbab9f927c1f3aa27fc": {
      "model_module": "@jupyter-widgets/base",
      "model_module_version": "1.1.0",
      "model_name": "LayoutModel",
      "state": {}
     },
     "6b6fdb74f90f4b4eae61bc0031283184": {
      "model_module": "@jupyter-widgets/base",
      "model_module_version": "1.1.0",
      "model_name": "LayoutModel",
      "state": {}
     },
     "6ba4f3e7db954516bb8429d0aac1a91a": {
      "model_module": "@jupyter-widgets/controls",
      "model_module_version": "1.4.0",
      "model_name": "DescriptionStyleModel",
      "state": {
       "description_width": ""
      }
     },
     "6cd765a9b791433cae13360955381f21": {
      "model_module": "@jupyter-widgets/base",
      "model_module_version": "1.1.0",
      "model_name": "LayoutModel",
      "state": {}
     },
     "6e3cf8d3805b406da80347a22fa5a069": {
      "model_module": "@jupyter-widgets/controls",
      "model_module_version": "1.4.0",
      "model_name": "DropdownModel",
      "state": {
       "_options_labels": [
        "ggplot",
        "pearl",
        "solar",
        "space",
        "white",
        "polar",
        "henanigans"
       ],
       "description": "theme",
       "index": 0,
       "layout": "IPY_MODEL_07e49fc2cae54654884b15a89fe06be0",
       "style": "IPY_MODEL_a20fdf6e17534be38e99fb24ba1ffccd"
      }
     },
     "6f2209721c8948d4a15e9aa8f2cca64e": {
      "model_module": "@jupyter-widgets/controls",
      "model_module_version": "1.4.0",
      "model_name": "DropdownModel",
      "state": {
       "_options_labels": [
        "ggplot",
        "pearl",
        "solar",
        "space",
        "white",
        "polar",
        "henanigans"
       ],
       "description": "theme",
       "index": 0,
       "layout": "IPY_MODEL_3f43f8f675a34515bc775b12ab0feaaf",
       "style": "IPY_MODEL_c56f7a318909423a9979e58e7932d5e5"
      }
     },
     "715f240a0aab407cb4ef74cc30bd999b": {
      "model_module": "@jupyter-widgets/base",
      "model_module_version": "1.1.0",
      "model_name": "LayoutModel",
      "state": {}
     },
     "71edb4b48c4144e7b3e7fde1f51cd5bd": {
      "model_module": "@jupyter-widgets/output",
      "model_module_version": "1.0.0",
      "model_name": "OutputModel",
      "state": {
       "layout": "IPY_MODEL_9806595b07be4c97ba83da400dc63022",
       "outputs": [
        {
         "ename": "Exception",
         "evalue": "Invalid keyword : 'marker'",
         "output_type": "error",
         "traceback": [
          "\u001b[1;31m---------------------------------------------------------------------------\u001b[0m",
          "\u001b[1;31mException\u001b[0m                                 Traceback (most recent call last)",
          "\u001b[1;32m~\\AppData\\Local\\Continuum\\anaconda3\\lib\\site-packages\\ipywidgets\\widgets\\interaction.py\u001b[0m in \u001b[0;36mupdate\u001b[1;34m(self, *args)\u001b[0m\n\u001b[0;32m    249\u001b[0m                     \u001b[0mvalue\u001b[0m \u001b[1;33m=\u001b[0m \u001b[0mwidget\u001b[0m\u001b[1;33m.\u001b[0m\u001b[0mget_interact_value\u001b[0m\u001b[1;33m(\u001b[0m\u001b[1;33m)\u001b[0m\u001b[1;33m\u001b[0m\u001b[1;33m\u001b[0m\u001b[0m\n\u001b[0;32m    250\u001b[0m                     \u001b[0mself\u001b[0m\u001b[1;33m.\u001b[0m\u001b[0mkwargs\u001b[0m\u001b[1;33m[\u001b[0m\u001b[0mwidget\u001b[0m\u001b[1;33m.\u001b[0m\u001b[0m_kwarg\u001b[0m\u001b[1;33m]\u001b[0m \u001b[1;33m=\u001b[0m \u001b[0mvalue\u001b[0m\u001b[1;33m\u001b[0m\u001b[1;33m\u001b[0m\u001b[0m\n\u001b[1;32m--> 251\u001b[1;33m                 \u001b[0mself\u001b[0m\u001b[1;33m.\u001b[0m\u001b[0mresult\u001b[0m \u001b[1;33m=\u001b[0m \u001b[0mself\u001b[0m\u001b[1;33m.\u001b[0m\u001b[0mf\u001b[0m\u001b[1;33m(\u001b[0m\u001b[1;33m**\u001b[0m\u001b[0mself\u001b[0m\u001b[1;33m.\u001b[0m\u001b[0mkwargs\u001b[0m\u001b[1;33m)\u001b[0m\u001b[1;33m\u001b[0m\u001b[1;33m\u001b[0m\u001b[0m\n\u001b[0m\u001b[0;32m    252\u001b[0m                 \u001b[0mshow_inline_matplotlib_plots\u001b[0m\u001b[1;33m(\u001b[0m\u001b[1;33m)\u001b[0m\u001b[1;33m\u001b[0m\u001b[1;33m\u001b[0m\u001b[0m\n\u001b[0;32m    253\u001b[0m                 \u001b[1;32mif\u001b[0m \u001b[0mself\u001b[0m\u001b[1;33m.\u001b[0m\u001b[0mauto_display\u001b[0m \u001b[1;32mand\u001b[0m \u001b[0mself\u001b[0m\u001b[1;33m.\u001b[0m\u001b[0mresult\u001b[0m \u001b[1;32mis\u001b[0m \u001b[1;32mnot\u001b[0m \u001b[1;32mNone\u001b[0m\u001b[1;33m:\u001b[0m\u001b[1;33m\u001b[0m\u001b[1;33m\u001b[0m\u001b[0m\n",
          "\u001b[1;32m<ipython-input-18-1899e05956c5>\u001b[0m in \u001b[0;36mscatter_plot\u001b[1;34m(x, y, theme, colorscale)\u001b[0m\n\u001b[0;32m      8\u001b[0m                   \u001b[0mxTitle\u001b[0m\u001b[1;33m=\u001b[0m\u001b[0mx\u001b[0m\u001b[1;33m.\u001b[0m\u001b[0mtitle\u001b[0m\u001b[1;33m(\u001b[0m\u001b[1;33m)\u001b[0m\u001b[1;33m,\u001b[0m \u001b[0myTitle\u001b[0m\u001b[1;33m=\u001b[0m\u001b[0my\u001b[0m\u001b[1;33m.\u001b[0m\u001b[0mtitle\u001b[0m\u001b[1;33m(\u001b[0m\u001b[1;33m)\u001b[0m\u001b[1;33m,\u001b[0m\u001b[1;33m\u001b[0m\u001b[1;33m\u001b[0m\u001b[0m\n\u001b[0;32m      9\u001b[0m                   \u001b[0mtitle\u001b[0m \u001b[1;33m=\u001b[0m \u001b[1;34mf'{y.title()} vs {x.title()}'\u001b[0m\u001b[1;33m,\u001b[0m\u001b[1;33m\u001b[0m\u001b[1;33m\u001b[0m\u001b[0m\n\u001b[1;32m---> 10\u001b[1;33m                   theme=theme, colorscale=colorscale)\n\u001b[0m",
          "\u001b[1;32m~\\AppData\\Local\\Continuum\\anaconda3\\lib\\site-packages\\cufflinks\\plotlytools.py\u001b[0m in \u001b[0;36m_iplot\u001b[1;34m(self, kind, data, layout, filename, sharing, title, xTitle, yTitle, zTitle, theme, colors, colorscale, fill, width, dash, mode, interpolation, symbol, size, barmode, sortbars, bargap, bargroupgap, bins, histnorm, histfunc, orientation, boxpoints, annotations, keys, bestfit, bestfit_colors, mean, mean_colors, categories, x, y, z, text, gridcolor, zerolinecolor, margin, labels, values, secondary_y, secondary_y_title, subplots, shape, error_x, error_y, error_type, locations, lon, lat, asFrame, asDates, asFigure, asImage, dimensions, asPlot, asUrl, online, **kwargs)\u001b[0m\n\u001b[0;32m    692\u001b[0m         \u001b[1;32mfor\u001b[0m \u001b[0mkey\u001b[0m \u001b[1;32min\u001b[0m \u001b[0mlist\u001b[0m\u001b[1;33m(\u001b[0m\u001b[0mkwargs\u001b[0m\u001b[1;33m.\u001b[0m\u001b[0mkeys\u001b[0m\u001b[1;33m(\u001b[0m\u001b[1;33m)\u001b[0m\u001b[1;33m)\u001b[0m\u001b[1;33m:\u001b[0m\u001b[1;33m\u001b[0m\u001b[1;33m\u001b[0m\u001b[0m\n\u001b[0;32m    693\u001b[0m                 \u001b[1;32mif\u001b[0m \u001b[0mkey\u001b[0m \u001b[1;32mnot\u001b[0m \u001b[1;32min\u001b[0m \u001b[0mvalid_kwargs\u001b[0m\u001b[1;33m:\u001b[0m\u001b[1;33m\u001b[0m\u001b[1;33m\u001b[0m\u001b[0m\n\u001b[1;32m--> 694\u001b[1;33m                         \u001b[1;32mraise\u001b[0m \u001b[0mException\u001b[0m\u001b[1;33m(\u001b[0m\u001b[1;34m\"Invalid keyword : '{0}'\"\u001b[0m\u001b[1;33m.\u001b[0m\u001b[0mformat\u001b[0m\u001b[1;33m(\u001b[0m\u001b[0mkey\u001b[0m\u001b[1;33m)\u001b[0m\u001b[1;33m)\u001b[0m\u001b[1;33m\u001b[0m\u001b[1;33m\u001b[0m\u001b[0m\n\u001b[0m\u001b[0;32m    695\u001b[0m \u001b[1;33m\u001b[0m\u001b[0m\n\u001b[0;32m    696\u001b[0m         \u001b[1;31m# Setting default values\u001b[0m\u001b[1;33m\u001b[0m\u001b[1;33m\u001b[0m\u001b[1;33m\u001b[0m\u001b[0m\n",
          "\u001b[1;31mException\u001b[0m: Invalid keyword : 'marker'"
         ]
        }
       ]
      }
     },
     "71f788c8d891443eba5c4528e631d114": {
      "model_module": "@jupyter-widgets/controls",
      "model_module_version": "1.4.0",
      "model_name": "DropdownModel",
      "state": {
       "_options_labels": [
        "Life Ladder",
        "Log GDP per capita",
        "Social support",
        "Healthy life expectancy at birth",
        "Freedom to make life choices",
        "Generosity",
        "Perceptions of corruption",
        "Positive affect",
        "Negative affect",
        "Confidence in national government",
        "Democratic Quality",
        "Delivery Quality",
        "GINI of household income reported in Gallup, by wp5-year"
       ],
       "description": "x",
       "index": 0,
       "layout": "IPY_MODEL_49ee5551ae5444f6a4504f4622549067",
       "style": "IPY_MODEL_07c41561685c4be3b6ce63b8a7ad1fe5"
      }
     },
     "720054ad0448438dae2d94e0b8cdba27": {
      "model_module": "@jupyter-widgets/controls",
      "model_module_version": "1.4.0",
      "model_name": "DescriptionStyleModel",
      "state": {
       "description_width": ""
      }
     },
     "753470fa5dfc4bd9bb11be096ba06f83": {
      "model_module": "@jupyter-widgets/base",
      "model_module_version": "1.1.0",
      "model_name": "LayoutModel",
      "state": {}
     },
     "75d2316eb146425d9e5d9f12899b0d06": {
      "model_module": "@jupyter-widgets/base",
      "model_module_version": "1.1.0",
      "model_name": "LayoutModel",
      "state": {}
     },
     "76a4486fec3d4e4bbc2b14e7f1add445": {
      "model_module": "@jupyter-widgets/base",
      "model_module_version": "1.1.0",
      "model_name": "LayoutModel",
      "state": {}
     },
     "76e4654a53254a219dea24254ff39fec": {
      "model_module": "@jupyter-widgets/controls",
      "model_module_version": "1.4.0",
      "model_name": "DescriptionStyleModel",
      "state": {
       "description_width": ""
      }
     },
     "771a012fa2bc4d8b85d01130eb7d367d": {
      "model_module": "@jupyter-widgets/controls",
      "model_module_version": "1.4.0",
      "model_name": "DropdownModel",
      "state": {
       "_options_labels": [
        "ggplot",
        "pearl",
        "solar",
        "space",
        "white",
        "polar",
        "henanigans"
       ],
       "description": "theme",
       "index": 0,
       "layout": "IPY_MODEL_c981eed8e4754b73a3de49aa34cb16af",
       "style": "IPY_MODEL_1d796af5de3145aa9313779f88e948ec"
      }
     },
     "7728e061eb204280834fa5d77c316ab7": {
      "model_module": "@jupyter-widgets/controls",
      "model_module_version": "1.4.0",
      "model_name": "DescriptionStyleModel",
      "state": {
       "description_width": ""
      }
     },
     "777aa224da584e1a98c67d2415960568": {
      "model_module": "@jupyter-widgets/output",
      "model_module_version": "1.0.0",
      "model_name": "OutputModel",
      "state": {
       "layout": "IPY_MODEL_5599d135a5b94a7eb8df8ce11311966a",
       "outputs": [
        {
         "data": {
          "application/vnd.plotly.v1+json": {
           "config": {
            "linkText": "Export to plot.ly",
            "plotlyServerURL": "https://plot.ly",
            "responsive": true,
            "showLink": false
           },
           "data": [
            {
             "marker": {
              "size": 10
             },
             "mode": "markers",
             "name": "Western Europe",
             "text": [
              "Finland",
              "Denmark",
              "Norway",
              "Iceland",
              "Netherlands",
              "Switzerland",
              "Sweden",
              "Austria",
              "Luxembourg",
              "United Kingdom",
              "Ireland",
              "Germany",
              "Belgium",
              "Malta",
              "France",
              "Spain",
              "Italy",
              "Cyprus",
              "North Cyprus",
              "Portugal",
              "Greece"
             ],
             "type": "scatter",
             "uid": "e73db05c-7c94-495f-b8ad-1c93c9991e65",
             "x": [
              7.769,
              7.6,
              7.5539999999999985,
              7.494,
              7.487999999999999,
              7.48,
              7.343,
              7.246,
              7.09,
              7.0539999999999985,
              7.021,
              6.985,
              6.922999999999999,
              6.726,
              6.5920000000000005,
              6.354,
              6.223,
              6.046,
              5.718,
              5.693,
              5.287000000000001
             ],
             "y": [
              71.80000051,
              72.10000102,
              73.09999847,
              73,
              72.19999949,
              73.80000051,
              72.5,
              72.69999949,
              72.59999847,
              72.10000102,
              72.19999949,
              71.89999898,
              71.80000051,
              72.19999695,
              73.60000102,
              74.10000102,
              73.39999898,
              73.5,
              72.09121704,
              72.19999949,
              72.19999949
             ]
            },
            {
             "marker": {
              "size": 10
             },
             "mode": "markers",
             "name": "North America and ANZ",
             "text": [
              "New Zealand",
              "Canada",
              "Australia",
              "United States"
             ],
             "type": "scatter",
             "uid": "13a33ad5-1df1-4315-9f1c-c02171dc3320",
             "x": [
              7.307,
              7.278,
              7.228,
              6.892
             ],
             "y": [
              73,
              73.39999898,
              73.30000051,
              68.40000153
             ]
            },
            {
             "marker": {
              "size": 10
             },
             "mode": "markers",
             "name": "Latin America and Caribbean",
             "text": [
              "Costa Rica",
              "Mexico",
              "Chile",
              "Guatemala",
              "Panama",
              "Brazil",
              "Uruguay",
              "El Salvador",
              "Trinidad & Tobago",
              "Colombia",
              "Nicaragua",
              "Argentina",
              "Ecuador",
              "Jamaica",
              "Honduras",
              "Bolivia",
              "Paraguay",
              "Peru",
              "Dominican Republic",
              "Venezuela",
              "Haiti"
             ],
             "type": "scatter",
             "uid": "93fa5f0a-6aad-4455-99ab-fadd90d8db0c",
             "x": [
              7.167000000000002,
              6.595,
              6.444,
              6.436,
              6.3210000000000015,
              6.3,
              6.292999999999998,
              6.252999999999999,
              6.192,
              6.125,
              6.105,
              6.086,
              6.028,
              5.89,
              5.86,
              5.779,
              5.7429999999999986,
              5.697,
              5.425,
              4.707,
              3.597
             ],
             "y": [
              71.10000102,
              68,
              69.80000051,
              64.5,
              69.5,
              66.19999949,
              68.90000153,
              65.80000051,
              62.4939821,
              67.39999898,
              67.19999949,
              68.60000102,
              68.19999949,
              66.9066658,
              67,
              63.29999924,
              65.36666785,
              67.80000051,
              65.5,
              66.30000051,
              55.5
             ]
            },
            {
             "marker": {
              "size": 10
             },
             "mode": "markers",
             "name": "Middle East and North Africa",
             "text": [
              "Israel",
              "United Arab Emirates",
              "Saudi Arabia",
              "Qatar",
              "Bahrain",
              "Kuwait",
              "Libya",
              "Turkey",
              "Algeria",
              "Morocco",
              "Lebanon",
              "Jordan",
              "Palestinian Territories",
              "Iran",
              "Tunisia",
              "Iraq",
              "Egypt",
              "Syria",
              "Yemen"
             ],
             "type": "scatter",
             "uid": "d31e60c0-c3b2-4ec9-83f3-ab74992a6433",
             "x": [
              7.1389999999999985,
              6.825,
              6.375,
              6.374,
              6.199,
              6.021,
              5.525,
              5.372999999999998,
              5.211,
              5.207999999999998,
              5.197,
              4.9060000000000015,
              4.6960000000000015,
              4.548,
              4.461,
              4.437,
              4.166,
              3.462,
              3.38
             ],
             "y": [
              73.10000102,
              66.89999898,
              66,
              67.20285358,
              68.29999924,
              66.36666785,
              62.29999924,
              66.40000153,
              65.69999949,
              65.60000102,
              66.59999847,
              66.60000102,
              62.57299042,
              65.69999949,
              66.60000102,
              59.29999924,
              61.40000025,
              55.99111133,
              55.90000025
             ]
            },
            {
             "marker": {
              "size": 10
             },
             "mode": "markers",
             "name": "Central and Eastern Europe",
             "text": [
              "Czech Republic",
              "Slovakia",
              "Poland",
              "Lithuania",
              "Slovenia",
              "Kosovo",
              "Romania",
              "Latvia",
              "Estonia",
              "Hungary",
              "Serbia",
              "Montenegro",
              "Croatia",
              "Bosnia and Herzegovina",
              "Macedonia",
              "Bulgaria",
              "Albania"
             ],
             "type": "scatter",
             "uid": "dd6c61ae-1988-470f-85af-e56b610e5bef",
             "x": [
              6.852,
              6.198,
              6.182,
              6.149,
              6.1179999999999986,
              6.1,
              6.07,
              5.94,
              5.893,
              5.757999999999999,
              5.603,
              5.523,
              5.432,
              5.386,
              5.274,
              5.011,
              4.7189999999999985
             ],
             "y": [
              69.80000305,
              68.60000102,
              68.63333384,
              66.69999949,
              70.80000051,
              64.87929281,
              66.89999898,
              66.5,
              68.39999898,
              66.9333335,
              67.80000051,
              68.30000051,
              69.59999847,
              67.5,
              67.30000051,
              66.60000102,
              68.39999898
             ]
            },
            {
             "marker": {
              "size": 10
             },
             "mode": "markers",
             "name": "East Asia",
             "text": [
              "Taiwan",
              "South Korea",
              "Japan",
              "Hong Kong SAR, China",
              "Mongolia",
              "China"
             ],
             "type": "scatter",
             "uid": "121a80da-e21a-4c39-8217-421715ff4eb1",
             "x": [
              6.4460000000000015,
              5.895,
              5.886,
              5.43,
              5.285,
              5.191
             ],
             "y": [
              71.4327,
              73.30000051,
              74.90000153,
              75.9304123,
              62.09999975,
              69
             ]
            },
            {
             "marker": {
              "size": 10
             },
             "mode": "markers",
             "name": "Southeast Asia",
             "text": [
              "Singapore",
              "Thailand",
              "Philippines",
              "Malaysia",
              "Indonesia",
              "Vietnam",
              "Laos",
              "Cambodia",
              "Myanmar"
             ],
             "type": "scatter",
             "uid": "f8c09028-7c13-4cc2-8252-9368163151a5",
             "x": [
              6.2620000000000005,
              6.007999999999999,
              5.631,
              5.339,
              5.192,
              5.175,
              4.796,
              4.7,
              4.36
             ],
             "y": [
              76.5,
              67,
              61.80000051,
              67,
              61.90000025,
              67.69999949,
              57.86666616,
              61.19999949,
              58.70000076
             ]
            },
            {
             "marker": {
              "size": 10
             },
             "mode": "markers",
             "name": "Commonwealth of Independent States",
             "text": [
              "Uzbekistan",
              "Kazakhstan",
              "Russia",
              "Moldova",
              "Tajikistan",
              "Belarus",
              "Kyrgyzstan",
              "Turkmenistan",
              "Azerbaijan",
              "Armenia",
              "Georgia",
              "Ukraine"
             ],
             "type": "scatter",
             "uid": "0ff69974-f665-4eba-b712-9e70ab240bc4",
             "x": [
              6.174,
              5.809,
              5.648,
              5.529,
              5.4670000000000005,
              5.323,
              5.261,
              5.247000000000001,
              5.207999999999998,
              4.559,
              4.519,
              4.332
             ],
             "y": [
              64.80000051,
              64,
              63.90000153,
              64.30000051,
              63.64999962,
              65.80000051,
              63.79999924,
              61.80000051,
              65.19999949,
              66.60000102,
              64.69999949,
              64.30000051
             ]
            },
            {
             "marker": {
              "size": 10
             },
             "mode": "markers",
             "name": "Sub-Saharan Africa",
             "text": [
              "Mauritius",
              "Nigeria",
              "Cameroon",
              "Ghana",
              "Ivory Coast",
              "Benin",
              "Congo (Brazzaville)",
              "Gabon",
              "South Africa",
              "Senegal",
              "Somalia",
              "Namibia",
              "Niger",
              "Burkina Faso",
              "Guinea",
              "Gambia",
              "Kenya",
              "Mauritania",
              "Mozambique",
              "Congo (Kinshasa)",
              "Mali",
              "Sierra Leone",
              "Chad",
              "Ethiopia",
              "Swaziland",
              "Uganda",
              "Zambia",
              "Togo",
              "Liberia",
              "Comoros",
              "Madagascar",
              "Lesotho",
              "Burundi",
              "Zimbabwe",
              "Botswana",
              "Malawi",
              "Rwanda",
              "Tanzania",
              "Central African Republic",
              "South Sudan"
             ],
             "type": "scatter",
             "uid": "1e5fc0ef-ed26-4e2c-b8cf-826fe7be362a",
             "x": [
              5.888,
              5.265,
              5.044,
              4.996,
              4.944,
              4.883,
              4.812,
              4.799,
              4.722,
              4.681,
              4.668,
              4.6389999999999985,
              4.628,
              4.587,
              4.534,
              4.516,
              4.509,
              4.49,
              4.466,
              4.418,
              4.39,
              4.374,
              4.35,
              4.2860000000000005,
              4.212,
              4.189,
              4.107,
              4.085,
              3.975,
              3.973,
              3.933,
              3.802,
              3.775,
              3.663,
              3.488,
              3.41,
              3.334,
              3.2310000000000003,
              3.083,
              2.853
             ],
             "y": [
              66.10000102,
              49.30000051,
              51.90000025,
              56.60000039,
              48.90000026,
              53.90000026,
              57.30000051,
              59.20000076,
              56.09999974,
              59.19999949,
              50,
              55.95333354,
              53,
              53.40000153,
              53.30000051,
              54.85000038,
              59.5,
              56.70000076,
              52.86666743,
              52.70000077,
              51.20000076,
              49.19999949,
              47.70000076,
              58,
              57.7,
              55.30000051,
              54.79999924,
              54.30000051,
              55.29999924,
              55.85333379,
              58.69999949,
              46.94999886,
              53.40000153,
              55,
              58.20000076,
              56.90000025,
              60.5,
              57,
              45.05000115,
              50.79999924
             ]
            },
            {
             "marker": {
              "size": 10
             },
             "mode": "markers",
             "name": "South Asia",
             "text": [
              "Pakistan",
              "Bhutan",
              "Nepal",
              "Bangladesh",
              "Sri Lanka",
              "India",
              "Afghanistan"
             ],
             "type": "scatter",
             "uid": "040a4ad0-4717-429c-ae07-54a70c21f99e",
             "x": [
              5.653,
              5.082,
              4.913,
              4.456,
              4.3660000000000005,
              4.015,
              3.2030000000000003
             ],
             "y": [
              58.09999974,
              60.05000072,
              62.40000026,
              63.80000051,
              67.09999848,
              59.69999949,
              52.79999924
             ]
            }
           ],
           "layout": {
            "hovermode": "closest",
            "margin": {
             "b": 50,
             "pad": 5,
             "t": 50
            },
            "showlegend": true,
            "title": {
             "text": "Healthy Life Expectancy At Birth vs Happiness Score"
            },
            "xaxis": {
             "autorange": false,
             "range": [
              1.9971,
              10.8766
             ],
             "title": {
              "text": "Happiness Score"
             }
            },
            "yaxis": {
             "autorange": false,
             "range": [
              31.535000805,
              107.1
             ],
             "title": {
              "text": "Healthy Life Expectancy At Birth"
             }
            }
           }
          },
          "text/html": "<div>\n        \n        \n            <div id=\"36acbbc7-811a-4864-995b-ced66ad5eff0\" class=\"plotly-graph-div\"></div>\n            <script type=\"text/javascript\">\n                require([\"plotly\"], function(Plotly) {\n                    window.PLOTLYENV=window.PLOTLYENV || {};\n                    window.PLOTLYENV.BASE_URL='https://plot.ly';\n                    \n                if (document.getElementById(\"36acbbc7-811a-4864-995b-ced66ad5eff0\")) {\n                    Plotly.newPlot(\n                        '36acbbc7-811a-4864-995b-ced66ad5eff0',\n                        [{\"marker\": {\"size\": 10}, \"mode\": \"markers\", \"name\": \"Western Europe\", \"text\": [\"Finland\", \"Denmark\", \"Norway\", \"Iceland\", \"Netherlands\", \"Switzerland\", \"Sweden\", \"Austria\", \"Luxembourg\", \"United Kingdom\", \"Ireland\", \"Germany\", \"Belgium\", \"Malta\", \"France\", \"Spain\", \"Italy\", \"Cyprus\", \"North Cyprus\", \"Portugal\", \"Greece\"], \"type\": \"scatter\", \"uid\": \"a912fc88-07c9-4677-bacb-95b4f61a3877\", \"x\": [7.769, 7.6, 7.5539999999999985, 7.494, 7.487999999999999, 7.48, 7.343, 7.246, 7.09, 7.0539999999999985, 7.021, 6.985, 6.922999999999999, 6.726, 6.5920000000000005, 6.354, 6.223, 6.046, 5.718, 5.693, 5.287000000000001], \"y\": [71.80000051, 72.10000102, 73.09999847, 73.0, 72.19999949, 73.80000051, 72.5, 72.69999949, 72.59999847, 72.10000102, 72.19999949, 71.89999898, 71.80000051, 72.19999695, 73.60000102, 74.10000102, 73.39999898, 73.5, 72.09121704, 72.19999949, 72.19999949]}, {\"marker\": {\"size\": 10}, \"mode\": \"markers\", \"name\": \"North America and ANZ\", \"text\": [\"New Zealand\", \"Canada\", \"Australia\", \"United States\"], \"type\": \"scatter\", \"uid\": \"5dc560ea-eaae-4ae4-9f36-3953ddab1574\", \"x\": [7.307, 7.278, 7.228, 6.892], \"y\": [73.0, 73.39999898, 73.30000051, 68.40000153]}, {\"marker\": {\"size\": 10}, \"mode\": \"markers\", \"name\": \"Latin America and Caribbean\", \"text\": [\"Costa Rica\", \"Mexico\", \"Chile\", \"Guatemala\", \"Panama\", \"Brazil\", \"Uruguay\", \"El Salvador\", \"Trinidad & Tobago\", \"Colombia\", \"Nicaragua\", \"Argentina\", \"Ecuador\", \"Jamaica\", \"Honduras\", \"Bolivia\", \"Paraguay\", \"Peru\", \"Dominican Republic\", \"Venezuela\", \"Haiti\"], \"type\": \"scatter\", \"uid\": \"9639bade-5c95-41f8-ad38-f60683a1a406\", \"x\": [7.167000000000002, 6.595, 6.444, 6.436, 6.3210000000000015, 6.3, 6.292999999999998, 6.252999999999999, 6.192, 6.125, 6.105, 6.086, 6.028, 5.89, 5.86, 5.779, 5.7429999999999986, 5.697, 5.425, 4.707, 3.597], \"y\": [71.10000102, 68.0, 69.80000051, 64.5, 69.5, 66.19999949, 68.90000153, 65.80000051, 62.4939821, 67.39999898, 67.19999949, 68.60000102, 68.19999949, 66.9066658, 67.0, 63.29999924, 65.36666785, 67.80000051, 65.5, 66.30000051, 55.5]}, {\"marker\": {\"size\": 10}, \"mode\": \"markers\", \"name\": \"Middle East and North Africa\", \"text\": [\"Israel\", \"United Arab Emirates\", \"Saudi Arabia\", \"Qatar\", \"Bahrain\", \"Kuwait\", \"Libya\", \"Turkey\", \"Algeria\", \"Morocco\", \"Lebanon\", \"Jordan\", \"Palestinian Territories\", \"Iran\", \"Tunisia\", \"Iraq\", \"Egypt\", \"Syria\", \"Yemen\"], \"type\": \"scatter\", \"uid\": \"1df41cc3-4711-4cb0-a9c5-259a3d22a190\", \"x\": [7.1389999999999985, 6.825, 6.375, 6.374, 6.199, 6.021, 5.525, 5.372999999999998, 5.211, 5.207999999999998, 5.197, 4.9060000000000015, 4.6960000000000015, 4.548, 4.461, 4.437, 4.166, 3.462, 3.38], \"y\": [73.10000102, 66.89999898, 66.0, 67.20285358, 68.29999924, 66.36666785, 62.29999924, 66.40000153, 65.69999949, 65.60000102, 66.59999847, 66.60000102, 62.57299042, 65.69999949, 66.60000102, 59.29999924, 61.40000025, 55.99111133, 55.90000025]}, {\"marker\": {\"size\": 10}, \"mode\": \"markers\", \"name\": \"Central and Eastern Europe\", \"text\": [\"Czech Republic\", \"Slovakia\", \"Poland\", \"Lithuania\", \"Slovenia\", \"Kosovo\", \"Romania\", \"Latvia\", \"Estonia\", \"Hungary\", \"Serbia\", \"Montenegro\", \"Croatia\", \"Bosnia and Herzegovina\", \"Macedonia\", \"Bulgaria\", \"Albania\"], \"type\": \"scatter\", \"uid\": \"2941ba4b-07a1-40ff-a0dc-6083b19ad92d\", \"x\": [6.852, 6.198, 6.182, 6.149, 6.1179999999999986, 6.1, 6.07, 5.94, 5.893, 5.757999999999999, 5.603, 5.523, 5.432, 5.386, 5.274, 5.011, 4.7189999999999985], \"y\": [69.80000305, 68.60000102, 68.63333384, 66.69999949, 70.80000051, 64.87929281, 66.89999898, 66.5, 68.39999898, 66.9333335, 67.80000051, 68.30000051, 69.59999847, 67.5, 67.30000051, 66.60000102, 68.39999898]}, {\"marker\": {\"size\": 10}, \"mode\": \"markers\", \"name\": \"East Asia\", \"text\": [\"Taiwan\", \"South Korea\", \"Japan\", \"Hong Kong SAR, China\", \"Mongolia\", \"China\"], \"type\": \"scatter\", \"uid\": \"607bb40c-2524-47ac-9ee9-7dda1f15bfb0\", \"x\": [6.4460000000000015, 5.895, 5.886, 5.43, 5.285, 5.191], \"y\": [71.4327, 73.30000051, 74.90000153, 75.9304123, 62.09999975, 69.0]}, {\"marker\": {\"size\": 10}, \"mode\": \"markers\", \"name\": \"Southeast Asia\", \"text\": [\"Singapore\", \"Thailand\", \"Philippines\", \"Malaysia\", \"Indonesia\", \"Vietnam\", \"Laos\", \"Cambodia\", \"Myanmar\"], \"type\": \"scatter\", \"uid\": \"dd639a34-6d1c-4e6a-b391-f48972e121f0\", \"x\": [6.2620000000000005, 6.007999999999999, 5.631, 5.339, 5.192, 5.175, 4.796, 4.7, 4.36], \"y\": [76.5, 67.0, 61.80000051, 67.0, 61.90000025, 67.69999949, 57.86666616, 61.19999949, 58.70000076]}, {\"marker\": {\"size\": 10}, \"mode\": \"markers\", \"name\": \"Commonwealth of Independent States\", \"text\": [\"Uzbekistan\", \"Kazakhstan\", \"Russia\", \"Moldova\", \"Tajikistan\", \"Belarus\", \"Kyrgyzstan\", \"Turkmenistan\", \"Azerbaijan\", \"Armenia\", \"Georgia\", \"Ukraine\"], \"type\": \"scatter\", \"uid\": \"1d311318-0a59-472a-b490-0a4a553b9ab9\", \"x\": [6.174, 5.809, 5.648, 5.529, 5.4670000000000005, 5.323, 5.261, 5.247000000000001, 5.207999999999998, 4.559, 4.519, 4.332], \"y\": [64.80000051, 64.0, 63.90000153, 64.30000051, 63.64999962, 65.80000051, 63.79999924, 61.80000051, 65.19999949, 66.60000102, 64.69999949, 64.30000051]}, {\"marker\": {\"size\": 10}, \"mode\": \"markers\", \"name\": \"Sub-Saharan Africa\", \"text\": [\"Mauritius\", \"Nigeria\", \"Cameroon\", \"Ghana\", \"Ivory Coast\", \"Benin\", \"Congo (Brazzaville)\", \"Gabon\", \"South Africa\", \"Senegal\", \"Somalia\", \"Namibia\", \"Niger\", \"Burkina Faso\", \"Guinea\", \"Gambia\", \"Kenya\", \"Mauritania\", \"Mozambique\", \"Congo (Kinshasa)\", \"Mali\", \"Sierra Leone\", \"Chad\", \"Ethiopia\", \"Swaziland\", \"Uganda\", \"Zambia\", \"Togo\", \"Liberia\", \"Comoros\", \"Madagascar\", \"Lesotho\", \"Burundi\", \"Zimbabwe\", \"Botswana\", \"Malawi\", \"Rwanda\", \"Tanzania\", \"Central African Republic\", \"South Sudan\"], \"type\": \"scatter\", \"uid\": \"c5ed505b-b3e6-4d25-8434-9febb5e71845\", \"x\": [5.888, 5.265, 5.044, 4.996, 4.944, 4.883, 4.812, 4.799, 4.722, 4.681, 4.668, 4.6389999999999985, 4.628, 4.587, 4.534, 4.516, 4.509, 4.49, 4.466, 4.418, 4.39, 4.374, 4.35, 4.2860000000000005, 4.212, 4.189, 4.107, 4.085, 3.975, 3.973, 3.933, 3.802, 3.775, 3.663, 3.488, 3.41, 3.334, 3.2310000000000003, 3.083, 2.853], \"y\": [66.10000102, 49.30000051, 51.90000025, 56.60000039, 48.90000026, 53.90000026, 57.30000051, 59.20000076, 56.09999974, 59.19999949, 50.0, 55.95333354, 53.0, 53.40000153, 53.30000051, 54.85000038, 59.5, 56.70000076, 52.86666743, 52.70000077, 51.20000076, 49.19999949, 47.70000076, 58.0, 57.7, 55.30000051, 54.79999924, 54.30000051, 55.29999924, 55.85333379, 58.69999949, 46.94999886, 53.40000153, 55.0, 58.20000076, 56.90000025, 60.5, 57.0, 45.05000115, 50.79999924]}, {\"marker\": {\"size\": 10}, \"mode\": \"markers\", \"name\": \"South Asia\", \"text\": [\"Pakistan\", \"Bhutan\", \"Nepal\", \"Bangladesh\", \"Sri Lanka\", \"India\", \"Afghanistan\"], \"type\": \"scatter\", \"uid\": \"417c0739-9ba1-4769-aace-a4bbfcf432f8\", \"x\": [5.653, 5.082, 4.913, 4.456, 4.3660000000000005, 4.015, 3.2030000000000003], \"y\": [58.09999974, 60.05000072, 62.40000026, 63.80000051, 67.09999848, 59.69999949, 52.79999924]}],\n                        {\"hovermode\": \"closest\", \"margin\": {\"b\": 50, \"pad\": 5, \"t\": 50}, \"showlegend\": true, \"title\": {\"text\": \"Healthy Life Expectancy At Birth vs Happiness Score\"}, \"xaxis\": {\"autorange\": false, \"range\": [1.9971, 10.8766], \"title\": {\"text\": \"Happiness Score\"}}, \"yaxis\": {\"autorange\": false, \"range\": [31.535000805, 107.1], \"title\": {\"text\": \"Healthy Life Expectancy At Birth\"}}},\n                        {\"showLink\": false, \"linkText\": \"Export to plot.ly\", \"plotlyServerURL\": \"https://plot.ly\", \"responsive\": true}\n                    )\n                };\n                });\n            </script>\n        </div>"
         },
         "metadata": {},
         "output_type": "display_data"
        }
       ]
      }
     },
     "77bdd3d106614e42be4eb2a63731197b": {
      "model_module": "@jupyter-widgets/controls",
      "model_module_version": "1.4.0",
      "model_name": "DescriptionStyleModel",
      "state": {
       "description_width": ""
      }
     },
     "786837f58bde4fe8b29c36885dddda20": {
      "model_module": "@jupyter-widgets/controls",
      "model_module_version": "1.4.0",
      "model_name": "DropdownModel",
      "state": {
       "_options_labels": [
        "ggplot",
        "pearl",
        "solar",
        "space",
        "white",
        "polar",
        "henanigans"
       ],
       "description": "theme",
       "index": 0,
       "layout": "IPY_MODEL_4bc687b40df24c6a9e3cb57283333d53",
       "style": "IPY_MODEL_973f460b16444a61bc196be7fa55a188"
      }
     },
     "7a0806a758cd403abb432c1209d5bdcf": {
      "model_module": "@jupyter-widgets/controls",
      "model_module_version": "1.4.0",
      "model_name": "DropdownModel",
      "state": {
       "_options_labels": [
        "Life Ladder",
        "Log GDP per capita",
        "Social support",
        "Healthy life expectancy at birth",
        "Freedom to make life choices",
        "Generosity",
        "Perceptions of corruption",
        "Positive affect",
        "Negative affect",
        "Confidence in national government",
        "Democratic Quality",
        "Delivery Quality",
        "GINI of household income reported in Gallup, by wp5-year"
       ],
       "description": "x",
       "index": 3,
       "layout": "IPY_MODEL_6cd765a9b791433cae13360955381f21",
       "style": "IPY_MODEL_2b660bde3abb4bfdb6cb14fe71a5f32a"
      }
     },
     "7b40be63e7a5467090d179a6d938f95b": {
      "model_module": "@jupyter-widgets/base",
      "model_module_version": "1.1.0",
      "model_name": "LayoutModel",
      "state": {}
     },
     "7bf859ece23d4335b51ba9718822cc6c": {
      "model_module": "@jupyter-widgets/base",
      "model_module_version": "1.1.0",
      "model_name": "LayoutModel",
      "state": {}
     },
     "7c1ad23b5e8f4271bc9b6314f2763245": {
      "model_module": "@jupyter-widgets/base",
      "model_module_version": "1.1.0",
      "model_name": "LayoutModel",
      "state": {}
     },
     "7d986e822dfa4f2d8246a45773b053c4": {
      "model_module": "@jupyter-widgets/controls",
      "model_module_version": "1.4.0",
      "model_name": "DropdownModel",
      "state": {
       "_options_labels": [
        "Life Ladder",
        "Log GDP per capita",
        "Social support",
        "Healthy life expectancy at birth",
        "Freedom to make life choices",
        "Generosity",
        "Perceptions of corruption",
        "Positive affect",
        "Negative affect",
        "Confidence in national government",
        "Democratic Quality",
        "Delivery Quality",
        "GINI of household income reported in Gallup, by wp5-year"
       ],
       "description": "x",
       "index": 0,
       "layout": "IPY_MODEL_93e659d2caef4396acd98a105fa4dd65",
       "style": "IPY_MODEL_fe9d7f67a29c406baf289efb6f2bc76e"
      }
     },
     "7eb938ffaa954843912837d4da880bc9": {
      "model_module": "@jupyter-widgets/controls",
      "model_module_version": "1.4.0",
      "model_name": "DropdownModel",
      "state": {
       "_options_labels": [
        "Happiness Score",
        "Life Ladder",
        "Log GDP per capita",
        "Social support",
        "Healthy life expectancy at birth",
        "Freedom to make life choices",
        "Generosity",
        "Perceptions of corruption",
        "Positive affect",
        "Negative affect",
        "Confidence in national government",
        "Democratic Quality",
        "Delivery Quality",
        "GINI of household income reported in Gallup, by wp5-year"
       ],
       "description": "y",
       "index": 0,
       "layout": "IPY_MODEL_2efe97ff874944b0a024b78ef58b87ff",
       "style": "IPY_MODEL_ce50ea96ecfb4a93bc556e7c6aa6db82"
      }
     },
     "7ec7e1a0a96b4223b81bae9297156710": {
      "model_module": "@jupyter-widgets/base",
      "model_module_version": "1.1.0",
      "model_name": "LayoutModel",
      "state": {}
     },
     "7ed422e29ce9487983a718b470855b3c": {
      "model_module": "@jupyter-widgets/base",
      "model_module_version": "1.1.0",
      "model_name": "LayoutModel",
      "state": {}
     },
     "7f434c7c76af42d481417f0c9b713d2d": {
      "model_module": "@jupyter-widgets/controls",
      "model_module_version": "1.4.0",
      "model_name": "VBoxModel",
      "state": {
       "_dom_classes": [
        "widget-interact"
       ],
       "children": [
        "IPY_MODEL_b89a0cc903ac43429a3dae9d41ade221",
        "IPY_MODEL_8750ae824c504747a2f5f5bd10d05fd6",
        "IPY_MODEL_786837f58bde4fe8b29c36885dddda20",
        "IPY_MODEL_44bcc7fa2cbb46a49674ac3fc761408a",
        "IPY_MODEL_052f0e61bda64bc990b578f223d018c1"
       ],
       "layout": "IPY_MODEL_276b4a88fc304f1c8d8d2563f6601cf4"
      }
     },
     "803392ec9d45477d8b760c6295c943d4": {
      "model_module": "@jupyter-widgets/base",
      "model_module_version": "1.1.0",
      "model_name": "LayoutModel",
      "state": {}
     },
     "80606f3c492647bc9e304f539d4229e6": {
      "model_module": "@jupyter-widgets/output",
      "model_module_version": "1.0.0",
      "model_name": "OutputModel",
      "state": {
       "layout": "IPY_MODEL_6b6fdb74f90f4b4eae61bc0031283184",
       "outputs": [
        {
         "ename": "KeyError",
         "evalue": "'region'",
         "output_type": "error",
         "traceback": [
          "\u001b[1;31m---------------------------------------------------------------------------\u001b[0m",
          "\u001b[1;31mKeyError\u001b[0m                                  Traceback (most recent call last)",
          "\u001b[1;32m~\\AppData\\Local\\Continuum\\anaconda3\\lib\\site-packages\\ipywidgets\\widgets\\interaction.py\u001b[0m in \u001b[0;36mupdate\u001b[1;34m(self, *args)\u001b[0m\n\u001b[0;32m    249\u001b[0m                     \u001b[0mvalue\u001b[0m \u001b[1;33m=\u001b[0m \u001b[0mwidget\u001b[0m\u001b[1;33m.\u001b[0m\u001b[0mget_interact_value\u001b[0m\u001b[1;33m(\u001b[0m\u001b[1;33m)\u001b[0m\u001b[1;33m\u001b[0m\u001b[1;33m\u001b[0m\u001b[0m\n\u001b[0;32m    250\u001b[0m                     \u001b[0mself\u001b[0m\u001b[1;33m.\u001b[0m\u001b[0mkwargs\u001b[0m\u001b[1;33m[\u001b[0m\u001b[0mwidget\u001b[0m\u001b[1;33m.\u001b[0m\u001b[0m_kwarg\u001b[0m\u001b[1;33m]\u001b[0m \u001b[1;33m=\u001b[0m \u001b[0mvalue\u001b[0m\u001b[1;33m\u001b[0m\u001b[1;33m\u001b[0m\u001b[0m\n\u001b[1;32m--> 251\u001b[1;33m                 \u001b[0mself\u001b[0m\u001b[1;33m.\u001b[0m\u001b[0mresult\u001b[0m \u001b[1;33m=\u001b[0m \u001b[0mself\u001b[0m\u001b[1;33m.\u001b[0m\u001b[0mf\u001b[0m\u001b[1;33m(\u001b[0m\u001b[1;33m**\u001b[0m\u001b[0mself\u001b[0m\u001b[1;33m.\u001b[0m\u001b[0mkwargs\u001b[0m\u001b[1;33m)\u001b[0m\u001b[1;33m\u001b[0m\u001b[1;33m\u001b[0m\u001b[0m\n\u001b[0m\u001b[0;32m    252\u001b[0m                 \u001b[0mshow_inline_matplotlib_plots\u001b[0m\u001b[1;33m(\u001b[0m\u001b[1;33m)\u001b[0m\u001b[1;33m\u001b[0m\u001b[1;33m\u001b[0m\u001b[0m\n\u001b[0;32m    253\u001b[0m                 \u001b[1;32mif\u001b[0m \u001b[0mself\u001b[0m\u001b[1;33m.\u001b[0m\u001b[0mauto_display\u001b[0m \u001b[1;32mand\u001b[0m \u001b[0mself\u001b[0m\u001b[1;33m.\u001b[0m\u001b[0mresult\u001b[0m \u001b[1;32mis\u001b[0m \u001b[1;32mnot\u001b[0m \u001b[1;32mNone\u001b[0m\u001b[1;33m:\u001b[0m\u001b[1;33m\u001b[0m\u001b[1;33m\u001b[0m\u001b[0m\n",
          "\u001b[1;32m<ipython-input-16-4992696080ec>\u001b[0m in \u001b[0;36mscatter_plot\u001b[1;34m(x, y, theme, colorscale)\u001b[0m\n\u001b[0;32m      8\u001b[0m                   \u001b[0mxTitle\u001b[0m\u001b[1;33m=\u001b[0m\u001b[0mx\u001b[0m\u001b[1;33m.\u001b[0m\u001b[0mtitle\u001b[0m\u001b[1;33m(\u001b[0m\u001b[1;33m)\u001b[0m\u001b[1;33m,\u001b[0m \u001b[0myTitle\u001b[0m\u001b[1;33m=\u001b[0m\u001b[0my\u001b[0m\u001b[1;33m.\u001b[0m\u001b[0mtitle\u001b[0m\u001b[1;33m(\u001b[0m\u001b[1;33m)\u001b[0m\u001b[1;33m,\u001b[0m\u001b[1;33m\u001b[0m\u001b[1;33m\u001b[0m\u001b[0m\n\u001b[0;32m      9\u001b[0m                   \u001b[0mtitle\u001b[0m \u001b[1;33m=\u001b[0m \u001b[1;34mf'{y.title()} vs {x.title()}'\u001b[0m\u001b[1;33m,\u001b[0m\u001b[1;33m\u001b[0m\u001b[1;33m\u001b[0m\u001b[0m\n\u001b[1;32m---> 10\u001b[1;33m                   theme=theme, colorscale=\"Region\")\n\u001b[0m",
          "\u001b[1;32m~\\AppData\\Local\\Continuum\\anaconda3\\lib\\site-packages\\cufflinks\\plotlytools.py\u001b[0m in \u001b[0;36m_iplot\u001b[1;34m(self, kind, data, layout, filename, sharing, title, xTitle, yTitle, zTitle, theme, colors, colorscale, fill, width, dash, mode, interpolation, symbol, size, barmode, sortbars, bargap, bargroupgap, bins, histnorm, histfunc, orientation, boxpoints, annotations, keys, bestfit, bestfit_colors, mean, mean_colors, categories, x, y, z, text, gridcolor, zerolinecolor, margin, labels, values, secondary_y, secondary_y_title, subplots, shape, error_x, error_y, error_type, locations, lon, lat, asFrame, asDates, asFigure, asImage, dimensions, asPlot, asUrl, online, **kwargs)\u001b[0m\n\u001b[0;32m    838\u001b[0m \t\t\t\tdata=df.to_iplot(colors=colors,colorscale=colorscale,kind=kind,interpolation=interpolation,fill=fill,width=width,dash=dash,sortbars=sortbars,keys=keys,\n\u001b[0;32m    839\u001b[0m                                                 \u001b[0mbestfit\u001b[0m\u001b[1;33m=\u001b[0m\u001b[0mbestfit\u001b[0m\u001b[1;33m,\u001b[0m\u001b[0mbestfit_colors\u001b[0m\u001b[1;33m=\u001b[0m\u001b[0mbestfit_colors\u001b[0m\u001b[1;33m,\u001b[0m\u001b[0mmean\u001b[0m\u001b[1;33m=\u001b[0m\u001b[0mmean\u001b[0m\u001b[1;33m,\u001b[0m\u001b[0mmean_colors\u001b[0m\u001b[1;33m=\u001b[0m\u001b[0mmean_colors\u001b[0m\u001b[1;33m,\u001b[0m\u001b[0masDates\u001b[0m\u001b[1;33m=\u001b[0m\u001b[0masDates\u001b[0m\u001b[1;33m,\u001b[0m\u001b[0mmode\u001b[0m\u001b[1;33m=\u001b[0m\u001b[0mmode\u001b[0m\u001b[1;33m,\u001b[0m\u001b[0msymbol\u001b[0m\u001b[1;33m=\u001b[0m\u001b[0msymbol\u001b[0m\u001b[1;33m,\u001b[0m\u001b[0msize\u001b[0m\u001b[1;33m=\u001b[0m\u001b[0msize\u001b[0m\u001b[1;33m,\u001b[0m\u001b[1;33m\u001b[0m\u001b[1;33m\u001b[0m\u001b[0m\n\u001b[1;32m--> 840\u001b[1;33m \t\t\t\t\t\ttext=text,**kwargs)\t\t\n\u001b[0m\u001b[0;32m    841\u001b[0m                                 \u001b[0mtrace_kw\u001b[0m\u001b[1;33m=\u001b[0m\u001b[0mcheck_kwargs\u001b[0m\u001b[1;33m(\u001b[0m\u001b[0mkwargs\u001b[0m\u001b[1;33m,\u001b[0m\u001b[0mTRACE_KWARGS\u001b[0m\u001b[1;33m)\u001b[0m\u001b[1;33m\u001b[0m\u001b[1;33m\u001b[0m\u001b[0m\n\u001b[0;32m    842\u001b[0m                                 \u001b[1;32mfor\u001b[0m \u001b[0mtrace\u001b[0m \u001b[1;32min\u001b[0m \u001b[0mdata\u001b[0m\u001b[1;33m:\u001b[0m\u001b[1;33m\u001b[0m\u001b[1;33m\u001b[0m\u001b[0m\n",
          "\u001b[1;32m~\\AppData\\Local\\Continuum\\anaconda3\\lib\\site-packages\\cufflinks\\plotlytools.py\u001b[0m in \u001b[0;36m_to_iplot\u001b[1;34m(self, colors, colorscale, kind, mode, interpolation, symbol, size, fill, width, dash, sortbars, keys, bestfit, bestfit_colors, opacity, mean, mean_colors, asDates, asTimestamp, text, **kwargs)\u001b[0m\n\u001b[0;32m    134\u001b[0m                         \u001b[0mkeys\u001b[0m\u001b[1;33m=\u001b[0m\u001b[0mlist\u001b[0m\u001b[1;33m(\u001b[0m\u001b[0mdf\u001b[0m\u001b[1;33m.\u001b[0m\u001b[0mkeys\u001b[0m\u001b[1;33m(\u001b[0m\u001b[1;33m)\u001b[0m\u001b[1;33m)\u001b[0m\u001b[1;33m\u001b[0m\u001b[1;33m\u001b[0m\u001b[0m\n\u001b[0;32m    135\u001b[0m \u001b[1;33m\u001b[0m\u001b[0m\n\u001b[1;32m--> 136\u001b[1;33m         \u001b[0mcolors\u001b[0m\u001b[1;33m=\u001b[0m\u001b[0mget_colors\u001b[0m\u001b[1;33m(\u001b[0m\u001b[0mcolors\u001b[0m\u001b[1;33m,\u001b[0m\u001b[0mcolorscale\u001b[0m\u001b[1;33m,\u001b[0m\u001b[0mkeys\u001b[0m\u001b[1;33m)\u001b[0m\u001b[1;33m\u001b[0m\u001b[1;33m\u001b[0m\u001b[0m\n\u001b[0m\u001b[0;32m    137\u001b[0m         \u001b[0mdash\u001b[0m\u001b[1;33m=\u001b[0m\u001b[0mget_items_as_list\u001b[0m\u001b[1;33m(\u001b[0m\u001b[0mdash\u001b[0m\u001b[1;33m,\u001b[0m\u001b[0mkeys\u001b[0m\u001b[1;33m,\u001b[0m\u001b[1;34m'dash'\u001b[0m\u001b[1;33m)\u001b[0m\u001b[1;33m\u001b[0m\u001b[1;33m\u001b[0m\u001b[0m\n\u001b[0;32m    138\u001b[0m         \u001b[0msymbol\u001b[0m\u001b[1;33m=\u001b[0m\u001b[0mget_items_as_list\u001b[0m\u001b[1;33m(\u001b[0m\u001b[0msymbol\u001b[0m\u001b[1;33m,\u001b[0m\u001b[0mkeys\u001b[0m\u001b[1;33m,\u001b[0m\u001b[1;34m'symbol'\u001b[0m\u001b[1;33m)\u001b[0m\u001b[1;33m\u001b[0m\u001b[1;33m\u001b[0m\u001b[0m\n",
          "\u001b[1;32m~\\AppData\\Local\\Continuum\\anaconda3\\lib\\site-packages\\cufflinks\\plotlytools.py\u001b[0m in \u001b[0;36mget_colors\u001b[1;34m(colors, colorscale, keys, asList)\u001b[0m\n\u001b[0;32m   1222\u001b[0m                         \u001b[1;32mif\u001b[0m \u001b[1;32mnot\u001b[0m \u001b[0mcolors\u001b[0m\u001b[1;33m:\u001b[0m\u001b[1;33m\u001b[0m\u001b[1;33m\u001b[0m\u001b[0m\n\u001b[0;32m   1223\u001b[0m                                 \u001b[1;32mif\u001b[0m \u001b[0mcolorscale\u001b[0m\u001b[1;33m:\u001b[0m\u001b[1;33m\u001b[0m\u001b[1;33m\u001b[0m\u001b[0m\n\u001b[1;32m-> 1224\u001b[1;33m                                         \u001b[0mcolors\u001b[0m\u001b[1;33m=\u001b[0m\u001b[0mget_scales\u001b[0m\u001b[1;33m(\u001b[0m\u001b[0mcolorscale\u001b[0m\u001b[1;33m,\u001b[0m\u001b[0mlen\u001b[0m\u001b[1;33m(\u001b[0m\u001b[0mkeys\u001b[0m\u001b[1;33m)\u001b[0m\u001b[1;33m)\u001b[0m\u001b[1;33m\u001b[0m\u001b[1;33m\u001b[0m\u001b[0m\n\u001b[0m\u001b[0;32m   1225\u001b[0m                         \u001b[0mclrgen\u001b[0m\u001b[1;33m=\u001b[0m\u001b[0mcolorgen\u001b[0m\u001b[1;33m(\u001b[0m\u001b[0mcolors\u001b[0m\u001b[1;33m,\u001b[0m\u001b[0mlen\u001b[0m\u001b[1;33m(\u001b[0m\u001b[0mkeys\u001b[0m\u001b[1;33m)\u001b[0m\u001b[1;33m)\u001b[0m\u001b[1;33m\u001b[0m\u001b[1;33m\u001b[0m\u001b[0m\n\u001b[0;32m   1226\u001b[0m                         \u001b[1;32mif\u001b[0m \u001b[0masList\u001b[0m\u001b[1;33m:\u001b[0m\u001b[1;33m\u001b[0m\u001b[1;33m\u001b[0m\u001b[0m\n",
          "\u001b[1;32m~\\AppData\\Local\\Continuum\\anaconda3\\lib\\site-packages\\cufflinks\\colors.py\u001b[0m in \u001b[0;36mget_scales\u001b[1;34m(scale, n)\u001b[0m\n\u001b[0;32m    691\u001b[0m             \u001b[0mscale\u001b[0m \u001b[1;33m=\u001b[0m \u001b[0mscale\u001b[0m\u001b[1;33m[\u001b[0m\u001b[1;36m1\u001b[0m\u001b[1;33m:\u001b[0m\u001b[1;33m]\u001b[0m\u001b[1;33m\u001b[0m\u001b[1;33m\u001b[0m\u001b[0m\n\u001b[0;32m    692\u001b[0m             \u001b[0mis_reverse\u001b[0m \u001b[1;33m=\u001b[0m \u001b[1;32mTrue\u001b[0m\u001b[1;33m\u001b[0m\u001b[1;33m\u001b[0m\u001b[0m\n\u001b[1;32m--> 693\u001b[1;33m         \u001b[0md\u001b[0m \u001b[1;33m=\u001b[0m \u001b[0mcopy\u001b[0m\u001b[1;33m.\u001b[0m\u001b[0mdeepcopy\u001b[0m\u001b[1;33m(\u001b[0m\u001b[0m_scales_names\u001b[0m\u001b[1;33m[\u001b[0m\u001b[0mscale\u001b[0m\u001b[1;33m.\u001b[0m\u001b[0mlower\u001b[0m\u001b[1;33m(\u001b[0m\u001b[1;33m)\u001b[0m\u001b[1;33m]\u001b[0m\u001b[1;33m)\u001b[0m\u001b[1;33m\u001b[0m\u001b[1;33m\u001b[0m\u001b[0m\n\u001b[0m\u001b[0;32m    694\u001b[0m         \u001b[0mkeys\u001b[0m \u001b[1;33m=\u001b[0m \u001b[0mlist\u001b[0m\u001b[1;33m(\u001b[0m\u001b[0mmap\u001b[0m\u001b[1;33m(\u001b[0m\u001b[0mint\u001b[0m\u001b[1;33m,\u001b[0m \u001b[0mlist\u001b[0m\u001b[1;33m(\u001b[0m\u001b[0md\u001b[0m\u001b[1;33m.\u001b[0m\u001b[0mkeys\u001b[0m\u001b[1;33m(\u001b[0m\u001b[1;33m)\u001b[0m\u001b[1;33m)\u001b[0m\u001b[1;33m)\u001b[0m\u001b[1;33m)\u001b[0m\u001b[1;33m\u001b[0m\u001b[1;33m\u001b[0m\u001b[0m\n\u001b[0;32m    695\u001b[0m         \u001b[0mcs\u001b[0m \u001b[1;33m=\u001b[0m \u001b[1;32mNone\u001b[0m\u001b[1;33m\u001b[0m\u001b[1;33m\u001b[0m\u001b[0m\n",
          "\u001b[1;31mKeyError\u001b[0m: 'region'"
         ]
        }
       ]
      }
     },
     "806cea92dc3342dfae5999edfea5e4f0": {
      "model_module": "@jupyter-widgets/base",
      "model_module_version": "1.1.0",
      "model_name": "LayoutModel",
      "state": {}
     },
     "80ff773912084f549272dc7f75e89808": {
      "model_module": "@jupyter-widgets/base",
      "model_module_version": "1.1.0",
      "model_name": "LayoutModel",
      "state": {}
     },
     "8192021d25aa4104846d155f3bd69871": {
      "model_module": "@jupyter-widgets/base",
      "model_module_version": "1.1.0",
      "model_name": "LayoutModel",
      "state": {}
     },
     "828492c143a043eba797c955ca6cd30f": {
      "model_module": "@jupyter-widgets/controls",
      "model_module_version": "1.4.0",
      "model_name": "DropdownModel",
      "state": {
       "_options_labels": [
        "Happiness Score",
        "Life Ladder",
        "Log GDP per capita",
        "Social support",
        "Healthy life expectancy at birth",
        "Freedom to make life choices",
        "Generosity",
        "Perceptions of corruption",
        "Positive affect",
        "Negative affect",
        "Confidence in national government",
        "Democratic Quality",
        "Delivery Quality",
        "GINI of household income reported in Gallup, by wp5-year"
       ],
       "description": "y",
       "index": 0,
       "layout": "IPY_MODEL_5bcba15c397249d1b32b324687db3c5e",
       "style": "IPY_MODEL_8e2b5ab8bcaf47b6a2861988869c7b48"
      }
     },
     "837b84020727423883725b02037d6a94": {
      "model_module": "@jupyter-widgets/controls",
      "model_module_version": "1.4.0",
      "model_name": "DropdownModel",
      "state": {
       "_options_labels": [
        "ggplot",
        "pearl",
        "solar",
        "space",
        "white",
        "polar",
        "henanigans"
       ],
       "description": "theme",
       "index": 2,
       "layout": "IPY_MODEL_803392ec9d45477d8b760c6295c943d4",
       "style": "IPY_MODEL_beba2d5fb9494f40a656901b69acb6ed"
      }
     },
     "83bf2bc4a93f4299820f87e0cceb4d10": {
      "model_module": "@jupyter-widgets/base",
      "model_module_version": "1.1.0",
      "model_name": "LayoutModel",
      "state": {}
     },
     "84867e4cbea74e848a4e0e25fa5bc7cd": {
      "model_module": "@jupyter-widgets/controls",
      "model_module_version": "1.4.0",
      "model_name": "VBoxModel",
      "state": {
       "_dom_classes": [
        "widget-interact"
       ],
       "children": [
        "IPY_MODEL_02b427ba44984fbb95451f69ae2f4588",
        "IPY_MODEL_1f30d8dc44644d91a4b624895b97e774",
        "IPY_MODEL_6f2209721c8948d4a15e9aa8f2cca64e",
        "IPY_MODEL_c9012138549748b39ee6b6d24a6fcb21",
        "IPY_MODEL_245918a5acca4c98893509379c3bef58"
       ],
       "layout": "IPY_MODEL_ccc8ad2d59c84d58a61309d995f689e0"
      }
     },
     "849f08880f3a4afb99c677f7c3e4dabe": {
      "model_module": "@jupyter-widgets/output",
      "model_module_version": "1.0.0",
      "model_name": "OutputModel",
      "state": {
       "layout": "IPY_MODEL_fce5a49e8cd7444792f093d46bb6b832",
       "outputs": [
        {
         "ename": "NameError",
         "evalue": "name 'bubbleplot' is not defined",
         "output_type": "error",
         "traceback": [
          "\u001b[1;31m---------------------------------------------------------------------------\u001b[0m",
          "\u001b[1;31mNameError\u001b[0m                                 Traceback (most recent call last)",
          "\u001b[1;32m~\\AppData\\Local\\Continuum\\anaconda3\\lib\\site-packages\\ipywidgets\\widgets\\interaction.py\u001b[0m in \u001b[0;36mupdate\u001b[1;34m(self, *args)\u001b[0m\n\u001b[0;32m    249\u001b[0m                     \u001b[0mvalue\u001b[0m \u001b[1;33m=\u001b[0m \u001b[0mwidget\u001b[0m\u001b[1;33m.\u001b[0m\u001b[0mget_interact_value\u001b[0m\u001b[1;33m(\u001b[0m\u001b[1;33m)\u001b[0m\u001b[1;33m\u001b[0m\u001b[1;33m\u001b[0m\u001b[0m\n\u001b[0;32m    250\u001b[0m                     \u001b[0mself\u001b[0m\u001b[1;33m.\u001b[0m\u001b[0mkwargs\u001b[0m\u001b[1;33m[\u001b[0m\u001b[0mwidget\u001b[0m\u001b[1;33m.\u001b[0m\u001b[0m_kwarg\u001b[0m\u001b[1;33m]\u001b[0m \u001b[1;33m=\u001b[0m \u001b[0mvalue\u001b[0m\u001b[1;33m\u001b[0m\u001b[1;33m\u001b[0m\u001b[0m\n\u001b[1;32m--> 251\u001b[1;33m                 \u001b[0mself\u001b[0m\u001b[1;33m.\u001b[0m\u001b[0mresult\u001b[0m \u001b[1;33m=\u001b[0m \u001b[0mself\u001b[0m\u001b[1;33m.\u001b[0m\u001b[0mf\u001b[0m\u001b[1;33m(\u001b[0m\u001b[1;33m**\u001b[0m\u001b[0mself\u001b[0m\u001b[1;33m.\u001b[0m\u001b[0mkwargs\u001b[0m\u001b[1;33m)\u001b[0m\u001b[1;33m\u001b[0m\u001b[1;33m\u001b[0m\u001b[0m\n\u001b[0m\u001b[0;32m    252\u001b[0m                 \u001b[0mshow_inline_matplotlib_plots\u001b[0m\u001b[1;33m(\u001b[0m\u001b[1;33m)\u001b[0m\u001b[1;33m\u001b[0m\u001b[1;33m\u001b[0m\u001b[0m\n\u001b[0;32m    253\u001b[0m                 \u001b[1;32mif\u001b[0m \u001b[0mself\u001b[0m\u001b[1;33m.\u001b[0m\u001b[0mauto_display\u001b[0m \u001b[1;32mand\u001b[0m \u001b[0mself\u001b[0m\u001b[1;33m.\u001b[0m\u001b[0mresult\u001b[0m \u001b[1;32mis\u001b[0m \u001b[1;32mnot\u001b[0m \u001b[1;32mNone\u001b[0m\u001b[1;33m:\u001b[0m\u001b[1;33m\u001b[0m\u001b[1;33m\u001b[0m\u001b[0m\n",
          "\u001b[1;32m<ipython-input-20-20bd28201245>\u001b[0m in \u001b[0;36mscatter_plot\u001b[1;34m(x, y, theme, colorscale)\u001b[0m\n\u001b[0;32m      5\u001b[0m                  colorscale = list(cufflinks.colors._scales_names.keys())):\n\u001b[0;32m      6\u001b[0m \u001b[1;33m\u001b[0m\u001b[0m\n\u001b[1;32m----> 7\u001b[1;33m     fig = bubbleplot(dataset = df_2019, x_column = x, y_column = y, bubble_column = \"Country\", \n\u001b[0m\u001b[0;32m      8\u001b[0m                      color_column = \"Region\")\n\u001b[0;32m      9\u001b[0m \u001b[1;33m\u001b[0m\u001b[0m\n",
          "\u001b[1;31mNameError\u001b[0m: name 'bubbleplot' is not defined"
         ]
        }
       ]
      }
     },
     "857d6180905a44babbbe53d4ebb30b89": {
      "model_module": "@jupyter-widgets/controls",
      "model_module_version": "1.4.0",
      "model_name": "DropdownModel",
      "state": {
       "_options_labels": [
        "brbg",
        "prgn",
        "piyg",
        "puor",
        "rdbu",
        "rdgy",
        "rdylbu",
        "rdylgn",
        "spectral",
        "paired",
        "set3",
        "dflt",
        "original",
        "plotly",
        "accent",
        "dark2",
        "pastel1",
        "pastel2",
        "set1",
        "set2",
        "blues",
        "bugn",
        "bupu",
        "gnbu",
        "greens",
        "greys",
        "orrd",
        "oranges",
        "pubu",
        "pubugn",
        "purd",
        "purples",
        "rdpu",
        "reds",
        "ylgn",
        "ylgnbu",
        "ylorbr",
        "ylorrd",
        "ggplot",
        "polar"
       ],
       "description": "colorscale",
       "index": 0,
       "layout": "IPY_MODEL_ed8241000ac947f49305215fe8fd338f",
       "style": "IPY_MODEL_0e63b45194a0480bac033be5386619b8"
      }
     },
     "85c0c77b78d14fe685132bd59955b410": {
      "model_module": "@jupyter-widgets/controls",
      "model_module_version": "1.4.0",
      "model_name": "DropdownModel",
      "state": {
       "_options_labels": [
        "ggplot",
        "pearl",
        "solar",
        "space",
        "white",
        "polar",
        "henanigans"
       ],
       "description": "theme",
       "index": 6,
       "layout": "IPY_MODEL_cb4f5790759c44bb93d1cc1e22499f30",
       "style": "IPY_MODEL_2e5e0ef2ce75458eb088ec77211f39ca"
      }
     },
     "85c0fecfc45345debb80f4a97b30de95": {
      "model_module": "@jupyter-widgets/base",
      "model_module_version": "1.1.0",
      "model_name": "LayoutModel",
      "state": {}
     },
     "85f8f6e16ccc484f8200ecaa729a7219": {
      "model_module": "@jupyter-widgets/base",
      "model_module_version": "1.1.0",
      "model_name": "LayoutModel",
      "state": {}
     },
     "8688a1f3ad524d0fad9123a8125be0e9": {
      "model_module": "@jupyter-widgets/controls",
      "model_module_version": "1.4.0",
      "model_name": "DropdownModel",
      "state": {
       "_options_labels": [
        "Happiness Score",
        "Life Ladder",
        "Log GDP per capita",
        "Social support",
        "Healthy life expectancy at birth",
        "Freedom to make life choices",
        "Generosity",
        "Perceptions of corruption",
        "Positive affect",
        "Negative affect",
        "Confidence in national government",
        "Democratic Quality",
        "Delivery Quality",
        "GINI of household income reported in Gallup, by wp5-year"
       ],
       "description": "x",
       "index": 0,
       "layout": "IPY_MODEL_6a1b773ee57b4947bd8105a90a9a5bc9",
       "style": "IPY_MODEL_6ba4f3e7db954516bb8429d0aac1a91a"
      }
     },
     "870afa0c919f4e5d90d5a0bdb3245afd": {
      "model_module": "@jupyter-widgets/base",
      "model_module_version": "1.1.0",
      "model_name": "LayoutModel",
      "state": {}
     },
     "8750ae824c504747a2f5f5bd10d05fd6": {
      "model_module": "@jupyter-widgets/controls",
      "model_module_version": "1.4.0",
      "model_name": "DropdownModel",
      "state": {
       "_options_labels": [
        "Life Ladder",
        "Log GDP per capita",
        "Social support",
        "Healthy life expectancy at birth",
        "Freedom to make life choices",
        "Generosity",
        "Perceptions of corruption",
        "Positive affect",
        "Negative affect",
        "Confidence in national government",
        "Democratic Quality",
        "Delivery Quality",
        "GINI of household income reported in Gallup, by wp5-year"
       ],
       "description": "y",
       "index": 0,
       "layout": "IPY_MODEL_a0f7290249b9407fb640de3ef97461da",
       "style": "IPY_MODEL_b430498651dc4d7285388816ae1bcc2c"
      }
     },
     "8863723448cb4531ba2e264c84b6f860": {
      "model_module": "@jupyter-widgets/controls",
      "model_module_version": "1.4.0",
      "model_name": "DescriptionStyleModel",
      "state": {
       "description_width": ""
      }
     },
     "89056bfa4e1148e3975dc9a2db84058c": {
      "model_module": "@jupyter-widgets/output",
      "model_module_version": "1.0.0",
      "model_name": "OutputModel",
      "state": {
       "layout": "IPY_MODEL_35f8d63f32714b5d92af27b597a2bfd2",
       "outputs": [
        {
         "data": {
          "application/vnd.plotly.v1+json": {
           "config": {
            "linkText": "Export to plot.ly",
            "plotlyServerURL": "https://plot.ly",
            "responsive": true,
            "showLink": false
           },
           "data": [
            {
             "marker": {
              "size": 10
             },
             "mode": "markers",
             "name": "Western Europe",
             "text": [
              "Finland",
              "Denmark",
              "Norway",
              "Iceland",
              "Netherlands",
              "Switzerland",
              "Sweden",
              "Austria",
              "Luxembourg",
              "United Kingdom",
              "Ireland",
              "Germany",
              "Belgium",
              "Malta",
              "France",
              "Spain",
              "Italy",
              "Cyprus",
              "North Cyprus",
              "Portugal",
              "Greece"
             ],
             "type": "scatter",
             "uid": "48108f30-3968-435a-999f-dca4a06a9874",
             "x": [
              71.80000051,
              72.10000102,
              73.09999847,
              73,
              72.19999949,
              73.80000051,
              72.5,
              72.69999949,
              72.59999847,
              72.10000102,
              72.19999949,
              71.89999898,
              71.80000051,
              72.19999695,
              73.60000102,
              74.10000102,
              73.39999898,
              73.5,
              72.09121704,
              72.19999949,
              72.19999949
             ],
             "y": [
              7.769,
              7.6,
              7.5539999999999985,
              7.494,
              7.487999999999999,
              7.48,
              7.343,
              7.246,
              7.09,
              7.0539999999999985,
              7.021,
              6.985,
              6.922999999999999,
              6.726,
              6.5920000000000005,
              6.354,
              6.223,
              6.046,
              5.718,
              5.693,
              5.287000000000001
             ]
            },
            {
             "marker": {
              "size": 10
             },
             "mode": "markers",
             "name": "North America and ANZ",
             "text": [
              "New Zealand",
              "Canada",
              "Australia",
              "United States"
             ],
             "type": "scatter",
             "uid": "c9c16fb6-de35-454b-85f0-4878ac9efb4d",
             "x": [
              73,
              73.39999898,
              73.30000051,
              68.40000153
             ],
             "y": [
              7.307,
              7.278,
              7.228,
              6.892
             ]
            },
            {
             "marker": {
              "size": 10
             },
             "mode": "markers",
             "name": "Latin America and Caribbean",
             "text": [
              "Costa Rica",
              "Mexico",
              "Chile",
              "Guatemala",
              "Panama",
              "Brazil",
              "Uruguay",
              "El Salvador",
              "Trinidad & Tobago",
              "Colombia",
              "Nicaragua",
              "Argentina",
              "Ecuador",
              "Jamaica",
              "Honduras",
              "Bolivia",
              "Paraguay",
              "Peru",
              "Dominican Republic",
              "Venezuela",
              "Haiti"
             ],
             "type": "scatter",
             "uid": "76188e0f-9cee-4b3f-baa0-abef724e52c4",
             "x": [
              71.10000102,
              68,
              69.80000051,
              64.5,
              69.5,
              66.19999949,
              68.90000153,
              65.80000051,
              62.4939821,
              67.39999898,
              67.19999949,
              68.60000102,
              68.19999949,
              66.9066658,
              67,
              63.29999924,
              65.36666785,
              67.80000051,
              65.5,
              66.30000051,
              55.5
             ],
             "y": [
              7.167000000000002,
              6.595,
              6.444,
              6.436,
              6.3210000000000015,
              6.3,
              6.292999999999998,
              6.252999999999999,
              6.192,
              6.125,
              6.105,
              6.086,
              6.028,
              5.89,
              5.86,
              5.779,
              5.7429999999999986,
              5.697,
              5.425,
              4.707,
              3.597
             ]
            },
            {
             "marker": {
              "size": 10
             },
             "mode": "markers",
             "name": "Middle East and North Africa",
             "text": [
              "Israel",
              "United Arab Emirates",
              "Saudi Arabia",
              "Qatar",
              "Bahrain",
              "Kuwait",
              "Libya",
              "Turkey",
              "Algeria",
              "Morocco",
              "Lebanon",
              "Jordan",
              "Palestinian Territories",
              "Iran",
              "Tunisia",
              "Iraq",
              "Egypt",
              "Syria",
              "Yemen"
             ],
             "type": "scatter",
             "uid": "769eb2b9-b756-4976-9b68-28668438d9a5",
             "x": [
              73.10000102,
              66.89999898,
              66,
              67.20285358,
              68.29999924,
              66.36666785,
              62.29999924,
              66.40000153,
              65.69999949,
              65.60000102,
              66.59999847,
              66.60000102,
              62.57299042,
              65.69999949,
              66.60000102,
              59.29999924,
              61.40000025,
              55.99111133,
              55.90000025
             ],
             "y": [
              7.1389999999999985,
              6.825,
              6.375,
              6.374,
              6.199,
              6.021,
              5.525,
              5.372999999999998,
              5.211,
              5.207999999999998,
              5.197,
              4.9060000000000015,
              4.6960000000000015,
              4.548,
              4.461,
              4.437,
              4.166,
              3.462,
              3.38
             ]
            },
            {
             "marker": {
              "size": 10
             },
             "mode": "markers",
             "name": "Central and Eastern Europe",
             "text": [
              "Czech Republic",
              "Slovakia",
              "Poland",
              "Lithuania",
              "Slovenia",
              "Kosovo",
              "Romania",
              "Latvia",
              "Estonia",
              "Hungary",
              "Serbia",
              "Montenegro",
              "Croatia",
              "Bosnia and Herzegovina",
              "Macedonia",
              "Bulgaria",
              "Albania"
             ],
             "type": "scatter",
             "uid": "71f04fa2-8938-4ce7-a2f3-278881640491",
             "x": [
              69.80000305,
              68.60000102,
              68.63333384,
              66.69999949,
              70.80000051,
              64.87929281,
              66.89999898,
              66.5,
              68.39999898,
              66.9333335,
              67.80000051,
              68.30000051,
              69.59999847,
              67.5,
              67.30000051,
              66.60000102,
              68.39999898
             ],
             "y": [
              6.852,
              6.198,
              6.182,
              6.149,
              6.1179999999999986,
              6.1,
              6.07,
              5.94,
              5.893,
              5.757999999999999,
              5.603,
              5.523,
              5.432,
              5.386,
              5.274,
              5.011,
              4.7189999999999985
             ]
            },
            {
             "marker": {
              "size": 10
             },
             "mode": "markers",
             "name": "East Asia",
             "text": [
              "Taiwan",
              "South Korea",
              "Japan",
              "Hong Kong SAR, China",
              "Mongolia",
              "China"
             ],
             "type": "scatter",
             "uid": "35a17d87-1b0a-41a6-9352-278eca1123e3",
             "x": [
              71.4327,
              73.30000051,
              74.90000153,
              75.9304123,
              62.09999975,
              69
             ],
             "y": [
              6.4460000000000015,
              5.895,
              5.886,
              5.43,
              5.285,
              5.191
             ]
            },
            {
             "marker": {
              "size": 10
             },
             "mode": "markers",
             "name": "Southeast Asia",
             "text": [
              "Singapore",
              "Thailand",
              "Philippines",
              "Malaysia",
              "Indonesia",
              "Vietnam",
              "Laos",
              "Cambodia",
              "Myanmar"
             ],
             "type": "scatter",
             "uid": "0adff530-c541-4f23-8bd5-91a1da19b406",
             "x": [
              76.5,
              67,
              61.80000051,
              67,
              61.90000025,
              67.69999949,
              57.86666616,
              61.19999949,
              58.70000076
             ],
             "y": [
              6.2620000000000005,
              6.007999999999999,
              5.631,
              5.339,
              5.192,
              5.175,
              4.796,
              4.7,
              4.36
             ]
            },
            {
             "marker": {
              "size": 10
             },
             "mode": "markers",
             "name": "Commonwealth of Independent States",
             "text": [
              "Uzbekistan",
              "Kazakhstan",
              "Russia",
              "Moldova",
              "Tajikistan",
              "Belarus",
              "Kyrgyzstan",
              "Turkmenistan",
              "Azerbaijan",
              "Armenia",
              "Georgia",
              "Ukraine"
             ],
             "type": "scatter",
             "uid": "73e15870-db8e-4540-9ab8-d9297bef3281",
             "x": [
              64.80000051,
              64,
              63.90000153,
              64.30000051,
              63.64999962,
              65.80000051,
              63.79999924,
              61.80000051,
              65.19999949,
              66.60000102,
              64.69999949,
              64.30000051
             ],
             "y": [
              6.174,
              5.809,
              5.648,
              5.529,
              5.4670000000000005,
              5.323,
              5.261,
              5.247000000000001,
              5.207999999999998,
              4.559,
              4.519,
              4.332
             ]
            },
            {
             "marker": {
              "size": 10
             },
             "mode": "markers",
             "name": "Sub-Saharan Africa",
             "text": [
              "Mauritius",
              "Nigeria",
              "Cameroon",
              "Ghana",
              "Ivory Coast",
              "Benin",
              "Congo (Brazzaville)",
              "Gabon",
              "South Africa",
              "Senegal",
              "Somalia",
              "Namibia",
              "Niger",
              "Burkina Faso",
              "Guinea",
              "Gambia",
              "Kenya",
              "Mauritania",
              "Mozambique",
              "Congo (Kinshasa)",
              "Mali",
              "Sierra Leone",
              "Chad",
              "Ethiopia",
              "Swaziland",
              "Uganda",
              "Zambia",
              "Togo",
              "Liberia",
              "Comoros",
              "Madagascar",
              "Lesotho",
              "Burundi",
              "Zimbabwe",
              "Botswana",
              "Malawi",
              "Rwanda",
              "Tanzania",
              "Central African Republic",
              "South Sudan"
             ],
             "type": "scatter",
             "uid": "7101241d-76d8-439f-ab3b-1f887064e011",
             "x": [
              66.10000102,
              49.30000051,
              51.90000025,
              56.60000039,
              48.90000026,
              53.90000026,
              57.30000051,
              59.20000076,
              56.09999974,
              59.19999949,
              50,
              55.95333354,
              53,
              53.40000153,
              53.30000051,
              54.85000038,
              59.5,
              56.70000076,
              52.86666743,
              52.70000077,
              51.20000076,
              49.19999949,
              47.70000076,
              58,
              57.7,
              55.30000051,
              54.79999924,
              54.30000051,
              55.29999924,
              55.85333379,
              58.69999949,
              46.94999886,
              53.40000153,
              55,
              58.20000076,
              56.90000025,
              60.5,
              57,
              45.05000115,
              50.79999924
             ],
             "y": [
              5.888,
              5.265,
              5.044,
              4.996,
              4.944,
              4.883,
              4.812,
              4.799,
              4.722,
              4.681,
              4.668,
              4.6389999999999985,
              4.628,
              4.587,
              4.534,
              4.516,
              4.509,
              4.49,
              4.466,
              4.418,
              4.39,
              4.374,
              4.35,
              4.2860000000000005,
              4.212,
              4.189,
              4.107,
              4.085,
              3.975,
              3.973,
              3.933,
              3.802,
              3.775,
              3.663,
              3.488,
              3.41,
              3.334,
              3.2310000000000003,
              3.083,
              2.853
             ]
            },
            {
             "marker": {
              "size": 10
             },
             "mode": "markers",
             "name": "South Asia",
             "text": [
              "Pakistan",
              "Bhutan",
              "Nepal",
              "Bangladesh",
              "Sri Lanka",
              "India",
              "Afghanistan"
             ],
             "type": "scatter",
             "uid": "193ff382-e43a-4728-b163-3de3275eea27",
             "x": [
              58.09999974,
              60.05000072,
              62.40000026,
              63.80000051,
              67.09999848,
              59.69999949,
              52.79999924
             ],
             "y": [
              5.653,
              5.082,
              4.913,
              4.456,
              4.3660000000000005,
              4.015,
              3.2030000000000003
             ]
            }
           ],
           "layout": {
            "hovermode": "closest",
            "margin": {
             "b": 50,
             "pad": 5,
             "t": 50
            },
            "showlegend": true,
            "title": {
             "text": "Happiness Score vs Healthy Life Expectancy At Birth"
            },
            "xaxis": {
             "autorange": false,
             "range": [
              31.535000805,
              107.1
             ],
             "title": {
              "text": "Healthy Life Expectancy At Birth"
             }
            },
            "yaxis": {
             "autorange": false,
             "range": [
              1.9971,
              10.8766
             ],
             "title": {
              "text": "Happiness Score"
             }
            }
           }
          },
          "text/html": "<div>\n        \n        \n            <div id=\"8ad029a4-7b36-4551-8864-b0cb6443595a\" class=\"plotly-graph-div\"></div>\n            <script type=\"text/javascript\">\n                require([\"plotly\"], function(Plotly) {\n                    window.PLOTLYENV=window.PLOTLYENV || {};\n                    window.PLOTLYENV.BASE_URL='https://plot.ly';\n                    \n                if (document.getElementById(\"8ad029a4-7b36-4551-8864-b0cb6443595a\")) {\n                    Plotly.newPlot(\n                        '8ad029a4-7b36-4551-8864-b0cb6443595a',\n                        [{\"marker\": {\"size\": 10}, \"mode\": \"markers\", \"name\": \"Western Europe\", \"text\": [\"Finland\", \"Denmark\", \"Norway\", \"Iceland\", \"Netherlands\", \"Switzerland\", \"Sweden\", \"Austria\", \"Luxembourg\", \"United Kingdom\", \"Ireland\", \"Germany\", \"Belgium\", \"Malta\", \"France\", \"Spain\", \"Italy\", \"Cyprus\", \"North Cyprus\", \"Portugal\", \"Greece\"], \"type\": \"scatter\", \"uid\": \"2be20064-6e76-41af-9f1c-7c828647062a\", \"x\": [71.80000051, 72.10000102, 73.09999847, 73.0, 72.19999949, 73.80000051, 72.5, 72.69999949, 72.59999847, 72.10000102, 72.19999949, 71.89999898, 71.80000051, 72.19999695, 73.60000102, 74.10000102, 73.39999898, 73.5, 72.09121704, 72.19999949, 72.19999949], \"y\": [7.769, 7.6, 7.5539999999999985, 7.494, 7.487999999999999, 7.48, 7.343, 7.246, 7.09, 7.0539999999999985, 7.021, 6.985, 6.922999999999999, 6.726, 6.5920000000000005, 6.354, 6.223, 6.046, 5.718, 5.693, 5.287000000000001]}, {\"marker\": {\"size\": 10}, \"mode\": \"markers\", \"name\": \"North America and ANZ\", \"text\": [\"New Zealand\", \"Canada\", \"Australia\", \"United States\"], \"type\": \"scatter\", \"uid\": \"4216b948-a841-4945-8de9-2fad68cde724\", \"x\": [73.0, 73.39999898, 73.30000051, 68.40000153], \"y\": [7.307, 7.278, 7.228, 6.892]}, {\"marker\": {\"size\": 10}, \"mode\": \"markers\", \"name\": \"Latin America and Caribbean\", \"text\": [\"Costa Rica\", \"Mexico\", \"Chile\", \"Guatemala\", \"Panama\", \"Brazil\", \"Uruguay\", \"El Salvador\", \"Trinidad & Tobago\", \"Colombia\", \"Nicaragua\", \"Argentina\", \"Ecuador\", \"Jamaica\", \"Honduras\", \"Bolivia\", \"Paraguay\", \"Peru\", \"Dominican Republic\", \"Venezuela\", \"Haiti\"], \"type\": \"scatter\", \"uid\": \"a8ed1ce4-0216-42b1-8c87-007efec955f5\", \"x\": [71.10000102, 68.0, 69.80000051, 64.5, 69.5, 66.19999949, 68.90000153, 65.80000051, 62.4939821, 67.39999898, 67.19999949, 68.60000102, 68.19999949, 66.9066658, 67.0, 63.29999924, 65.36666785, 67.80000051, 65.5, 66.30000051, 55.5], \"y\": [7.167000000000002, 6.595, 6.444, 6.436, 6.3210000000000015, 6.3, 6.292999999999998, 6.252999999999999, 6.192, 6.125, 6.105, 6.086, 6.028, 5.89, 5.86, 5.779, 5.7429999999999986, 5.697, 5.425, 4.707, 3.597]}, {\"marker\": {\"size\": 10}, \"mode\": \"markers\", \"name\": \"Middle East and North Africa\", \"text\": [\"Israel\", \"United Arab Emirates\", \"Saudi Arabia\", \"Qatar\", \"Bahrain\", \"Kuwait\", \"Libya\", \"Turkey\", \"Algeria\", \"Morocco\", \"Lebanon\", \"Jordan\", \"Palestinian Territories\", \"Iran\", \"Tunisia\", \"Iraq\", \"Egypt\", \"Syria\", \"Yemen\"], \"type\": \"scatter\", \"uid\": \"d4ab316f-4edf-4298-9f7f-b416050db52b\", \"x\": [73.10000102, 66.89999898, 66.0, 67.20285358, 68.29999924, 66.36666785, 62.29999924, 66.40000153, 65.69999949, 65.60000102, 66.59999847, 66.60000102, 62.57299042, 65.69999949, 66.60000102, 59.29999924, 61.40000025, 55.99111133, 55.90000025], \"y\": [7.1389999999999985, 6.825, 6.375, 6.374, 6.199, 6.021, 5.525, 5.372999999999998, 5.211, 5.207999999999998, 5.197, 4.9060000000000015, 4.6960000000000015, 4.548, 4.461, 4.437, 4.166, 3.462, 3.38]}, {\"marker\": {\"size\": 10}, \"mode\": \"markers\", \"name\": \"Central and Eastern Europe\", \"text\": [\"Czech Republic\", \"Slovakia\", \"Poland\", \"Lithuania\", \"Slovenia\", \"Kosovo\", \"Romania\", \"Latvia\", \"Estonia\", \"Hungary\", \"Serbia\", \"Montenegro\", \"Croatia\", \"Bosnia and Herzegovina\", \"Macedonia\", \"Bulgaria\", \"Albania\"], \"type\": \"scatter\", \"uid\": \"91c965dc-08d6-49c6-ab7b-297b72ba61ad\", \"x\": [69.80000305, 68.60000102, 68.63333384, 66.69999949, 70.80000051, 64.87929281, 66.89999898, 66.5, 68.39999898, 66.9333335, 67.80000051, 68.30000051, 69.59999847, 67.5, 67.30000051, 66.60000102, 68.39999898], \"y\": [6.852, 6.198, 6.182, 6.149, 6.1179999999999986, 6.1, 6.07, 5.94, 5.893, 5.757999999999999, 5.603, 5.523, 5.432, 5.386, 5.274, 5.011, 4.7189999999999985]}, {\"marker\": {\"size\": 10}, \"mode\": \"markers\", \"name\": \"East Asia\", \"text\": [\"Taiwan\", \"South Korea\", \"Japan\", \"Hong Kong SAR, China\", \"Mongolia\", \"China\"], \"type\": \"scatter\", \"uid\": \"ba966506-d753-4a7a-a1a5-23d09e418d4d\", \"x\": [71.4327, 73.30000051, 74.90000153, 75.9304123, 62.09999975, 69.0], \"y\": [6.4460000000000015, 5.895, 5.886, 5.43, 5.285, 5.191]}, {\"marker\": {\"size\": 10}, \"mode\": \"markers\", \"name\": \"Southeast Asia\", \"text\": [\"Singapore\", \"Thailand\", \"Philippines\", \"Malaysia\", \"Indonesia\", \"Vietnam\", \"Laos\", \"Cambodia\", \"Myanmar\"], \"type\": \"scatter\", \"uid\": \"8a0ae286-d80b-4f8e-867a-e208c24c684e\", \"x\": [76.5, 67.0, 61.80000051, 67.0, 61.90000025, 67.69999949, 57.86666616, 61.19999949, 58.70000076], \"y\": [6.2620000000000005, 6.007999999999999, 5.631, 5.339, 5.192, 5.175, 4.796, 4.7, 4.36]}, {\"marker\": {\"size\": 10}, \"mode\": \"markers\", \"name\": \"Commonwealth of Independent States\", \"text\": [\"Uzbekistan\", \"Kazakhstan\", \"Russia\", \"Moldova\", \"Tajikistan\", \"Belarus\", \"Kyrgyzstan\", \"Turkmenistan\", \"Azerbaijan\", \"Armenia\", \"Georgia\", \"Ukraine\"], \"type\": \"scatter\", \"uid\": \"aff8072a-6e94-4c7f-a20f-0edaa2966576\", \"x\": [64.80000051, 64.0, 63.90000153, 64.30000051, 63.64999962, 65.80000051, 63.79999924, 61.80000051, 65.19999949, 66.60000102, 64.69999949, 64.30000051], \"y\": [6.174, 5.809, 5.648, 5.529, 5.4670000000000005, 5.323, 5.261, 5.247000000000001, 5.207999999999998, 4.559, 4.519, 4.332]}, {\"marker\": {\"size\": 10}, \"mode\": \"markers\", \"name\": \"Sub-Saharan Africa\", \"text\": [\"Mauritius\", \"Nigeria\", \"Cameroon\", \"Ghana\", \"Ivory Coast\", \"Benin\", \"Congo (Brazzaville)\", \"Gabon\", \"South Africa\", \"Senegal\", \"Somalia\", \"Namibia\", \"Niger\", \"Burkina Faso\", \"Guinea\", \"Gambia\", \"Kenya\", \"Mauritania\", \"Mozambique\", \"Congo (Kinshasa)\", \"Mali\", \"Sierra Leone\", \"Chad\", \"Ethiopia\", \"Swaziland\", \"Uganda\", \"Zambia\", \"Togo\", \"Liberia\", \"Comoros\", \"Madagascar\", \"Lesotho\", \"Burundi\", \"Zimbabwe\", \"Botswana\", \"Malawi\", \"Rwanda\", \"Tanzania\", \"Central African Republic\", \"South Sudan\"], \"type\": \"scatter\", \"uid\": \"f5a45cbd-ee20-492b-bb4f-25fb427c9d1c\", \"x\": [66.10000102, 49.30000051, 51.90000025, 56.60000039, 48.90000026, 53.90000026, 57.30000051, 59.20000076, 56.09999974, 59.19999949, 50.0, 55.95333354, 53.0, 53.40000153, 53.30000051, 54.85000038, 59.5, 56.70000076, 52.86666743, 52.70000077, 51.20000076, 49.19999949, 47.70000076, 58.0, 57.7, 55.30000051, 54.79999924, 54.30000051, 55.29999924, 55.85333379, 58.69999949, 46.94999886, 53.40000153, 55.0, 58.20000076, 56.90000025, 60.5, 57.0, 45.05000115, 50.79999924], \"y\": [5.888, 5.265, 5.044, 4.996, 4.944, 4.883, 4.812, 4.799, 4.722, 4.681, 4.668, 4.6389999999999985, 4.628, 4.587, 4.534, 4.516, 4.509, 4.49, 4.466, 4.418, 4.39, 4.374, 4.35, 4.2860000000000005, 4.212, 4.189, 4.107, 4.085, 3.975, 3.973, 3.933, 3.802, 3.775, 3.663, 3.488, 3.41, 3.334, 3.2310000000000003, 3.083, 2.853]}, {\"marker\": {\"size\": 10}, \"mode\": \"markers\", \"name\": \"South Asia\", \"text\": [\"Pakistan\", \"Bhutan\", \"Nepal\", \"Bangladesh\", \"Sri Lanka\", \"India\", \"Afghanistan\"], \"type\": \"scatter\", \"uid\": \"26aa92b8-2d50-45b5-a89d-a307a240077e\", \"x\": [58.09999974, 60.05000072, 62.40000026, 63.80000051, 67.09999848, 59.69999949, 52.79999924], \"y\": [5.653, 5.082, 4.913, 4.456, 4.3660000000000005, 4.015, 3.2030000000000003]}],\n                        {\"hovermode\": \"closest\", \"margin\": {\"b\": 50, \"pad\": 5, \"t\": 50}, \"showlegend\": true, \"title\": {\"text\": \"Happiness Score vs Healthy Life Expectancy At Birth\"}, \"xaxis\": {\"autorange\": false, \"range\": [31.535000805, 107.1], \"title\": {\"text\": \"Healthy Life Expectancy At Birth\"}}, \"yaxis\": {\"autorange\": false, \"range\": [1.9971, 10.8766], \"title\": {\"text\": \"Happiness Score\"}}},\n                        {\"showLink\": false, \"linkText\": \"Export to plot.ly\", \"plotlyServerURL\": \"https://plot.ly\", \"responsive\": true}\n                    )\n                };\n                });\n            </script>\n        </div>"
         },
         "metadata": {},
         "output_type": "display_data"
        }
       ]
      }
     },
     "891aacdc2dc54e0989a8afb682551a93": {
      "model_module": "@jupyter-widgets/base",
      "model_module_version": "1.1.0",
      "model_name": "LayoutModel",
      "state": {}
     },
     "89c1addc54694c998184d387b29b549d": {
      "model_module": "@jupyter-widgets/base",
      "model_module_version": "1.1.0",
      "model_name": "LayoutModel",
      "state": {}
     },
     "89e91aa95ef04ff5801838f83a60215a": {
      "model_module": "@jupyter-widgets/controls",
      "model_module_version": "1.4.0",
      "model_name": "DescriptionStyleModel",
      "state": {
       "description_width": ""
      }
     },
     "8bb3204ee8954a899796200a28280bcd": {
      "model_module": "@jupyter-widgets/controls",
      "model_module_version": "1.4.0",
      "model_name": "DescriptionStyleModel",
      "state": {
       "description_width": ""
      }
     },
     "8ca5b515242841b3adbf9668dbb6d083": {
      "model_module": "@jupyter-widgets/base",
      "model_module_version": "1.1.0",
      "model_name": "LayoutModel",
      "state": {}
     },
     "8d30b87add71494b8493c5c2d58871da": {
      "model_module": "@jupyter-widgets/controls",
      "model_module_version": "1.4.0",
      "model_name": "DescriptionStyleModel",
      "state": {
       "description_width": ""
      }
     },
     "8df0c52d65c64fb0aa001f158f256cd3": {
      "model_module": "@jupyter-widgets/base",
      "model_module_version": "1.1.0",
      "model_name": "LayoutModel",
      "state": {}
     },
     "8e2b5ab8bcaf47b6a2861988869c7b48": {
      "model_module": "@jupyter-widgets/controls",
      "model_module_version": "1.4.0",
      "model_name": "DescriptionStyleModel",
      "state": {
       "description_width": ""
      }
     },
     "8e7395383cb847539553b4c6816db0ec": {
      "model_module": "@jupyter-widgets/controls",
      "model_module_version": "1.4.0",
      "model_name": "DropdownModel",
      "state": {
       "_options_labels": [
        "Life Ladder",
        "Log GDP per capita",
        "Social support",
        "Healthy life expectancy at birth",
        "Freedom to make life choices",
        "Generosity",
        "Perceptions of corruption",
        "Positive affect",
        "Negative affect",
        "Confidence in national government",
        "Democratic Quality",
        "Delivery Quality",
        "GINI of household income reported in Gallup, by wp5-year"
       ],
       "description": "y",
       "index": 1,
       "layout": "IPY_MODEL_b86f527a89d446dd96be40b77d7f4c69",
       "style": "IPY_MODEL_5f51c9cd519b4126906ae3964f585c53"
      }
     },
     "8e905b056a484656b24794131a248795": {
      "model_module": "@jupyter-widgets/controls",
      "model_module_version": "1.4.0",
      "model_name": "DescriptionStyleModel",
      "state": {
       "description_width": ""
      }
     },
     "8f85ba128ba64f258794dc0cba65e796": {
      "model_module": "@jupyter-widgets/controls",
      "model_module_version": "1.4.0",
      "model_name": "VBoxModel",
      "state": {
       "_dom_classes": [
        "widget-interact"
       ],
       "children": [
        "IPY_MODEL_8688a1f3ad524d0fad9123a8125be0e9",
        "IPY_MODEL_e75850d0f5f3422f9ecc30ed246f84d1",
        "IPY_MODEL_076d4d38ac164510ad5dff25af1df008",
        "IPY_MODEL_c04a8fc774de4cbcaea385074b2a93e9",
        "IPY_MODEL_80606f3c492647bc9e304f539d4229e6"
       ],
       "layout": "IPY_MODEL_85f8f6e16ccc484f8200ecaa729a7219"
      }
     },
     "9006a1bdb6f946be983d87e027be438f": {
      "model_module": "@jupyter-widgets/base",
      "model_module_version": "1.1.0",
      "model_name": "LayoutModel",
      "state": {}
     },
     "90cb6958a4994c919f4d9c5ca0999717": {
      "model_module": "@jupyter-widgets/base",
      "model_module_version": "1.1.0",
      "model_name": "LayoutModel",
      "state": {}
     },
     "9143d45f4967434e8741ca000166d896": {
      "model_module": "@jupyter-widgets/controls",
      "model_module_version": "1.4.0",
      "model_name": "DropdownModel",
      "state": {
       "_options_labels": [
        "Life Ladder",
        "Log GDP per capita",
        "Social support",
        "Healthy life expectancy at birth",
        "Freedom to make life choices",
        "Generosity",
        "Perceptions of corruption",
        "Positive affect",
        "Negative affect",
        "Confidence in national government",
        "Democratic Quality",
        "Delivery Quality",
        "GINI of household income reported in Gallup, by wp5-year"
       ],
       "description": "x",
       "index": 3,
       "layout": "IPY_MODEL_9a10f11d03304f6287b747a2209b997a",
       "style": "IPY_MODEL_d69e96bdac9a44eabf961a05e80ace1f"
      }
     },
     "920759ebc3874c58b1aa496242140ba9": {
      "model_module": "@jupyter-widgets/controls",
      "model_module_version": "1.4.0",
      "model_name": "DescriptionStyleModel",
      "state": {
       "description_width": ""
      }
     },
     "93e659d2caef4396acd98a105fa4dd65": {
      "model_module": "@jupyter-widgets/base",
      "model_module_version": "1.1.0",
      "model_name": "LayoutModel",
      "state": {}
     },
     "96366652e840412fad9960afea354099": {
      "model_module": "@jupyter-widgets/controls",
      "model_module_version": "1.4.0",
      "model_name": "VBoxModel",
      "state": {
       "_dom_classes": [
        "widget-interact"
       ],
       "children": [
        "IPY_MODEL_a142c4eb44c44e5f8fa53d703c841748",
        "IPY_MODEL_04bf694460bb42bdb3fdf9cb5fe846bb",
        "IPY_MODEL_088975a41b6f44eda61ae475efc6cba4",
        "IPY_MODEL_857d6180905a44babbbe53d4ebb30b89",
        "IPY_MODEL_cc80fbc847b24461b0b56b7db6ca7ec6"
       ],
       "layout": "IPY_MODEL_ce55d77cf99a43adb82a036197bf848c"
      }
     },
     "96ef8990c9d04f69b142bc4bc583c2a4": {
      "model_module": "@jupyter-widgets/base",
      "model_module_version": "1.1.0",
      "model_name": "LayoutModel",
      "state": {}
     },
     "96f774b4116e4c3e82f3d8152bfa3d81": {
      "model_module": "@jupyter-widgets/base",
      "model_module_version": "1.1.0",
      "model_name": "LayoutModel",
      "state": {}
     },
     "96fc8188fe7c46c1a9a681c0a0cf2a6b": {
      "model_module": "@jupyter-widgets/controls",
      "model_module_version": "1.4.0",
      "model_name": "DescriptionStyleModel",
      "state": {
       "description_width": ""
      }
     },
     "9733bb80640c46b288163e4fbe69ddbd": {
      "model_module": "@jupyter-widgets/output",
      "model_module_version": "1.0.0",
      "model_name": "OutputModel",
      "state": {
       "layout": "IPY_MODEL_3bbb17f85453447c816a038bc2129a06",
       "outputs": [
        {
         "ename": "ValueError",
         "evalue": "\n    Invalid value of type 'builtins.str' received for the 'color' property of scatter.marker\n        Received value: 'Region'\n\n    The 'color' property is a color and may be specified as:\n      - A hex string (e.g. '#ff0000')\n      - An rgb/rgba string (e.g. 'rgb(255,0,0)')\n      - An hsl/hsla string (e.g. 'hsl(0,100%,50%)')\n      - An hsv/hsva string (e.g. 'hsv(0,100%,100%)')\n      - A named CSS color:\n            aliceblue, antiquewhite, aqua, aquamarine, azure,\n            beige, bisque, black, blanchedalmond, blue,\n            blueviolet, brown, burlywood, cadetblue,\n            chartreuse, chocolate, coral, cornflowerblue,\n            cornsilk, crimson, cyan, darkblue, darkcyan,\n            darkgoldenrod, darkgray, darkgrey, darkgreen,\n            darkkhaki, darkmagenta, darkolivegreen, darkorange,\n            darkorchid, darkred, darksalmon, darkseagreen,\n            darkslateblue, darkslategray, darkslategrey,\n            darkturquoise, darkviolet, deeppink, deepskyblue,\n            dimgray, dimgrey, dodgerblue, firebrick,\n            floralwhite, forestgreen, fuchsia, gainsboro,\n            ghostwhite, gold, goldenrod, gray, grey, green,\n            greenyellow, honeydew, hotpink, indianred, indigo,\n            ivory, khaki, lavender, lavenderblush, lawngreen,\n            lemonchiffon, lightblue, lightcoral, lightcyan,\n            lightgoldenrodyellow, lightgray, lightgrey,\n            lightgreen, lightpink, lightsalmon, lightseagreen,\n            lightskyblue, lightslategray, lightslategrey,\n            lightsteelblue, lightyellow, lime, limegreen,\n            linen, magenta, maroon, mediumaquamarine,\n            mediumblue, mediumorchid, mediumpurple,\n            mediumseagreen, mediumslateblue, mediumspringgreen,\n            mediumturquoise, mediumvioletred, midnightblue,\n            mintcream, mistyrose, moccasin, navajowhite, navy,\n            oldlace, olive, olivedrab, orange, orangered,\n            orchid, palegoldenrod, palegreen, paleturquoise,\n            palevioletred, papayawhip, peachpuff, peru, pink,\n            plum, powderblue, purple, red, rosybrown,\n            royalblue, saddlebrown, salmon, sandybrown,\n            seagreen, seashell, sienna, silver, skyblue,\n            slateblue, slategray, slategrey, snow, springgreen,\n            steelblue, tan, teal, thistle, tomato, turquoise,\n            violet, wheat, white, whitesmoke, yellow,\n            yellowgreen\n      - A number that will be interpreted as a color\n        according to scatter.marker.colorscale\n      - A list or array of any of the above",
         "output_type": "error",
         "traceback": [
          "\u001b[1;31m---------------------------------------------------------------------------\u001b[0m",
          "\u001b[1;31mValueError\u001b[0m                                Traceback (most recent call last)",
          "\u001b[1;32m~\\AppData\\Local\\Continuum\\anaconda3\\lib\\site-packages\\ipywidgets\\widgets\\interaction.py\u001b[0m in \u001b[0;36mupdate\u001b[1;34m(self, *args)\u001b[0m\n\u001b[0;32m    249\u001b[0m                     \u001b[0mvalue\u001b[0m \u001b[1;33m=\u001b[0m \u001b[0mwidget\u001b[0m\u001b[1;33m.\u001b[0m\u001b[0mget_interact_value\u001b[0m\u001b[1;33m(\u001b[0m\u001b[1;33m)\u001b[0m\u001b[1;33m\u001b[0m\u001b[1;33m\u001b[0m\u001b[0m\n\u001b[0;32m    250\u001b[0m                     \u001b[0mself\u001b[0m\u001b[1;33m.\u001b[0m\u001b[0mkwargs\u001b[0m\u001b[1;33m[\u001b[0m\u001b[0mwidget\u001b[0m\u001b[1;33m.\u001b[0m\u001b[0m_kwarg\u001b[0m\u001b[1;33m]\u001b[0m \u001b[1;33m=\u001b[0m \u001b[0mvalue\u001b[0m\u001b[1;33m\u001b[0m\u001b[1;33m\u001b[0m\u001b[0m\n\u001b[1;32m--> 251\u001b[1;33m                 \u001b[0mself\u001b[0m\u001b[1;33m.\u001b[0m\u001b[0mresult\u001b[0m \u001b[1;33m=\u001b[0m \u001b[0mself\u001b[0m\u001b[1;33m.\u001b[0m\u001b[0mf\u001b[0m\u001b[1;33m(\u001b[0m\u001b[1;33m**\u001b[0m\u001b[0mself\u001b[0m\u001b[1;33m.\u001b[0m\u001b[0mkwargs\u001b[0m\u001b[1;33m)\u001b[0m\u001b[1;33m\u001b[0m\u001b[1;33m\u001b[0m\u001b[0m\n\u001b[0m\u001b[0;32m    252\u001b[0m                 \u001b[0mshow_inline_matplotlib_plots\u001b[0m\u001b[1;33m(\u001b[0m\u001b[1;33m)\u001b[0m\u001b[1;33m\u001b[0m\u001b[1;33m\u001b[0m\u001b[0m\n\u001b[0;32m    253\u001b[0m                 \u001b[1;32mif\u001b[0m \u001b[0mself\u001b[0m\u001b[1;33m.\u001b[0m\u001b[0mauto_display\u001b[0m \u001b[1;32mand\u001b[0m \u001b[0mself\u001b[0m\u001b[1;33m.\u001b[0m\u001b[0mresult\u001b[0m \u001b[1;32mis\u001b[0m \u001b[1;32mnot\u001b[0m \u001b[1;32mNone\u001b[0m\u001b[1;33m:\u001b[0m\u001b[1;33m\u001b[0m\u001b[1;33m\u001b[0m\u001b[0m\n",
          "\u001b[1;32m<ipython-input-19-aefd40e33199>\u001b[0m in \u001b[0;36mscatter_plot\u001b[1;34m(x, y, theme, colorscale)\u001b[0m\n\u001b[0;32m      5\u001b[0m                  colorscale = list(cufflinks.colors._scales_names.keys())):\n\u001b[0;32m      6\u001b[0m \u001b[1;33m\u001b[0m\u001b[0m\n\u001b[1;32m----> 7\u001b[1;33m     df_2019.iplot(go.Scatter(x=x, y=y, mode='markers', marker=dict(color='Region')),\n\u001b[0m\u001b[0;32m      8\u001b[0m                   \u001b[0mxTitle\u001b[0m\u001b[1;33m=\u001b[0m\u001b[0mx\u001b[0m\u001b[1;33m.\u001b[0m\u001b[0mtitle\u001b[0m\u001b[1;33m(\u001b[0m\u001b[1;33m)\u001b[0m\u001b[1;33m,\u001b[0m \u001b[0myTitle\u001b[0m\u001b[1;33m=\u001b[0m\u001b[0my\u001b[0m\u001b[1;33m.\u001b[0m\u001b[0mtitle\u001b[0m\u001b[1;33m(\u001b[0m\u001b[1;33m)\u001b[0m\u001b[1;33m,\u001b[0m\u001b[1;33m\u001b[0m\u001b[1;33m\u001b[0m\u001b[0m\n\u001b[0;32m      9\u001b[0m                   \u001b[0mtitle\u001b[0m \u001b[1;33m=\u001b[0m \u001b[1;34mf'{y.title()} vs {x.title()}'\u001b[0m\u001b[1;33m,\u001b[0m\u001b[1;33m\u001b[0m\u001b[1;33m\u001b[0m\u001b[0m\n",
          "\u001b[1;32m~\\AppData\\Local\\Continuum\\anaconda3\\lib\\site-packages\\plotly\\graph_objs\\__init__.py\u001b[0m in \u001b[0;36m__init__\u001b[1;34m(self, arg, cliponaxis, connectgaps, customdata, customdatasrc, dx, dy, error_x, error_y, fill, fillcolor, groupnorm, hoverinfo, hoverinfosrc, hoverlabel, hoveron, hovertemplate, hovertemplatesrc, hovertext, hovertextsrc, ids, idssrc, legendgroup, line, marker, mode, name, opacity, orientation, r, rsrc, selected, selectedpoints, showlegend, stackgaps, stackgroup, stream, t, text, textfont, textposition, textpositionsrc, textsrc, tsrc, uid, uirevision, unselected, visible, x, x0, xaxis, xcalendar, xsrc, y, y0, yaxis, ycalendar, ysrc, **kwargs)\u001b[0m\n\u001b[0;32m  37413\u001b[0m         \u001b[0mself\u001b[0m\u001b[1;33m[\u001b[0m\u001b[1;34m'line'\u001b[0m\u001b[1;33m]\u001b[0m \u001b[1;33m=\u001b[0m \u001b[0mline\u001b[0m \u001b[1;32mif\u001b[0m \u001b[0mline\u001b[0m \u001b[1;32mis\u001b[0m \u001b[1;32mnot\u001b[0m \u001b[1;32mNone\u001b[0m \u001b[1;32melse\u001b[0m \u001b[0m_v\u001b[0m\u001b[1;33m\u001b[0m\u001b[1;33m\u001b[0m\u001b[0m\n\u001b[0;32m  37414\u001b[0m         \u001b[0m_v\u001b[0m \u001b[1;33m=\u001b[0m \u001b[0marg\u001b[0m\u001b[1;33m.\u001b[0m\u001b[0mpop\u001b[0m\u001b[1;33m(\u001b[0m\u001b[1;34m'marker'\u001b[0m\u001b[1;33m,\u001b[0m \u001b[1;32mNone\u001b[0m\u001b[1;33m)\u001b[0m\u001b[1;33m\u001b[0m\u001b[1;33m\u001b[0m\u001b[0m\n\u001b[1;32m> 37415\u001b[1;33m         \u001b[0mself\u001b[0m\u001b[1;33m[\u001b[0m\u001b[1;34m'marker'\u001b[0m\u001b[1;33m]\u001b[0m \u001b[1;33m=\u001b[0m \u001b[0mmarker\u001b[0m \u001b[1;32mif\u001b[0m \u001b[0mmarker\u001b[0m \u001b[1;32mis\u001b[0m \u001b[1;32mnot\u001b[0m \u001b[1;32mNone\u001b[0m \u001b[1;32melse\u001b[0m \u001b[0m_v\u001b[0m\u001b[1;33m\u001b[0m\u001b[1;33m\u001b[0m\u001b[0m\n\u001b[0m\u001b[0;32m  37416\u001b[0m         \u001b[0m_v\u001b[0m \u001b[1;33m=\u001b[0m \u001b[0marg\u001b[0m\u001b[1;33m.\u001b[0m\u001b[0mpop\u001b[0m\u001b[1;33m(\u001b[0m\u001b[1;34m'mode'\u001b[0m\u001b[1;33m,\u001b[0m \u001b[1;32mNone\u001b[0m\u001b[1;33m)\u001b[0m\u001b[1;33m\u001b[0m\u001b[1;33m\u001b[0m\u001b[0m\n\u001b[0;32m  37417\u001b[0m         \u001b[0mself\u001b[0m\u001b[1;33m[\u001b[0m\u001b[1;34m'mode'\u001b[0m\u001b[1;33m]\u001b[0m \u001b[1;33m=\u001b[0m \u001b[0mmode\u001b[0m \u001b[1;32mif\u001b[0m \u001b[0mmode\u001b[0m \u001b[1;32mis\u001b[0m \u001b[1;32mnot\u001b[0m \u001b[1;32mNone\u001b[0m \u001b[1;32melse\u001b[0m \u001b[0m_v\u001b[0m\u001b[1;33m\u001b[0m\u001b[1;33m\u001b[0m\u001b[0m\n",
          "\u001b[1;32m~\\AppData\\Local\\Continuum\\anaconda3\\lib\\site-packages\\plotly\\basedatatypes.py\u001b[0m in \u001b[0;36m__setitem__\u001b[1;34m(self, prop, value)\u001b[0m\n\u001b[0;32m   2840\u001b[0m             \u001b[1;31m# ### Handle compound property ###\u001b[0m\u001b[1;33m\u001b[0m\u001b[1;33m\u001b[0m\u001b[1;33m\u001b[0m\u001b[0m\n\u001b[0;32m   2841\u001b[0m             \u001b[1;32mif\u001b[0m \u001b[0misinstance\u001b[0m\u001b[1;33m(\u001b[0m\u001b[0mvalidator\u001b[0m\u001b[1;33m,\u001b[0m \u001b[0mCompoundValidator\u001b[0m\u001b[1;33m)\u001b[0m\u001b[1;33m:\u001b[0m\u001b[1;33m\u001b[0m\u001b[1;33m\u001b[0m\u001b[0m\n\u001b[1;32m-> 2842\u001b[1;33m                 \u001b[0mself\u001b[0m\u001b[1;33m.\u001b[0m\u001b[0m_set_compound_prop\u001b[0m\u001b[1;33m(\u001b[0m\u001b[0mprop\u001b[0m\u001b[1;33m,\u001b[0m \u001b[0mvalue\u001b[0m\u001b[1;33m)\u001b[0m\u001b[1;33m\u001b[0m\u001b[1;33m\u001b[0m\u001b[0m\n\u001b[0m\u001b[0;32m   2843\u001b[0m \u001b[1;33m\u001b[0m\u001b[0m\n\u001b[0;32m   2844\u001b[0m             \u001b[1;31m# ### Handle compound array property ###\u001b[0m\u001b[1;33m\u001b[0m\u001b[1;33m\u001b[0m\u001b[1;33m\u001b[0m\u001b[0m\n",
          "\u001b[1;32m~\\AppData\\Local\\Continuum\\anaconda3\\lib\\site-packages\\plotly\\basedatatypes.py\u001b[0m in \u001b[0;36m_set_compound_prop\u001b[1;34m(self, prop, val)\u001b[0m\n\u001b[0;32m   3149\u001b[0m         \u001b[0mvalidator\u001b[0m \u001b[1;33m=\u001b[0m \u001b[0mself\u001b[0m\u001b[1;33m.\u001b[0m\u001b[0m_validators\u001b[0m\u001b[1;33m.\u001b[0m\u001b[0mget\u001b[0m\u001b[1;33m(\u001b[0m\u001b[0mprop\u001b[0m\u001b[1;33m)\u001b[0m\u001b[1;33m\u001b[0m\u001b[1;33m\u001b[0m\u001b[0m\n\u001b[0;32m   3150\u001b[0m         \u001b[1;31m# type: BasePlotlyType\u001b[0m\u001b[1;33m\u001b[0m\u001b[1;33m\u001b[0m\u001b[1;33m\u001b[0m\u001b[0m\n\u001b[1;32m-> 3151\u001b[1;33m         \u001b[0mval\u001b[0m \u001b[1;33m=\u001b[0m \u001b[0mvalidator\u001b[0m\u001b[1;33m.\u001b[0m\u001b[0mvalidate_coerce\u001b[0m\u001b[1;33m(\u001b[0m\u001b[0mval\u001b[0m\u001b[1;33m,\u001b[0m \u001b[0mskip_invalid\u001b[0m\u001b[1;33m=\u001b[0m\u001b[0mself\u001b[0m\u001b[1;33m.\u001b[0m\u001b[0m_skip_invalid\u001b[0m\u001b[1;33m)\u001b[0m\u001b[1;33m\u001b[0m\u001b[1;33m\u001b[0m\u001b[0m\n\u001b[0m\u001b[0;32m   3152\u001b[0m \u001b[1;33m\u001b[0m\u001b[0m\n\u001b[0;32m   3153\u001b[0m         \u001b[1;31m# Save deep copies of current and new states\u001b[0m\u001b[1;33m\u001b[0m\u001b[1;33m\u001b[0m\u001b[1;33m\u001b[0m\u001b[0m\n",
          "\u001b[1;32m~\\AppData\\Local\\Continuum\\anaconda3\\lib\\site-packages\\_plotly_utils\\basevalidators.py\u001b[0m in \u001b[0;36mvalidate_coerce\u001b[1;34m(self, v, skip_invalid)\u001b[0m\n\u001b[0;32m   2128\u001b[0m \u001b[1;33m\u001b[0m\u001b[0m\n\u001b[0;32m   2129\u001b[0m         \u001b[1;32melif\u001b[0m \u001b[0misinstance\u001b[0m\u001b[1;33m(\u001b[0m\u001b[0mv\u001b[0m\u001b[1;33m,\u001b[0m \u001b[0mdict\u001b[0m\u001b[1;33m)\u001b[0m\u001b[1;33m:\u001b[0m\u001b[1;33m\u001b[0m\u001b[1;33m\u001b[0m\u001b[0m\n\u001b[1;32m-> 2130\u001b[1;33m             \u001b[0mv\u001b[0m \u001b[1;33m=\u001b[0m \u001b[0mself\u001b[0m\u001b[1;33m.\u001b[0m\u001b[0mdata_class\u001b[0m\u001b[1;33m(\u001b[0m\u001b[0mv\u001b[0m\u001b[1;33m,\u001b[0m \u001b[0mskip_invalid\u001b[0m\u001b[1;33m=\u001b[0m\u001b[0mskip_invalid\u001b[0m\u001b[1;33m)\u001b[0m\u001b[1;33m\u001b[0m\u001b[1;33m\u001b[0m\u001b[0m\n\u001b[0m\u001b[0;32m   2131\u001b[0m \u001b[1;33m\u001b[0m\u001b[0m\n\u001b[0;32m   2132\u001b[0m         \u001b[1;32melif\u001b[0m \u001b[0misinstance\u001b[0m\u001b[1;33m(\u001b[0m\u001b[0mv\u001b[0m\u001b[1;33m,\u001b[0m \u001b[0mself\u001b[0m\u001b[1;33m.\u001b[0m\u001b[0mdata_class\u001b[0m\u001b[1;33m)\u001b[0m\u001b[1;33m:\u001b[0m\u001b[1;33m\u001b[0m\u001b[1;33m\u001b[0m\u001b[0m\n",
          "\u001b[1;32m~\\AppData\\Local\\Continuum\\anaconda3\\lib\\site-packages\\plotly\\graph_objs\\scatter\\__init__.py\u001b[0m in \u001b[0;36m__init__\u001b[1;34m(self, arg, autocolorscale, cauto, cmax, cmid, cmin, color, colorbar, colorscale, colorsrc, gradient, line, maxdisplayed, opacity, opacitysrc, reversescale, showscale, size, sizemin, sizemode, sizeref, sizesrc, symbol, symbolsrc, **kwargs)\u001b[0m\n\u001b[0;32m   2039\u001b[0m         \u001b[0mself\u001b[0m\u001b[1;33m[\u001b[0m\u001b[1;34m'cmin'\u001b[0m\u001b[1;33m]\u001b[0m \u001b[1;33m=\u001b[0m \u001b[0mcmin\u001b[0m \u001b[1;32mif\u001b[0m \u001b[0mcmin\u001b[0m \u001b[1;32mis\u001b[0m \u001b[1;32mnot\u001b[0m \u001b[1;32mNone\u001b[0m \u001b[1;32melse\u001b[0m \u001b[0m_v\u001b[0m\u001b[1;33m\u001b[0m\u001b[1;33m\u001b[0m\u001b[0m\n\u001b[0;32m   2040\u001b[0m         \u001b[0m_v\u001b[0m \u001b[1;33m=\u001b[0m \u001b[0marg\u001b[0m\u001b[1;33m.\u001b[0m\u001b[0mpop\u001b[0m\u001b[1;33m(\u001b[0m\u001b[1;34m'color'\u001b[0m\u001b[1;33m,\u001b[0m \u001b[1;32mNone\u001b[0m\u001b[1;33m)\u001b[0m\u001b[1;33m\u001b[0m\u001b[1;33m\u001b[0m\u001b[0m\n\u001b[1;32m-> 2041\u001b[1;33m         \u001b[0mself\u001b[0m\u001b[1;33m[\u001b[0m\u001b[1;34m'color'\u001b[0m\u001b[1;33m]\u001b[0m \u001b[1;33m=\u001b[0m \u001b[0mcolor\u001b[0m \u001b[1;32mif\u001b[0m \u001b[0mcolor\u001b[0m \u001b[1;32mis\u001b[0m \u001b[1;32mnot\u001b[0m \u001b[1;32mNone\u001b[0m \u001b[1;32melse\u001b[0m \u001b[0m_v\u001b[0m\u001b[1;33m\u001b[0m\u001b[1;33m\u001b[0m\u001b[0m\n\u001b[0m\u001b[0;32m   2042\u001b[0m         \u001b[0m_v\u001b[0m \u001b[1;33m=\u001b[0m \u001b[0marg\u001b[0m\u001b[1;33m.\u001b[0m\u001b[0mpop\u001b[0m\u001b[1;33m(\u001b[0m\u001b[1;34m'colorbar'\u001b[0m\u001b[1;33m,\u001b[0m \u001b[1;32mNone\u001b[0m\u001b[1;33m)\u001b[0m\u001b[1;33m\u001b[0m\u001b[1;33m\u001b[0m\u001b[0m\n\u001b[0;32m   2043\u001b[0m         \u001b[0mself\u001b[0m\u001b[1;33m[\u001b[0m\u001b[1;34m'colorbar'\u001b[0m\u001b[1;33m]\u001b[0m \u001b[1;33m=\u001b[0m \u001b[0mcolorbar\u001b[0m \u001b[1;32mif\u001b[0m \u001b[0mcolorbar\u001b[0m \u001b[1;32mis\u001b[0m \u001b[1;32mnot\u001b[0m \u001b[1;32mNone\u001b[0m \u001b[1;32melse\u001b[0m \u001b[0m_v\u001b[0m\u001b[1;33m\u001b[0m\u001b[1;33m\u001b[0m\u001b[0m\n",
          "\u001b[1;32m~\\AppData\\Local\\Continuum\\anaconda3\\lib\\site-packages\\plotly\\basedatatypes.py\u001b[0m in \u001b[0;36m__setitem__\u001b[1;34m(self, prop, value)\u001b[0m\n\u001b[0;32m   2849\u001b[0m             \u001b[1;31m# ### Handle simple property ###\u001b[0m\u001b[1;33m\u001b[0m\u001b[1;33m\u001b[0m\u001b[1;33m\u001b[0m\u001b[0m\n\u001b[0;32m   2850\u001b[0m             \u001b[1;32melse\u001b[0m\u001b[1;33m:\u001b[0m\u001b[1;33m\u001b[0m\u001b[1;33m\u001b[0m\u001b[0m\n\u001b[1;32m-> 2851\u001b[1;33m                 \u001b[0mself\u001b[0m\u001b[1;33m.\u001b[0m\u001b[0m_set_prop\u001b[0m\u001b[1;33m(\u001b[0m\u001b[0mprop\u001b[0m\u001b[1;33m,\u001b[0m \u001b[0mvalue\u001b[0m\u001b[1;33m)\u001b[0m\u001b[1;33m\u001b[0m\u001b[1;33m\u001b[0m\u001b[0m\n\u001b[0m\u001b[0;32m   2852\u001b[0m \u001b[1;33m\u001b[0m\u001b[0m\n\u001b[0;32m   2853\u001b[0m         \u001b[1;31m# Handle non-scalar case\u001b[0m\u001b[1;33m\u001b[0m\u001b[1;33m\u001b[0m\u001b[1;33m\u001b[0m\u001b[0m\n",
          "\u001b[1;32m~\\AppData\\Local\\Continuum\\anaconda3\\lib\\site-packages\\plotly\\basedatatypes.py\u001b[0m in \u001b[0;36m_set_prop\u001b[1;34m(self, prop, val)\u001b[0m\n\u001b[0;32m   3090\u001b[0m                 \u001b[1;32mreturn\u001b[0m\u001b[1;33m\u001b[0m\u001b[1;33m\u001b[0m\u001b[0m\n\u001b[0;32m   3091\u001b[0m             \u001b[1;32melse\u001b[0m\u001b[1;33m:\u001b[0m\u001b[1;33m\u001b[0m\u001b[1;33m\u001b[0m\u001b[0m\n\u001b[1;32m-> 3092\u001b[1;33m                 \u001b[1;32mraise\u001b[0m \u001b[0merr\u001b[0m\u001b[1;33m\u001b[0m\u001b[1;33m\u001b[0m\u001b[0m\n\u001b[0m\u001b[0;32m   3093\u001b[0m \u001b[1;33m\u001b[0m\u001b[0m\n\u001b[0;32m   3094\u001b[0m         \u001b[1;31m# val is None\u001b[0m\u001b[1;33m\u001b[0m\u001b[1;33m\u001b[0m\u001b[1;33m\u001b[0m\u001b[0m\n",
          "\u001b[1;32m~\\AppData\\Local\\Continuum\\anaconda3\\lib\\site-packages\\plotly\\basedatatypes.py\u001b[0m in \u001b[0;36m_set_prop\u001b[1;34m(self, prop, val)\u001b[0m\n\u001b[0;32m   3085\u001b[0m         \u001b[0mvalidator\u001b[0m \u001b[1;33m=\u001b[0m \u001b[0mself\u001b[0m\u001b[1;33m.\u001b[0m\u001b[0m_validators\u001b[0m\u001b[1;33m.\u001b[0m\u001b[0mget\u001b[0m\u001b[1;33m(\u001b[0m\u001b[0mprop\u001b[0m\u001b[1;33m)\u001b[0m\u001b[1;33m\u001b[0m\u001b[1;33m\u001b[0m\u001b[0m\n\u001b[0;32m   3086\u001b[0m         \u001b[1;32mtry\u001b[0m\u001b[1;33m:\u001b[0m\u001b[1;33m\u001b[0m\u001b[1;33m\u001b[0m\u001b[0m\n\u001b[1;32m-> 3087\u001b[1;33m             \u001b[0mval\u001b[0m \u001b[1;33m=\u001b[0m \u001b[0mvalidator\u001b[0m\u001b[1;33m.\u001b[0m\u001b[0mvalidate_coerce\u001b[0m\u001b[1;33m(\u001b[0m\u001b[0mval\u001b[0m\u001b[1;33m)\u001b[0m\u001b[1;33m\u001b[0m\u001b[1;33m\u001b[0m\u001b[0m\n\u001b[0m\u001b[0;32m   3088\u001b[0m         \u001b[1;32mexcept\u001b[0m \u001b[0mValueError\u001b[0m \u001b[1;32mas\u001b[0m \u001b[0merr\u001b[0m\u001b[1;33m:\u001b[0m\u001b[1;33m\u001b[0m\u001b[1;33m\u001b[0m\u001b[0m\n\u001b[0;32m   3089\u001b[0m             \u001b[1;32mif\u001b[0m \u001b[0mself\u001b[0m\u001b[1;33m.\u001b[0m\u001b[0m_skip_invalid\u001b[0m\u001b[1;33m:\u001b[0m\u001b[1;33m\u001b[0m\u001b[1;33m\u001b[0m\u001b[0m\n",
          "\u001b[1;32m~\\AppData\\Local\\Continuum\\anaconda3\\lib\\site-packages\\_plotly_utils\\basevalidators.py\u001b[0m in \u001b[0;36mvalidate_coerce\u001b[1;34m(self, v, should_raise)\u001b[0m\n\u001b[0;32m   1161\u001b[0m             \u001b[0mvalidated_v\u001b[0m \u001b[1;33m=\u001b[0m \u001b[0mself\u001b[0m\u001b[1;33m.\u001b[0m\u001b[0mvc_scalar\u001b[0m\u001b[1;33m(\u001b[0m\u001b[0mv\u001b[0m\u001b[1;33m)\u001b[0m\u001b[1;33m\u001b[0m\u001b[1;33m\u001b[0m\u001b[0m\n\u001b[0;32m   1162\u001b[0m             \u001b[1;32mif\u001b[0m \u001b[0mvalidated_v\u001b[0m \u001b[1;32mis\u001b[0m \u001b[1;32mNone\u001b[0m \u001b[1;32mand\u001b[0m \u001b[0mshould_raise\u001b[0m\u001b[1;33m:\u001b[0m\u001b[1;33m\u001b[0m\u001b[1;33m\u001b[0m\u001b[0m\n\u001b[1;32m-> 1163\u001b[1;33m                 \u001b[0mself\u001b[0m\u001b[1;33m.\u001b[0m\u001b[0mraise_invalid_val\u001b[0m\u001b[1;33m(\u001b[0m\u001b[0mv\u001b[0m\u001b[1;33m)\u001b[0m\u001b[1;33m\u001b[0m\u001b[1;33m\u001b[0m\u001b[0m\n\u001b[0m\u001b[0;32m   1164\u001b[0m \u001b[1;33m\u001b[0m\u001b[0m\n\u001b[0;32m   1165\u001b[0m             \u001b[0mv\u001b[0m \u001b[1;33m=\u001b[0m \u001b[0mvalidated_v\u001b[0m\u001b[1;33m\u001b[0m\u001b[1;33m\u001b[0m\u001b[0m\n",
          "\u001b[1;32m~\\AppData\\Local\\Continuum\\anaconda3\\lib\\site-packages\\_plotly_utils\\basevalidators.py\u001b[0m in \u001b[0;36mraise_invalid_val\u001b[1;34m(self, v, inds)\u001b[0m\n\u001b[0;32m    275\u001b[0m             \u001b[0mtyp\u001b[0m\u001b[1;33m=\u001b[0m\u001b[0mtype_str\u001b[0m\u001b[1;33m(\u001b[0m\u001b[0mv\u001b[0m\u001b[1;33m)\u001b[0m\u001b[1;33m,\u001b[0m\u001b[1;33m\u001b[0m\u001b[1;33m\u001b[0m\u001b[0m\n\u001b[0;32m    276\u001b[0m             \u001b[0mv\u001b[0m\u001b[1;33m=\u001b[0m\u001b[0mrepr\u001b[0m\u001b[1;33m(\u001b[0m\u001b[0mv\u001b[0m\u001b[1;33m)\u001b[0m\u001b[1;33m,\u001b[0m\u001b[1;33m\u001b[0m\u001b[1;33m\u001b[0m\u001b[0m\n\u001b[1;32m--> 277\u001b[1;33m             valid_clr_desc=self.description()))\n\u001b[0m\u001b[0;32m    278\u001b[0m \u001b[1;33m\u001b[0m\u001b[0m\n\u001b[0;32m    279\u001b[0m     \u001b[1;32mdef\u001b[0m \u001b[0mraise_invalid_elements\u001b[0m\u001b[1;33m(\u001b[0m\u001b[0mself\u001b[0m\u001b[1;33m,\u001b[0m \u001b[0minvalid_els\u001b[0m\u001b[1;33m)\u001b[0m\u001b[1;33m:\u001b[0m\u001b[1;33m\u001b[0m\u001b[1;33m\u001b[0m\u001b[0m\n",
          "\u001b[1;31mValueError\u001b[0m: \n    Invalid value of type 'builtins.str' received for the 'color' property of scatter.marker\n        Received value: 'Region'\n\n    The 'color' property is a color and may be specified as:\n      - A hex string (e.g. '#ff0000')\n      - An rgb/rgba string (e.g. 'rgb(255,0,0)')\n      - An hsl/hsla string (e.g. 'hsl(0,100%,50%)')\n      - An hsv/hsva string (e.g. 'hsv(0,100%,100%)')\n      - A named CSS color:\n            aliceblue, antiquewhite, aqua, aquamarine, azure,\n            beige, bisque, black, blanchedalmond, blue,\n            blueviolet, brown, burlywood, cadetblue,\n            chartreuse, chocolate, coral, cornflowerblue,\n            cornsilk, crimson, cyan, darkblue, darkcyan,\n            darkgoldenrod, darkgray, darkgrey, darkgreen,\n            darkkhaki, darkmagenta, darkolivegreen, darkorange,\n            darkorchid, darkred, darksalmon, darkseagreen,\n            darkslateblue, darkslategray, darkslategrey,\n            darkturquoise, darkviolet, deeppink, deepskyblue,\n            dimgray, dimgrey, dodgerblue, firebrick,\n            floralwhite, forestgreen, fuchsia, gainsboro,\n            ghostwhite, gold, goldenrod, gray, grey, green,\n            greenyellow, honeydew, hotpink, indianred, indigo,\n            ivory, khaki, lavender, lavenderblush, lawngreen,\n            lemonchiffon, lightblue, lightcoral, lightcyan,\n            lightgoldenrodyellow, lightgray, lightgrey,\n            lightgreen, lightpink, lightsalmon, lightseagreen,\n            lightskyblue, lightslategray, lightslategrey,\n            lightsteelblue, lightyellow, lime, limegreen,\n            linen, magenta, maroon, mediumaquamarine,\n            mediumblue, mediumorchid, mediumpurple,\n            mediumseagreen, mediumslateblue, mediumspringgreen,\n            mediumturquoise, mediumvioletred, midnightblue,\n            mintcream, mistyrose, moccasin, navajowhite, navy,\n            oldlace, olive, olivedrab, orange, orangered,\n            orchid, palegoldenrod, palegreen, paleturquoise,\n            palevioletred, papayawhip, peachpuff, peru, pink,\n            plum, powderblue, purple, red, rosybrown,\n            royalblue, saddlebrown, salmon, sandybrown,\n            seagreen, seashell, sienna, silver, skyblue,\n            slateblue, slategray, slategrey, snow, springgreen,\n            steelblue, tan, teal, thistle, tomato, turquoise,\n            violet, wheat, white, whitesmoke, yellow,\n            yellowgreen\n      - A number that will be interpreted as a color\n        according to scatter.marker.colorscale\n      - A list or array of any of the above"
         ]
        }
       ]
      }
     },
     "973f460b16444a61bc196be7fa55a188": {
      "model_module": "@jupyter-widgets/controls",
      "model_module_version": "1.4.0",
      "model_name": "DescriptionStyleModel",
      "state": {
       "description_width": ""
      }
     },
     "97a16f1bc76549ffaa82e1cedf7d5782": {
      "model_module": "@jupyter-widgets/base",
      "model_module_version": "1.1.0",
      "model_name": "LayoutModel",
      "state": {}
     },
     "97dadae3cd464f5b881cf3e668b47f30": {
      "model_module": "@jupyter-widgets/controls",
      "model_module_version": "1.4.0",
      "model_name": "DropdownModel",
      "state": {
       "_options_labels": [
        "brbg",
        "prgn",
        "piyg",
        "puor",
        "rdbu",
        "rdgy",
        "rdylbu",
        "rdylgn",
        "spectral",
        "paired",
        "set3",
        "dflt",
        "original",
        "plotly",
        "accent",
        "dark2",
        "pastel1",
        "pastel2",
        "set1",
        "set2",
        "blues",
        "bugn",
        "bupu",
        "gnbu",
        "greens",
        "greys",
        "orrd",
        "oranges",
        "pubu",
        "pubugn",
        "purd",
        "purples",
        "rdpu",
        "reds",
        "ylgn",
        "ylgnbu",
        "ylorbr",
        "ylorrd",
        "ggplot",
        "polar"
       ],
       "description": "colorscale",
       "index": 0,
       "layout": "IPY_MODEL_d39d67c79648484883f187a8d2e127e3",
       "style": "IPY_MODEL_e8797efc2d004b37830a020a1c1d7c25"
      }
     },
     "97f4f40d929349679dbf41df5178bad6": {
      "model_module": "@jupyter-widgets/controls",
      "model_module_version": "1.4.0",
      "model_name": "DropdownModel",
      "state": {
       "_options_labels": [
        "ggplot",
        "pearl",
        "solar",
        "space",
        "white",
        "polar",
        "henanigans"
       ],
       "description": "theme",
       "index": 6,
       "layout": "IPY_MODEL_2a22d8ae67f54ab29a55029da80ca2f0",
       "style": "IPY_MODEL_03fc7d36d6094cb498653b22ba5dfa56"
      }
     },
     "9806595b07be4c97ba83da400dc63022": {
      "model_module": "@jupyter-widgets/base",
      "model_module_version": "1.1.0",
      "model_name": "LayoutModel",
      "state": {}
     },
     "9860878d58fe4471b3f175e0996355cb": {
      "model_module": "@jupyter-widgets/controls",
      "model_module_version": "1.4.0",
      "model_name": "DescriptionStyleModel",
      "state": {
       "description_width": ""
      }
     },
     "997352cb80204593bc23c623e978d18e": {
      "model_module": "@jupyter-widgets/controls",
      "model_module_version": "1.4.0",
      "model_name": "DescriptionStyleModel",
      "state": {
       "description_width": ""
      }
     },
     "99bcc3716bea4a7eb1a4cbaedfc8264f": {
      "model_module": "@jupyter-widgets/controls",
      "model_module_version": "1.4.0",
      "model_name": "DescriptionStyleModel",
      "state": {
       "description_width": ""
      }
     },
     "9a10f11d03304f6287b747a2209b997a": {
      "model_module": "@jupyter-widgets/base",
      "model_module_version": "1.1.0",
      "model_name": "LayoutModel",
      "state": {}
     },
     "9a3c67947a1f4a189f68f9f15d15f620": {
      "model_module": "@jupyter-widgets/controls",
      "model_module_version": "1.4.0",
      "model_name": "DropdownModel",
      "state": {
       "_options_labels": [
        "Happiness Score",
        "Life Ladder",
        "Log GDP per capita",
        "Social support",
        "Healthy life expectancy at birth",
        "Freedom to make life choices",
        "Generosity",
        "Perceptions of corruption",
        "Positive affect",
        "Negative affect",
        "Confidence in national government",
        "Democratic Quality",
        "Delivery Quality",
        "GINI of household income reported in Gallup, by wp5-year"
       ],
       "description": "y",
       "index": 0,
       "layout": "IPY_MODEL_dbb0334b74044da8981642c22164cde7",
       "style": "IPY_MODEL_c0fb499d0ff74952ab736d7abfc6f724"
      }
     },
     "9bb02b5618474007a31ca15d692a1a96": {
      "model_module": "@jupyter-widgets/output",
      "model_module_version": "1.0.0",
      "model_name": "OutputModel",
      "state": {
       "layout": "IPY_MODEL_96ef8990c9d04f69b142bc4bc583c2a4",
       "outputs": [
        {
         "ename": "TypeError",
         "evalue": "iplot() got an unexpected keyword argument 'theme'",
         "output_type": "error",
         "traceback": [
          "\u001b[1;31m---------------------------------------------------------------------------\u001b[0m",
          "\u001b[1;31mTypeError\u001b[0m                                 Traceback (most recent call last)",
          "\u001b[1;32m~\\AppData\\Local\\Continuum\\anaconda3\\lib\\site-packages\\ipywidgets\\widgets\\interaction.py\u001b[0m in \u001b[0;36mupdate\u001b[1;34m(self, *args)\u001b[0m\n\u001b[0;32m    249\u001b[0m                     \u001b[0mvalue\u001b[0m \u001b[1;33m=\u001b[0m \u001b[0mwidget\u001b[0m\u001b[1;33m.\u001b[0m\u001b[0mget_interact_value\u001b[0m\u001b[1;33m(\u001b[0m\u001b[1;33m)\u001b[0m\u001b[1;33m\u001b[0m\u001b[1;33m\u001b[0m\u001b[0m\n\u001b[0;32m    250\u001b[0m                     \u001b[0mself\u001b[0m\u001b[1;33m.\u001b[0m\u001b[0mkwargs\u001b[0m\u001b[1;33m[\u001b[0m\u001b[0mwidget\u001b[0m\u001b[1;33m.\u001b[0m\u001b[0m_kwarg\u001b[0m\u001b[1;33m]\u001b[0m \u001b[1;33m=\u001b[0m \u001b[0mvalue\u001b[0m\u001b[1;33m\u001b[0m\u001b[1;33m\u001b[0m\u001b[0m\n\u001b[1;32m--> 251\u001b[1;33m                 \u001b[0mself\u001b[0m\u001b[1;33m.\u001b[0m\u001b[0mresult\u001b[0m \u001b[1;33m=\u001b[0m \u001b[0mself\u001b[0m\u001b[1;33m.\u001b[0m\u001b[0mf\u001b[0m\u001b[1;33m(\u001b[0m\u001b[1;33m**\u001b[0m\u001b[0mself\u001b[0m\u001b[1;33m.\u001b[0m\u001b[0mkwargs\u001b[0m\u001b[1;33m)\u001b[0m\u001b[1;33m\u001b[0m\u001b[1;33m\u001b[0m\u001b[0m\n\u001b[0m\u001b[0;32m    252\u001b[0m                 \u001b[0mshow_inline_matplotlib_plots\u001b[0m\u001b[1;33m(\u001b[0m\u001b[1;33m)\u001b[0m\u001b[1;33m\u001b[0m\u001b[1;33m\u001b[0m\u001b[0m\n\u001b[0;32m    253\u001b[0m                 \u001b[1;32mif\u001b[0m \u001b[0mself\u001b[0m\u001b[1;33m.\u001b[0m\u001b[0mauto_display\u001b[0m \u001b[1;32mand\u001b[0m \u001b[0mself\u001b[0m\u001b[1;33m.\u001b[0m\u001b[0mresult\u001b[0m \u001b[1;32mis\u001b[0m \u001b[1;32mnot\u001b[0m \u001b[1;32mNone\u001b[0m\u001b[1;33m:\u001b[0m\u001b[1;33m\u001b[0m\u001b[1;33m\u001b[0m\u001b[0m\n",
          "\u001b[1;32m<ipython-input-24-4ec1d71c2812>\u001b[0m in \u001b[0;36mscatter_plot\u001b[1;34m(x, y, theme, colorscale)\u001b[0m\n\u001b[0;32m      8\u001b[0m                      color_column = \"Region\", x_title = x.title(), y_title = y.title(), title = f'{y.title()} vs {x.title()}')\n\u001b[0;32m      9\u001b[0m \u001b[1;33m\u001b[0m\u001b[0m\n\u001b[1;32m---> 10\u001b[1;33m     \u001b[0miplot\u001b[0m\u001b[1;33m(\u001b[0m\u001b[0mfig\u001b[0m\u001b[1;33m,\u001b[0m \u001b[0mtheme\u001b[0m\u001b[1;33m=\u001b[0m\u001b[0mtheme\u001b[0m\u001b[1;33m,\u001b[0m \u001b[0mcolorscale\u001b[0m\u001b[1;33m=\u001b[0m\u001b[0mcolorscale\u001b[0m\u001b[1;33m)\u001b[0m\u001b[1;33m\u001b[0m\u001b[1;33m\u001b[0m\u001b[0m\n\u001b[0m",
          "\u001b[1;31mTypeError\u001b[0m: iplot() got an unexpected keyword argument 'theme'"
         ]
        }
       ]
      }
     },
     "9c1003b2a0124abea1dd1363ca495444": {
      "model_module": "@jupyter-widgets/base",
      "model_module_version": "1.1.0",
      "model_name": "LayoutModel",
      "state": {}
     },
     "9d1b9c5ce06b4749b4291c24b9aba853": {
      "model_module": "@jupyter-widgets/controls",
      "model_module_version": "1.4.0",
      "model_name": "VBoxModel",
      "state": {
       "_dom_classes": [
        "widget-interact"
       ],
       "children": [
        "IPY_MODEL_ad90a3254e814beda9ad84954d9c5add",
        "IPY_MODEL_1e494b743d5447f3a415e30a4c25bb82",
        "IPY_MODEL_771a012fa2bc4d8b85d01130eb7d367d",
        "IPY_MODEL_639c5685127843fd858263987af74eb0",
        "IPY_MODEL_a64d521dfa7d4d4caac7c573df045546"
       ],
       "layout": "IPY_MODEL_96f774b4116e4c3e82f3d8152bfa3d81"
      }
     },
     "9d7af75bd3cb4219a4cdcf441dd7580e": {
      "model_module": "@jupyter-widgets/output",
      "model_module_version": "1.0.0",
      "model_name": "OutputModel",
      "state": {
       "layout": "IPY_MODEL_34badb8cb99449c4bb8a5dd0a2f4d249",
       "outputs": [
        {
         "data": {
          "application/vnd.plotly.v1+json": {
           "config": {
            "linkText": "Export to plot.ly",
            "plotlyServerURL": "https://plot.ly",
            "responsive": true,
            "showLink": false
           },
           "data": [
            {
             "marker": {
              "size": 10
             },
             "mode": "markers",
             "name": "Western Europe",
             "text": [
              "Finland",
              "Denmark",
              "Norway",
              "Iceland",
              "Netherlands",
              "Switzerland",
              "Sweden",
              "Austria",
              "Luxembourg",
              "United Kingdom",
              "Ireland",
              "Germany",
              "Belgium",
              "Malta",
              "France",
              "Spain",
              "Italy",
              "Cyprus",
              "North Cyprus",
              "Portugal",
              "Greece"
             ],
             "type": "scatter",
             "uid": "e01b6cd9-cb26-4f51-80a3-96977ad835fe",
             "x": [
              71.80000051,
              72.10000102,
              73.09999847,
              73,
              72.19999949,
              73.80000051,
              72.5,
              72.69999949,
              72.59999847,
              72.10000102,
              72.19999949,
              71.89999898,
              71.80000051,
              72.19999695,
              73.60000102,
              74.10000102,
              73.39999898,
              73.5,
              72.09121704,
              72.19999949,
              72.19999949
             ],
             "y": [
              7.769,
              7.6,
              7.5539999999999985,
              7.494,
              7.487999999999999,
              7.48,
              7.343,
              7.246,
              7.09,
              7.0539999999999985,
              7.021,
              6.985,
              6.922999999999999,
              6.726,
              6.5920000000000005,
              6.354,
              6.223,
              6.046,
              5.718,
              5.693,
              5.287000000000001
             ]
            },
            {
             "marker": {
              "size": 10
             },
             "mode": "markers",
             "name": "North America and ANZ",
             "text": [
              "New Zealand",
              "Canada",
              "Australia",
              "United States"
             ],
             "type": "scatter",
             "uid": "16b30dad-732e-4bae-9e69-a29af9f0bca7",
             "x": [
              73,
              73.39999898,
              73.30000051,
              68.40000153
             ],
             "y": [
              7.307,
              7.278,
              7.228,
              6.892
             ]
            },
            {
             "marker": {
              "size": 10
             },
             "mode": "markers",
             "name": "Latin America and Caribbean",
             "text": [
              "Costa Rica",
              "Mexico",
              "Chile",
              "Guatemala",
              "Panama",
              "Brazil",
              "Uruguay",
              "El Salvador",
              "Trinidad & Tobago",
              "Colombia",
              "Nicaragua",
              "Argentina",
              "Ecuador",
              "Jamaica",
              "Honduras",
              "Bolivia",
              "Paraguay",
              "Peru",
              "Dominican Republic",
              "Venezuela",
              "Haiti"
             ],
             "type": "scatter",
             "uid": "5108743e-d076-4cf1-b8b2-70d418270bd1",
             "x": [
              71.10000102,
              68,
              69.80000051,
              64.5,
              69.5,
              66.19999949,
              68.90000153,
              65.80000051,
              62.4939821,
              67.39999898,
              67.19999949,
              68.60000102,
              68.19999949,
              66.9066658,
              67,
              63.29999924,
              65.36666785,
              67.80000051,
              65.5,
              66.30000051,
              55.5
             ],
             "y": [
              7.167000000000002,
              6.595,
              6.444,
              6.436,
              6.3210000000000015,
              6.3,
              6.292999999999998,
              6.252999999999999,
              6.192,
              6.125,
              6.105,
              6.086,
              6.028,
              5.89,
              5.86,
              5.779,
              5.7429999999999986,
              5.697,
              5.425,
              4.707,
              3.597
             ]
            },
            {
             "marker": {
              "size": 10
             },
             "mode": "markers",
             "name": "Middle East and North Africa",
             "text": [
              "Israel",
              "United Arab Emirates",
              "Saudi Arabia",
              "Qatar",
              "Bahrain",
              "Kuwait",
              "Libya",
              "Turkey",
              "Algeria",
              "Morocco",
              "Lebanon",
              "Jordan",
              "Palestinian Territories",
              "Iran",
              "Tunisia",
              "Iraq",
              "Egypt",
              "Syria",
              "Yemen"
             ],
             "type": "scatter",
             "uid": "8e873789-d47d-43b0-bc8f-916d45888346",
             "x": [
              73.10000102,
              66.89999898,
              66,
              67.20285358,
              68.29999924,
              66.36666785,
              62.29999924,
              66.40000153,
              65.69999949,
              65.60000102,
              66.59999847,
              66.60000102,
              62.57299042,
              65.69999949,
              66.60000102,
              59.29999924,
              61.40000025,
              55.99111133,
              55.90000025
             ],
             "y": [
              7.1389999999999985,
              6.825,
              6.375,
              6.374,
              6.199,
              6.021,
              5.525,
              5.372999999999998,
              5.211,
              5.207999999999998,
              5.197,
              4.9060000000000015,
              4.6960000000000015,
              4.548,
              4.461,
              4.437,
              4.166,
              3.462,
              3.38
             ]
            },
            {
             "marker": {
              "size": 10
             },
             "mode": "markers",
             "name": "Central and Eastern Europe",
             "text": [
              "Czech Republic",
              "Slovakia",
              "Poland",
              "Lithuania",
              "Slovenia",
              "Kosovo",
              "Romania",
              "Latvia",
              "Estonia",
              "Hungary",
              "Serbia",
              "Montenegro",
              "Croatia",
              "Bosnia and Herzegovina",
              "Macedonia",
              "Bulgaria",
              "Albania"
             ],
             "type": "scatter",
             "uid": "17280f76-6901-4385-b241-67708913fc2b",
             "x": [
              69.80000305,
              68.60000102,
              68.63333384,
              66.69999949,
              70.80000051,
              64.87929281,
              66.89999898,
              66.5,
              68.39999898,
              66.9333335,
              67.80000051,
              68.30000051,
              69.59999847,
              67.5,
              67.30000051,
              66.60000102,
              68.39999898
             ],
             "y": [
              6.852,
              6.198,
              6.182,
              6.149,
              6.1179999999999986,
              6.1,
              6.07,
              5.94,
              5.893,
              5.757999999999999,
              5.603,
              5.523,
              5.432,
              5.386,
              5.274,
              5.011,
              4.7189999999999985
             ]
            },
            {
             "marker": {
              "size": 10
             },
             "mode": "markers",
             "name": "East Asia",
             "text": [
              "Taiwan",
              "South Korea",
              "Japan",
              "Hong Kong SAR, China",
              "Mongolia",
              "China"
             ],
             "type": "scatter",
             "uid": "075af546-9606-42d6-a5bd-0f054e4b90b4",
             "x": [
              71.4327,
              73.30000051,
              74.90000153,
              75.9304123,
              62.09999975,
              69
             ],
             "y": [
              6.4460000000000015,
              5.895,
              5.886,
              5.43,
              5.285,
              5.191
             ]
            },
            {
             "marker": {
              "size": 10
             },
             "mode": "markers",
             "name": "Southeast Asia",
             "text": [
              "Singapore",
              "Thailand",
              "Philippines",
              "Malaysia",
              "Indonesia",
              "Vietnam",
              "Laos",
              "Cambodia",
              "Myanmar"
             ],
             "type": "scatter",
             "uid": "b6c2e9c6-02bb-4c58-ab3b-e035151d6020",
             "x": [
              76.5,
              67,
              61.80000051,
              67,
              61.90000025,
              67.69999949,
              57.86666616,
              61.19999949,
              58.70000076
             ],
             "y": [
              6.2620000000000005,
              6.007999999999999,
              5.631,
              5.339,
              5.192,
              5.175,
              4.796,
              4.7,
              4.36
             ]
            },
            {
             "marker": {
              "size": 10
             },
             "mode": "markers",
             "name": "Commonwealth of Independent States",
             "text": [
              "Uzbekistan",
              "Kazakhstan",
              "Russia",
              "Moldova",
              "Tajikistan",
              "Belarus",
              "Kyrgyzstan",
              "Turkmenistan",
              "Azerbaijan",
              "Armenia",
              "Georgia",
              "Ukraine"
             ],
             "type": "scatter",
             "uid": "ab4758c5-06e5-463c-9123-b94ab3c641ea",
             "x": [
              64.80000051,
              64,
              63.90000153,
              64.30000051,
              63.64999962,
              65.80000051,
              63.79999924,
              61.80000051,
              65.19999949,
              66.60000102,
              64.69999949,
              64.30000051
             ],
             "y": [
              6.174,
              5.809,
              5.648,
              5.529,
              5.4670000000000005,
              5.323,
              5.261,
              5.247000000000001,
              5.207999999999998,
              4.559,
              4.519,
              4.332
             ]
            },
            {
             "marker": {
              "size": 10
             },
             "mode": "markers",
             "name": "Sub-Saharan Africa",
             "text": [
              "Mauritius",
              "Nigeria",
              "Cameroon",
              "Ghana",
              "Ivory Coast",
              "Benin",
              "Congo (Brazzaville)",
              "Gabon",
              "South Africa",
              "Senegal",
              "Somalia",
              "Namibia",
              "Niger",
              "Burkina Faso",
              "Guinea",
              "Gambia",
              "Kenya",
              "Mauritania",
              "Mozambique",
              "Congo (Kinshasa)",
              "Mali",
              "Sierra Leone",
              "Chad",
              "Ethiopia",
              "Swaziland",
              "Uganda",
              "Zambia",
              "Togo",
              "Liberia",
              "Comoros",
              "Madagascar",
              "Lesotho",
              "Burundi",
              "Zimbabwe",
              "Botswana",
              "Malawi",
              "Rwanda",
              "Tanzania",
              "Central African Republic",
              "South Sudan"
             ],
             "type": "scatter",
             "uid": "e095560a-b40e-4a19-be7d-a50b62614336",
             "x": [
              66.10000102,
              49.30000051,
              51.90000025,
              56.60000039,
              48.90000026,
              53.90000026,
              57.30000051,
              59.20000076,
              56.09999974,
              59.19999949,
              50,
              55.95333354,
              53,
              53.40000153,
              53.30000051,
              54.85000038,
              59.5,
              56.70000076,
              52.86666743,
              52.70000077,
              51.20000076,
              49.19999949,
              47.70000076,
              58,
              57.7,
              55.30000051,
              54.79999924,
              54.30000051,
              55.29999924,
              55.85333379,
              58.69999949,
              46.94999886,
              53.40000153,
              55,
              58.20000076,
              56.90000025,
              60.5,
              57,
              45.05000115,
              50.79999924
             ],
             "y": [
              5.888,
              5.265,
              5.044,
              4.996,
              4.944,
              4.883,
              4.812,
              4.799,
              4.722,
              4.681,
              4.668,
              4.6389999999999985,
              4.628,
              4.587,
              4.534,
              4.516,
              4.509,
              4.49,
              4.466,
              4.418,
              4.39,
              4.374,
              4.35,
              4.2860000000000005,
              4.212,
              4.189,
              4.107,
              4.085,
              3.975,
              3.973,
              3.933,
              3.802,
              3.775,
              3.663,
              3.488,
              3.41,
              3.334,
              3.2310000000000003,
              3.083,
              2.853
             ]
            },
            {
             "marker": {
              "size": 10
             },
             "mode": "markers",
             "name": "South Asia",
             "text": [
              "Pakistan",
              "Bhutan",
              "Nepal",
              "Bangladesh",
              "Sri Lanka",
              "India",
              "Afghanistan"
             ],
             "type": "scatter",
             "uid": "a42239e1-5c79-4beb-81af-0753206b4cb3",
             "x": [
              58.09999974,
              60.05000072,
              62.40000026,
              63.80000051,
              67.09999848,
              59.69999949,
              52.79999924
             ],
             "y": [
              5.653,
              5.082,
              4.913,
              4.456,
              4.3660000000000005,
              4.015,
              3.2030000000000003
             ]
            }
           ],
           "layout": {
            "hovermode": "closest",
            "margin": {
             "b": 50,
             "pad": 5,
             "t": 50
            },
            "showlegend": true,
            "title": {
             "text": "Happiness Score vs Healthy Life Expectancy At Birth"
            },
            "xaxis": {
             "autorange": false,
             "range": [
              31.535000805,
              107.1
             ],
             "title": {
              "text": "Healthy Life Expectancy At Birth"
             }
            },
            "yaxis": {
             "autorange": false,
             "range": [
              1.9971,
              10.8766
             ],
             "title": {
              "text": "Happiness Score"
             }
            }
           }
          },
          "text/html": "<div>\n        \n        \n            <div id=\"d536573e-fcfa-4872-92d7-7c5eba459cff\" class=\"plotly-graph-div\"></div>\n            <script type=\"text/javascript\">\n                require([\"plotly\"], function(Plotly) {\n                    window.PLOTLYENV=window.PLOTLYENV || {};\n                    window.PLOTLYENV.BASE_URL='https://plot.ly';\n                    \n                if (document.getElementById(\"d536573e-fcfa-4872-92d7-7c5eba459cff\")) {\n                    Plotly.newPlot(\n                        'd536573e-fcfa-4872-92d7-7c5eba459cff',\n                        [{\"marker\": {\"size\": 10}, \"mode\": \"markers\", \"name\": \"Western Europe\", \"text\": [\"Finland\", \"Denmark\", \"Norway\", \"Iceland\", \"Netherlands\", \"Switzerland\", \"Sweden\", \"Austria\", \"Luxembourg\", \"United Kingdom\", \"Ireland\", \"Germany\", \"Belgium\", \"Malta\", \"France\", \"Spain\", \"Italy\", \"Cyprus\", \"North Cyprus\", \"Portugal\", \"Greece\"], \"type\": \"scatter\", \"uid\": \"c93ba8e7-6ae5-4816-8e4b-9360c6ff6eb6\", \"x\": [71.80000051, 72.10000102, 73.09999847, 73.0, 72.19999949, 73.80000051, 72.5, 72.69999949, 72.59999847, 72.10000102, 72.19999949, 71.89999898, 71.80000051, 72.19999695, 73.60000102, 74.10000102, 73.39999898, 73.5, 72.09121704, 72.19999949, 72.19999949], \"y\": [7.769, 7.6, 7.5539999999999985, 7.494, 7.487999999999999, 7.48, 7.343, 7.246, 7.09, 7.0539999999999985, 7.021, 6.985, 6.922999999999999, 6.726, 6.5920000000000005, 6.354, 6.223, 6.046, 5.718, 5.693, 5.287000000000001]}, {\"marker\": {\"size\": 10}, \"mode\": \"markers\", \"name\": \"North America and ANZ\", \"text\": [\"New Zealand\", \"Canada\", \"Australia\", \"United States\"], \"type\": \"scatter\", \"uid\": \"dffedd57-11af-4749-a776-9c76213f00d4\", \"x\": [73.0, 73.39999898, 73.30000051, 68.40000153], \"y\": [7.307, 7.278, 7.228, 6.892]}, {\"marker\": {\"size\": 10}, \"mode\": \"markers\", \"name\": \"Latin America and Caribbean\", \"text\": [\"Costa Rica\", \"Mexico\", \"Chile\", \"Guatemala\", \"Panama\", \"Brazil\", \"Uruguay\", \"El Salvador\", \"Trinidad & Tobago\", \"Colombia\", \"Nicaragua\", \"Argentina\", \"Ecuador\", \"Jamaica\", \"Honduras\", \"Bolivia\", \"Paraguay\", \"Peru\", \"Dominican Republic\", \"Venezuela\", \"Haiti\"], \"type\": \"scatter\", \"uid\": \"6ad01616-4b10-41cd-95af-05f499bfb79a\", \"x\": [71.10000102, 68.0, 69.80000051, 64.5, 69.5, 66.19999949, 68.90000153, 65.80000051, 62.4939821, 67.39999898, 67.19999949, 68.60000102, 68.19999949, 66.9066658, 67.0, 63.29999924, 65.36666785, 67.80000051, 65.5, 66.30000051, 55.5], \"y\": [7.167000000000002, 6.595, 6.444, 6.436, 6.3210000000000015, 6.3, 6.292999999999998, 6.252999999999999, 6.192, 6.125, 6.105, 6.086, 6.028, 5.89, 5.86, 5.779, 5.7429999999999986, 5.697, 5.425, 4.707, 3.597]}, {\"marker\": {\"size\": 10}, \"mode\": \"markers\", \"name\": \"Middle East and North Africa\", \"text\": [\"Israel\", \"United Arab Emirates\", \"Saudi Arabia\", \"Qatar\", \"Bahrain\", \"Kuwait\", \"Libya\", \"Turkey\", \"Algeria\", \"Morocco\", \"Lebanon\", \"Jordan\", \"Palestinian Territories\", \"Iran\", \"Tunisia\", \"Iraq\", \"Egypt\", \"Syria\", \"Yemen\"], \"type\": \"scatter\", \"uid\": \"404fc7fb-47e9-4ebb-8c20-e5f24169ac1a\", \"x\": [73.10000102, 66.89999898, 66.0, 67.20285358, 68.29999924, 66.36666785, 62.29999924, 66.40000153, 65.69999949, 65.60000102, 66.59999847, 66.60000102, 62.57299042, 65.69999949, 66.60000102, 59.29999924, 61.40000025, 55.99111133, 55.90000025], \"y\": [7.1389999999999985, 6.825, 6.375, 6.374, 6.199, 6.021, 5.525, 5.372999999999998, 5.211, 5.207999999999998, 5.197, 4.9060000000000015, 4.6960000000000015, 4.548, 4.461, 4.437, 4.166, 3.462, 3.38]}, {\"marker\": {\"size\": 10}, \"mode\": \"markers\", \"name\": \"Central and Eastern Europe\", \"text\": [\"Czech Republic\", \"Slovakia\", \"Poland\", \"Lithuania\", \"Slovenia\", \"Kosovo\", \"Romania\", \"Latvia\", \"Estonia\", \"Hungary\", \"Serbia\", \"Montenegro\", \"Croatia\", \"Bosnia and Herzegovina\", \"Macedonia\", \"Bulgaria\", \"Albania\"], \"type\": \"scatter\", \"uid\": \"e2bf2269-41e6-4119-bd36-0d78c9a32e52\", \"x\": [69.80000305, 68.60000102, 68.63333384, 66.69999949, 70.80000051, 64.87929281, 66.89999898, 66.5, 68.39999898, 66.9333335, 67.80000051, 68.30000051, 69.59999847, 67.5, 67.30000051, 66.60000102, 68.39999898], \"y\": [6.852, 6.198, 6.182, 6.149, 6.1179999999999986, 6.1, 6.07, 5.94, 5.893, 5.757999999999999, 5.603, 5.523, 5.432, 5.386, 5.274, 5.011, 4.7189999999999985]}, {\"marker\": {\"size\": 10}, \"mode\": \"markers\", \"name\": \"East Asia\", \"text\": [\"Taiwan\", \"South Korea\", \"Japan\", \"Hong Kong SAR, China\", \"Mongolia\", \"China\"], \"type\": \"scatter\", \"uid\": \"0f2c34c3-8f6a-449f-9790-6ea8155d4ad8\", \"x\": [71.4327, 73.30000051, 74.90000153, 75.9304123, 62.09999975, 69.0], \"y\": [6.4460000000000015, 5.895, 5.886, 5.43, 5.285, 5.191]}, {\"marker\": {\"size\": 10}, \"mode\": \"markers\", \"name\": \"Southeast Asia\", \"text\": [\"Singapore\", \"Thailand\", \"Philippines\", \"Malaysia\", \"Indonesia\", \"Vietnam\", \"Laos\", \"Cambodia\", \"Myanmar\"], \"type\": \"scatter\", \"uid\": \"0e40c9ac-38a2-4bcc-8ffe-0d6acb19c682\", \"x\": [76.5, 67.0, 61.80000051, 67.0, 61.90000025, 67.69999949, 57.86666616, 61.19999949, 58.70000076], \"y\": [6.2620000000000005, 6.007999999999999, 5.631, 5.339, 5.192, 5.175, 4.796, 4.7, 4.36]}, {\"marker\": {\"size\": 10}, \"mode\": \"markers\", \"name\": \"Commonwealth of Independent States\", \"text\": [\"Uzbekistan\", \"Kazakhstan\", \"Russia\", \"Moldova\", \"Tajikistan\", \"Belarus\", \"Kyrgyzstan\", \"Turkmenistan\", \"Azerbaijan\", \"Armenia\", \"Georgia\", \"Ukraine\"], \"type\": \"scatter\", \"uid\": \"8b13e53c-3784-408f-9aa9-1a5e71ec64ad\", \"x\": [64.80000051, 64.0, 63.90000153, 64.30000051, 63.64999962, 65.80000051, 63.79999924, 61.80000051, 65.19999949, 66.60000102, 64.69999949, 64.30000051], \"y\": [6.174, 5.809, 5.648, 5.529, 5.4670000000000005, 5.323, 5.261, 5.247000000000001, 5.207999999999998, 4.559, 4.519, 4.332]}, {\"marker\": {\"size\": 10}, \"mode\": \"markers\", \"name\": \"Sub-Saharan Africa\", \"text\": [\"Mauritius\", \"Nigeria\", \"Cameroon\", \"Ghana\", \"Ivory Coast\", \"Benin\", \"Congo (Brazzaville)\", \"Gabon\", \"South Africa\", \"Senegal\", \"Somalia\", \"Namibia\", \"Niger\", \"Burkina Faso\", \"Guinea\", \"Gambia\", \"Kenya\", \"Mauritania\", \"Mozambique\", \"Congo (Kinshasa)\", \"Mali\", \"Sierra Leone\", \"Chad\", \"Ethiopia\", \"Swaziland\", \"Uganda\", \"Zambia\", \"Togo\", \"Liberia\", \"Comoros\", \"Madagascar\", \"Lesotho\", \"Burundi\", \"Zimbabwe\", \"Botswana\", \"Malawi\", \"Rwanda\", \"Tanzania\", \"Central African Republic\", \"South Sudan\"], \"type\": \"scatter\", \"uid\": \"70250307-c71f-461a-9be8-746c6c9d71a5\", \"x\": [66.10000102, 49.30000051, 51.90000025, 56.60000039, 48.90000026, 53.90000026, 57.30000051, 59.20000076, 56.09999974, 59.19999949, 50.0, 55.95333354, 53.0, 53.40000153, 53.30000051, 54.85000038, 59.5, 56.70000076, 52.86666743, 52.70000077, 51.20000076, 49.19999949, 47.70000076, 58.0, 57.7, 55.30000051, 54.79999924, 54.30000051, 55.29999924, 55.85333379, 58.69999949, 46.94999886, 53.40000153, 55.0, 58.20000076, 56.90000025, 60.5, 57.0, 45.05000115, 50.79999924], \"y\": [5.888, 5.265, 5.044, 4.996, 4.944, 4.883, 4.812, 4.799, 4.722, 4.681, 4.668, 4.6389999999999985, 4.628, 4.587, 4.534, 4.516, 4.509, 4.49, 4.466, 4.418, 4.39, 4.374, 4.35, 4.2860000000000005, 4.212, 4.189, 4.107, 4.085, 3.975, 3.973, 3.933, 3.802, 3.775, 3.663, 3.488, 3.41, 3.334, 3.2310000000000003, 3.083, 2.853]}, {\"marker\": {\"size\": 10}, \"mode\": \"markers\", \"name\": \"South Asia\", \"text\": [\"Pakistan\", \"Bhutan\", \"Nepal\", \"Bangladesh\", \"Sri Lanka\", \"India\", \"Afghanistan\"], \"type\": \"scatter\", \"uid\": \"61eb443b-bcdd-43d4-865e-860901b1c5cd\", \"x\": [58.09999974, 60.05000072, 62.40000026, 63.80000051, 67.09999848, 59.69999949, 52.79999924], \"y\": [5.653, 5.082, 4.913, 4.456, 4.3660000000000005, 4.015, 3.2030000000000003]}],\n                        {\"hovermode\": \"closest\", \"margin\": {\"b\": 50, \"pad\": 5, \"t\": 50}, \"showlegend\": true, \"title\": {\"text\": \"Happiness Score vs Healthy Life Expectancy At Birth\"}, \"xaxis\": {\"autorange\": false, \"range\": [31.535000805, 107.1], \"title\": {\"text\": \"Healthy Life Expectancy At Birth\"}}, \"yaxis\": {\"autorange\": false, \"range\": [1.9971, 10.8766], \"title\": {\"text\": \"Happiness Score\"}}},\n                        {\"showLink\": false, \"linkText\": \"Export to plot.ly\", \"plotlyServerURL\": \"https://plot.ly\", \"responsive\": true}\n                    )\n                };\n                });\n            </script>\n        </div>"
         },
         "metadata": {},
         "output_type": "display_data"
        }
       ]
      }
     },
     "9d92b0ee65474455b55eb47d071d46a5": {
      "model_module": "@jupyter-widgets/base",
      "model_module_version": "1.1.0",
      "model_name": "LayoutModel",
      "state": {}
     },
     "9fbd1e77231743c2a412a5dfb114063b": {
      "model_module": "@jupyter-widgets/base",
      "model_module_version": "1.1.0",
      "model_name": "LayoutModel",
      "state": {}
     },
     "a0ae729edf6541a5b4888254136ed9ff": {
      "model_module": "@jupyter-widgets/controls",
      "model_module_version": "1.4.0",
      "model_name": "DescriptionStyleModel",
      "state": {
       "description_width": ""
      }
     },
     "a0f7290249b9407fb640de3ef97461da": {
      "model_module": "@jupyter-widgets/base",
      "model_module_version": "1.1.0",
      "model_name": "LayoutModel",
      "state": {}
     },
     "a13477dca5e54e0182732726765b78b4": {
      "model_module": "@jupyter-widgets/controls",
      "model_module_version": "1.4.0",
      "model_name": "DropdownModel",
      "state": {
       "_options_labels": [
        "ggplot",
        "pearl",
        "solar",
        "space",
        "white",
        "polar",
        "henanigans"
       ],
       "description": "theme",
       "index": 0,
       "layout": "IPY_MODEL_1cf1805f3f3d4624aa1124bf61d22f3e",
       "style": "IPY_MODEL_5e5d9b94a6054762bd861f942ad95fd3"
      }
     },
     "a142c4eb44c44e5f8fa53d703c841748": {
      "model_module": "@jupyter-widgets/controls",
      "model_module_version": "1.4.0",
      "model_name": "DropdownModel",
      "state": {
       "_options_labels": [
        "Happiness Score",
        "Life Ladder",
        "Log GDP per capita",
        "Social support",
        "Healthy life expectancy at birth",
        "Freedom to make life choices",
        "Generosity",
        "Perceptions of corruption",
        "Positive affect",
        "Negative affect",
        "Confidence in national government",
        "Democratic Quality",
        "Delivery Quality",
        "GINI of household income reported in Gallup, by wp5-year"
       ],
       "description": "x",
       "index": 0,
       "layout": "IPY_MODEL_258fd373f7bb4e608b2ec3f20ac47858",
       "style": "IPY_MODEL_0b848f9e2ef24dc484f397dd45201b74"
      }
     },
     "a17a92b10fbe4a24a2c0a72e6ad3fa3e": {
      "model_module": "@jupyter-widgets/controls",
      "model_module_version": "1.4.0",
      "model_name": "DropdownModel",
      "state": {
       "_options_labels": [
        "Happiness Score",
        "Life Ladder",
        "Log GDP per capita",
        "Social support",
        "Healthy life expectancy at birth",
        "Freedom to make life choices",
        "Generosity",
        "Perceptions of corruption",
        "Positive affect",
        "Negative affect",
        "Confidence in national government",
        "Democratic Quality",
        "Delivery Quality",
        "GINI of household income reported in Gallup, by wp5-year"
       ],
       "description": "x",
       "index": 0,
       "layout": "IPY_MODEL_870afa0c919f4e5d90d5a0bdb3245afd",
       "style": "IPY_MODEL_35a939a4a6e746039c6d496cf3d4f82a"
      }
     },
     "a1cf74b6e9394236832a83d7c580d697": {
      "model_module": "@jupyter-widgets/controls",
      "model_module_version": "1.4.0",
      "model_name": "DescriptionStyleModel",
      "state": {
       "description_width": ""
      }
     },
     "a20fdf6e17534be38e99fb24ba1ffccd": {
      "model_module": "@jupyter-widgets/controls",
      "model_module_version": "1.4.0",
      "model_name": "DescriptionStyleModel",
      "state": {
       "description_width": ""
      }
     },
     "a227c657613642f89992355124b43197": {
      "model_module": "@jupyter-widgets/base",
      "model_module_version": "1.1.0",
      "model_name": "LayoutModel",
      "state": {}
     },
     "a2e9f5c9bf6f4da8b40f0f267c71c77a": {
      "model_module": "@jupyter-widgets/controls",
      "model_module_version": "1.4.0",
      "model_name": "DescriptionStyleModel",
      "state": {
       "description_width": ""
      }
     },
     "a490ca6dcf974da998b3ee9a34e9aed2": {
      "model_module": "@jupyter-widgets/controls",
      "model_module_version": "1.4.0",
      "model_name": "DropdownModel",
      "state": {
       "_options_labels": [
        "Life Ladder",
        "Log GDP per capita",
        "Social support",
        "Healthy life expectancy at birth",
        "Freedom to make life choices",
        "Generosity",
        "Perceptions of corruption",
        "Positive affect",
        "Negative affect",
        "Confidence in national government",
        "Democratic Quality",
        "Delivery Quality",
        "GINI of household income reported in Gallup, by wp5-year"
       ],
       "description": "y",
       "index": 0,
       "layout": "IPY_MODEL_b31348de994844d5bade5991fe7cb586",
       "style": "IPY_MODEL_de6d381be2d44d758a149151a17759d1"
      }
     },
     "a4b47849d42444f08be3ad9c78239dfb": {
      "model_module": "@jupyter-widgets/controls",
      "model_module_version": "1.4.0",
      "model_name": "DropdownModel",
      "state": {
       "_options_labels": [
        "brbg",
        "prgn",
        "piyg",
        "puor",
        "rdbu",
        "rdgy",
        "rdylbu",
        "rdylgn",
        "spectral",
        "paired",
        "set3",
        "dflt",
        "original",
        "plotly",
        "accent",
        "dark2",
        "pastel1",
        "pastel2",
        "set1",
        "set2",
        "blues",
        "bugn",
        "bupu",
        "gnbu",
        "greens",
        "greys",
        "orrd",
        "oranges",
        "pubu",
        "pubugn",
        "purd",
        "purples",
        "rdpu",
        "reds",
        "ylgn",
        "ylgnbu",
        "ylorbr",
        "ylorrd",
        "ggplot",
        "polar"
       ],
       "description": "colorscale",
       "index": 0,
       "layout": "IPY_MODEL_28d18e2307f147438e87214acffd9e79",
       "style": "IPY_MODEL_8d30b87add71494b8493c5c2d58871da"
      }
     },
     "a60a653b2ae74636bc00b038a08c5ffb": {
      "model_module": "@jupyter-widgets/base",
      "model_module_version": "1.1.0",
      "model_name": "LayoutModel",
      "state": {}
     },
     "a62b31e372674757ad0483049c23db4e": {
      "model_module": "@jupyter-widgets/base",
      "model_module_version": "1.1.0",
      "model_name": "LayoutModel",
      "state": {}
     },
     "a64d521dfa7d4d4caac7c573df045546": {
      "model_module": "@jupyter-widgets/output",
      "model_module_version": "1.0.0",
      "model_name": "OutputModel",
      "state": {
       "layout": "IPY_MODEL_e5fc9a85b392495abf547c3ffe3c4774",
       "outputs": [
        {
         "data": {
          "application/vnd.plotly.v1+json": {
           "config": {
            "linkText": "Export to plot.ly",
            "plotlyServerURL": "https://plot.ly",
            "responsive": true,
            "showLink": true
           },
           "data": [
            {
             "marker": {
              "color": "rgba(84, 48, 5, 1.0)",
              "line": {
               "width": 1.3
              },
              "opacity": 0.8,
              "size": [
               91,
               93,
               99,
               93,
               94,
               97,
               94,
               93,
               106,
               91,
               100,
               93,
               92,
               89,
               90,
               88,
               88,
               87,
               85,
               84,
               82
              ],
              "symbol": "circle"
             },
             "mode": "markers",
             "name": "Western Europe",
             "textfont": {
              "color": "#666666"
             },
             "type": "scatter",
             "uid": "c5936480-208b-4739-8c25-5365ce75ce4e",
             "x": [
              0.949459513,
              0.946361562,
              0.955932717,
              0.943625987,
              0.91587164,
              0.928452849,
              0.931447724,
              0.894218842,
              0.889705638,
              0.823811273,
              0.880467295,
              0.862710138,
              0.8436492090000001,
              0.922335744,
              0.81234928,
              0.748661737,
              0.635531386,
              0.7873688940000001,
              0.79288425,
              0.873513063,
              0.494790852
             ],
             "y": [
              7.769,
              7.6,
              7.5539999999999985,
              7.494,
              7.487999999999999,
              7.48,
              7.343,
              7.246,
              7.09,
              7.0539999999999985,
              7.021,
              6.985,
              6.922999999999999,
              6.726,
              6.5920000000000005,
              6.354,
              6.223,
              6.046,
              5.718,
              5.693,
              5.287000000000001
             ]
            },
            {
             "marker": {
              "color": "rgba(140, 81, 10, 1.0)",
              "line": {
               "width": 1.3
              },
              "opacity": 0.8,
              "size": [
               89,
               92,
               93,
               96
              ],
              "symbol": "circle"
             },
             "mode": "markers",
             "name": "North America and ANZ",
             "textfont": {
              "color": "#666666"
             },
             "type": "scatter",
             "uid": "2cd9ceb0-0614-448a-8c30-6389102f8c83",
             "x": [
              0.939385215,
              0.934450607,
              0.916298012,
              0.816998819
             ],
             "y": [
              7.307,
              7.278,
              7.228,
              6.892
             ]
            },
            {
             "marker": {
              "color": "rgba(191, 129, 45, 1.0)",
              "line": {
               "width": 1.3
              },
              "opacity": 0.8,
              "size": [
               74,
               76,
               81,
               60,
               80,
               72,
               79,
               60,
               85,
               71,
               54,
               77,
               67,
               62,
               51,
               59,
               63,
               69,
               73,
               69,
               33
              ],
              "symbol": "circle"
             },
             "mode": "markers",
             "name": "Latin America and Caribbean",
             "textfont": {
              "color": "#666666"
             },
             "type": "scatter",
             "uid": "3a85682f-7e47-4b0e-8880-8f2547969ab1",
             "x": [
              0.916826248,
              0.80973957,
              0.743645529,
              0.8955784840000001,
              0.881833792,
              0.773991048,
              0.886811495,
              0.806960543,
              0.8522066009999999,
              0.841095507,
              0.8119179609999999,
              0.8418543540000001,
              0.864942729,
              0.8408122459999999,
              0.8735286,
              0.876300176,
              0.8649941879999999,
              0.828679343,
              0.864904344,
              0.567987273,
              0.459812651
             ],
             "y": [
              7.167000000000002,
              6.595,
              6.444,
              6.436,
              6.3210000000000015,
              6.3,
              6.292999999999998,
              6.252999999999999,
              6.192,
              6.125,
              6.105,
              6.086,
              6.028,
              5.89,
              5.86,
              5.779,
              5.7429999999999986,
              5.697,
              5.425,
              4.707,
              3.597
             ]
            },
            {
             "marker": {
              "color": "rgba(223, 194, 125, 1.0)",
              "line": {
               "width": 1.3
              },
              "opacity": 0.8,
              "size": [
               87,
               100,
               95,
               112,
               92,
               100,
               74,
               82,
               72,
               60,
               71,
               62,
               52,
               77,
               67,
               74,
               67,
               49,
               31
              ],
              "symbol": "circle"
             },
             "mode": "markers",
             "name": "Middle East and North Africa",
             "textfont": {
              "color": "#666666"
             },
             "type": "scatter",
             "uid": "e07c2e5e-949e-48b2-9fde-4f3c2e392de2",
             "x": [
              0.7550119759999999,
              0.951600174,
              0.8144438070000001,
              0.912910469,
              0.897274793,
              0.858028624,
              0.7938797470000001,
              0.605736673,
              0.510025531,
              0.80133152,
              0.622980773,
              0.766677797,
              0.63127174,
              0.7024195990000001,
              0.580691695,
              0.646941096,
              0.643334826,
              0.449740198,
              0.560293635
             ],
             "y": [
              7.1389999999999985,
              6.825,
              6.375,
              6.374,
              6.199,
              6.021,
              5.525,
              5.372999999999998,
              5.211,
              5.207999999999998,
              5.197,
              4.9060000000000015,
              4.6960000000000015,
              4.548,
              4.461,
              4.437,
              4.166,
              3.462,
              3.38
             ]
            },
            {
             "marker": {
              "color": "rgba(246, 232, 195, 1.0)",
              "line": {
               "width": 1.3
              },
              "opacity": 0.8,
              "size": [
               87,
               86,
               83,
               85,
               86,
               65,
               81,
               82,
               85,
               83,
               72,
               74,
               80,
               69,
               71,
               77,
               69
              ],
              "symbol": "circle"
             },
             "mode": "markers",
             "name": "Central and Eastern Europe",
             "textfont": {
              "color": "#666666"
             },
             "type": "scatter",
             "uid": "209bb830-7eb3-4ead-8426-a1cb6f2e39c2",
             "x": [
              0.824082057,
              0.723985752,
              0.844406962,
              0.6874972579999999,
              0.922153215,
              0.858270784,
              0.8351556259999999,
              0.664342344,
              0.863379439,
              0.60202135,
              0.679702997,
              0.606990417,
              0.6928828159999999,
              0.61869961,
              0.734362284,
              0.704549492,
              0.767880758
             ],
             "y": [
              6.852,
              6.198,
              6.182,
              6.149,
              6.1179999999999986,
              6.1,
              6.07,
              5.94,
              5.893,
              5.757999999999999,
              5.603,
              5.523,
              5.432,
              5.386,
              5.274,
              5.011,
              4.7189999999999985
             ]
            },
            {
             "marker": {
              "color": "rgba(199, 234, 229, 1.0)",
              "line": {
               "width": 1.3
              },
              "opacity": 0.8,
              "size": [
               93,
               89,
               90,
               97,
               69,
               73
              ],
              "symbol": "circle"
             },
             "mode": "markers",
             "name": "East Asia",
             "textfont": {
              "color": "#666666"
             },
             "type": "scatter",
             "uid": "0aa81294-5660-464e-a91b-c64b4c0b47ab",
             "x": [
              0.7398709059999999,
              0.5764104720000001,
              0.8196444509999999,
              0.8152003290000001,
              0.7099717259999999,
              0.886497647
             ],
             "y": [
              6.4460000000000015,
              5.895,
              5.886,
              5.43,
              5.285,
              5.191
             ]
            },
            {
             "marker": {
              "color": "rgba(128, 205, 193, 1.0)",
              "line": {
               "width": 1.3
              },
              "opacity": 0.8,
              "size": [
               104,
               74,
               61,
               84,
               68,
               57,
               56,
               47,
               55
              ],
              "symbol": "circle"
             },
             "mode": "markers",
             "name": "Southeast Asia",
             "textfont": {
              "color": "#666666"
             },
             "type": "scatter",
             "uid": "fed6c1f1-b7ad-45ff-aebc-728ff8324db9",
             "x": [
              0.9153139,
              0.91729025,
              0.917035679,
              0.874548256,
              0.858114103,
              0.901805461,
              0.898830861,
              0.959966997,
              0.8898712790000001
             ],
             "y": [
              6.2620000000000005,
              6.007999999999999,
              5.631,
              5.339,
              5.192,
              5.175,
              4.796,
              4.7,
              4.36
             ]
            },
            {
             "marker": {
              "color": "rgba(53, 151, 143, 1.0)",
              "line": {
               "width": 1.3
              },
              "opacity": 0.8,
              "size": [
               57,
               81,
               82,
               54,
               43,
               75,
               46,
               75,
               74,
               63,
               65,
               61
              ],
              "symbol": "circle"
             },
             "mode": "markers",
             "name": "Commonwealth of Independent States",
             "textfont": {
              "color": "#666666"
             },
             "type": "scatter",
             "uid": "99e7db02-d4b6-45cc-9aa5-6944fba6ed1d",
             "x": [
              0.979626258,
              0.78941083,
              0.724587579,
              0.64467301,
              0.7675146759999999,
              0.6409368120000001,
              0.872758885,
              0.775559227,
              0.738684297,
              0.677442551,
              0.734173755,
              0.588157495
             ],
             "y": [
              6.174,
              5.809,
              5.648,
              5.529,
              5.4670000000000005,
              5.323,
              5.261,
              5.247000000000001,
              5.207999999999998,
              4.559,
              4.519,
              4.332
             ]
            },
            {
             "marker": {
              "color": "rgba(1, 102, 94, 1.0)",
              "line": {
               "width": 1.3
              },
              "opacity": 0.8,
              "size": [
               78,
               54,
               46,
               50,
               47,
               37,
               53,
               75,
               69,
               40,
               12,
               65,
               23,
               34,
               36,
               32,
               44,
               47,
               26,
               20,
               37,
               30,
               35,
               34,
               60,
               34,
               48,
               30,
               19,
               30,
               30,
               43,
               17,
               36,
               74,
               26,
               35,
               42,
               16,
               32
              ],
              "symbol": "circle"
             },
             "mode": "markers",
             "name": "Sub-Saharan Africa",
             "textfont": {
              "color": "#666666"
             },
             "type": "scatter",
             "uid": "2dbb818f-59cd-49f5-87d1-0ca9eb13d04a",
             "x": [
              0.866137088,
              0.8044923740000001,
              0.765252332,
              0.767107368,
              0.7378257709999999,
              0.739955842,
              0.754130025,
              0.690145771,
              0.771431883,
              0.68663005,
              0.917322814,
              0.8045538659999999,
              0.7253835,
              0.659733236,
              0.731685082,
              0.765527308,
              0.807771882,
              0.486965606,
              0.8441737890000001,
              0.67080313,
              0.7288084229999999,
              0.702766717,
              0.5968087910000001,
              0.733917336,
              0.658565462,
              0.74675554,
              0.808456342,
              0.686315815,
              0.754211823,
              0.531299045,
              0.56382213,
              0.742997527,
              0.6463986039999999,
              0.749490817,
              0.828874668,
              0.818906685,
              0.91436096,
              0.7943741879999999,
              0.634654433,
              0.447965056
             ],
             "y": [
              5.888,
              5.265,
              5.044,
              4.996,
              4.944,
              4.883,
              4.812,
              4.799,
              4.722,
              4.681,
              4.668,
              4.6389999999999985,
              4.628,
              4.587,
              4.534,
              4.516,
              4.509,
              4.49,
              4.466,
              4.418,
              4.39,
              4.374,
              4.35,
              4.2860000000000005,
              4.212,
              4.189,
              4.107,
              4.085,
              3.975,
              3.973,
              3.933,
              3.802,
              3.775,
              3.663,
              3.488,
              3.41,
              3.334,
              3.2310000000000003,
              3.083,
              2.853
             ]
            },
            {
             "marker": {
              "color": "rgba(0, 60, 48, 1.0)",
              "line": {
               "width": 1.3
              },
              "opacity": 0.8,
              "size": [
               53,
               61,
               40,
               47,
               69,
               58,
               35
              ],
              "symbol": "circle"
             },
             "mode": "markers",
             "name": "South Asia",
             "textfont": {
              "color": "#666666"
             },
             "type": "scatter",
             "uid": "db7ede3e-f47c-492d-8fa8-1596a934b2e6",
             "x": [
              0.706469675,
              0.829035137,
              0.818243245,
              0.890796165,
              0.83985278,
              0.865454197,
              0.441037536
             ],
             "y": [
              5.653,
              5.082,
              4.913,
              4.456,
              4.3660000000000005,
              4.015,
              3.2030000000000003
             ]
            }
           ],
           "layout": {
            "legend": {
             "bgcolor": "#FFFFFF",
             "font": {
              "color": "#666666"
             }
            },
            "paper_bgcolor": "#FFFFFF",
            "plot_bgcolor": "#E5E5E5",
            "title": {
             "font": {
              "color": "#151516"
             },
             "text": "Happiness Score vs Freedom To Make Life Choices"
            },
            "xaxis": {
             "gridcolor": "#F6F6F6",
             "showgrid": true,
             "tickfont": {
              "color": "#666666"
             },
             "title": {
              "font": {
               "color": "#666666"
              },
              "text": "Freedom To Make Life Choices"
             },
             "zerolinecolor": "#F6F6F6"
            },
            "yaxis": {
             "gridcolor": "#F6F6F6",
             "showgrid": true,
             "tickfont": {
              "color": "#666666"
             },
             "title": {
              "font": {
               "color": "#666666"
              },
              "text": "Happiness Score"
             },
             "zerolinecolor": "#F6F6F6"
            }
           }
          },
          "text/html": "<div>\n        \n        \n            <div id=\"a0e7da3d-041c-4d95-91c3-e1e0eac86cea\" class=\"plotly-graph-div\"></div>\n            <script type=\"text/javascript\">\n                require([\"plotly\"], function(Plotly) {\n                    window.PLOTLYENV=window.PLOTLYENV || {};\n                    window.PLOTLYENV.BASE_URL='https://plot.ly';\n                    \n                if (document.getElementById(\"a0e7da3d-041c-4d95-91c3-e1e0eac86cea\")) {\n                    Plotly.newPlot(\n                        'a0e7da3d-041c-4d95-91c3-e1e0eac86cea',\n                        [{\"marker\": {\"color\": \"rgba(84, 48, 5, 1.0)\", \"line\": {\"width\": 1.3}, \"opacity\": 0.8, \"size\": [91, 93, 99, 93, 94, 97, 94, 93, 106, 91, 100, 93, 92, 89, 90, 88, 88, 87, 85, 84, 82], \"symbol\": \"circle\"}, \"mode\": \"markers\", \"name\": \"Western Europe\", \"textfont\": {\"color\": \"#666666\"}, \"type\": \"scatter\", \"uid\": \"5486635c-45b6-45ec-b4f1-dfb8173ac68a\", \"x\": [0.949459513, 0.946361562, 0.955932717, 0.943625987, 0.91587164, 0.928452849, 0.931447724, 0.894218842, 0.889705638, 0.823811273, 0.880467295, 0.862710138, 0.8436492090000001, 0.922335744, 0.81234928, 0.748661737, 0.635531386, 0.7873688940000001, 0.79288425, 0.873513063, 0.494790852], \"y\": [7.769, 7.6, 7.5539999999999985, 7.494, 7.487999999999999, 7.48, 7.343, 7.246, 7.09, 7.0539999999999985, 7.021, 6.985, 6.922999999999999, 6.726, 6.5920000000000005, 6.354, 6.223, 6.046, 5.718, 5.693, 5.287000000000001]}, {\"marker\": {\"color\": \"rgba(140, 81, 10, 1.0)\", \"line\": {\"width\": 1.3}, \"opacity\": 0.8, \"size\": [89, 92, 93, 96], \"symbol\": \"circle\"}, \"mode\": \"markers\", \"name\": \"North America and ANZ\", \"textfont\": {\"color\": \"#666666\"}, \"type\": \"scatter\", \"uid\": \"6d8ca2b3-07bc-4e57-bf1e-5fef1288927d\", \"x\": [0.939385215, 0.934450607, 0.916298012, 0.816998819], \"y\": [7.307, 7.278, 7.228, 6.892]}, {\"marker\": {\"color\": \"rgba(191, 129, 45, 1.0)\", \"line\": {\"width\": 1.3}, \"opacity\": 0.8, \"size\": [74, 76, 81, 60, 80, 72, 79, 60, 85, 71, 54, 77, 67, 62, 51, 59, 63, 69, 73, 69, 33], \"symbol\": \"circle\"}, \"mode\": \"markers\", \"name\": \"Latin America and Caribbean\", \"textfont\": {\"color\": \"#666666\"}, \"type\": \"scatter\", \"uid\": \"8f2b7685-c6e7-495e-947d-e58321aefa16\", \"x\": [0.916826248, 0.80973957, 0.743645529, 0.8955784840000001, 0.881833792, 0.773991048, 0.886811495, 0.806960543, 0.8522066009999999, 0.841095507, 0.8119179609999999, 0.8418543540000001, 0.864942729, 0.8408122459999999, 0.8735286, 0.876300176, 0.8649941879999999, 0.828679343, 0.864904344, 0.567987273, 0.459812651], \"y\": [7.167000000000002, 6.595, 6.444, 6.436, 6.3210000000000015, 6.3, 6.292999999999998, 6.252999999999999, 6.192, 6.125, 6.105, 6.086, 6.028, 5.89, 5.86, 5.779, 5.7429999999999986, 5.697, 5.425, 4.707, 3.597]}, {\"marker\": {\"color\": \"rgba(223, 194, 125, 1.0)\", \"line\": {\"width\": 1.3}, \"opacity\": 0.8, \"size\": [87, 100, 95, 112, 92, 100, 74, 82, 72, 60, 71, 62, 52, 77, 67, 74, 67, 49, 31], \"symbol\": \"circle\"}, \"mode\": \"markers\", \"name\": \"Middle East and North Africa\", \"textfont\": {\"color\": \"#666666\"}, \"type\": \"scatter\", \"uid\": \"c6d55f0f-4610-435e-9c9a-cbc033e974ea\", \"x\": [0.7550119759999999, 0.951600174, 0.8144438070000001, 0.912910469, 0.897274793, 0.858028624, 0.7938797470000001, 0.605736673, 0.510025531, 0.80133152, 0.622980773, 0.766677797, 0.63127174, 0.7024195990000001, 0.580691695, 0.646941096, 0.643334826, 0.449740198, 0.560293635], \"y\": [7.1389999999999985, 6.825, 6.375, 6.374, 6.199, 6.021, 5.525, 5.372999999999998, 5.211, 5.207999999999998, 5.197, 4.9060000000000015, 4.6960000000000015, 4.548, 4.461, 4.437, 4.166, 3.462, 3.38]}, {\"marker\": {\"color\": \"rgba(246, 232, 195, 1.0)\", \"line\": {\"width\": 1.3}, \"opacity\": 0.8, \"size\": [87, 86, 83, 85, 86, 65, 81, 82, 85, 83, 72, 74, 80, 69, 71, 77, 69], \"symbol\": \"circle\"}, \"mode\": \"markers\", \"name\": \"Central and Eastern Europe\", \"textfont\": {\"color\": \"#666666\"}, \"type\": \"scatter\", \"uid\": \"93ea5f05-3002-4c3b-892e-7d44963a9bbf\", \"x\": [0.824082057, 0.723985752, 0.844406962, 0.6874972579999999, 0.922153215, 0.858270784, 0.8351556259999999, 0.664342344, 0.863379439, 0.60202135, 0.679702997, 0.606990417, 0.6928828159999999, 0.61869961, 0.734362284, 0.704549492, 0.767880758], \"y\": [6.852, 6.198, 6.182, 6.149, 6.1179999999999986, 6.1, 6.07, 5.94, 5.893, 5.757999999999999, 5.603, 5.523, 5.432, 5.386, 5.274, 5.011, 4.7189999999999985]}, {\"marker\": {\"color\": \"rgba(199, 234, 229, 1.0)\", \"line\": {\"width\": 1.3}, \"opacity\": 0.8, \"size\": [93, 89, 90, 97, 69, 73], \"symbol\": \"circle\"}, \"mode\": \"markers\", \"name\": \"East Asia\", \"textfont\": {\"color\": \"#666666\"}, \"type\": \"scatter\", \"uid\": \"6061626b-354f-4ad5-b530-d017ee5df1ec\", \"x\": [0.7398709059999999, 0.5764104720000001, 0.8196444509999999, 0.8152003290000001, 0.7099717259999999, 0.886497647], \"y\": [6.4460000000000015, 5.895, 5.886, 5.43, 5.285, 5.191]}, {\"marker\": {\"color\": \"rgba(128, 205, 193, 1.0)\", \"line\": {\"width\": 1.3}, \"opacity\": 0.8, \"size\": [104, 74, 61, 84, 68, 57, 56, 47, 55], \"symbol\": \"circle\"}, \"mode\": \"markers\", \"name\": \"Southeast Asia\", \"textfont\": {\"color\": \"#666666\"}, \"type\": \"scatter\", \"uid\": \"6a5f6109-8947-462a-b63d-f8285110a2bc\", \"x\": [0.9153139, 0.91729025, 0.917035679, 0.874548256, 0.858114103, 0.901805461, 0.898830861, 0.959966997, 0.8898712790000001], \"y\": [6.2620000000000005, 6.007999999999999, 5.631, 5.339, 5.192, 5.175, 4.796, 4.7, 4.36]}, {\"marker\": {\"color\": \"rgba(53, 151, 143, 1.0)\", \"line\": {\"width\": 1.3}, \"opacity\": 0.8, \"size\": [57, 81, 82, 54, 43, 75, 46, 75, 74, 63, 65, 61], \"symbol\": \"circle\"}, \"mode\": \"markers\", \"name\": \"Commonwealth of Independent States\", \"textfont\": {\"color\": \"#666666\"}, \"type\": \"scatter\", \"uid\": \"2d315619-4544-488e-956d-3a35728a984e\", \"x\": [0.979626258, 0.78941083, 0.724587579, 0.64467301, 0.7675146759999999, 0.6409368120000001, 0.872758885, 0.775559227, 0.738684297, 0.677442551, 0.734173755, 0.588157495], \"y\": [6.174, 5.809, 5.648, 5.529, 5.4670000000000005, 5.323, 5.261, 5.247000000000001, 5.207999999999998, 4.559, 4.519, 4.332]}, {\"marker\": {\"color\": \"rgba(1, 102, 94, 1.0)\", \"line\": {\"width\": 1.3}, \"opacity\": 0.8, \"size\": [78, 54, 46, 50, 47, 37, 53, 75, 69, 40, 12, 65, 23, 34, 36, 32, 44, 47, 26, 20, 37, 30, 35, 34, 60, 34, 48, 30, 19, 30, 30, 43, 17, 36, 74, 26, 35, 42, 16, 32], \"symbol\": \"circle\"}, \"mode\": \"markers\", \"name\": \"Sub-Saharan Africa\", \"textfont\": {\"color\": \"#666666\"}, \"type\": \"scatter\", \"uid\": \"88faa388-136f-4121-9cda-784687d2259e\", \"x\": [0.866137088, 0.8044923740000001, 0.765252332, 0.767107368, 0.7378257709999999, 0.739955842, 0.754130025, 0.690145771, 0.771431883, 0.68663005, 0.917322814, 0.8045538659999999, 0.7253835, 0.659733236, 0.731685082, 0.765527308, 0.807771882, 0.486965606, 0.8441737890000001, 0.67080313, 0.7288084229999999, 0.702766717, 0.5968087910000001, 0.733917336, 0.658565462, 0.74675554, 0.808456342, 0.686315815, 0.754211823, 0.531299045, 0.56382213, 0.742997527, 0.6463986039999999, 0.749490817, 0.828874668, 0.818906685, 0.91436096, 0.7943741879999999, 0.634654433, 0.447965056], \"y\": [5.888, 5.265, 5.044, 4.996, 4.944, 4.883, 4.812, 4.799, 4.722, 4.681, 4.668, 4.6389999999999985, 4.628, 4.587, 4.534, 4.516, 4.509, 4.49, 4.466, 4.418, 4.39, 4.374, 4.35, 4.2860000000000005, 4.212, 4.189, 4.107, 4.085, 3.975, 3.973, 3.933, 3.802, 3.775, 3.663, 3.488, 3.41, 3.334, 3.2310000000000003, 3.083, 2.853]}, {\"marker\": {\"color\": \"rgba(0, 60, 48, 1.0)\", \"line\": {\"width\": 1.3}, \"opacity\": 0.8, \"size\": [53, 61, 40, 47, 69, 58, 35], \"symbol\": \"circle\"}, \"mode\": \"markers\", \"name\": \"South Asia\", \"textfont\": {\"color\": \"#666666\"}, \"type\": \"scatter\", \"uid\": \"575f6045-3d2c-4049-aef8-4ac36da51c5b\", \"x\": [0.706469675, 0.829035137, 0.818243245, 0.890796165, 0.83985278, 0.865454197, 0.441037536], \"y\": [5.653, 5.082, 4.913, 4.456, 4.3660000000000005, 4.015, 3.2030000000000003]}],\n                        {\"legend\": {\"bgcolor\": \"#FFFFFF\", \"font\": {\"color\": \"#666666\"}}, \"paper_bgcolor\": \"#FFFFFF\", \"plot_bgcolor\": \"#E5E5E5\", \"title\": {\"font\": {\"color\": \"#151516\"}, \"text\": \"Happiness Score vs Freedom To Make Life Choices\"}, \"xaxis\": {\"gridcolor\": \"#F6F6F6\", \"showgrid\": true, \"tickfont\": {\"color\": \"#666666\"}, \"title\": {\"font\": {\"color\": \"#666666\"}, \"text\": \"Freedom To Make Life Choices\"}, \"zerolinecolor\": \"#F6F6F6\"}, \"yaxis\": {\"gridcolor\": \"#F6F6F6\", \"showgrid\": true, \"tickfont\": {\"color\": \"#666666\"}, \"title\": {\"font\": {\"color\": \"#666666\"}, \"text\": \"Happiness Score\"}, \"zerolinecolor\": \"#F6F6F6\"}},\n                        {\"showLink\": true, \"linkText\": \"Export to plot.ly\", \"plotlyServerURL\": \"https://plot.ly\", \"responsive\": true}\n                    )\n                };\n                });\n            </script>\n        </div>"
         },
         "metadata": {},
         "output_type": "display_data"
        }
       ]
      }
     },
     "a79116cde430480cbdd8bb6fff721f00": {
      "model_module": "@jupyter-widgets/controls",
      "model_module_version": "1.4.0",
      "model_name": "DescriptionStyleModel",
      "state": {
       "description_width": ""
      }
     },
     "a94ddb5921e84a928e2eaf0a98cb6e67": {
      "model_module": "@jupyter-widgets/controls",
      "model_module_version": "1.4.0",
      "model_name": "DropdownModel",
      "state": {
       "_options_labels": [
        "ggplot",
        "pearl",
        "solar",
        "space",
        "white",
        "polar",
        "henanigans"
       ],
       "description": "theme",
       "index": 6,
       "layout": "IPY_MODEL_85c0fecfc45345debb80f4a97b30de95",
       "style": "IPY_MODEL_d4ba5412a9534573b3e099428b279588"
      }
     },
     "a9e73e8be4ec4d32a093fde12761fd1f": {
      "model_module": "@jupyter-widgets/controls",
      "model_module_version": "1.4.0",
      "model_name": "VBoxModel",
      "state": {
       "_dom_classes": [
        "widget-interact"
       ],
       "children": [
        "IPY_MODEL_60cb27ee932b4ffdb7720739d74502bc",
        "IPY_MODEL_16b996b293ed4b9aae7884b6061575a5",
        "IPY_MODEL_2fcf1d2a087b4d88b23d2ac479215730"
       ],
       "layout": "IPY_MODEL_806cea92dc3342dfae5999edfea5e4f0"
      }
     },
     "a9f37802159e4ab7850a69de9289dd32": {
      "model_module": "@jupyter-widgets/base",
      "model_module_version": "1.1.0",
      "model_name": "LayoutModel",
      "state": {}
     },
     "ab0894c2a2fb4daea172821e19421eb2": {
      "model_module": "@jupyter-widgets/base",
      "model_module_version": "1.1.0",
      "model_name": "LayoutModel",
      "state": {}
     },
     "ac385ea30add436ab54cc882400672cc": {
      "model_module": "@jupyter-widgets/controls",
      "model_module_version": "1.4.0",
      "model_name": "DropdownModel",
      "state": {
       "_options_labels": [
        "brbg",
        "prgn",
        "piyg",
        "puor",
        "rdbu",
        "rdgy",
        "rdylbu",
        "rdylgn",
        "spectral",
        "paired",
        "set3",
        "dflt",
        "original",
        "plotly",
        "accent",
        "dark2",
        "pastel1",
        "pastel2",
        "set1",
        "set2",
        "blues",
        "bugn",
        "bupu",
        "gnbu",
        "greens",
        "greys",
        "orrd",
        "oranges",
        "pubu",
        "pubugn",
        "purd",
        "purples",
        "rdpu",
        "reds",
        "ylgn",
        "ylgnbu",
        "ylorbr",
        "ylorrd",
        "ggplot",
        "polar"
       ],
       "description": "colorscale",
       "index": 0,
       "layout": "IPY_MODEL_e2ae31dfd8ab4e8b91bd62588f8fa7bb",
       "style": "IPY_MODEL_63d47e857c254d82afc3d47b915dd660"
      }
     },
     "ac67e1cecf3b46b78bb4ca189324a0ab": {
      "model_module": "@jupyter-widgets/controls",
      "model_module_version": "1.4.0",
      "model_name": "DescriptionStyleModel",
      "state": {
       "description_width": ""
      }
     },
     "ac89f0a1d8f945a199759175a3ce3d7e": {
      "model_module": "@jupyter-widgets/controls",
      "model_module_version": "1.4.0",
      "model_name": "DropdownModel",
      "state": {
       "_options_labels": [
        "brbg",
        "prgn",
        "piyg",
        "puor",
        "rdbu",
        "rdgy",
        "rdylbu",
        "rdylgn",
        "spectral",
        "paired",
        "set3",
        "dflt",
        "original",
        "plotly",
        "accent",
        "dark2",
        "pastel1",
        "pastel2",
        "set1",
        "set2",
        "blues",
        "bugn",
        "bupu",
        "gnbu",
        "greens",
        "greys",
        "orrd",
        "oranges",
        "pubu",
        "pubugn",
        "purd",
        "purples",
        "rdpu",
        "reds",
        "ylgn",
        "ylgnbu",
        "ylorbr",
        "ylorrd",
        "ggplot",
        "polar"
       ],
       "description": "colorscale",
       "index": 0,
       "layout": "IPY_MODEL_b07f545a5d0a47e5a9c9fb9cf9b74274",
       "style": "IPY_MODEL_2fd95feb82d14c34a1a1490121fbdc54"
      }
     },
     "ad372d5b40ea4b0e9de32d88d524012d": {
      "model_module": "@jupyter-widgets/base",
      "model_module_version": "1.1.0",
      "model_name": "LayoutModel",
      "state": {}
     },
     "ad90a3254e814beda9ad84954d9c5add": {
      "model_module": "@jupyter-widgets/controls",
      "model_module_version": "1.4.0",
      "model_name": "DropdownModel",
      "state": {
       "_options_labels": [
        "Happiness Score",
        "Life Ladder",
        "Log GDP per capita",
        "Social support",
        "Healthy life expectancy at birth",
        "Freedom to make life choices",
        "Generosity",
        "Perceptions of corruption",
        "Positive affect",
        "Negative affect",
        "Confidence in national government",
        "Democratic Quality",
        "Delivery Quality",
        "GINI of household income reported in Gallup, by wp5-year"
       ],
       "description": "y",
       "index": 0,
       "layout": "IPY_MODEL_52a0ed7fbc46492a8267b2e60948deaf",
       "style": "IPY_MODEL_02044f097f3445059e51bd19401ed56d"
      }
     },
     "ae7c13301e594ab38677f0d6bd27b8d5": {
      "model_module": "@jupyter-widgets/controls",
      "model_module_version": "1.4.0",
      "model_name": "DescriptionStyleModel",
      "state": {
       "description_width": ""
      }
     },
     "aea02566bbd94c4ca52daf232d21092c": {
      "model_module": "@jupyter-widgets/base",
      "model_module_version": "1.1.0",
      "model_name": "LayoutModel",
      "state": {}
     },
     "af0fa673463140c596ed65fdfddfc0fd": {
      "model_module": "@jupyter-widgets/base",
      "model_module_version": "1.1.0",
      "model_name": "LayoutModel",
      "state": {}
     },
     "afcdac8d40684e3aae3250b809e0aeba": {
      "model_module": "@jupyter-widgets/base",
      "model_module_version": "1.1.0",
      "model_name": "LayoutModel",
      "state": {}
     },
     "b0556d66646142fa9a65c747696b6d68": {
      "model_module": "@jupyter-widgets/controls",
      "model_module_version": "1.4.0",
      "model_name": "DescriptionStyleModel",
      "state": {
       "description_width": ""
      }
     },
     "b07f545a5d0a47e5a9c9fb9cf9b74274": {
      "model_module": "@jupyter-widgets/base",
      "model_module_version": "1.1.0",
      "model_name": "LayoutModel",
      "state": {}
     },
     "b0ce0024461e4e6dbf922ca9ee8a7145": {
      "model_module": "@jupyter-widgets/base",
      "model_module_version": "1.1.0",
      "model_name": "LayoutModel",
      "state": {}
     },
     "b11a4be03df9439a92058ac36d041ef6": {
      "model_module": "@jupyter-widgets/controls",
      "model_module_version": "1.4.0",
      "model_name": "DropdownModel",
      "state": {
       "_options_labels": [
        "ggplot",
        "pearl",
        "solar",
        "space",
        "white",
        "polar",
        "henanigans"
       ],
       "description": "theme",
       "index": 0,
       "layout": "IPY_MODEL_e68671881a4746cba49aa8ab5b6bbef1",
       "style": "IPY_MODEL_30c93eb62f754b60a1ec8806338e796d"
      }
     },
     "b1c179f55217456fa3fc0eec65243917": {
      "model_module": "@jupyter-widgets/base",
      "model_module_version": "1.1.0",
      "model_name": "LayoutModel",
      "state": {}
     },
     "b24d015a692d4703a72c1d1459200047": {
      "model_module": "@jupyter-widgets/base",
      "model_module_version": "1.1.0",
      "model_name": "LayoutModel",
      "state": {}
     },
     "b2ca6aa24f4d4ca3b2d580e612759565": {
      "model_module": "@jupyter-widgets/controls",
      "model_module_version": "1.4.0",
      "model_name": "VBoxModel",
      "state": {
       "_dom_classes": [
        "widget-interact"
       ],
       "children": [
        "IPY_MODEL_08a033dd432b4ec29de4f851102fe583",
        "IPY_MODEL_df0dd2a4696a4b2cb7f71605477db596",
        "IPY_MODEL_07ab2f61f2e44c2fbe5cba4d4d23d85f",
        "IPY_MODEL_04d1543dea114fa5a92d3849e190dd63",
        "IPY_MODEL_71edb4b48c4144e7b3e7fde1f51cd5bd"
       ],
       "layout": "IPY_MODEL_b919dc5c9e494a31881164f0cf1d275e"
      }
     },
     "b31348de994844d5bade5991fe7cb586": {
      "model_module": "@jupyter-widgets/base",
      "model_module_version": "1.1.0",
      "model_name": "LayoutModel",
      "state": {}
     },
     "b3f3110a4af4414cb8af3a55d58280b5": {
      "model_module": "@jupyter-widgets/controls",
      "model_module_version": "1.4.0",
      "model_name": "DropdownModel",
      "state": {
       "_options_labels": [
        "brbg",
        "prgn",
        "piyg",
        "puor",
        "rdbu",
        "rdgy",
        "rdylbu",
        "rdylgn",
        "spectral",
        "paired",
        "set3",
        "dflt",
        "original",
        "plotly",
        "accent",
        "dark2",
        "pastel1",
        "pastel2",
        "set1",
        "set2",
        "blues",
        "bugn",
        "bupu",
        "gnbu",
        "greens",
        "greys",
        "orrd",
        "oranges",
        "pubu",
        "pubugn",
        "purd",
        "purples",
        "rdpu",
        "reds",
        "ylgn",
        "ylgnbu",
        "ylorbr",
        "ylorrd",
        "ggplot",
        "polar"
       ],
       "description": "colorscale",
       "index": 0,
       "layout": "IPY_MODEL_b554be4748f74e40941e98eb52e83831",
       "style": "IPY_MODEL_3fd2d473cb124b4e8c3e416c6190d9e5"
      }
     },
     "b40c752f9cb841a48e171bd2fa0cceaf": {
      "model_module": "@jupyter-widgets/controls",
      "model_module_version": "1.4.0",
      "model_name": "DropdownModel",
      "state": {
       "_options_labels": [
        "Happiness Score",
        "Life Ladder",
        "Log GDP per capita",
        "Social support",
        "Healthy life expectancy at birth",
        "Freedom to make life choices",
        "Generosity",
        "Perceptions of corruption",
        "Positive affect",
        "Negative affect",
        "Confidence in national government",
        "Democratic Quality",
        "Delivery Quality",
        "GINI of household income reported in Gallup, by wp5-year"
       ],
       "description": "x",
       "index": 0,
       "layout": "IPY_MODEL_75d2316eb146425d9e5d9f12899b0d06",
       "style": "IPY_MODEL_54e485652a1b4e85a79284dbf0f6b3a5"
      }
     },
     "b42869fe3024432d808eb85aba0b89d0": {
      "model_module": "@jupyter-widgets/controls",
      "model_module_version": "1.4.0",
      "model_name": "DescriptionStyleModel",
      "state": {
       "description_width": ""
      }
     },
     "b430498651dc4d7285388816ae1bcc2c": {
      "model_module": "@jupyter-widgets/controls",
      "model_module_version": "1.4.0",
      "model_name": "DescriptionStyleModel",
      "state": {
       "description_width": ""
      }
     },
     "b48b8632eab4435caa75806e421d0f3a": {
      "model_module": "@jupyter-widgets/controls",
      "model_module_version": "1.4.0",
      "model_name": "DropdownModel",
      "state": {
       "_options_labels": [
        "ggplot",
        "pearl",
        "solar",
        "space",
        "white",
        "polar",
        "henanigans"
       ],
       "description": "theme",
       "index": 0,
       "layout": "IPY_MODEL_5c378cb3ad6b4e7faa043cbae456f3c3",
       "style": "IPY_MODEL_ac67e1cecf3b46b78bb4ca189324a0ab"
      }
     },
     "b4a9e714867f4c028209c009cc521ebc": {
      "model_module": "@jupyter-widgets/base",
      "model_module_version": "1.1.0",
      "model_name": "LayoutModel",
      "state": {}
     },
     "b501ca41880246b990f87325ff40ebfe": {
      "model_module": "@jupyter-widgets/controls",
      "model_module_version": "1.4.0",
      "model_name": "DescriptionStyleModel",
      "state": {
       "description_width": ""
      }
     },
     "b506e5eb4c3d4aa4bc5a88309e6e0b62": {
      "model_module": "@jupyter-widgets/controls",
      "model_module_version": "1.4.0",
      "model_name": "DescriptionStyleModel",
      "state": {
       "description_width": ""
      }
     },
     "b552a6727ec24c9b8e083354bb85dd15": {
      "model_module": "@jupyter-widgets/controls",
      "model_module_version": "1.4.0",
      "model_name": "DescriptionStyleModel",
      "state": {
       "description_width": ""
      }
     },
     "b554be4748f74e40941e98eb52e83831": {
      "model_module": "@jupyter-widgets/base",
      "model_module_version": "1.1.0",
      "model_name": "LayoutModel",
      "state": {}
     },
     "b60831bbac024aa29021dad482ae71d9": {
      "model_module": "@jupyter-widgets/base",
      "model_module_version": "1.1.0",
      "model_name": "LayoutModel",
      "state": {}
     },
     "b80ab6676e89428088161c34ddeecbc4": {
      "model_module": "@jupyter-widgets/controls",
      "model_module_version": "1.4.0",
      "model_name": "VBoxModel",
      "state": {
       "_dom_classes": [
        "widget-interact"
       ],
       "children": [
        "IPY_MODEL_fbc0559a74c54351aa5c21bc1a611f7a",
        "IPY_MODEL_bdf4dcb0d6ef44258596cb27737fc9ae",
        "IPY_MODEL_6e3cf8d3805b406da80347a22fa5a069",
        "IPY_MODEL_c98ea197b86948c1a3a198312acde03d",
        "IPY_MODEL_2c1f998ed1584ac7b6770194d1e778da"
       ],
       "layout": "IPY_MODEL_8ca5b515242841b3adbf9668dbb6d083"
      }
     },
     "b86f527a89d446dd96be40b77d7f4c69": {
      "model_module": "@jupyter-widgets/base",
      "model_module_version": "1.1.0",
      "model_name": "LayoutModel",
      "state": {}
     },
     "b89a0cc903ac43429a3dae9d41ade221": {
      "model_module": "@jupyter-widgets/controls",
      "model_module_version": "1.4.0",
      "model_name": "DropdownModel",
      "state": {
       "_options_labels": [
        "Happiness Score",
        "Life Ladder",
        "Log GDP per capita",
        "Social support",
        "Healthy life expectancy at birth",
        "Freedom to make life choices",
        "Generosity",
        "Perceptions of corruption",
        "Positive affect",
        "Negative affect",
        "Confidence in national government",
        "Democratic Quality",
        "Delivery Quality",
        "GINI of household income reported in Gallup, by wp5-year"
       ],
       "description": "x",
       "index": 0,
       "layout": "IPY_MODEL_c302337085e74b07a6a88a8888f472fa",
       "style": "IPY_MODEL_06853d43ff6c40cb84597c784bc7cce1"
      }
     },
     "b89d25b32c5b4a4486bd203e4ffb7da6": {
      "model_module": "@jupyter-widgets/controls",
      "model_module_version": "1.4.0",
      "model_name": "DescriptionStyleModel",
      "state": {
       "description_width": ""
      }
     },
     "b919dc5c9e494a31881164f0cf1d275e": {
      "model_module": "@jupyter-widgets/base",
      "model_module_version": "1.1.0",
      "model_name": "LayoutModel",
      "state": {}
     },
     "ba3d558fc3ee4ad0beaf3827a17a9fb9": {
      "model_module": "@jupyter-widgets/controls",
      "model_module_version": "1.4.0",
      "model_name": "VBoxModel",
      "state": {
       "_dom_classes": [
        "widget-interact"
       ],
       "children": [
        "IPY_MODEL_5e03c14555ef47bbbb5836ec052847a3",
        "IPY_MODEL_402a6a5de20d42c49a5d4bc8e81caaad",
        "IPY_MODEL_2d2c5f71e52a470c924736288e69ebb6",
        "IPY_MODEL_48e8b5a6d69a47c198dae4dcd42767c1",
        "IPY_MODEL_849f08880f3a4afb99c677f7c3e4dabe"
       ],
       "layout": "IPY_MODEL_412fcdbf9fbf4eebaaaa0079bd495764"
      }
     },
     "ba791b2d40d94965a70b4dd0f35be962": {
      "model_module": "@jupyter-widgets/controls",
      "model_module_version": "1.4.0",
      "model_name": "DescriptionStyleModel",
      "state": {
       "description_width": ""
      }
     },
     "bac8df8eab374d3b8ff35d537f1308ba": {
      "model_module": "@jupyter-widgets/controls",
      "model_module_version": "1.4.0",
      "model_name": "VBoxModel",
      "state": {
       "_dom_classes": [
        "widget-interact"
       ],
       "children": [
        "IPY_MODEL_6a04a4f019bf4156998ecee614581050",
        "IPY_MODEL_f93b770dbef146af9a492791f966dc6f",
        "IPY_MODEL_37cec46282044d779da4fb3616b1d5f4"
       ],
       "layout": "IPY_MODEL_3ed6e6d97cee474bb8191c4db6e168ec"
      }
     },
     "baf83704cef84d8ab84f7ad6eb1dc910": {
      "model_module": "@jupyter-widgets/base",
      "model_module_version": "1.1.0",
      "model_name": "LayoutModel",
      "state": {}
     },
     "bc9cb32ea6724475aa89d4c3d627a78b": {
      "model_module": "@jupyter-widgets/controls",
      "model_module_version": "1.4.0",
      "model_name": "DescriptionStyleModel",
      "state": {
       "description_width": ""
      }
     },
     "bd6f20a63049444080d795a42da53338": {
      "model_module": "@jupyter-widgets/base",
      "model_module_version": "1.1.0",
      "model_name": "LayoutModel",
      "state": {}
     },
     "bd8211d10c194bbab235182b1f6a32b7": {
      "model_module": "@jupyter-widgets/controls",
      "model_module_version": "1.4.0",
      "model_name": "DescriptionStyleModel",
      "state": {
       "description_width": ""
      }
     },
     "bdf4dcb0d6ef44258596cb27737fc9ae": {
      "model_module": "@jupyter-widgets/controls",
      "model_module_version": "1.4.0",
      "model_name": "DropdownModel",
      "state": {
       "_options_labels": [
        "Life Ladder",
        "Log GDP per capita",
        "Social support",
        "Healthy life expectancy at birth",
        "Freedom to make life choices",
        "Generosity",
        "Perceptions of corruption",
        "Positive affect",
        "Negative affect",
        "Confidence in national government",
        "Democratic Quality",
        "Delivery Quality",
        "GINI of household income reported in Gallup, by wp5-year"
       ],
       "description": "x",
       "index": 0,
       "layout": "IPY_MODEL_1b824e93abc246e9a5a2af1781790e47",
       "style": "IPY_MODEL_89e91aa95ef04ff5801838f83a60215a"
      }
     },
     "beba2d5fb9494f40a656901b69acb6ed": {
      "model_module": "@jupyter-widgets/controls",
      "model_module_version": "1.4.0",
      "model_name": "DescriptionStyleModel",
      "state": {
       "description_width": ""
      }
     },
     "bec5c849ad8f4cb28cdc062299ce80f4": {
      "model_module": "@jupyter-widgets/controls",
      "model_module_version": "1.4.0",
      "model_name": "DropdownModel",
      "state": {
       "_options_labels": [
        "Life Ladder",
        "Log GDP per capita",
        "Social support",
        "Healthy life expectancy at birth",
        "Freedom to make life choices",
        "Generosity",
        "Perceptions of corruption",
        "Positive affect",
        "Negative affect",
        "Confidence in national government",
        "Democratic Quality",
        "Delivery Quality",
        "GINI of household income reported in Gallup, by wp5-year"
       ],
       "description": "x",
       "index": 0,
       "layout": "IPY_MODEL_7b40be63e7a5467090d179a6d938f95b",
       "style": "IPY_MODEL_0964329ea05a442ebe4cd504a547a5e3"
      }
     },
     "bfa61cbddbd2465db58b12a4fe883eac": {
      "model_module": "@jupyter-widgets/controls",
      "model_module_version": "1.4.0",
      "model_name": "DescriptionStyleModel",
      "state": {
       "description_width": ""
      }
     },
     "c04a8fc774de4cbcaea385074b2a93e9": {
      "model_module": "@jupyter-widgets/controls",
      "model_module_version": "1.4.0",
      "model_name": "DropdownModel",
      "state": {
       "_options_labels": [
        "brbg",
        "prgn",
        "piyg",
        "puor",
        "rdbu",
        "rdgy",
        "rdylbu",
        "rdylgn",
        "spectral",
        "paired",
        "set3",
        "dflt",
        "original",
        "plotly",
        "accent",
        "dark2",
        "pastel1",
        "pastel2",
        "set1",
        "set2",
        "blues",
        "bugn",
        "bupu",
        "gnbu",
        "greens",
        "greys",
        "orrd",
        "oranges",
        "pubu",
        "pubugn",
        "purd",
        "purples",
        "rdpu",
        "reds",
        "ylgn",
        "ylgnbu",
        "ylorbr",
        "ylorrd",
        "ggplot",
        "polar"
       ],
       "description": "colorscale",
       "index": 0,
       "layout": "IPY_MODEL_a227c657613642f89992355124b43197",
       "style": "IPY_MODEL_4b04781f02a3495c9192c6cf0a01e22d"
      }
     },
     "c0fb499d0ff74952ab736d7abfc6f724": {
      "model_module": "@jupyter-widgets/controls",
      "model_module_version": "1.4.0",
      "model_name": "DescriptionStyleModel",
      "state": {
       "description_width": ""
      }
     },
     "c1f156412a994410ad2b6cc372ad39b9": {
      "model_module": "@jupyter-widgets/base",
      "model_module_version": "1.1.0",
      "model_name": "LayoutModel",
      "state": {}
     },
     "c302337085e74b07a6a88a8888f472fa": {
      "model_module": "@jupyter-widgets/base",
      "model_module_version": "1.1.0",
      "model_name": "LayoutModel",
      "state": {}
     },
     "c3e326d4bbb64b0599142ff150e80441": {
      "model_module": "@jupyter-widgets/output",
      "model_module_version": "1.0.0",
      "model_name": "OutputModel",
      "state": {
       "layout": "IPY_MODEL_3ade502182124c95910661c812ebb32a",
       "outputs": [
        {
         "ename": "TypeError",
         "evalue": "bubbleplot() got an unexpected keyword argument 'theme'",
         "output_type": "error",
         "traceback": [
          "\u001b[1;31m---------------------------------------------------------------------------\u001b[0m",
          "\u001b[1;31mTypeError\u001b[0m                                 Traceback (most recent call last)",
          "\u001b[1;32m~\\AppData\\Local\\Continuum\\anaconda3\\lib\\site-packages\\ipywidgets\\widgets\\interaction.py\u001b[0m in \u001b[0;36mupdate\u001b[1;34m(self, *args)\u001b[0m\n\u001b[0;32m    249\u001b[0m                     \u001b[0mvalue\u001b[0m \u001b[1;33m=\u001b[0m \u001b[0mwidget\u001b[0m\u001b[1;33m.\u001b[0m\u001b[0mget_interact_value\u001b[0m\u001b[1;33m(\u001b[0m\u001b[1;33m)\u001b[0m\u001b[1;33m\u001b[0m\u001b[1;33m\u001b[0m\u001b[0m\n\u001b[0;32m    250\u001b[0m                     \u001b[0mself\u001b[0m\u001b[1;33m.\u001b[0m\u001b[0mkwargs\u001b[0m\u001b[1;33m[\u001b[0m\u001b[0mwidget\u001b[0m\u001b[1;33m.\u001b[0m\u001b[0m_kwarg\u001b[0m\u001b[1;33m]\u001b[0m \u001b[1;33m=\u001b[0m \u001b[0mvalue\u001b[0m\u001b[1;33m\u001b[0m\u001b[1;33m\u001b[0m\u001b[0m\n\u001b[1;32m--> 251\u001b[1;33m                 \u001b[0mself\u001b[0m\u001b[1;33m.\u001b[0m\u001b[0mresult\u001b[0m \u001b[1;33m=\u001b[0m \u001b[0mself\u001b[0m\u001b[1;33m.\u001b[0m\u001b[0mf\u001b[0m\u001b[1;33m(\u001b[0m\u001b[1;33m**\u001b[0m\u001b[0mself\u001b[0m\u001b[1;33m.\u001b[0m\u001b[0mkwargs\u001b[0m\u001b[1;33m)\u001b[0m\u001b[1;33m\u001b[0m\u001b[1;33m\u001b[0m\u001b[0m\n\u001b[0m\u001b[0;32m    252\u001b[0m                 \u001b[0mshow_inline_matplotlib_plots\u001b[0m\u001b[1;33m(\u001b[0m\u001b[1;33m)\u001b[0m\u001b[1;33m\u001b[0m\u001b[1;33m\u001b[0m\u001b[0m\n\u001b[0;32m    253\u001b[0m                 \u001b[1;32mif\u001b[0m \u001b[0mself\u001b[0m\u001b[1;33m.\u001b[0m\u001b[0mauto_display\u001b[0m \u001b[1;32mand\u001b[0m \u001b[0mself\u001b[0m\u001b[1;33m.\u001b[0m\u001b[0mresult\u001b[0m \u001b[1;32mis\u001b[0m \u001b[1;32mnot\u001b[0m \u001b[1;32mNone\u001b[0m\u001b[1;33m:\u001b[0m\u001b[1;33m\u001b[0m\u001b[1;33m\u001b[0m\u001b[0m\n",
          "\u001b[1;32m<ipython-input-26-64e5cc1792e7>\u001b[0m in \u001b[0;36mscatter_plot\u001b[1;34m(x, y, theme, colorscale)\u001b[0m\n\u001b[0;32m      7\u001b[0m     fig = bubbleplot(dataset = df_2019, x_column = x, y_column = y, bubble_column = \"Country\", \n\u001b[0;32m      8\u001b[0m                      \u001b[0mcolor_column\u001b[0m \u001b[1;33m=\u001b[0m \u001b[1;34m\"Region\"\u001b[0m\u001b[1;33m,\u001b[0m \u001b[0mx_title\u001b[0m \u001b[1;33m=\u001b[0m \u001b[0mx\u001b[0m\u001b[1;33m.\u001b[0m\u001b[0mtitle\u001b[0m\u001b[1;33m(\u001b[0m\u001b[1;33m)\u001b[0m\u001b[1;33m,\u001b[0m \u001b[0my_title\u001b[0m \u001b[1;33m=\u001b[0m \u001b[0my\u001b[0m\u001b[1;33m.\u001b[0m\u001b[0mtitle\u001b[0m\u001b[1;33m(\u001b[0m\u001b[1;33m)\u001b[0m\u001b[1;33m,\u001b[0m \u001b[0mtitle\u001b[0m \u001b[1;33m=\u001b[0m \u001b[1;34mf'{y.title()} vs {x.title()}'\u001b[0m\u001b[1;33m,\u001b[0m\u001b[1;33m\u001b[0m\u001b[1;33m\u001b[0m\u001b[0m\n\u001b[1;32m----> 9\u001b[1;33m                     theme = theme)\n\u001b[0m\u001b[0;32m     10\u001b[0m \u001b[1;33m\u001b[0m\u001b[0m\n\u001b[0;32m     11\u001b[0m     \u001b[0miplot\u001b[0m\u001b[1;33m(\u001b[0m\u001b[0mfig\u001b[0m\u001b[1;33m)\u001b[0m\u001b[1;33m\u001b[0m\u001b[1;33m\u001b[0m\u001b[0m\n",
          "\u001b[1;31mTypeError\u001b[0m: bubbleplot() got an unexpected keyword argument 'theme'"
         ]
        }
       ]
      }
     },
     "c4e91280fc864b06a9cad8e310c3b04d": {
      "model_module": "@jupyter-widgets/base",
      "model_module_version": "1.1.0",
      "model_name": "LayoutModel",
      "state": {}
     },
     "c56f7a318909423a9979e58e7932d5e5": {
      "model_module": "@jupyter-widgets/controls",
      "model_module_version": "1.4.0",
      "model_name": "DescriptionStyleModel",
      "state": {
       "description_width": ""
      }
     },
     "c61635eb81444e7aab991eec8febe48d": {
      "model_module": "@jupyter-widgets/controls",
      "model_module_version": "1.4.0",
      "model_name": "DescriptionStyleModel",
      "state": {
       "description_width": ""
      }
     },
     "c68a0e30a37345a2b1b8a44062ce604c": {
      "model_module": "@jupyter-widgets/base",
      "model_module_version": "1.1.0",
      "model_name": "LayoutModel",
      "state": {}
     },
     "c6f44007048b4b0d8a4e1c7f7c2ce0c2": {
      "model_module": "@jupyter-widgets/controls",
      "model_module_version": "1.4.0",
      "model_name": "DescriptionStyleModel",
      "state": {
       "description_width": ""
      }
     },
     "c8185a25f48949b99059023204915651": {
      "model_module": "@jupyter-widgets/controls",
      "model_module_version": "1.4.0",
      "model_name": "DropdownModel",
      "state": {
       "_options_labels": [
        "ggplot",
        "pearl",
        "solar",
        "space",
        "white",
        "polar",
        "henanigans"
       ],
       "description": "theme",
       "index": 0,
       "layout": "IPY_MODEL_e2de1cb79189431084a2f296ed8c4498",
       "style": "IPY_MODEL_356555a23c0e448782b831cd4634ff7c"
      }
     },
     "c9012138549748b39ee6b6d24a6fcb21": {
      "model_module": "@jupyter-widgets/controls",
      "model_module_version": "1.4.0",
      "model_name": "DropdownModel",
      "state": {
       "_options_labels": [
        "brbg",
        "prgn",
        "piyg",
        "puor",
        "rdbu",
        "rdgy",
        "rdylbu",
        "rdylgn",
        "spectral",
        "paired",
        "set3",
        "dflt",
        "original",
        "plotly",
        "accent",
        "dark2",
        "pastel1",
        "pastel2",
        "set1",
        "set2",
        "blues",
        "bugn",
        "bupu",
        "gnbu",
        "greens",
        "greys",
        "orrd",
        "oranges",
        "pubu",
        "pubugn",
        "purd",
        "purples",
        "rdpu",
        "reds",
        "ylgn",
        "ylgnbu",
        "ylorbr",
        "ylorrd",
        "ggplot",
        "polar"
       ],
       "description": "colorscale",
       "index": 0,
       "layout": "IPY_MODEL_ced1d26b64eb441db5a4d255d445fa81",
       "style": "IPY_MODEL_2e50dc2bd98941d8b41892a5fcfe67fd"
      }
     },
     "c981eed8e4754b73a3de49aa34cb16af": {
      "model_module": "@jupyter-widgets/base",
      "model_module_version": "1.1.0",
      "model_name": "LayoutModel",
      "state": {}
     },
     "c98ea197b86948c1a3a198312acde03d": {
      "model_module": "@jupyter-widgets/controls",
      "model_module_version": "1.4.0",
      "model_name": "DropdownModel",
      "state": {
       "_options_labels": [
        "brbg",
        "prgn",
        "piyg",
        "puor",
        "rdbu",
        "rdgy",
        "rdylbu",
        "rdylgn",
        "spectral",
        "paired",
        "set3",
        "dflt",
        "original",
        "plotly",
        "accent",
        "dark2",
        "pastel1",
        "pastel2",
        "set1",
        "set2",
        "blues",
        "bugn",
        "bupu",
        "gnbu",
        "greens",
        "greys",
        "orrd",
        "oranges",
        "pubu",
        "pubugn",
        "purd",
        "purples",
        "rdpu",
        "reds",
        "ylgn",
        "ylgnbu",
        "ylorbr",
        "ylorrd",
        "ggplot",
        "polar"
       ],
       "description": "colorscale",
       "index": 0,
       "layout": "IPY_MODEL_e6fc64b44335483f947935fd11be357e",
       "style": "IPY_MODEL_8863723448cb4531ba2e264c84b6f860"
      }
     },
     "ca17212dc7b5452ba3692e05c055adf8": {
      "model_module": "@jupyter-widgets/controls",
      "model_module_version": "1.4.0",
      "model_name": "DescriptionStyleModel",
      "state": {
       "description_width": ""
      }
     },
     "cb4f5790759c44bb93d1cc1e22499f30": {
      "model_module": "@jupyter-widgets/base",
      "model_module_version": "1.1.0",
      "model_name": "LayoutModel",
      "state": {}
     },
     "cba4bc26f17c4408a06a1abaacd2577e": {
      "model_module": "@jupyter-widgets/base",
      "model_module_version": "1.1.0",
      "model_name": "LayoutModel",
      "state": {}
     },
     "cc7213bbde444a61a07e21fa16c0dfb9": {
      "model_module": "@jupyter-widgets/controls",
      "model_module_version": "1.4.0",
      "model_name": "DropdownModel",
      "state": {
       "_options_labels": [
        "Happiness Score",
        "Life Ladder",
        "Log GDP per capita",
        "Social support",
        "Healthy life expectancy at birth",
        "Freedom to make life choices",
        "Generosity",
        "Perceptions of corruption",
        "Positive affect",
        "Negative affect",
        "Confidence in national government",
        "Democratic Quality",
        "Delivery Quality",
        "GINI of household income reported in Gallup, by wp5-year"
       ],
       "description": "x",
       "index": 0,
       "layout": "IPY_MODEL_523edf4ecc5b4c77b77bfeb770dcaa6a",
       "style": "IPY_MODEL_cf66ad2f311b4fd091f1bfbd3a61d4a1"
      }
     },
     "cc80fbc847b24461b0b56b7db6ca7ec6": {
      "model_module": "@jupyter-widgets/output",
      "model_module_version": "1.0.0",
      "model_name": "OutputModel",
      "state": {
       "layout": "IPY_MODEL_e8bba25028d14fbab325f8b83fcb17e5",
       "outputs": [
        {
         "ename": "TypeError",
         "evalue": "iplot() got an unexpected keyword argument 'xTitle'",
         "output_type": "error",
         "traceback": [
          "\u001b[1;31m---------------------------------------------------------------------------\u001b[0m",
          "\u001b[1;31mTypeError\u001b[0m                                 Traceback (most recent call last)",
          "\u001b[1;32m~\\AppData\\Local\\Continuum\\anaconda3\\lib\\site-packages\\ipywidgets\\widgets\\interaction.py\u001b[0m in \u001b[0;36mupdate\u001b[1;34m(self, *args)\u001b[0m\n\u001b[0;32m    249\u001b[0m                     \u001b[0mvalue\u001b[0m \u001b[1;33m=\u001b[0m \u001b[0mwidget\u001b[0m\u001b[1;33m.\u001b[0m\u001b[0mget_interact_value\u001b[0m\u001b[1;33m(\u001b[0m\u001b[1;33m)\u001b[0m\u001b[1;33m\u001b[0m\u001b[1;33m\u001b[0m\u001b[0m\n\u001b[0;32m    250\u001b[0m                     \u001b[0mself\u001b[0m\u001b[1;33m.\u001b[0m\u001b[0mkwargs\u001b[0m\u001b[1;33m[\u001b[0m\u001b[0mwidget\u001b[0m\u001b[1;33m.\u001b[0m\u001b[0m_kwarg\u001b[0m\u001b[1;33m]\u001b[0m \u001b[1;33m=\u001b[0m \u001b[0mvalue\u001b[0m\u001b[1;33m\u001b[0m\u001b[1;33m\u001b[0m\u001b[0m\n\u001b[1;32m--> 251\u001b[1;33m                 \u001b[0mself\u001b[0m\u001b[1;33m.\u001b[0m\u001b[0mresult\u001b[0m \u001b[1;33m=\u001b[0m \u001b[0mself\u001b[0m\u001b[1;33m.\u001b[0m\u001b[0mf\u001b[0m\u001b[1;33m(\u001b[0m\u001b[1;33m**\u001b[0m\u001b[0mself\u001b[0m\u001b[1;33m.\u001b[0m\u001b[0mkwargs\u001b[0m\u001b[1;33m)\u001b[0m\u001b[1;33m\u001b[0m\u001b[1;33m\u001b[0m\u001b[0m\n\u001b[0m\u001b[0;32m    252\u001b[0m                 \u001b[0mshow_inline_matplotlib_plots\u001b[0m\u001b[1;33m(\u001b[0m\u001b[1;33m)\u001b[0m\u001b[1;33m\u001b[0m\u001b[1;33m\u001b[0m\u001b[0m\n\u001b[0;32m    253\u001b[0m                 \u001b[1;32mif\u001b[0m \u001b[0mself\u001b[0m\u001b[1;33m.\u001b[0m\u001b[0mauto_display\u001b[0m \u001b[1;32mand\u001b[0m \u001b[0mself\u001b[0m\u001b[1;33m.\u001b[0m\u001b[0mresult\u001b[0m \u001b[1;32mis\u001b[0m \u001b[1;32mnot\u001b[0m \u001b[1;32mNone\u001b[0m\u001b[1;33m:\u001b[0m\u001b[1;33m\u001b[0m\u001b[1;33m\u001b[0m\u001b[0m\n",
          "\u001b[1;32m<ipython-input-23-20bd28201245>\u001b[0m in \u001b[0;36mscatter_plot\u001b[1;34m(x, y, theme, colorscale)\u001b[0m\n\u001b[0;32m     10\u001b[0m     iplot(fig, xTitle=x.title(), yTitle=y.title(),\n\u001b[0;32m     11\u001b[0m                \u001b[0mtitle\u001b[0m \u001b[1;33m=\u001b[0m \u001b[1;34mf'{y.title()} vs {x.title()}'\u001b[0m\u001b[1;33m,\u001b[0m\u001b[1;33m\u001b[0m\u001b[1;33m\u001b[0m\u001b[0m\n\u001b[1;32m---> 12\u001b[1;33m                theme=theme, colorscale=colorscale)\n\u001b[0m",
          "\u001b[1;31mTypeError\u001b[0m: iplot() got an unexpected keyword argument 'xTitle'"
         ]
        }
       ]
      }
     },
     "ccc8ad2d59c84d58a61309d995f689e0": {
      "model_module": "@jupyter-widgets/base",
      "model_module_version": "1.1.0",
      "model_name": "LayoutModel",
      "state": {}
     },
     "cd73b65d9e1d4a70b12817af7c02bdf7": {
      "model_module": "@jupyter-widgets/controls",
      "model_module_version": "1.4.0",
      "model_name": "DropdownModel",
      "state": {
       "_options_labels": [
        "brbg",
        "prgn",
        "piyg",
        "puor",
        "rdbu",
        "rdgy",
        "rdylbu",
        "rdylgn",
        "spectral",
        "paired",
        "set3",
        "dflt",
        "original",
        "plotly",
        "accent",
        "dark2",
        "pastel1",
        "pastel2",
        "set1",
        "set2",
        "blues",
        "bugn",
        "bupu",
        "gnbu",
        "greens",
        "greys",
        "orrd",
        "oranges",
        "pubu",
        "pubugn",
        "purd",
        "purples",
        "rdpu",
        "reds",
        "ylgn",
        "ylgnbu",
        "ylorbr",
        "ylorrd",
        "ggplot",
        "polar"
       ],
       "description": "colorscale",
       "index": 5,
       "layout": "IPY_MODEL_dd06f2e3bc1a44fdaaaff790106c9205",
       "style": "IPY_MODEL_a0ae729edf6541a5b4888254136ed9ff"
      }
     },
     "cde24a3b18f542d5bc3775e156740f7b": {
      "model_module": "@jupyter-widgets/base",
      "model_module_version": "1.1.0",
      "model_name": "LayoutModel",
      "state": {}
     },
     "ce50ea96ecfb4a93bc556e7c6aa6db82": {
      "model_module": "@jupyter-widgets/controls",
      "model_module_version": "1.4.0",
      "model_name": "DescriptionStyleModel",
      "state": {
       "description_width": ""
      }
     },
     "ce55d77cf99a43adb82a036197bf848c": {
      "model_module": "@jupyter-widgets/base",
      "model_module_version": "1.1.0",
      "model_name": "LayoutModel",
      "state": {}
     },
     "ce5b15cfa0e2468bb66a91f85bbb2cc0": {
      "model_module": "@jupyter-widgets/controls",
      "model_module_version": "1.4.0",
      "model_name": "DropdownModel",
      "state": {
       "_options_labels": [
        "Life Ladder",
        "Log GDP per capita",
        "Social support",
        "Healthy life expectancy at birth",
        "Freedom to make life choices",
        "Generosity",
        "Perceptions of corruption",
        "Positive affect",
        "Negative affect",
        "Confidence in national government",
        "Democratic Quality",
        "Delivery Quality",
        "GINI of household income reported in Gallup, by wp5-year"
       ],
       "description": "y",
       "index": 3,
       "layout": "IPY_MODEL_66d5224d177f4c0dba429350fd6106fc",
       "style": "IPY_MODEL_bfa61cbddbd2465db58b12a4fe883eac"
      }
     },
     "ced1d26b64eb441db5a4d255d445fa81": {
      "model_module": "@jupyter-widgets/base",
      "model_module_version": "1.1.0",
      "model_name": "LayoutModel",
      "state": {}
     },
     "cf4249cc987d42cbb7008056f481ca28": {
      "model_module": "@jupyter-widgets/controls",
      "model_module_version": "1.4.0",
      "model_name": "DropdownModel",
      "state": {
       "_options_labels": [
        "brbg",
        "prgn",
        "piyg",
        "puor",
        "rdbu",
        "rdgy",
        "rdylbu",
        "rdylgn",
        "spectral",
        "paired",
        "set3",
        "dflt",
        "original",
        "plotly",
        "accent",
        "dark2",
        "pastel1",
        "pastel2",
        "set1",
        "set2",
        "blues",
        "bugn",
        "bupu",
        "gnbu",
        "greens",
        "greys",
        "orrd",
        "oranges",
        "pubu",
        "pubugn",
        "purd",
        "purples",
        "rdpu",
        "reds",
        "ylgn",
        "ylgnbu",
        "ylorbr",
        "ylorrd",
        "ggplot",
        "polar"
       ],
       "description": "colorscale",
       "index": 0,
       "layout": "IPY_MODEL_80ff773912084f549272dc7f75e89808",
       "style": "IPY_MODEL_ca17212dc7b5452ba3692e05c055adf8"
      }
     },
     "cf46fb1a7e77442d9cfd73632cbf9d5a": {
      "model_module": "@jupyter-widgets/controls",
      "model_module_version": "1.4.0",
      "model_name": "VBoxModel",
      "state": {
       "_dom_classes": [
        "widget-interact"
       ],
       "children": [
        "IPY_MODEL_41a921199f234f38b84f9563b0976a46",
        "IPY_MODEL_172d66e1f3424972a85813fcdcae2b53",
        "IPY_MODEL_97f4f40d929349679dbf41df5178bad6",
        "IPY_MODEL_e10098e747fc4e07be3e4461c6da0697",
        "IPY_MODEL_26cc89e51fe746aa86fc18cdfe04fa5f"
       ],
       "layout": "IPY_MODEL_6b68693b50a74cbab9f927c1f3aa27fc"
      }
     },
     "cf5a96929bde409ab72c4d5607799a60": {
      "model_module": "@jupyter-widgets/controls",
      "model_module_version": "1.4.0",
      "model_name": "DescriptionStyleModel",
      "state": {
       "description_width": ""
      }
     },
     "cf66ad2f311b4fd091f1bfbd3a61d4a1": {
      "model_module": "@jupyter-widgets/controls",
      "model_module_version": "1.4.0",
      "model_name": "DescriptionStyleModel",
      "state": {
       "description_width": ""
      }
     },
     "d0b8d239f6ab4d96bb8b5699b3bc1204": {
      "model_module": "@jupyter-widgets/base",
      "model_module_version": "1.1.0",
      "model_name": "LayoutModel",
      "state": {}
     },
     "d29181f6d9fd4df98363642031ffb0be": {
      "model_module": "@jupyter-widgets/controls",
      "model_module_version": "1.4.0",
      "model_name": "DropdownModel",
      "state": {
       "_options_labels": [
        "Happiness Score",
        "Life Ladder",
        "Log GDP per capita",
        "Social support",
        "Healthy life expectancy at birth",
        "Freedom to make life choices",
        "Generosity",
        "Perceptions of corruption",
        "Positive affect",
        "Negative affect",
        "Confidence in national government",
        "Democratic Quality",
        "Delivery Quality",
        "GINI of household income reported in Gallup, by wp5-year"
       ],
       "description": "x",
       "index": 0,
       "layout": "IPY_MODEL_63855c051fa14608bac0658f982e74a8",
       "style": "IPY_MODEL_997352cb80204593bc23c623e978d18e"
      }
     },
     "d38907cdb6744db3957bb11c5c247110": {
      "model_module": "@jupyter-widgets/base",
      "model_module_version": "1.1.0",
      "model_name": "LayoutModel",
      "state": {}
     },
     "d39d67c79648484883f187a8d2e127e3": {
      "model_module": "@jupyter-widgets/base",
      "model_module_version": "1.1.0",
      "model_name": "LayoutModel",
      "state": {}
     },
     "d4ba5412a9534573b3e099428b279588": {
      "model_module": "@jupyter-widgets/controls",
      "model_module_version": "1.4.0",
      "model_name": "DescriptionStyleModel",
      "state": {
       "description_width": ""
      }
     },
     "d69e96bdac9a44eabf961a05e80ace1f": {
      "model_module": "@jupyter-widgets/controls",
      "model_module_version": "1.4.0",
      "model_name": "DescriptionStyleModel",
      "state": {
       "description_width": ""
      }
     },
     "d80cff03bc5c49c5acb260413f4881d6": {
      "model_module": "@jupyter-widgets/base",
      "model_module_version": "1.1.0",
      "model_name": "LayoutModel",
      "state": {}
     },
     "d82cf9f37c314164ae678032d499cb8f": {
      "model_module": "@jupyter-widgets/controls",
      "model_module_version": "1.4.0",
      "model_name": "DescriptionStyleModel",
      "state": {
       "description_width": ""
      }
     },
     "da42417343664e3b8e500460b66ee3b3": {
      "model_module": "@jupyter-widgets/base",
      "model_module_version": "1.1.0",
      "model_name": "LayoutModel",
      "state": {}
     },
     "dab063907e764b1588f83da56d164bf3": {
      "model_module": "@jupyter-widgets/controls",
      "model_module_version": "1.4.0",
      "model_name": "DescriptionStyleModel",
      "state": {
       "description_width": ""
      }
     },
     "dbb0334b74044da8981642c22164cde7": {
      "model_module": "@jupyter-widgets/base",
      "model_module_version": "1.1.0",
      "model_name": "LayoutModel",
      "state": {}
     },
     "dd06f2e3bc1a44fdaaaff790106c9205": {
      "model_module": "@jupyter-widgets/base",
      "model_module_version": "1.1.0",
      "model_name": "LayoutModel",
      "state": {}
     },
     "de6d381be2d44d758a149151a17759d1": {
      "model_module": "@jupyter-widgets/controls",
      "model_module_version": "1.4.0",
      "model_name": "DescriptionStyleModel",
      "state": {
       "description_width": ""
      }
     },
     "debd8591ccca49efaa62be48a01d2e5c": {
      "model_module": "@jupyter-widgets/output",
      "model_module_version": "1.0.0",
      "model_name": "OutputModel",
      "state": {
       "layout": "IPY_MODEL_d80cff03bc5c49c5acb260413f4881d6",
       "outputs": [
        {
         "data": {
          "application/vnd.plotly.v1+json": {
           "config": {
            "linkText": "Export to plot.ly",
            "plotlyServerURL": "https://plot.ly",
            "responsive": true,
            "showLink": true
           },
           "data": [
            {
             "marker": {
              "color": "rgba(31, 119, 180, 1.0)",
              "line": {
               "width": 1.3
              },
              "opacity": 0.8,
              "size": 12,
              "symbol": "circle"
             },
             "mode": "markers",
             "name": "Western Europe",
             "textfont": {
              "color": "#A4A4A4"
             },
             "type": "scatter",
             "uid": "e4b9accd-e781-46bd-86f3-ed5a60e8c6b9",
             "x": [
              71.80000051,
              72.10000102,
              73.09999847,
              73,
              72.19999949,
              73.80000051,
              72.5,
              72.69999949,
              72.59999847,
              72.10000102,
              72.19999949,
              71.89999898,
              71.80000051,
              72.19999695,
              73.60000102,
              74.10000102,
              73.39999898,
              73.5,
              72.09121704,
              72.19999949,
              72.19999949
             ],
             "y": [
              7.769,
              7.6,
              7.5539999999999985,
              7.494,
              7.487999999999999,
              7.48,
              7.343,
              7.246,
              7.09,
              7.0539999999999985,
              7.021,
              6.985,
              6.922999999999999,
              6.726,
              6.5920000000000005,
              6.354,
              6.223,
              6.046,
              5.718,
              5.693,
              5.287000000000001
             ]
            },
            {
             "marker": {
              "color": "rgba(255, 127, 14, 1.0)",
              "line": {
               "width": 1.3
              },
              "opacity": 0.8,
              "size": 12,
              "symbol": "circle"
             },
             "mode": "markers",
             "name": "North America and ANZ",
             "textfont": {
              "color": "#A4A4A4"
             },
             "type": "scatter",
             "uid": "6f48d4a4-751f-4fd9-9feb-e70a22c67b50",
             "x": [
              73,
              73.39999898,
              73.30000051,
              68.40000153
             ],
             "y": [
              7.307,
              7.278,
              7.228,
              6.892
             ]
            },
            {
             "marker": {
              "color": "rgba(44, 160, 44, 1.0)",
              "line": {
               "width": 1.3
              },
              "opacity": 0.8,
              "size": 12,
              "symbol": "circle"
             },
             "mode": "markers",
             "name": "Latin America and Caribbean",
             "textfont": {
              "color": "#A4A4A4"
             },
             "type": "scatter",
             "uid": "520f36a1-7783-463c-8cbe-ee863a890367",
             "x": [
              71.10000102,
              68,
              69.80000051,
              64.5,
              69.5,
              66.19999949,
              68.90000153,
              65.80000051,
              62.4939821,
              67.39999898,
              67.19999949,
              68.60000102,
              68.19999949,
              66.9066658,
              67,
              63.29999924,
              65.36666785,
              67.80000051,
              65.5,
              66.30000051,
              55.5
             ],
             "y": [
              7.167000000000002,
              6.595,
              6.444,
              6.436,
              6.3210000000000015,
              6.3,
              6.292999999999998,
              6.252999999999999,
              6.192,
              6.125,
              6.105,
              6.086,
              6.028,
              5.89,
              5.86,
              5.779,
              5.7429999999999986,
              5.697,
              5.425,
              4.707,
              3.597
             ]
            },
            {
             "marker": {
              "color": "rgba(214, 39, 40, 1.0)",
              "line": {
               "width": 1.3
              },
              "opacity": 0.8,
              "size": 12,
              "symbol": "circle"
             },
             "mode": "markers",
             "name": "Middle East and North Africa",
             "textfont": {
              "color": "#A4A4A4"
             },
             "type": "scatter",
             "uid": "531ec713-716c-45de-b33d-b5c593eeba83",
             "x": [
              73.10000102,
              66.89999898,
              66,
              67.20285358,
              68.29999924,
              66.36666785,
              62.29999924,
              66.40000153,
              65.69999949,
              65.60000102,
              66.59999847,
              66.60000102,
              62.57299042,
              65.69999949,
              66.60000102,
              59.29999924,
              61.40000025,
              55.99111133,
              55.90000025
             ],
             "y": [
              7.1389999999999985,
              6.825,
              6.375,
              6.374,
              6.199,
              6.021,
              5.525,
              5.372999999999998,
              5.211,
              5.207999999999998,
              5.197,
              4.9060000000000015,
              4.6960000000000015,
              4.548,
              4.461,
              4.437,
              4.166,
              3.462,
              3.38
             ]
            },
            {
             "marker": {
              "color": "rgba(148, 103, 189, 1.0)",
              "line": {
               "width": 1.3
              },
              "opacity": 0.8,
              "size": 12,
              "symbol": "circle"
             },
             "mode": "markers",
             "name": "Central and Eastern Europe",
             "textfont": {
              "color": "#A4A4A4"
             },
             "type": "scatter",
             "uid": "ebab7d1f-49b8-4272-bfc9-557c753708ca",
             "x": [
              69.80000305,
              68.60000102,
              68.63333384,
              66.69999949,
              70.80000051,
              64.87929281,
              66.89999898,
              66.5,
              68.39999898,
              66.9333335,
              67.80000051,
              68.30000051,
              69.59999847,
              67.5,
              67.30000051,
              66.60000102,
              68.39999898
             ],
             "y": [
              6.852,
              6.198,
              6.182,
              6.149,
              6.1179999999999986,
              6.1,
              6.07,
              5.94,
              5.893,
              5.757999999999999,
              5.603,
              5.523,
              5.432,
              5.386,
              5.274,
              5.011,
              4.7189999999999985
             ]
            },
            {
             "marker": {
              "color": "rgba(140, 86, 75, 1.0)",
              "line": {
               "width": 1.3
              },
              "opacity": 0.8,
              "size": 12,
              "symbol": "circle"
             },
             "mode": "markers",
             "name": "East Asia",
             "textfont": {
              "color": "#A4A4A4"
             },
             "type": "scatter",
             "uid": "e2593236-8050-4ac3-a600-e74e1948f3f5",
             "x": [
              71.4327,
              73.30000051,
              74.90000153,
              75.9304123,
              62.09999975,
              69
             ],
             "y": [
              6.4460000000000015,
              5.895,
              5.886,
              5.43,
              5.285,
              5.191
             ]
            },
            {
             "marker": {
              "color": "rgba(227, 119, 194, 1.0)",
              "line": {
               "width": 1.3
              },
              "opacity": 0.8,
              "size": 12,
              "symbol": "circle"
             },
             "mode": "markers",
             "name": "Southeast Asia",
             "textfont": {
              "color": "#A4A4A4"
             },
             "type": "scatter",
             "uid": "abf1998b-678e-44ea-8fbd-876e46e0abab",
             "x": [
              76.5,
              67,
              61.80000051,
              67,
              61.90000025,
              67.69999949,
              57.86666616,
              61.19999949,
              58.70000076
             ],
             "y": [
              6.2620000000000005,
              6.007999999999999,
              5.631,
              5.339,
              5.192,
              5.175,
              4.796,
              4.7,
              4.36
             ]
            },
            {
             "marker": {
              "color": "rgba(127, 127, 127, 1.0)",
              "line": {
               "width": 1.3
              },
              "opacity": 0.8,
              "size": 12,
              "symbol": "circle"
             },
             "mode": "markers",
             "name": "Commonwealth of Independent States",
             "textfont": {
              "color": "#A4A4A4"
             },
             "type": "scatter",
             "uid": "4346482d-0caa-41da-8526-3e115072ac90",
             "x": [
              64.80000051,
              64,
              63.90000153,
              64.30000051,
              63.64999962,
              65.80000051,
              63.79999924,
              61.80000051,
              65.19999949,
              66.60000102,
              64.69999949,
              64.30000051
             ],
             "y": [
              6.174,
              5.809,
              5.648,
              5.529,
              5.4670000000000005,
              5.323,
              5.261,
              5.247000000000001,
              5.207999999999998,
              4.559,
              4.519,
              4.332
             ]
            },
            {
             "marker": {
              "color": "rgba(188, 189, 34, 1.0)",
              "line": {
               "width": 1.3
              },
              "opacity": 0.8,
              "size": 12,
              "symbol": "circle"
             },
             "mode": "markers",
             "name": "Sub-Saharan Africa",
             "textfont": {
              "color": "#A4A4A4"
             },
             "type": "scatter",
             "uid": "a2f049e5-2c9a-4191-a29a-f6a68321c0f6",
             "x": [
              66.10000102,
              49.30000051,
              51.90000025,
              56.60000039,
              48.90000026,
              53.90000026,
              57.30000051,
              59.20000076,
              56.09999974,
              59.19999949,
              50,
              55.95333354,
              53,
              53.40000153,
              53.30000051,
              54.85000038,
              59.5,
              56.70000076,
              52.86666743,
              52.70000077,
              51.20000076,
              49.19999949,
              47.70000076,
              58,
              57.7,
              55.30000051,
              54.79999924,
              54.30000051,
              55.29999924,
              55.85333379,
              58.69999949,
              46.94999886,
              53.40000153,
              55,
              58.20000076,
              56.90000025,
              60.5,
              57,
              45.05000115,
              50.79999924
             ],
             "y": [
              5.888,
              5.265,
              5.044,
              4.996,
              4.944,
              4.883,
              4.812,
              4.799,
              4.722,
              4.681,
              4.668,
              4.6389999999999985,
              4.628,
              4.587,
              4.534,
              4.516,
              4.509,
              4.49,
              4.466,
              4.418,
              4.39,
              4.374,
              4.35,
              4.2860000000000005,
              4.212,
              4.189,
              4.107,
              4.085,
              3.975,
              3.973,
              3.933,
              3.802,
              3.775,
              3.663,
              3.488,
              3.41,
              3.334,
              3.2310000000000003,
              3.083,
              2.853
             ]
            },
            {
             "marker": {
              "color": "rgba(23, 190, 207, 1.0)",
              "line": {
               "width": 1.3
              },
              "opacity": 0.8,
              "size": 12,
              "symbol": "circle"
             },
             "mode": "markers",
             "name": "South Asia",
             "textfont": {
              "color": "#A4A4A4"
             },
             "type": "scatter",
             "uid": "1f00ab4b-fcd8-4dde-babe-3e731e08c8e1",
             "x": [
              58.09999974,
              60.05000072,
              62.40000026,
              63.80000051,
              67.09999848,
              59.69999949,
              52.79999924
             ],
             "y": [
              5.653,
              5.082,
              4.913,
              4.456,
              4.3660000000000005,
              4.015,
              3.2030000000000003
             ]
            }
           ],
           "layout": {
            "legend": {
             "bgcolor": "#242424",
             "font": {
              "color": "#F4F4F4"
             }
            },
            "paper_bgcolor": "#242424",
            "plot_bgcolor": "#242424",
            "title": {
             "font": {
              "color": "#F4F4F4"
             },
             "text": "Happiness Score vs Healthy Life Expectancy At Birth"
            },
            "xaxis": {
             "gridcolor": "#343434",
             "showgrid": true,
             "tickfont": {
              "color": "#A4A4A4"
             },
             "title": {
              "font": {
               "color": "#A4A4A4"
              },
              "text": "Healthy Life Expectancy At Birth"
             },
             "zerolinecolor": "#444444"
            },
            "yaxis": {
             "gridcolor": "#343434",
             "showgrid": true,
             "tickfont": {
              "color": "#A4A4A4"
             },
             "title": {
              "font": {
               "color": "#A4A4A4"
              },
              "text": "Happiness Score"
             },
             "zerolinecolor": "#444444"
            }
           }
          },
          "text/html": "<div>\n        \n        \n            <div id=\"a8015d2e-0483-45c2-84fe-4018db5191c4\" class=\"plotly-graph-div\"></div>\n            <script type=\"text/javascript\">\n                require([\"plotly\"], function(Plotly) {\n                    window.PLOTLYENV=window.PLOTLYENV || {};\n                    window.PLOTLYENV.BASE_URL='https://plot.ly';\n                    \n                if (document.getElementById(\"a8015d2e-0483-45c2-84fe-4018db5191c4\")) {\n                    Plotly.newPlot(\n                        'a8015d2e-0483-45c2-84fe-4018db5191c4',\n                        [{\"marker\": {\"color\": \"rgba(31, 119, 180, 1.0)\", \"line\": {\"width\": 1.3}, \"opacity\": 0.8, \"size\": 12, \"symbol\": \"circle\"}, \"mode\": \"markers\", \"name\": \"Western Europe\", \"textfont\": {\"color\": \"#A4A4A4\"}, \"type\": \"scatter\", \"uid\": \"a9b876c1-807c-405c-a3e8-cf75b6835eed\", \"x\": [71.80000051, 72.10000102, 73.09999847, 73.0, 72.19999949, 73.80000051, 72.5, 72.69999949, 72.59999847, 72.10000102, 72.19999949, 71.89999898, 71.80000051, 72.19999695, 73.60000102, 74.10000102, 73.39999898, 73.5, 72.09121704, 72.19999949, 72.19999949], \"y\": [7.769, 7.6, 7.5539999999999985, 7.494, 7.487999999999999, 7.48, 7.343, 7.246, 7.09, 7.0539999999999985, 7.021, 6.985, 6.922999999999999, 6.726, 6.5920000000000005, 6.354, 6.223, 6.046, 5.718, 5.693, 5.287000000000001]}, {\"marker\": {\"color\": \"rgba(255, 127, 14, 1.0)\", \"line\": {\"width\": 1.3}, \"opacity\": 0.8, \"size\": 12, \"symbol\": \"circle\"}, \"mode\": \"markers\", \"name\": \"North America and ANZ\", \"textfont\": {\"color\": \"#A4A4A4\"}, \"type\": \"scatter\", \"uid\": \"4ef19179-ae49-4276-84e9-959c5822d726\", \"x\": [73.0, 73.39999898, 73.30000051, 68.40000153], \"y\": [7.307, 7.278, 7.228, 6.892]}, {\"marker\": {\"color\": \"rgba(44, 160, 44, 1.0)\", \"line\": {\"width\": 1.3}, \"opacity\": 0.8, \"size\": 12, \"symbol\": \"circle\"}, \"mode\": \"markers\", \"name\": \"Latin America and Caribbean\", \"textfont\": {\"color\": \"#A4A4A4\"}, \"type\": \"scatter\", \"uid\": \"deaec8f7-fc7f-44c5-816e-8d087c1606fd\", \"x\": [71.10000102, 68.0, 69.80000051, 64.5, 69.5, 66.19999949, 68.90000153, 65.80000051, 62.4939821, 67.39999898, 67.19999949, 68.60000102, 68.19999949, 66.9066658, 67.0, 63.29999924, 65.36666785, 67.80000051, 65.5, 66.30000051, 55.5], \"y\": [7.167000000000002, 6.595, 6.444, 6.436, 6.3210000000000015, 6.3, 6.292999999999998, 6.252999999999999, 6.192, 6.125, 6.105, 6.086, 6.028, 5.89, 5.86, 5.779, 5.7429999999999986, 5.697, 5.425, 4.707, 3.597]}, {\"marker\": {\"color\": \"rgba(214, 39, 40, 1.0)\", \"line\": {\"width\": 1.3}, \"opacity\": 0.8, \"size\": 12, \"symbol\": \"circle\"}, \"mode\": \"markers\", \"name\": \"Middle East and North Africa\", \"textfont\": {\"color\": \"#A4A4A4\"}, \"type\": \"scatter\", \"uid\": \"f87aa171-062c-4de1-8c5e-b9b2362f1208\", \"x\": [73.10000102, 66.89999898, 66.0, 67.20285358, 68.29999924, 66.36666785, 62.29999924, 66.40000153, 65.69999949, 65.60000102, 66.59999847, 66.60000102, 62.57299042, 65.69999949, 66.60000102, 59.29999924, 61.40000025, 55.99111133, 55.90000025], \"y\": [7.1389999999999985, 6.825, 6.375, 6.374, 6.199, 6.021, 5.525, 5.372999999999998, 5.211, 5.207999999999998, 5.197, 4.9060000000000015, 4.6960000000000015, 4.548, 4.461, 4.437, 4.166, 3.462, 3.38]}, {\"marker\": {\"color\": \"rgba(148, 103, 189, 1.0)\", \"line\": {\"width\": 1.3}, \"opacity\": 0.8, \"size\": 12, \"symbol\": \"circle\"}, \"mode\": \"markers\", \"name\": \"Central and Eastern Europe\", \"textfont\": {\"color\": \"#A4A4A4\"}, \"type\": \"scatter\", \"uid\": \"8ecc6904-86ce-4d83-a8a1-5ff49863829d\", \"x\": [69.80000305, 68.60000102, 68.63333384, 66.69999949, 70.80000051, 64.87929281, 66.89999898, 66.5, 68.39999898, 66.9333335, 67.80000051, 68.30000051, 69.59999847, 67.5, 67.30000051, 66.60000102, 68.39999898], \"y\": [6.852, 6.198, 6.182, 6.149, 6.1179999999999986, 6.1, 6.07, 5.94, 5.893, 5.757999999999999, 5.603, 5.523, 5.432, 5.386, 5.274, 5.011, 4.7189999999999985]}, {\"marker\": {\"color\": \"rgba(140, 86, 75, 1.0)\", \"line\": {\"width\": 1.3}, \"opacity\": 0.8, \"size\": 12, \"symbol\": \"circle\"}, \"mode\": \"markers\", \"name\": \"East Asia\", \"textfont\": {\"color\": \"#A4A4A4\"}, \"type\": \"scatter\", \"uid\": \"05210887-b64f-4c15-b91d-195c0ddbd537\", \"x\": [71.4327, 73.30000051, 74.90000153, 75.9304123, 62.09999975, 69.0], \"y\": [6.4460000000000015, 5.895, 5.886, 5.43, 5.285, 5.191]}, {\"marker\": {\"color\": \"rgba(227, 119, 194, 1.0)\", \"line\": {\"width\": 1.3}, \"opacity\": 0.8, \"size\": 12, \"symbol\": \"circle\"}, \"mode\": \"markers\", \"name\": \"Southeast Asia\", \"textfont\": {\"color\": \"#A4A4A4\"}, \"type\": \"scatter\", \"uid\": \"af236d8d-970c-49ba-8915-c9f9f16e43fc\", \"x\": [76.5, 67.0, 61.80000051, 67.0, 61.90000025, 67.69999949, 57.86666616, 61.19999949, 58.70000076], \"y\": [6.2620000000000005, 6.007999999999999, 5.631, 5.339, 5.192, 5.175, 4.796, 4.7, 4.36]}, {\"marker\": {\"color\": \"rgba(127, 127, 127, 1.0)\", \"line\": {\"width\": 1.3}, \"opacity\": 0.8, \"size\": 12, \"symbol\": \"circle\"}, \"mode\": \"markers\", \"name\": \"Commonwealth of Independent States\", \"textfont\": {\"color\": \"#A4A4A4\"}, \"type\": \"scatter\", \"uid\": \"7eb9be59-d441-4ae6-8248-3b982410f2cd\", \"x\": [64.80000051, 64.0, 63.90000153, 64.30000051, 63.64999962, 65.80000051, 63.79999924, 61.80000051, 65.19999949, 66.60000102, 64.69999949, 64.30000051], \"y\": [6.174, 5.809, 5.648, 5.529, 5.4670000000000005, 5.323, 5.261, 5.247000000000001, 5.207999999999998, 4.559, 4.519, 4.332]}, {\"marker\": {\"color\": \"rgba(188, 189, 34, 1.0)\", \"line\": {\"width\": 1.3}, \"opacity\": 0.8, \"size\": 12, \"symbol\": \"circle\"}, \"mode\": \"markers\", \"name\": \"Sub-Saharan Africa\", \"textfont\": {\"color\": \"#A4A4A4\"}, \"type\": \"scatter\", \"uid\": \"cfd5b4b7-1c28-48f9-9415-de237770da9f\", \"x\": [66.10000102, 49.30000051, 51.90000025, 56.60000039, 48.90000026, 53.90000026, 57.30000051, 59.20000076, 56.09999974, 59.19999949, 50.0, 55.95333354, 53.0, 53.40000153, 53.30000051, 54.85000038, 59.5, 56.70000076, 52.86666743, 52.70000077, 51.20000076, 49.19999949, 47.70000076, 58.0, 57.7, 55.30000051, 54.79999924, 54.30000051, 55.29999924, 55.85333379, 58.69999949, 46.94999886, 53.40000153, 55.0, 58.20000076, 56.90000025, 60.5, 57.0, 45.05000115, 50.79999924], \"y\": [5.888, 5.265, 5.044, 4.996, 4.944, 4.883, 4.812, 4.799, 4.722, 4.681, 4.668, 4.6389999999999985, 4.628, 4.587, 4.534, 4.516, 4.509, 4.49, 4.466, 4.418, 4.39, 4.374, 4.35, 4.2860000000000005, 4.212, 4.189, 4.107, 4.085, 3.975, 3.973, 3.933, 3.802, 3.775, 3.663, 3.488, 3.41, 3.334, 3.2310000000000003, 3.083, 2.853]}, {\"marker\": {\"color\": \"rgba(23, 190, 207, 1.0)\", \"line\": {\"width\": 1.3}, \"opacity\": 0.8, \"size\": 12, \"symbol\": \"circle\"}, \"mode\": \"markers\", \"name\": \"South Asia\", \"textfont\": {\"color\": \"#A4A4A4\"}, \"type\": \"scatter\", \"uid\": \"f573c2ce-ca59-45de-a2e0-5dc82e250534\", \"x\": [58.09999974, 60.05000072, 62.40000026, 63.80000051, 67.09999848, 59.69999949, 52.79999924], \"y\": [5.653, 5.082, 4.913, 4.456, 4.3660000000000005, 4.015, 3.2030000000000003]}],\n                        {\"legend\": {\"bgcolor\": \"#242424\", \"font\": {\"color\": \"#F4F4F4\"}}, \"paper_bgcolor\": \"#242424\", \"plot_bgcolor\": \"#242424\", \"title\": {\"font\": {\"color\": \"#F4F4F4\"}, \"text\": \"Happiness Score vs Healthy Life Expectancy At Birth\"}, \"xaxis\": {\"gridcolor\": \"#343434\", \"showgrid\": true, \"tickfont\": {\"color\": \"#A4A4A4\"}, \"title\": {\"font\": {\"color\": \"#A4A4A4\"}, \"text\": \"Healthy Life Expectancy At Birth\"}, \"zerolinecolor\": \"#444444\"}, \"yaxis\": {\"gridcolor\": \"#343434\", \"showgrid\": true, \"tickfont\": {\"color\": \"#A4A4A4\"}, \"title\": {\"font\": {\"color\": \"#A4A4A4\"}, \"text\": \"Happiness Score\"}, \"zerolinecolor\": \"#444444\"}},\n                        {\"showLink\": true, \"linkText\": \"Export to plot.ly\", \"plotlyServerURL\": \"https://plot.ly\", \"responsive\": true}\n                    )\n                };\n                });\n            </script>\n        </div>"
         },
         "metadata": {},
         "output_type": "display_data"
        }
       ]
      }
     },
     "df0989b210c2493d888df85707f64ca5": {
      "model_module": "@jupyter-widgets/base",
      "model_module_version": "1.1.0",
      "model_name": "LayoutModel",
      "state": {}
     },
     "df0dd2a4696a4b2cb7f71605477db596": {
      "model_module": "@jupyter-widgets/controls",
      "model_module_version": "1.4.0",
      "model_name": "DropdownModel",
      "state": {
       "_options_labels": [
        "Life Ladder",
        "Log GDP per capita",
        "Social support",
        "Healthy life expectancy at birth",
        "Freedom to make life choices",
        "Generosity",
        "Perceptions of corruption",
        "Positive affect",
        "Negative affect",
        "Confidence in national government",
        "Democratic Quality",
        "Delivery Quality",
        "GINI of household income reported in Gallup, by wp5-year"
       ],
       "description": "y",
       "index": 0,
       "layout": "IPY_MODEL_7ed422e29ce9487983a718b470855b3c",
       "style": "IPY_MODEL_99bcc3716bea4a7eb1a4cbaedfc8264f"
      }
     },
     "e0fdfcaa18c045ffb67d9ac585f21189": {
      "model_module": "@jupyter-widgets/controls",
      "model_module_version": "1.4.0",
      "model_name": "DropdownModel",
      "state": {
       "_options_labels": [
        "Happiness Score",
        "Life Ladder",
        "Log GDP per capita",
        "Social support",
        "Healthy life expectancy at birth",
        "Freedom to make life choices",
        "Generosity",
        "Perceptions of corruption",
        "Positive affect",
        "Negative affect",
        "Confidence in national government",
        "Democratic Quality",
        "Delivery Quality",
        "GINI of household income reported in Gallup, by wp5-year"
       ],
       "description": "y",
       "index": 0,
       "layout": "IPY_MODEL_ad372d5b40ea4b0e9de32d88d524012d",
       "style": "IPY_MODEL_52bd3c26d5b242519664203e78dff9e9"
      }
     },
     "e10098e747fc4e07be3e4461c6da0697": {
      "model_module": "@jupyter-widgets/controls",
      "model_module_version": "1.4.0",
      "model_name": "DropdownModel",
      "state": {
       "_options_labels": [
        "brbg",
        "prgn",
        "piyg",
        "puor",
        "rdbu",
        "rdgy",
        "rdylbu",
        "rdylgn",
        "spectral",
        "paired",
        "set3",
        "dflt",
        "original",
        "plotly",
        "accent",
        "dark2",
        "pastel1",
        "pastel2",
        "set1",
        "set2",
        "blues",
        "bugn",
        "bupu",
        "gnbu",
        "greens",
        "greys",
        "orrd",
        "oranges",
        "pubu",
        "pubugn",
        "purd",
        "purples",
        "rdpu",
        "reds",
        "ylgn",
        "ylgnbu",
        "ylorbr",
        "ylorrd",
        "ggplot",
        "polar"
       ],
       "description": "colorscale",
       "index": 13,
       "layout": "IPY_MODEL_362290a67a8a4d11afccb23d44787056",
       "style": "IPY_MODEL_e3ac4605170d430abc2dca57d412d0b0"
      }
     },
     "e229e0273fb242c6883101648d7eac31": {
      "model_module": "@jupyter-widgets/base",
      "model_module_version": "1.1.0",
      "model_name": "LayoutModel",
      "state": {}
     },
     "e2ae31dfd8ab4e8b91bd62588f8fa7bb": {
      "model_module": "@jupyter-widgets/base",
      "model_module_version": "1.1.0",
      "model_name": "LayoutModel",
      "state": {}
     },
     "e2de1cb79189431084a2f296ed8c4498": {
      "model_module": "@jupyter-widgets/base",
      "model_module_version": "1.1.0",
      "model_name": "LayoutModel",
      "state": {}
     },
     "e39975a598c0477fa041269e924cb1b1": {
      "model_module": "@jupyter-widgets/base",
      "model_module_version": "1.1.0",
      "model_name": "LayoutModel",
      "state": {}
     },
     "e3ac4605170d430abc2dca57d412d0b0": {
      "model_module": "@jupyter-widgets/controls",
      "model_module_version": "1.4.0",
      "model_name": "DescriptionStyleModel",
      "state": {
       "description_width": ""
      }
     },
     "e4836e24ba324e7185555a785f640b70": {
      "model_module": "@jupyter-widgets/output",
      "model_module_version": "1.0.0",
      "model_name": "OutputModel",
      "state": {
       "layout": "IPY_MODEL_e39975a598c0477fa041269e924cb1b1",
       "outputs": [
        {
         "ename": "KeyError",
         "evalue": "12",
         "output_type": "error",
         "traceback": [
          "\u001b[1;31m---------------------------------------------------------------------------\u001b[0m",
          "\u001b[1;31mKeyError\u001b[0m                                  Traceback (most recent call last)",
          "\u001b[1;32m~\\AppData\\Local\\Continuum\\anaconda3\\lib\\site-packages\\pandas\\core\\indexes\\base.py\u001b[0m in \u001b[0;36mget_loc\u001b[1;34m(self, key, method, tolerance)\u001b[0m\n\u001b[0;32m   3077\u001b[0m             \u001b[1;32mtry\u001b[0m\u001b[1;33m:\u001b[0m\u001b[1;33m\u001b[0m\u001b[1;33m\u001b[0m\u001b[0m\n\u001b[1;32m-> 3078\u001b[1;33m                 \u001b[1;32mreturn\u001b[0m \u001b[0mself\u001b[0m\u001b[1;33m.\u001b[0m\u001b[0m_engine\u001b[0m\u001b[1;33m.\u001b[0m\u001b[0mget_loc\u001b[0m\u001b[1;33m(\u001b[0m\u001b[0mkey\u001b[0m\u001b[1;33m)\u001b[0m\u001b[1;33m\u001b[0m\u001b[1;33m\u001b[0m\u001b[0m\n\u001b[0m\u001b[0;32m   3079\u001b[0m             \u001b[1;32mexcept\u001b[0m \u001b[0mKeyError\u001b[0m\u001b[1;33m:\u001b[0m\u001b[1;33m\u001b[0m\u001b[1;33m\u001b[0m\u001b[0m\n",
          "\u001b[1;32mpandas\\_libs\\index.pyx\u001b[0m in \u001b[0;36mpandas._libs.index.IndexEngine.get_loc\u001b[1;34m()\u001b[0m\n",
          "\u001b[1;32mpandas\\_libs\\index.pyx\u001b[0m in \u001b[0;36mpandas._libs.index.IndexEngine.get_loc\u001b[1;34m()\u001b[0m\n",
          "\u001b[1;32mpandas\\_libs\\hashtable_class_helper.pxi\u001b[0m in \u001b[0;36mpandas._libs.hashtable.PyObjectHashTable.get_item\u001b[1;34m()\u001b[0m\n",
          "\u001b[1;32mpandas\\_libs\\hashtable_class_helper.pxi\u001b[0m in \u001b[0;36mpandas._libs.hashtable.PyObjectHashTable.get_item\u001b[1;34m()\u001b[0m\n",
          "\u001b[1;31mKeyError\u001b[0m: 12",
          "\nDuring handling of the above exception, another exception occurred:\n",
          "\u001b[1;31mKeyError\u001b[0m                                  Traceback (most recent call last)",
          "\u001b[1;32m~\\AppData\\Local\\Continuum\\anaconda3\\lib\\site-packages\\ipywidgets\\widgets\\interaction.py\u001b[0m in \u001b[0;36mupdate\u001b[1;34m(self, *args)\u001b[0m\n\u001b[0;32m    249\u001b[0m                     \u001b[0mvalue\u001b[0m \u001b[1;33m=\u001b[0m \u001b[0mwidget\u001b[0m\u001b[1;33m.\u001b[0m\u001b[0mget_interact_value\u001b[0m\u001b[1;33m(\u001b[0m\u001b[1;33m)\u001b[0m\u001b[1;33m\u001b[0m\u001b[1;33m\u001b[0m\u001b[0m\n\u001b[0;32m    250\u001b[0m                     \u001b[0mself\u001b[0m\u001b[1;33m.\u001b[0m\u001b[0mkwargs\u001b[0m\u001b[1;33m[\u001b[0m\u001b[0mwidget\u001b[0m\u001b[1;33m.\u001b[0m\u001b[0m_kwarg\u001b[0m\u001b[1;33m]\u001b[0m \u001b[1;33m=\u001b[0m \u001b[0mvalue\u001b[0m\u001b[1;33m\u001b[0m\u001b[1;33m\u001b[0m\u001b[0m\n\u001b[1;32m--> 251\u001b[1;33m                 \u001b[0mself\u001b[0m\u001b[1;33m.\u001b[0m\u001b[0mresult\u001b[0m \u001b[1;33m=\u001b[0m \u001b[0mself\u001b[0m\u001b[1;33m.\u001b[0m\u001b[0mf\u001b[0m\u001b[1;33m(\u001b[0m\u001b[1;33m**\u001b[0m\u001b[0mself\u001b[0m\u001b[1;33m.\u001b[0m\u001b[0mkwargs\u001b[0m\u001b[1;33m)\u001b[0m\u001b[1;33m\u001b[0m\u001b[1;33m\u001b[0m\u001b[0m\n\u001b[0m\u001b[0;32m    252\u001b[0m                 \u001b[0mshow_inline_matplotlib_plots\u001b[0m\u001b[1;33m(\u001b[0m\u001b[1;33m)\u001b[0m\u001b[1;33m\u001b[0m\u001b[1;33m\u001b[0m\u001b[0m\n\u001b[0;32m    253\u001b[0m                 \u001b[1;32mif\u001b[0m \u001b[0mself\u001b[0m\u001b[1;33m.\u001b[0m\u001b[0mauto_display\u001b[0m \u001b[1;32mand\u001b[0m \u001b[0mself\u001b[0m\u001b[1;33m.\u001b[0m\u001b[0mresult\u001b[0m \u001b[1;32mis\u001b[0m \u001b[1;32mnot\u001b[0m \u001b[1;32mNone\u001b[0m\u001b[1;33m:\u001b[0m\u001b[1;33m\u001b[0m\u001b[1;33m\u001b[0m\u001b[0m\n",
          "\u001b[1;32m<ipython-input-31-7636eeb8d25b>\u001b[0m in \u001b[0;36mbubble_plot\u001b[1;34m(y, x, theme, colorscale)\u001b[0m\n\u001b[0;32m      8\u001b[0m                   \u001b[0mxTitle\u001b[0m\u001b[1;33m=\u001b[0m\u001b[0mx\u001b[0m\u001b[1;33m.\u001b[0m\u001b[0mtitle\u001b[0m\u001b[1;33m(\u001b[0m\u001b[1;33m)\u001b[0m\u001b[1;33m,\u001b[0m \u001b[0myTitle\u001b[0m\u001b[1;33m=\u001b[0m\u001b[0my\u001b[0m\u001b[1;33m.\u001b[0m\u001b[0mtitle\u001b[0m\u001b[1;33m(\u001b[0m\u001b[1;33m)\u001b[0m\u001b[1;33m,\u001b[0m\u001b[1;33m\u001b[0m\u001b[1;33m\u001b[0m\u001b[0m\n\u001b[0;32m      9\u001b[0m                   \u001b[0mtitle\u001b[0m \u001b[1;33m=\u001b[0m \u001b[1;34mf'{y.title()} vs {x.title()}'\u001b[0m\u001b[1;33m,\u001b[0m\u001b[1;33m\u001b[0m\u001b[1;33m\u001b[0m\u001b[0m\n\u001b[1;32m---> 10\u001b[1;33m                   theme=theme, colorscale=colorscale)\n\u001b[0m",
          "\u001b[1;32m~\\AppData\\Local\\Continuum\\anaconda3\\lib\\site-packages\\cufflinks\\plotlytools.py\u001b[0m in \u001b[0;36m_iplot\u001b[1;34m(self, kind, data, layout, filename, sharing, title, xTitle, yTitle, zTitle, theme, colors, colorscale, fill, width, dash, mode, interpolation, symbol, size, barmode, sortbars, bargap, bargroupgap, bins, histnorm, histfunc, orientation, boxpoints, annotations, keys, bestfit, bestfit_colors, mean, mean_colors, categories, x, y, z, text, gridcolor, zerolinecolor, margin, labels, values, secondary_y, secondary_y_title, subplots, shape, error_x, error_y, error_type, locations, lon, lat, asFrame, asDates, asFigure, asImage, dimensions, asPlot, asUrl, online, **kwargs)\u001b[0m\n\u001b[0;32m    783\u001b[0m                                                 \u001b[0m_z\u001b[0m\u001b[1;33m=\u001b[0m\u001b[0m__\u001b[0m\u001b[1;33m[\u001b[0m\u001b[0mz\u001b[0m\u001b[1;33m]\u001b[0m \u001b[1;32mif\u001b[0m \u001b[0masFrame\u001b[0m \u001b[1;32melse\u001b[0m \u001b[0m__\u001b[0m\u001b[1;33m[\u001b[0m\u001b[0mz\u001b[0m\u001b[1;33m]\u001b[0m\u001b[1;33m.\u001b[0m\u001b[0mvalues\u001b[0m\u001b[1;33m\u001b[0m\u001b[1;33m\u001b[0m\u001b[0m\n\u001b[0;32m    784\u001b[0m                                         \u001b[1;32mif\u001b[0m \u001b[1;34m'bubble'\u001b[0m \u001b[1;32min\u001b[0m \u001b[0mkind\u001b[0m\u001b[1;33m:\u001b[0m\u001b[1;33m\u001b[0m\u001b[1;33m\u001b[0m\u001b[0m\n\u001b[1;32m--> 785\u001b[1;33m                                                 \u001b[0mrg\u001b[0m\u001b[1;33m=\u001b[0m\u001b[0m__\u001b[0m\u001b[1;33m[\u001b[0m\u001b[0msize\u001b[0m\u001b[1;33m]\u001b[0m\u001b[1;33m.\u001b[0m\u001b[0mvalues\u001b[0m\u001b[1;33m\u001b[0m\u001b[1;33m\u001b[0m\u001b[0m\n\u001b[0m\u001b[0;32m    786\u001b[0m                                                 \u001b[0mrgo\u001b[0m\u001b[1;33m=\u001b[0m\u001b[0mself\u001b[0m\u001b[1;33m[\u001b[0m\u001b[0msize\u001b[0m\u001b[1;33m]\u001b[0m\u001b[1;33m.\u001b[0m\u001b[0mvalues\u001b[0m\u001b[1;33m\u001b[0m\u001b[1;33m\u001b[0m\u001b[0m\n\u001b[0;32m    787\u001b[0m                                                 \u001b[1;32mif\u001b[0m \u001b[1;32mnot\u001b[0m \u001b[0mkwargs\u001b[0m\u001b[1;33m.\u001b[0m\u001b[0mget\u001b[0m\u001b[1;33m(\u001b[0m\u001b[1;34m'abs_size'\u001b[0m\u001b[1;33m,\u001b[0m\u001b[1;32mFalse\u001b[0m\u001b[1;33m)\u001b[0m\u001b[1;33m:\u001b[0m\u001b[1;33m\u001b[0m\u001b[1;33m\u001b[0m\u001b[0m\n",
          "\u001b[1;32m~\\AppData\\Local\\Continuum\\anaconda3\\lib\\site-packages\\pandas\\core\\frame.py\u001b[0m in \u001b[0;36m__getitem__\u001b[1;34m(self, key)\u001b[0m\n\u001b[0;32m   2686\u001b[0m             \u001b[1;32mreturn\u001b[0m \u001b[0mself\u001b[0m\u001b[1;33m.\u001b[0m\u001b[0m_getitem_multilevel\u001b[0m\u001b[1;33m(\u001b[0m\u001b[0mkey\u001b[0m\u001b[1;33m)\u001b[0m\u001b[1;33m\u001b[0m\u001b[1;33m\u001b[0m\u001b[0m\n\u001b[0;32m   2687\u001b[0m         \u001b[1;32melse\u001b[0m\u001b[1;33m:\u001b[0m\u001b[1;33m\u001b[0m\u001b[1;33m\u001b[0m\u001b[0m\n\u001b[1;32m-> 2688\u001b[1;33m             \u001b[1;32mreturn\u001b[0m \u001b[0mself\u001b[0m\u001b[1;33m.\u001b[0m\u001b[0m_getitem_column\u001b[0m\u001b[1;33m(\u001b[0m\u001b[0mkey\u001b[0m\u001b[1;33m)\u001b[0m\u001b[1;33m\u001b[0m\u001b[1;33m\u001b[0m\u001b[0m\n\u001b[0m\u001b[0;32m   2689\u001b[0m \u001b[1;33m\u001b[0m\u001b[0m\n\u001b[0;32m   2690\u001b[0m     \u001b[1;32mdef\u001b[0m \u001b[0m_getitem_column\u001b[0m\u001b[1;33m(\u001b[0m\u001b[0mself\u001b[0m\u001b[1;33m,\u001b[0m \u001b[0mkey\u001b[0m\u001b[1;33m)\u001b[0m\u001b[1;33m:\u001b[0m\u001b[1;33m\u001b[0m\u001b[1;33m\u001b[0m\u001b[0m\n",
          "\u001b[1;32m~\\AppData\\Local\\Continuum\\anaconda3\\lib\\site-packages\\pandas\\core\\frame.py\u001b[0m in \u001b[0;36m_getitem_column\u001b[1;34m(self, key)\u001b[0m\n\u001b[0;32m   2693\u001b[0m         \u001b[1;31m# get column\u001b[0m\u001b[1;33m\u001b[0m\u001b[1;33m\u001b[0m\u001b[1;33m\u001b[0m\u001b[0m\n\u001b[0;32m   2694\u001b[0m         \u001b[1;32mif\u001b[0m \u001b[0mself\u001b[0m\u001b[1;33m.\u001b[0m\u001b[0mcolumns\u001b[0m\u001b[1;33m.\u001b[0m\u001b[0mis_unique\u001b[0m\u001b[1;33m:\u001b[0m\u001b[1;33m\u001b[0m\u001b[1;33m\u001b[0m\u001b[0m\n\u001b[1;32m-> 2695\u001b[1;33m             \u001b[1;32mreturn\u001b[0m \u001b[0mself\u001b[0m\u001b[1;33m.\u001b[0m\u001b[0m_get_item_cache\u001b[0m\u001b[1;33m(\u001b[0m\u001b[0mkey\u001b[0m\u001b[1;33m)\u001b[0m\u001b[1;33m\u001b[0m\u001b[1;33m\u001b[0m\u001b[0m\n\u001b[0m\u001b[0;32m   2696\u001b[0m \u001b[1;33m\u001b[0m\u001b[0m\n\u001b[0;32m   2697\u001b[0m         \u001b[1;31m# duplicate columns & possible reduce dimensionality\u001b[0m\u001b[1;33m\u001b[0m\u001b[1;33m\u001b[0m\u001b[1;33m\u001b[0m\u001b[0m\n",
          "\u001b[1;32m~\\AppData\\Local\\Continuum\\anaconda3\\lib\\site-packages\\pandas\\core\\generic.py\u001b[0m in \u001b[0;36m_get_item_cache\u001b[1;34m(self, item)\u001b[0m\n\u001b[0;32m   2487\u001b[0m         \u001b[0mres\u001b[0m \u001b[1;33m=\u001b[0m \u001b[0mcache\u001b[0m\u001b[1;33m.\u001b[0m\u001b[0mget\u001b[0m\u001b[1;33m(\u001b[0m\u001b[0mitem\u001b[0m\u001b[1;33m)\u001b[0m\u001b[1;33m\u001b[0m\u001b[1;33m\u001b[0m\u001b[0m\n\u001b[0;32m   2488\u001b[0m         \u001b[1;32mif\u001b[0m \u001b[0mres\u001b[0m \u001b[1;32mis\u001b[0m \u001b[1;32mNone\u001b[0m\u001b[1;33m:\u001b[0m\u001b[1;33m\u001b[0m\u001b[1;33m\u001b[0m\u001b[0m\n\u001b[1;32m-> 2489\u001b[1;33m             \u001b[0mvalues\u001b[0m \u001b[1;33m=\u001b[0m \u001b[0mself\u001b[0m\u001b[1;33m.\u001b[0m\u001b[0m_data\u001b[0m\u001b[1;33m.\u001b[0m\u001b[0mget\u001b[0m\u001b[1;33m(\u001b[0m\u001b[0mitem\u001b[0m\u001b[1;33m)\u001b[0m\u001b[1;33m\u001b[0m\u001b[1;33m\u001b[0m\u001b[0m\n\u001b[0m\u001b[0;32m   2490\u001b[0m             \u001b[0mres\u001b[0m \u001b[1;33m=\u001b[0m \u001b[0mself\u001b[0m\u001b[1;33m.\u001b[0m\u001b[0m_box_item_values\u001b[0m\u001b[1;33m(\u001b[0m\u001b[0mitem\u001b[0m\u001b[1;33m,\u001b[0m \u001b[0mvalues\u001b[0m\u001b[1;33m)\u001b[0m\u001b[1;33m\u001b[0m\u001b[1;33m\u001b[0m\u001b[0m\n\u001b[0;32m   2491\u001b[0m             \u001b[0mcache\u001b[0m\u001b[1;33m[\u001b[0m\u001b[0mitem\u001b[0m\u001b[1;33m]\u001b[0m \u001b[1;33m=\u001b[0m \u001b[0mres\u001b[0m\u001b[1;33m\u001b[0m\u001b[1;33m\u001b[0m\u001b[0m\n",
          "\u001b[1;32m~\\AppData\\Local\\Continuum\\anaconda3\\lib\\site-packages\\pandas\\core\\internals.py\u001b[0m in \u001b[0;36mget\u001b[1;34m(self, item, fastpath)\u001b[0m\n\u001b[0;32m   4113\u001b[0m \u001b[1;33m\u001b[0m\u001b[0m\n\u001b[0;32m   4114\u001b[0m             \u001b[1;32mif\u001b[0m \u001b[1;32mnot\u001b[0m \u001b[0misna\u001b[0m\u001b[1;33m(\u001b[0m\u001b[0mitem\u001b[0m\u001b[1;33m)\u001b[0m\u001b[1;33m:\u001b[0m\u001b[1;33m\u001b[0m\u001b[1;33m\u001b[0m\u001b[0m\n\u001b[1;32m-> 4115\u001b[1;33m                 \u001b[0mloc\u001b[0m \u001b[1;33m=\u001b[0m \u001b[0mself\u001b[0m\u001b[1;33m.\u001b[0m\u001b[0mitems\u001b[0m\u001b[1;33m.\u001b[0m\u001b[0mget_loc\u001b[0m\u001b[1;33m(\u001b[0m\u001b[0mitem\u001b[0m\u001b[1;33m)\u001b[0m\u001b[1;33m\u001b[0m\u001b[1;33m\u001b[0m\u001b[0m\n\u001b[0m\u001b[0;32m   4116\u001b[0m             \u001b[1;32melse\u001b[0m\u001b[1;33m:\u001b[0m\u001b[1;33m\u001b[0m\u001b[1;33m\u001b[0m\u001b[0m\n\u001b[0;32m   4117\u001b[0m                 \u001b[0mindexer\u001b[0m \u001b[1;33m=\u001b[0m \u001b[0mnp\u001b[0m\u001b[1;33m.\u001b[0m\u001b[0marange\u001b[0m\u001b[1;33m(\u001b[0m\u001b[0mlen\u001b[0m\u001b[1;33m(\u001b[0m\u001b[0mself\u001b[0m\u001b[1;33m.\u001b[0m\u001b[0mitems\u001b[0m\u001b[1;33m)\u001b[0m\u001b[1;33m)\u001b[0m\u001b[1;33m[\u001b[0m\u001b[0misna\u001b[0m\u001b[1;33m(\u001b[0m\u001b[0mself\u001b[0m\u001b[1;33m.\u001b[0m\u001b[0mitems\u001b[0m\u001b[1;33m)\u001b[0m\u001b[1;33m]\u001b[0m\u001b[1;33m\u001b[0m\u001b[1;33m\u001b[0m\u001b[0m\n",
          "\u001b[1;32m~\\AppData\\Local\\Continuum\\anaconda3\\lib\\site-packages\\pandas\\core\\indexes\\base.py\u001b[0m in \u001b[0;36mget_loc\u001b[1;34m(self, key, method, tolerance)\u001b[0m\n\u001b[0;32m   3078\u001b[0m                 \u001b[1;32mreturn\u001b[0m \u001b[0mself\u001b[0m\u001b[1;33m.\u001b[0m\u001b[0m_engine\u001b[0m\u001b[1;33m.\u001b[0m\u001b[0mget_loc\u001b[0m\u001b[1;33m(\u001b[0m\u001b[0mkey\u001b[0m\u001b[1;33m)\u001b[0m\u001b[1;33m\u001b[0m\u001b[1;33m\u001b[0m\u001b[0m\n\u001b[0;32m   3079\u001b[0m             \u001b[1;32mexcept\u001b[0m \u001b[0mKeyError\u001b[0m\u001b[1;33m:\u001b[0m\u001b[1;33m\u001b[0m\u001b[1;33m\u001b[0m\u001b[0m\n\u001b[1;32m-> 3080\u001b[1;33m                 \u001b[1;32mreturn\u001b[0m \u001b[0mself\u001b[0m\u001b[1;33m.\u001b[0m\u001b[0m_engine\u001b[0m\u001b[1;33m.\u001b[0m\u001b[0mget_loc\u001b[0m\u001b[1;33m(\u001b[0m\u001b[0mself\u001b[0m\u001b[1;33m.\u001b[0m\u001b[0m_maybe_cast_indexer\u001b[0m\u001b[1;33m(\u001b[0m\u001b[0mkey\u001b[0m\u001b[1;33m)\u001b[0m\u001b[1;33m)\u001b[0m\u001b[1;33m\u001b[0m\u001b[1;33m\u001b[0m\u001b[0m\n\u001b[0m\u001b[0;32m   3081\u001b[0m \u001b[1;33m\u001b[0m\u001b[0m\n\u001b[0;32m   3082\u001b[0m         \u001b[0mindexer\u001b[0m \u001b[1;33m=\u001b[0m \u001b[0mself\u001b[0m\u001b[1;33m.\u001b[0m\u001b[0mget_indexer\u001b[0m\u001b[1;33m(\u001b[0m\u001b[1;33m[\u001b[0m\u001b[0mkey\u001b[0m\u001b[1;33m]\u001b[0m\u001b[1;33m,\u001b[0m \u001b[0mmethod\u001b[0m\u001b[1;33m=\u001b[0m\u001b[0mmethod\u001b[0m\u001b[1;33m,\u001b[0m \u001b[0mtolerance\u001b[0m\u001b[1;33m=\u001b[0m\u001b[0mtolerance\u001b[0m\u001b[1;33m)\u001b[0m\u001b[1;33m\u001b[0m\u001b[1;33m\u001b[0m\u001b[0m\n",
          "\u001b[1;32mpandas\\_libs\\index.pyx\u001b[0m in \u001b[0;36mpandas._libs.index.IndexEngine.get_loc\u001b[1;34m()\u001b[0m\n",
          "\u001b[1;32mpandas\\_libs\\index.pyx\u001b[0m in \u001b[0;36mpandas._libs.index.IndexEngine.get_loc\u001b[1;34m()\u001b[0m\n",
          "\u001b[1;32mpandas\\_libs\\hashtable_class_helper.pxi\u001b[0m in \u001b[0;36mpandas._libs.hashtable.PyObjectHashTable.get_item\u001b[1;34m()\u001b[0m\n",
          "\u001b[1;32mpandas\\_libs\\hashtable_class_helper.pxi\u001b[0m in \u001b[0;36mpandas._libs.hashtable.PyObjectHashTable.get_item\u001b[1;34m()\u001b[0m\n",
          "\u001b[1;31mKeyError\u001b[0m: 12"
         ]
        }
       ]
      }
     },
     "e59f6851012c46c082703fe322d88975": {
      "model_module": "@jupyter-widgets/controls",
      "model_module_version": "1.4.0",
      "model_name": "DropdownModel",
      "state": {
       "_options_labels": [
        "Happiness Score",
        "Life Ladder",
        "Log GDP per capita",
        "Social support",
        "Healthy life expectancy at birth",
        "Freedom to make life choices",
        "Generosity",
        "Perceptions of corruption",
        "Positive affect",
        "Negative affect",
        "Confidence in national government",
        "Democratic Quality",
        "Delivery Quality",
        "GINI of household income reported in Gallup, by wp5-year"
       ],
       "description": "y",
       "index": 0,
       "layout": "IPY_MODEL_3673cfbc669d4c51a78897d89e2e8cb9",
       "style": "IPY_MODEL_5128d1ac6e5449c2b712c91c58b8036f"
      }
     },
     "e5fc9a85b392495abf547c3ffe3c4774": {
      "model_module": "@jupyter-widgets/base",
      "model_module_version": "1.1.0",
      "model_name": "LayoutModel",
      "state": {}
     },
     "e68671881a4746cba49aa8ab5b6bbef1": {
      "model_module": "@jupyter-widgets/base",
      "model_module_version": "1.1.0",
      "model_name": "LayoutModel",
      "state": {}
     },
     "e687e0936a6f4379bb66462f9c82a59b": {
      "model_module": "@jupyter-widgets/base",
      "model_module_version": "1.1.0",
      "model_name": "LayoutModel",
      "state": {}
     },
     "e6a037938abb42eab634d3041f2aaca1": {
      "model_module": "@jupyter-widgets/base",
      "model_module_version": "1.1.0",
      "model_name": "LayoutModel",
      "state": {}
     },
     "e6fc64b44335483f947935fd11be357e": {
      "model_module": "@jupyter-widgets/base",
      "model_module_version": "1.1.0",
      "model_name": "LayoutModel",
      "state": {}
     },
     "e75850d0f5f3422f9ecc30ed246f84d1": {
      "model_module": "@jupyter-widgets/controls",
      "model_module_version": "1.4.0",
      "model_name": "DropdownModel",
      "state": {
       "_options_labels": [
        "Life Ladder",
        "Log GDP per capita",
        "Social support",
        "Healthy life expectancy at birth",
        "Freedom to make life choices",
        "Generosity",
        "Perceptions of corruption",
        "Positive affect",
        "Negative affect",
        "Confidence in national government",
        "Democratic Quality",
        "Delivery Quality",
        "GINI of household income reported in Gallup, by wp5-year"
       ],
       "description": "y",
       "index": 0,
       "layout": "IPY_MODEL_69d9f2ec0a6648ee9cb875c07fe9b49c",
       "style": "IPY_MODEL_bc9cb32ea6724475aa89d4c3d627a78b"
      }
     },
     "e7ff40882a0c484b967db11030bd3278": {
      "model_module": "@jupyter-widgets/controls",
      "model_module_version": "1.4.0",
      "model_name": "DropdownModel",
      "state": {
       "_options_labels": [
        "ggplot",
        "pearl",
        "solar",
        "space",
        "white",
        "polar",
        "henanigans"
       ],
       "description": "theme",
       "index": 0,
       "layout": "IPY_MODEL_145bd7f53bd1407888f7d729ebc99631",
       "style": "IPY_MODEL_46119578e2534c01acd5c5e0c02be37e"
      }
     },
     "e8797efc2d004b37830a020a1c1d7c25": {
      "model_module": "@jupyter-widgets/controls",
      "model_module_version": "1.4.0",
      "model_name": "DescriptionStyleModel",
      "state": {
       "description_width": ""
      }
     },
     "e8885312cc9a4fdfaf351c747f05d6a7": {
      "model_module": "@jupyter-widgets/base",
      "model_module_version": "1.1.0",
      "model_name": "LayoutModel",
      "state": {}
     },
     "e8bba25028d14fbab325f8b83fcb17e5": {
      "model_module": "@jupyter-widgets/base",
      "model_module_version": "1.1.0",
      "model_name": "LayoutModel",
      "state": {}
     },
     "e9bc57fc67854675814450e6dfaec6ff": {
      "model_module": "@jupyter-widgets/base",
      "model_module_version": "1.1.0",
      "model_name": "LayoutModel",
      "state": {}
     },
     "ea3ad18290d54dc98af55a59ccf68b82": {
      "model_module": "@jupyter-widgets/controls",
      "model_module_version": "1.4.0",
      "model_name": "DropdownModel",
      "state": {
       "_options_labels": [
        "Happiness Score",
        "Life Ladder",
        "Log GDP per capita",
        "Social support",
        "Healthy life expectancy at birth",
        "Freedom to make life choices",
        "Generosity",
        "Perceptions of corruption",
        "Positive affect",
        "Negative affect",
        "Confidence in national government",
        "Democratic Quality",
        "Delivery Quality",
        "GINI of household income reported in Gallup, by wp5-year"
       ],
       "description": "x",
       "index": 0,
       "layout": "IPY_MODEL_ebb073ef251f4e7aba394d61de218337",
       "style": "IPY_MODEL_d82cf9f37c314164ae678032d499cb8f"
      }
     },
     "eb7697262e8344719498cf98502da700": {
      "model_module": "@jupyter-widgets/controls",
      "model_module_version": "1.4.0",
      "model_name": "DropdownModel",
      "state": {
       "_options_labels": [
        "Life Ladder",
        "Log GDP per capita",
        "Social support",
        "Healthy life expectancy at birth",
        "Freedom to make life choices",
        "Generosity",
        "Perceptions of corruption",
        "Positive affect",
        "Negative affect",
        "Confidence in national government",
        "Democratic Quality",
        "Delivery Quality",
        "GINI of household income reported in Gallup, by wp5-year"
       ],
       "description": "x",
       "index": 3,
       "layout": "IPY_MODEL_7ec7e1a0a96b4223b81bae9297156710",
       "style": "IPY_MODEL_f0952952b5044433afc426083eced9c9"
      }
     },
     "ebaf82f1a89845e09d147d8af82b57f7": {
      "model_module": "@jupyter-widgets/controls",
      "model_module_version": "1.4.0",
      "model_name": "VBoxModel",
      "state": {
       "_dom_classes": [
        "widget-interact"
       ],
       "children": [
        "IPY_MODEL_2938ccde795f4487b1363bf1e8dd924f",
        "IPY_MODEL_321dbb7a1750479d86b7fa2bb0e070d8",
        "IPY_MODEL_f5725eeba8384d64a87a8b820baed460",
        "IPY_MODEL_13b9f030a44246de8139742c437ca0eb",
        "IPY_MODEL_046a3844e64348ecae55e1474609b6f2"
       ],
       "layout": "IPY_MODEL_2485990c23294fe2bea26bd7d42a98ae"
      }
     },
     "ebb073ef251f4e7aba394d61de218337": {
      "model_module": "@jupyter-widgets/base",
      "model_module_version": "1.1.0",
      "model_name": "LayoutModel",
      "state": {}
     },
     "ec8d44afc0b94359b5cc926234e271be": {
      "model_module": "@jupyter-widgets/controls",
      "model_module_version": "1.4.0",
      "model_name": "DescriptionStyleModel",
      "state": {
       "description_width": ""
      }
     },
     "ed23581fed1b4d7d9b3529291e3452ab": {
      "model_module": "@jupyter-widgets/base",
      "model_module_version": "1.1.0",
      "model_name": "LayoutModel",
      "state": {}
     },
     "ed8241000ac947f49305215fe8fd338f": {
      "model_module": "@jupyter-widgets/base",
      "model_module_version": "1.1.0",
      "model_name": "LayoutModel",
      "state": {}
     },
     "ee6466c08748413f95fe98e10e085b40": {
      "model_module": "@jupyter-widgets/controls",
      "model_module_version": "1.4.0",
      "model_name": "VBoxModel",
      "state": {
       "_dom_classes": [
        "widget-interact"
       ],
       "children": [
        "IPY_MODEL_b40c752f9cb841a48e171bd2fa0cceaf",
        "IPY_MODEL_8e7395383cb847539553b4c6816db0ec",
        "IPY_MODEL_a94ddb5921e84a928e2eaf0a98cb6e67",
        "IPY_MODEL_60212c83da7f4f0e830e80b9da9a25ee",
        "IPY_MODEL_125bd6bac6404744bd4f023fcbdca0c7"
       ],
       "layout": "IPY_MODEL_608b2a9019a44418a446b3798be74401"
      }
     },
     "eecac5d3f15444519f1510bfa8f5389a": {
      "model_module": "@jupyter-widgets/controls",
      "model_module_version": "1.4.0",
      "model_name": "VBoxModel",
      "state": {
       "_dom_classes": [
        "widget-interact"
       ],
       "children": [
        "IPY_MODEL_11faa2a662af4de787db635d34c2fef6",
        "IPY_MODEL_7d986e822dfa4f2d8246a45773b053c4",
        "IPY_MODEL_b11a4be03df9439a92058ac36d041ef6",
        "IPY_MODEL_09b792aaee4e4948befe446fc1f9d7d9",
        "IPY_MODEL_e4836e24ba324e7185555a785f640b70"
       ],
       "layout": "IPY_MODEL_4a37e02fa8704665ab8e10b81913914a"
      }
     },
     "efc90ef4477c49b0ac0058c3d8c4f36c": {
      "model_module": "@jupyter-widgets/controls",
      "model_module_version": "1.4.0",
      "model_name": "DescriptionStyleModel",
      "state": {
       "description_width": ""
      }
     },
     "f0952952b5044433afc426083eced9c9": {
      "model_module": "@jupyter-widgets/controls",
      "model_module_version": "1.4.0",
      "model_name": "DescriptionStyleModel",
      "state": {
       "description_width": ""
      }
     },
     "f137e6a45f714e5faa56425e6cec1e03": {
      "model_module": "@jupyter-widgets/controls",
      "model_module_version": "1.4.0",
      "model_name": "VBoxModel",
      "state": {
       "_dom_classes": [
        "widget-interact"
       ],
       "children": [
        "IPY_MODEL_61b388b1fb4843b5ac63123162c8bfa6",
        "IPY_MODEL_6700aa989ead4410aab8ac333da949e0",
        "IPY_MODEL_e7ff40882a0c484b967db11030bd3278",
        "IPY_MODEL_ac89f0a1d8f945a199759175a3ce3d7e",
        "IPY_MODEL_19ae3d146099494fb96dddd3625f08f6"
       ],
       "layout": "IPY_MODEL_715f240a0aab407cb4ef74cc30bd999b"
      }
     },
     "f164e108f5c94b96bd31956eedec419a": {
      "model_module": "@jupyter-widgets/controls",
      "model_module_version": "1.4.0",
      "model_name": "DropdownModel",
      "state": {
       "_options_labels": [
        "brbg",
        "prgn",
        "piyg",
        "puor",
        "rdbu",
        "rdgy",
        "rdylbu",
        "rdylgn",
        "spectral",
        "paired",
        "set3",
        "dflt",
        "original",
        "plotly",
        "accent",
        "dark2",
        "pastel1",
        "pastel2",
        "set1",
        "set2",
        "blues",
        "bugn",
        "bupu",
        "gnbu",
        "greens",
        "greys",
        "orrd",
        "oranges",
        "pubu",
        "pubugn",
        "purd",
        "purples",
        "rdpu",
        "reds",
        "ylgn",
        "ylgnbu",
        "ylorbr",
        "ylorrd",
        "ggplot",
        "polar"
       ],
       "description": "colorscale",
       "index": 0,
       "layout": "IPY_MODEL_56738d7f06434d1f908cce4ac9c6e9b7",
       "style": "IPY_MODEL_177db0c65c6d4cdb92a3bab0f01a113a"
      }
     },
     "f21fe9edbda84cc090c263636dd5955e": {
      "model_module": "@jupyter-widgets/controls",
      "model_module_version": "1.4.0",
      "model_name": "DescriptionStyleModel",
      "state": {
       "description_width": ""
      }
     },
     "f32d9a89e70f400abec11ae998c6f5a6": {
      "model_module": "@jupyter-widgets/base",
      "model_module_version": "1.1.0",
      "model_name": "LayoutModel",
      "state": {}
     },
     "f35a9a667ebd4555b3d73220308a091a": {
      "model_module": "@jupyter-widgets/controls",
      "model_module_version": "1.4.0",
      "model_name": "VBoxModel",
      "state": {
       "_dom_classes": [
        "widget-interact"
       ],
       "children": [
        "IPY_MODEL_e0fdfcaa18c045ffb67d9ac585f21189",
        "IPY_MODEL_eb7697262e8344719498cf98502da700",
        "IPY_MODEL_837b84020727423883725b02037d6a94",
        "IPY_MODEL_f8e64aedc3064b80881a6312c4665cf0",
        "IPY_MODEL_89056bfa4e1148e3975dc9a2db84058c"
       ],
       "layout": "IPY_MODEL_9d92b0ee65474455b55eb47d071d46a5"
      }
     },
     "f4cdbcc7800d44ce8c3f86fbcd2db211": {
      "model_module": "@jupyter-widgets/controls",
      "model_module_version": "1.4.0",
      "model_name": "DescriptionStyleModel",
      "state": {
       "description_width": ""
      }
     },
     "f5725eeba8384d64a87a8b820baed460": {
      "model_module": "@jupyter-widgets/controls",
      "model_module_version": "1.4.0",
      "model_name": "DropdownModel",
      "state": {
       "_options_labels": [
        "ggplot",
        "pearl",
        "solar",
        "space",
        "white",
        "polar",
        "henanigans"
       ],
       "description": "theme",
       "index": 0,
       "layout": "IPY_MODEL_b60831bbac024aa29021dad482ae71d9",
       "style": "IPY_MODEL_2690d5c6c2324f5fae44aa539cfa8635"
      }
     },
     "f65947c694f4414881e1888583ae3bb1": {
      "model_module": "@jupyter-widgets/controls",
      "model_module_version": "1.4.0",
      "model_name": "VBoxModel",
      "state": {
       "_dom_classes": [
        "widget-interact"
       ],
       "children": [
        "IPY_MODEL_d29181f6d9fd4df98363642031ffb0be",
        "IPY_MODEL_17f76511cfa74ceeba51b4e14c1bc942",
        "IPY_MODEL_52996170fc6248a9a4b88753b0c75801",
        "IPY_MODEL_97dadae3cd464f5b881cf3e668b47f30",
        "IPY_MODEL_9733bb80640c46b288163e4fbe69ddbd"
       ],
       "layout": "IPY_MODEL_e9bc57fc67854675814450e6dfaec6ff"
      }
     },
     "f681c71c6b1447d6bee0bc79029b8107": {
      "model_module": "@jupyter-widgets/controls",
      "model_module_version": "1.4.0",
      "model_name": "VBoxModel",
      "state": {
       "_dom_classes": [
        "widget-interact"
       ],
       "children": [
        "IPY_MODEL_06210f9e288b43bda753df4b3cbe4537",
        "IPY_MODEL_246c5752b934418fa8402efc46f8e17f",
        "IPY_MODEL_b48b8632eab4435caa75806e421d0f3a",
        "IPY_MODEL_a4b47849d42444f08be3ad9c78239dfb",
        "IPY_MODEL_20d72585b7924fea9b276066ec515e4d"
       ],
       "layout": "IPY_MODEL_0defe488bb254c22a0cccfa597bbb762"
      }
     },
     "f8c50b43701c4fca9754959785c9a459": {
      "model_module": "@jupyter-widgets/controls",
      "model_module_version": "1.4.0",
      "model_name": "DescriptionStyleModel",
      "state": {
       "description_width": ""
      }
     },
     "f8e64aedc3064b80881a6312c4665cf0": {
      "model_module": "@jupyter-widgets/controls",
      "model_module_version": "1.4.0",
      "model_name": "DropdownModel",
      "state": {
       "_options_labels": [
        "brbg",
        "prgn",
        "piyg",
        "puor",
        "rdbu",
        "rdgy",
        "rdylbu",
        "rdylgn",
        "spectral",
        "paired",
        "set3",
        "dflt",
        "original",
        "plotly",
        "accent",
        "dark2",
        "pastel1",
        "pastel2",
        "set1",
        "set2",
        "blues",
        "bugn",
        "bupu",
        "gnbu",
        "greens",
        "greys",
        "orrd",
        "oranges",
        "pubu",
        "pubugn",
        "purd",
        "purples",
        "rdpu",
        "reds",
        "ylgn",
        "ylgnbu",
        "ylorbr",
        "ylorrd",
        "ggplot",
        "polar"
       ],
       "description": "colorscale",
       "index": 14,
       "layout": "IPY_MODEL_cba4bc26f17c4408a06a1abaacd2577e",
       "style": "IPY_MODEL_f9c880a475ad4304bdc866ed4669f079"
      }
     },
     "f93b770dbef146af9a492791f966dc6f": {
      "model_module": "@jupyter-widgets/controls",
      "model_module_version": "1.4.0",
      "model_name": "DropdownModel",
      "state": {
       "_options_labels": [
        "Life Ladder",
        "Log GDP per capita",
        "Social support",
        "Healthy life expectancy at birth",
        "Freedom to make life choices",
        "Generosity",
        "Perceptions of corruption",
        "Positive affect",
        "Negative affect",
        "Confidence in national government",
        "Democratic Quality",
        "Delivery Quality",
        "GINI of household income reported in Gallup, by wp5-year"
       ],
       "description": "x",
       "index": 3,
       "layout": "IPY_MODEL_90cb6958a4994c919f4d9c5ca0999717",
       "style": "IPY_MODEL_189746f164a746f8b0d51b2f1f4ba0c6"
      }
     },
     "f9c880a475ad4304bdc866ed4669f079": {
      "model_module": "@jupyter-widgets/controls",
      "model_module_version": "1.4.0",
      "model_name": "DescriptionStyleModel",
      "state": {
       "description_width": ""
      }
     },
     "fbc0559a74c54351aa5c21bc1a611f7a": {
      "model_module": "@jupyter-widgets/controls",
      "model_module_version": "1.4.0",
      "model_name": "DropdownModel",
      "state": {
       "_options_labels": [
        "Happiness Score",
        "Life Ladder",
        "Log GDP per capita",
        "Social support",
        "Healthy life expectancy at birth",
        "Freedom to make life choices",
        "Generosity",
        "Perceptions of corruption",
        "Positive affect",
        "Negative affect",
        "Confidence in national government",
        "Democratic Quality",
        "Delivery Quality",
        "GINI of household income reported in Gallup, by wp5-year"
       ],
       "description": "y",
       "index": 0,
       "layout": "IPY_MODEL_5dc06aa3dead4265a5a97add377831bc",
       "style": "IPY_MODEL_dab063907e764b1588f83da56d164bf3"
      }
     },
     "fce5a49e8cd7444792f093d46bb6b832": {
      "model_module": "@jupyter-widgets/base",
      "model_module_version": "1.1.0",
      "model_name": "LayoutModel",
      "state": {}
     },
     "fe9d7f67a29c406baf289efb6f2bc76e": {
      "model_module": "@jupyter-widgets/controls",
      "model_module_version": "1.4.0",
      "model_name": "DescriptionStyleModel",
      "state": {
       "description_width": ""
      }
     },
     "febca6c037e347e69a912d7030f7c2cb": {
      "model_module": "@jupyter-widgets/controls",
      "model_module_version": "1.4.0",
      "model_name": "DescriptionStyleModel",
      "state": {
       "description_width": ""
      }
     },
     "ff5331e96a7a4795b8c8ca02694ba32d": {
      "model_module": "@jupyter-widgets/controls",
      "model_module_version": "1.4.0",
      "model_name": "DescriptionStyleModel",
      "state": {
       "description_width": ""
      }
     }
    },
    "version_major": 2,
    "version_minor": 0
   }
  }
 },
 "nbformat": 4,
 "nbformat_minor": 2
}
